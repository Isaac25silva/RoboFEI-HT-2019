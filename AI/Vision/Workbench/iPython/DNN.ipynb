{
 "cells": [
  {
   "cell_type": "markdown",
   "metadata": {},
   "source": [
    "****************************************************************************\n",
    "* @file: DNN.py\n",
    "* @project: ROBOFEI-HT - FEI 😛\n",
    "* @author: Vinicius Nicassio Ferreira\n",
    "* @version: V0.0.1\n",
    "* @created: 23/10/2017\n",
    "* @e-mail: vinicius.nicassio@gmail.com\n",
    "* @brief: Class DNN\n",
    "****************************************************************************"
   ]
  },
  {
   "cell_type": "code",
   "execution_count": null,
   "metadata": {
    "collapsed": true
   },
   "outputs": [],
   "source": [
    "#ini-iPython"
   ]
  },
  {
   "cell_type": "markdown",
   "metadata": {},
   "source": [
    "# Executando no diretório principal"
   ]
  },
  {
   "cell_type": "code",
   "execution_count": null,
   "metadata": {
    "collapsed": true
   },
   "outputs": [],
   "source": [
    "import os\n",
    "os.chdir('../../') #Executando na pasta Vision\n",
    "os.system(\"cd Workbench/ && ./zerar.sh && cd ..\")\n",
    "os.system(\"cd Workbench/iPython/ && ./convertendo.sh && cd ../../\")\n",
    "import sys\n",
    "sys.path.append('./include')\n",
    "sys.path.append('./src')\n",
    "sys.path.append('./Workbench/iPython')\n",
    "#end-iPython"
   ]
  },
  {
   "cell_type": "markdown",
   "metadata": {
    "collapsed": true
   },
   "source": [
    "---- Imports ----"
   ]
  },
  {
   "cell_type": "code",
   "execution_count": null,
   "metadata": {
    "collapsed": true
   },
   "outputs": [],
   "source": [
    "# The standard libraries used in the vision system.\n",
    "import tarfile # Used for manipulating tar files.\n",
    "import pandas as pd # \n",
    "import os\n",
    "import shutil\n",
    "import time"
   ]
  },
  {
   "cell_type": "code",
   "execution_count": null,
   "metadata": {
    "collapsed": false
   },
   "outputs": [],
   "source": [
    "# The standard libraries used in the visual memory system.\n",
    "import cv2 # OpenCV library used for image processing.\n",
    "import numpy as np # Library used for operations with matrix and array.\n",
    "\n",
    "# Libraries to supporting the network execution using Tensorflow.\n",
    "#ini-iPython - Utilizado para o iPython reconhecer as classes\n",
    "sys.path.append('/home/vinicius/models/research')\n",
    "sys.path.append('/home/vinicius/models/research/object_detection')\n",
    "#end-iPython\n",
    "import tensorflow as tf\n",
    "from utils import label_map_util\n",
    "from utils import visualization_utils as vis_util"
   ]
  },
  {
   "cell_type": "code",
   "execution_count": null,
   "metadata": {
    "collapsed": false
   },
   "outputs": [],
   "source": [
    "# Used class developed by RoboFEI-HT.\n",
    "#ini-iPython - Usando Classe BasicProcesses como instanciação\n",
    "os.system(\"sed -i '/@abstractmethod/d' ./Workbench/iPython/BasicProcesses.py\")\n",
    "os.system(\"sed -i '/__metaclass__/d' ./Workbench/iPython/BasicProcesses.py\")\n",
    "#end-iPython\n",
    "from BasicProcesses import * # Standard and abstract class."
   ]
  },
  {
   "cell_type": "markdown",
   "metadata": {
    "collapsed": true
   },
   "source": [
    "# Class DNN\n",
    "Class that implements object detection using a deep neural network (DNN).\n",
    "doxygen-iPython"
   ]
  },
  {
   "cell_type": "code",
   "execution_count": null,
   "metadata": {
    "collapsed": true
   },
   "outputs": [],
   "source": [
    "#des-iPython class DNN(BasicProcesses):\n",
    "#ini-tab -> Iniciando código classe"
   ]
  },
  {
   "cell_type": "markdown",
   "metadata": {},
   "source": [
    "---- Variables ----"
   ]
  },
  {
   "cell_type": "code",
   "execution_count": null,
   "metadata": {
    "collapsed": true
   },
   "outputs": [],
   "source": [
    "#ini-iPython\n",
    "\n",
    "# ------- Lista de funções -------\n",
    "\n",
    "#self-iPython __unzipNetwork\n",
    "#self-iPython __instantiatingDNNVariables\n",
    "#self-iPython __detectDNN\n",
    "#self-iPython detect\n",
    "#self-iPython finalize\n",
    "\n",
    "class argumentos:\n",
    "    camera = False\n",
    "    dnn = False\n",
    "    train = False\n",
    "\n",
    "a = argumentos()\n",
    "#end-iPython - Fim listas"
   ]
  },
  {
   "cell_type": "markdown",
   "metadata": {},
   "source": [
    "# __EXTRACTION_DIRECTORY\n",
    ".\n",
    "doxygen-iPython"
   ]
  },
  {
   "cell_type": "code",
   "execution_count": null,
   "metadata": {
    "collapsed": true
   },
   "outputs": [],
   "source": [
    "__EXTRACTION_DIRECTORY = \"./Data/Rede\" #self-iPython __EXTRACTION_DIRECTORY"
   ]
  },
  {
   "cell_type": "markdown",
   "metadata": {},
   "source": [
    "# __PATH_TO_CKPT\n",
    "Path to frozen detection graph. This is the actual model that is used for the object detection.\n",
    "doxygen-iPython"
   ]
  },
  {
   "cell_type": "code",
   "execution_count": null,
   "metadata": {
    "collapsed": true
   },
   "outputs": [],
   "source": [
    "__PATH_TO_CKPT = \"frozen_inference_graph.pb\" #self-iPython __PATH_TO_CKPT"
   ]
  },
  {
   "cell_type": "markdown",
   "metadata": {},
   "source": [
    "# __PATH_TO_LABELS\n",
    "List of the strings that is used to add correct label for each box.\n",
    "doxygen-iPython"
   ]
  },
  {
   "cell_type": "code",
   "execution_count": null,
   "metadata": {
    "collapsed": true
   },
   "outputs": [],
   "source": [
    "__PATH_TO_LABELS = \"object-detection.pbtxt\" #self-iPython __PATH_TO_LABELS"
   ]
  },
  {
   "cell_type": "markdown",
   "metadata": {},
   "source": [
    "# __DIRECTORY_TRAINING_IMAGES\n",
    "Directory where the training images will be saved.\n",
    "doxygen-iPython"
   ]
  },
  {
   "cell_type": "code",
   "execution_count": null,
   "metadata": {
    "collapsed": true
   },
   "outputs": [],
   "source": [
    "__DIRECTORY_TRAINING_IMAGES = \"./Train\" #self-iPython __DIRECTORY_TRAINING_IMAGES"
   ]
  },
  {
   "cell_type": "markdown",
   "metadata": {},
   "source": [
    "# __numclasses\n",
    "The Number of classes that are detected by the network.\n",
    "doxygen-iPython"
   ]
  },
  {
   "cell_type": "code",
   "execution_count": null,
   "metadata": {
    "collapsed": true
   },
   "outputs": [],
   "source": [
    "__numclasses = None #self-iPython __numclasses"
   ]
  },
  {
   "cell_type": "markdown",
   "metadata": {},
   "source": [
    "# __detection_graph\n",
    ".\n",
    "doxygen-iPython"
   ]
  },
  {
   "cell_type": "code",
   "execution_count": null,
   "metadata": {
    "collapsed": true
   },
   "outputs": [],
   "source": [
    "__detection_graph = None #self-iPython __detection_graph"
   ]
  },
  {
   "cell_type": "markdown",
   "metadata": {},
   "source": [
    "# __sess\n",
    ".\n",
    "doxygen-iPython"
   ]
  },
  {
   "cell_type": "code",
   "execution_count": null,
   "metadata": {
    "collapsed": true
   },
   "outputs": [],
   "source": [
    "__sess = None #self-iPython __sess"
   ]
  },
  {
   "cell_type": "markdown",
   "metadata": {},
   "source": [
    "# __label\n",
    ".\n",
    "doxygen-iPython"
   ]
  },
  {
   "cell_type": "code",
   "execution_count": null,
   "metadata": {
    "collapsed": true
   },
   "outputs": [],
   "source": [
    "__label = None #self-iPython __label"
   ]
  },
  {
   "cell_type": "markdown",
   "metadata": {},
   "source": [
    "# __parameters\n",
    ".\n",
    "doxygen-iPython"
   ]
  },
  {
   "cell_type": "code",
   "execution_count": null,
   "metadata": {
    "collapsed": true
   },
   "outputs": [],
   "source": [
    "__parameters = None #self-iPython __parameters"
   ]
  },
  {
   "cell_type": "code",
   "execution_count": null,
   "metadata": {
    "collapsed": true
   },
   "outputs": [],
   "source": [
    "imagetensor = detectionboxes = detectionscores = detectionclasses = numdetections = category_index = None\n",
    "#ini-iPython\n",
    "#self-iPython imagetensor\n",
    "#self-iPython detectionboxes\n",
    "#self-iPython detectionscores\n",
    "#self-iPython detectionclasses\n",
    "#self-iPython numdetections\n",
    "#self-iPython category_index\n",
    "#end-iPython"
   ]
  },
  {
   "cell_type": "markdown",
   "metadata": {},
   "source": [
    "# __unzipNetwork\n",
    ".\n",
    "doxygen-iPython"
   ]
  },
  {
   "cell_type": "code",
   "execution_count": null,
   "metadata": {
    "collapsed": true
   },
   "outputs": [],
   "source": [
    "#eself-iPython __unzipNetwork\n",
    "#edes-iPython def __unzipNetwork(self, name):\n",
    "def __unzipNetwork(name):\n",
    "    tar = tarfile.open(\"./Data/\"+name+\".tar.gz\")\n",
    "    tar.extractall(path=__EXTRACTION_DIRECTORY)\n",
    "    tar.close() #self-iPython __unzipNetwork"
   ]
  },
  {
   "cell_type": "code",
   "execution_count": null,
   "metadata": {
    "collapsed": true
   },
   "outputs": [],
   "source": [
    "#ini-iPython"
   ]
  },
  {
   "cell_type": "markdown",
   "metadata": {},
   "source": [
    "## Teste __unzipNetwork"
   ]
  },
  {
   "cell_type": "code",
   "execution_count": null,
   "metadata": {
    "collapsed": false
   },
   "outputs": [],
   "source": [
    "__unzipNetwork(\"rede\")\n",
    "#end-iPython"
   ]
  },
  {
   "cell_type": "markdown",
   "metadata": {},
   "source": [
    "# instantiatingDNNVariables\n",
    "Used to create/instantiate the variables that will be used by DNN in detecting objects.\n",
    "doxygen-iPython"
   ]
  },
  {
   "cell_type": "code",
   "execution_count": null,
   "metadata": {
    "collapsed": true
   },
   "outputs": [],
   "source": [
    "#eself-iPython __instantiatingDNNVariables\n",
    "#edes-iPython def __instantiatingDNNVariables(self):\n",
    "def __instantiatingDNNVariables( ):\n",
    "    global __numclasses, __detection_graph, __sess, __label #debug-iPython\n",
    "    global imagetensor, detectionboxes, detectionscores, detectionclasses, numdetections, category_index #debug-iPython\n",
    "    # Reading network file.\n",
    "    __detection_graph = tf.Graph()\n",
    "    with __detection_graph.as_default():\n",
    "        od_graph_def = tf.GraphDef()\n",
    "        with tf.gfile.GFile(__EXTRACTION_DIRECTORY+ \"/\" +__PATH_TO_CKPT, 'rb') as fid:\n",
    "            serialized_graph = fid.read()\n",
    "            od_graph_def.ParseFromString(serialized_graph)\n",
    "            tf.import_graph_def(od_graph_def, name='')\n",
    "\n",
    "    label_map = label_map_util.load_labelmap(__EXTRACTION_DIRECTORY+ \"/\" +__PATH_TO_LABELS)\n",
    "    \n",
    "    filelabel = str(label_map).replace(\"\\n\", \"\").replace(\" \", \"\").replace(\"{\", \"\").replace(\"}\", \"\")\n",
    "    __label = {}\n",
    "    for text in filelabel.split(\"item\")[1:]:\n",
    "        key = float(text[-1])\n",
    "        name = text.split(\"\\\"\")[1]\n",
    "        __label[key] = name\n",
    "    \n",
    "    if self._args.dnn == True:\n",
    "        __numclasses = str(label_map).count(\"id\")\n",
    "        categories = label_map_util.convert_label_map_to_categories(label_map, max_num_classes=__numclasses, use_display_name=True)\n",
    "        category_index = label_map_util.create_category_index(categories)\n",
    "\n",
    "    # Creating a section to run the detection.\n",
    "    with __detection_graph.as_default():\n",
    "        __sess = tf.Session(\n",
    "            graph=__detection_graph,\n",
    "            config=tf.ConfigProto(\n",
    "                intra_op_parallelism_threads=1,\n",
    "                inter_op_parallelism_threads=1\n",
    "            )\n",
    "        )\n",
    "        \n",
    "        imagetensor = __detection_graph.get_tensor_by_name('image_tensor:0')\n",
    "        detectionboxes = __detection_graph.get_tensor_by_name('detection_boxes:0')\n",
    "        detectionscores = __detection_graph.get_tensor_by_name('detection_scores:0')\n",
    "        detectionclasses = __detection_graph.get_tensor_by_name('detection_classes:0')\n",
    "        numdetections = __detection_graph.get_tensor_by_name('num_detections:0') #self-iPython __instantiatingDNNVariables"
   ]
  },
  {
   "cell_type": "code",
   "execution_count": null,
   "metadata": {
    "collapsed": false
   },
   "outputs": [],
   "source": [
    "#ini-iPython"
   ]
  },
  {
   "cell_type": "markdown",
   "metadata": {},
   "source": [
    "## Teste __instantiatingDNNVariables"
   ]
  },
  {
   "cell_type": "code",
   "execution_count": null,
   "metadata": {
    "collapsed": false
   },
   "outputs": [],
   "source": [
    "self = BasicProcesses(a, \"DNN\", \"Parameters\")\n",
    "__instantiatingDNNVariables()\n",
    "__numclasses, __detection_graph, __sess"
   ]
  },
  {
   "cell_type": "code",
   "execution_count": null,
   "metadata": {
    "collapsed": false
   },
   "outputs": [],
   "source": [
    "__numclasses = __detection_graph = __sess = self = None\n",
    "#end-iPython"
   ]
  },
  {
   "cell_type": "markdown",
   "metadata": {},
   "source": [
    "# Constructor Class\n",
    "doxygen-iPython"
   ]
  },
  {
   "cell_type": "code",
   "execution_count": null,
   "metadata": {
    "collapsed": false
   },
   "outputs": [],
   "source": [
    "#des-iPython def __init__(self, a):\n",
    "#ini-tab -> Criando construtor\n",
    "#edes-iPython super(DNN, self).__init__(a, \"DNN\", \"Parameters\")\n",
    "self = BasicProcesses(a, \"DNN\", \"Parameters\")\n",
    "\n",
    "# Creating and updating default parameter values.\n",
    "__parameters = {\n",
    "    \"network_name\": \"rede\",\n",
    "    \"threshold_to_train_min\": 0.2,\n",
    "    \"threshold_to_train_max\": 0.9,\n",
    "}\n",
    "__parameters = self._conf.readVariables(__parameters)\n",
    "\n",
    "# Creating neural network.\n",
    "__unzipNetwork(__parameters[\"network_name\"])\n",
    "__instantiatingDNNVariables()\n",
    "\n",
    "if self._args.train == True:\n",
    "    try:\n",
    "        os.makedirs(__DIRECTORY_TRAINING_IMAGES+\"/images to classify\")\n",
    "    except OSError:\n",
    "        pass\n",
    "    try:\n",
    "        os.makedirs(__DIRECTORY_TRAINING_IMAGES+\"/annotations DNN\")\n",
    "    except OSError:\n",
    "        pass"
   ]
  },
  {
   "cell_type": "code",
   "execution_count": null,
   "metadata": {
    "collapsed": true
   },
   "outputs": [],
   "source": [
    "#end-tab -> Finalizando construtor"
   ]
  },
  {
   "cell_type": "code",
   "execution_count": null,
   "metadata": {
    "collapsed": false
   },
   "outputs": [],
   "source": [
    "#ini-iPython"
   ]
  },
  {
   "cell_type": "markdown",
   "metadata": {},
   "source": [
    "## Teste construtor"
   ]
  },
  {
   "cell_type": "code",
   "execution_count": null,
   "metadata": {
    "collapsed": false
   },
   "outputs": [],
   "source": [
    "__numclasses, __detection_graph, __sess\n",
    "#end-iPython"
   ]
  },
  {
   "cell_type": "markdown",
   "metadata": {},
   "source": [
    "# detectDNN\n",
    ".\n",
    "doxygen-iPython"
   ]
  },
  {
   "cell_type": "code",
   "execution_count": null,
   "metadata": {
    "collapsed": false
   },
   "outputs": [],
   "source": [
    "#eself-iPython __detectDNN\n",
    "#edes-iPython def __detectDNN(self, img):\n",
    "def __detectDNN(img):\n",
    "    global __sess #debug-iPython\n",
    "    # Actual detection.\n",
    "    image_np_expanded = np.expand_dims(img, axis=0)\n",
    "    (boxes, scores, classes, num) = __sess.run(\n",
    "        [detectionboxes, detectionscores, detectionclasses, numdetections],\n",
    "        feed_dict={imagetensor: image_np_expanded}\n",
    "    )\n",
    "    \n",
    "    if self._args.dnn == True:\n",
    "        # Visualization of the results of a detection.\n",
    "        img = cv2.resize(\n",
    "            img,\n",
    "            None,\n",
    "            fx=380.0/img.shape[0],\n",
    "            fy=380.0/img.shape[0]\n",
    "        )\n",
    "        vis_util.visualize_boxes_and_labels_on_image_array(\n",
    "            img,\n",
    "            np.squeeze(boxes),\n",
    "            np.squeeze(classes).astype(np.int32),\n",
    "            np.squeeze(scores),\n",
    "            category_index,\n",
    "            use_normalized_coordinates=True,\n",
    "            line_thickness=2,\n",
    "            min_score_thresh=__parameters[\"threshold_to_train_min\"],\n",
    "        )\n",
    "    \n",
    "    # Creating DataFrame detection.\n",
    "    classes = classes.tolist()\n",
    "    for i in xrange(len(classes[0])):\n",
    "        classes[0][i] = __label[classes[0][i]]\n",
    "    \n",
    "    df = pd.DataFrame()\n",
    "    df[\"classes\"] = classes[0]\n",
    "    df[\"scores\"] = scores[0]\n",
    "    df[\"boxes\"] = boxes[0].tolist()\n",
    "    \n",
    "    return df, img #self-iPython __detectDNN"
   ]
  },
  {
   "cell_type": "code",
   "execution_count": null,
   "metadata": {
    "collapsed": false
   },
   "outputs": [],
   "source": [
    "#ini-iPython"
   ]
  },
  {
   "cell_type": "markdown",
   "metadata": {},
   "source": [
    "## Teste detectDNN"
   ]
  },
  {
   "cell_type": "code",
   "execution_count": null,
   "metadata": {
    "collapsed": false
   },
   "outputs": [],
   "source": [
    "img = cv2.imread(\"/home/vinicius/objectDetect_clear/Train/imagenstreino/frames0_040.jpg\")\n",
    "df, img = __detectDNN(img)\n",
    "cv2.imshow(\"Frame 2\", img)\n",
    "cv2.waitKey(0)\n",
    "cv2.destroyAllWindows()\n",
    "df\n",
    "#end-iPython"
   ]
  },
  {
   "cell_type": "markdown",
   "metadata": {},
   "source": [
    "# detect\n",
    ".\n",
    "doxygen-iPython"
   ]
  },
  {
   "cell_type": "code",
   "execution_count": null,
   "metadata": {
    "collapsed": false
   },
   "outputs": [],
   "source": [
    "#eself-iPython detect\n",
    "#edes-iPython def detect(self, observation):\n",
    "def detect(observation):\n",
    "    if self._args.train == True:\n",
    "        image = observation['frame'].copy()\n",
    "    \n",
    "    objects, observation['frame'] = __detectDNN(observation['frame'])\n",
    "    \n",
    "    if self._args.dnn == True:\n",
    "        cv2.imshow(\"DNN - Parameters\", observation['frame'])\n",
    "        #edes-iPython if keyboard == ord('q'):\n",
    "        if keyboard == ord('q'):\n",
    "            cv2.destroyAllWindows()\n",
    "            \n",
    "    if self._args.train == True:\n",
    "        cv2.imwrite(__DIRECTORY_TRAINING_IMAGES+\"/images to classify/\"+\"Robot-\" + time.strftime('%d-%m-%Y %H:%M:%S', observation['time']) + \".png\", image)\n",
    "\n",
    "        if np.any((objects.scores < __parameters[\"threshold_to_train_max\"])\n",
    "            &(objects.scores > __parameters[\"threshold_to_train_min\"])):\n",
    "        \n",
    "            text = \"<annotation>\\n\\t<folder>images to classify</folder>\\n\\t<filename>Robot-\" + time.strftime('%d-%m-%Y %H:%M:%S', observation['time']) + \".png</filename>\\n\\t<path>\"+ os.getcwd() +\"/\"+ __DIRECTORY_TRAINING_IMAGES.split(\"/\")[-1] +\"/imagens to check/Robot-\" + time.strftime('%d-%m-%Y %H:%M:%S', observation['time']) + \".png</path>\\n\\t<source>\\n\\t\\t<database>Unknown</database>\\n\\t</source>\\n\\t<size>\\n\\t\\t<width>\"+ str(image.shape[1]) +\"</width>\\n\\t\\t<height>\"+ str(image.shape[0]) +\"</height>\\n\\t\\t<depth>\"+ str(image.shape[2]) +\"</depth>\\n\\t</size>\\n\\t<segmented>0</segmented>\"\n",
    "\n",
    "            for classes, __, box in objects[(objects.scores > __parameters[\"threshold_to_train_min\"])].values:\n",
    "                text += \"\\n\\t<object>\\n\\t\\t<name>\"+ classes+ \"</name>\\n\\t\\t<pose>Unspecified</pose>\\n\\t\\t<truncated>0</truncated>\\n\\t\\t<difficult>0</difficult>\\n\\t\\t<bndbox>\\n\\t\\t\\t<xmin>\"+ str(int(box[1]*image.shape[1])) +\"</xmin>\\n\\t\\t\\t<ymin>\"+ str(int(box[0]*image.shape[0])) +\"</ymin>\\n\\t\\t\\t<xmax>\"+ str(int(box[3]*image.shape[1])) +\"</xmax>\\n\\t\\t\\t<ymax>\"+ str(int(box[2]*image.shape[0])) +\"</ymax>\\n\\t\\t</bndbox>\\n\\t</object>\"\n",
    "\n",
    "            text += \"\\n</annotation>\"\n",
    "\n",
    "            f = open(__DIRECTORY_TRAINING_IMAGES+\"/annotations DNN/\" + \"Robot-\" + time.strftime('%d-%m-%Y %H:%M:%S', observation['time']) + \".xml\", \"w\")\n",
    "            f.write(text)\n",
    "            f.close()\n",
    "    \n",
    "    return objects[objects.scores > 0.5] #self-iPython detect"
   ]
  },
  {
   "cell_type": "code",
   "execution_count": null,
   "metadata": {
    "collapsed": true
   },
   "outputs": [],
   "source": [
    "#ini-iPython"
   ]
  },
  {
   "cell_type": "markdown",
   "metadata": {},
   "source": [
    "## Teste detect"
   ]
  },
  {
   "cell_type": "code",
   "execution_count": null,
   "metadata": {
    "collapsed": false
   },
   "outputs": [],
   "source": [
    "observation = {}\n",
    "observation['time'] = time.time()\n",
    "observation['frame'] = cv2.imread(\"/home/vinicius/objectDetect_clear/Train/imagenstreino/frames0_040.jpg\")\n",
    "objects = detect(observation)\n",
    "objects\n",
    "#end-iPython"
   ]
  },
  {
   "cell_type": "markdown",
   "metadata": {},
   "source": [
    "# finalize\n",
    ".\n",
    "doxygen-iPython"
   ]
  },
  {
   "cell_type": "code",
   "execution_count": null,
   "metadata": {
    "collapsed": true
   },
   "outputs": [],
   "source": [
    "#eself-iPython finalize\n",
    "#edes-iPython def finalize(self):\n",
    "def finalize( ):\n",
    "    # Deleting extracted network\n",
    "    try:\n",
    "        shutil.rmtree(\"./Data/Rede\")\n",
    "    except OSError:\n",
    "        pass\n",
    "    \n",
    "    # Saving parameter values\n",
    "    self._end() #self-iPython finalize"
   ]
  },
  {
   "cell_type": "code",
   "execution_count": null,
   "metadata": {
    "collapsed": true
   },
   "outputs": [],
   "source": [
    "#ini-iPython"
   ]
  },
  {
   "cell_type": "markdown",
   "metadata": {},
   "source": [
    "## Teste finalize"
   ]
  },
  {
   "cell_type": "code",
   "execution_count": null,
   "metadata": {
    "collapsed": false
   },
   "outputs": [],
   "source": [
    "finalize()\n",
    "#end-iPython"
   ]
  },
  {
   "cell_type": "code",
   "execution_count": null,
   "metadata": {
    "collapsed": false
   },
   "outputs": [],
   "source": [
    "#end-tab -> Finalizando classe"
   ]
  },
  {
   "cell_type": "code",
   "execution_count": null,
   "metadata": {
    "collapsed": true
   },
   "outputs": [],
   "source": [
    "#ini-iPython"
   ]
  },
  {
   "cell_type": "markdown",
   "metadata": {},
   "source": [
    "# nova_variavel\n",
    ".\n",
    "doxygen-iPython"
   ]
  },
  {
   "cell_type": "code",
   "execution_count": null,
   "metadata": {
    "collapsed": true
   },
   "outputs": [],
   "source": [
    "nova_variavel = None #self-iPython nova_variavel"
   ]
  },
  {
   "cell_type": "markdown",
   "metadata": {},
   "source": [
    "# nova_funcao\n",
    ".\n",
    "doxygen-iPython"
   ]
  },
  {
   "cell_type": "code",
   "execution_count": null,
   "metadata": {
    "collapsed": true
   },
   "outputs": [],
   "source": [
    "# eself-iPython nova_funcao\n",
    "# edes-iPython def nova_funcao(self, variaveis_funcao):\n",
    "def nova_funcao(variaveis_funcao):\n",
    "    pass # self-iPython nova_funcao"
   ]
  },
  {
   "cell_type": "code",
   "execution_count": null,
   "metadata": {
    "collapsed": true
   },
   "outputs": [],
   "source": [
    "#ini-iPython"
   ]
  },
  {
   "cell_type": "markdown",
   "metadata": {},
   "source": [
    "## Teste nova_funcao"
   ]
  },
  {
   "cell_type": "code",
   "execution_count": null,
   "metadata": {
    "collapsed": false
   },
   "outputs": [],
   "source": [
    "\n",
    "#end-iPython"
   ]
  },
  {
   "cell_type": "code",
   "execution_count": null,
   "metadata": {
    "collapsed": false
   },
   "outputs": [],
   "source": [
    "#end-iPython"
   ]
  }
 ],
 "metadata": {
  "kernelspec": {
   "display_name": "Python 2",
   "language": "python",
   "name": "python2"
  },
  "language_info": {
   "codemirror_mode": {
    "name": "ipython",
    "version": 2
   },
   "file_extension": ".py",
   "mimetype": "text/x-python",
   "name": "python",
   "nbconvert_exporter": "python",
   "pygments_lexer": "ipython2",
   "version": "2.7.6"
  }
 },
 "nbformat": 4,
 "nbformat_minor": 2
}
