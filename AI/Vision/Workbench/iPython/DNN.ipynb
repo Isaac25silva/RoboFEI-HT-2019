{
 "cells": [
  {
   "cell_type": "markdown",
   "metadata": {},
   "source": [
    "****************************************************************************\n",
    "* @file: DNN.py\n",
    "* @project: ROBOFEI-HT - FEI 😛\n",
    "* @author: Vinicius Nicassio Ferreira\n",
    "* @version: V0.0.1\n",
    "* @created: 23/10/2017\n",
    "* @e-mail: vinicius.nicassio@gmail.com\n",
    "* @brief: Class DNN\n",
    "****************************************************************************"
   ]
  },
  {
   "cell_type": "code",
   "execution_count": 1,
   "metadata": {
    "collapsed": true
   },
   "outputs": [],
   "source": [
    "#ini-iPython"
   ]
  },
  {
   "cell_type": "markdown",
   "metadata": {},
   "source": [
    "# Executando no diretório principal"
   ]
  },
  {
   "cell_type": "code",
   "execution_count": 2,
   "metadata": {
    "collapsed": true
   },
   "outputs": [],
   "source": [
    "import os\n",
    "os.chdir('../../') #Executando na pasta Vision\n",
    "os.system(\"cd Workbench/ && ./zerar.sh && cd ..\")\n",
    "os.system(\"cd Workbench/iPython/ && ./convertendo.sh && cd ../../\")\n",
    "import sys\n",
    "sys.path.append('./include')\n",
    "sys.path.append('./src')\n",
    "sys.path.append('./Workbench/iPython')\n",
    "#end-iPython"
   ]
  },
  {
   "cell_type": "markdown",
   "metadata": {
    "collapsed": true
   },
   "source": [
    "---- Imports ----"
   ]
  },
  {
   "cell_type": "code",
   "execution_count": 3,
   "metadata": {
    "collapsed": true
   },
   "outputs": [],
   "source": [
    "# The standard libraries used in the vision system.\n",
    "import tarfile # Used for manipulating tar files.\n",
    "import pandas as pd # "
   ]
  },
  {
   "cell_type": "code",
   "execution_count": 4,
   "metadata": {
    "collapsed": false
   },
   "outputs": [],
   "source": [
    "# The standard libraries used in the visual memory system.\n",
    "import cv2 # OpenCV library used for image processing.\n",
    "import numpy as np # Library used for operations with matrix and array.\n",
    "\n",
    "# Libraries to supporting the network execution using Tensorflow.\n",
    "#ini-iPython - Utilizado para o iPython reconhecer as classes\n",
    "sys.path.append('/home/vinicius/models/research')\n",
    "sys.path.append('/home/vinicius/models/research/object_detection')\n",
    "#end-iPython\n",
    "import tensorflow as tf\n",
    "from utils import label_map_util\n",
    "from utils import visualization_utils as vis_util"
   ]
  },
  {
   "cell_type": "code",
   "execution_count": 5,
   "metadata": {
    "collapsed": false
   },
   "outputs": [],
   "source": [
    "# Used class developed by RoboFEI-HT.\n",
    "#ini-iPython - Usando Classe BasicThread como instanciação\n",
    "os.system(\"sed -i '/@abstractmethod/d' ./Workbench/iPython/BasicThread.py\")\n",
    "os.system(\"sed -i '/__metaclass__/d' ./Workbench/iPython/BasicThread.py\")\n",
    "#end-iPython\n",
    "from BasicThread import * # Base class with primary functions"
   ]
  },
  {
   "cell_type": "markdown",
   "metadata": {
    "collapsed": true
   },
   "source": [
    "# Class DNN\n",
    ".\n",
    "doxygen-iPython"
   ]
  },
  {
   "cell_type": "code",
   "execution_count": 6,
   "metadata": {
    "collapsed": true
   },
   "outputs": [],
   "source": [
    "#des-iPython class DNN(BasicThread):\n",
    "#ini-tab -> Iniciando código classe"
   ]
  },
  {
   "cell_type": "markdown",
   "metadata": {},
   "source": [
    "---- Variables ----"
   ]
  },
  {
   "cell_type": "code",
   "execution_count": 7,
   "metadata": {
    "collapsed": true
   },
   "outputs": [],
   "source": [
    "#ini-iPython\n",
    "\n",
    "# ------- Lista de funções -------\n",
    "\n",
    "#self-iPython __unzipNetwork\n",
    "#self-iPython __instantiatingDNNVariables\n",
    "#self-iPython __detectDNN\n",
    "#self-iPython detect\n",
    "\n",
    "#ini-iPython\n",
    "class argumentos:\n",
    "    camera = False\n",
    "    dnn = True\n",
    "\n",
    "a = argumentos()\n",
    "#end-iPython\n",
    "\n",
    "#end-iPython - Fim listas"
   ]
  },
  {
   "cell_type": "markdown",
   "metadata": {},
   "source": [
    "# __EXTRACTION_DIRECTORY\n",
    ".\n",
    "doxygen-iPython"
   ]
  },
  {
   "cell_type": "code",
   "execution_count": 8,
   "metadata": {
    "collapsed": true
   },
   "outputs": [],
   "source": [
    "__EXTRACTION_DIRECTORY = \"./Data/Rede\" #self-iPython __EXTRACTION_DIRECTORY"
   ]
  },
  {
   "cell_type": "markdown",
   "metadata": {},
   "source": [
    "# __PATH_TO_CKPT\n",
    "Path to frozen detection graph. This is the actual model that is used for the object detection.\n",
    "doxygen-iPython"
   ]
  },
  {
   "cell_type": "code",
   "execution_count": 9,
   "metadata": {
    "collapsed": true
   },
   "outputs": [],
   "source": [
    "__PATH_TO_CKPT = \"frozen_inference_graph.pb\" #self-iPython __PATH_TO_CKPT"
   ]
  },
  {
   "cell_type": "markdown",
   "metadata": {},
   "source": [
    "# __PATH_TO_LABELS\n",
    "List of the strings that is used to add correct label for each box.\n",
    "doxygen-iPython"
   ]
  },
  {
   "cell_type": "code",
   "execution_count": 10,
   "metadata": {
    "collapsed": true
   },
   "outputs": [],
   "source": [
    "__PATH_TO_LABELS = \"object-detection.pbtxt\" #self-iPython __PATH_TO_LABELS"
   ]
  },
  {
   "cell_type": "markdown",
   "metadata": {},
   "source": [
    "# __numclasses\n",
    "The Number of classes that are detected by the network.\n",
    "doxygen-iPython"
   ]
  },
  {
   "cell_type": "code",
   "execution_count": 11,
   "metadata": {
    "collapsed": true
   },
   "outputs": [],
   "source": [
    "__numclasses = None #self-iPython __numclasses"
   ]
  },
  {
   "cell_type": "markdown",
   "metadata": {},
   "source": [
    "# __detection_graph\n",
    ".\n",
    "doxygen-iPython"
   ]
  },
  {
   "cell_type": "code",
   "execution_count": 12,
   "metadata": {
    "collapsed": true
   },
   "outputs": [],
   "source": [
    "__detection_graph = None #self-iPython __detection_graph"
   ]
  },
  {
   "cell_type": "markdown",
   "metadata": {},
   "source": [
    "# __sess\n",
    ".\n",
    "doxygen-iPython"
   ]
  },
  {
   "cell_type": "code",
   "execution_count": 13,
   "metadata": {
    "collapsed": true
   },
   "outputs": [],
   "source": [
    "__sess = None #self-iPython __sess"
   ]
  },
  {
   "cell_type": "markdown",
   "metadata": {},
   "source": [
    "# __label\n",
    ".\n",
    "doxygen-iPython"
   ]
  },
  {
   "cell_type": "code",
   "execution_count": 14,
   "metadata": {
    "collapsed": true
   },
   "outputs": [],
   "source": [
    "__label = None #self-iPython __label"
   ]
  },
  {
   "cell_type": "markdown",
   "metadata": {},
   "source": [
    "# __parameters\n",
    ".\n",
    "doxygen-iPython"
   ]
  },
  {
   "cell_type": "code",
   "execution_count": 15,
   "metadata": {
    "collapsed": true
   },
   "outputs": [],
   "source": [
    "__parameters = None #self-iPython __parameters"
   ]
  },
  {
   "cell_type": "code",
   "execution_count": 16,
   "metadata": {
    "collapsed": true
   },
   "outputs": [],
   "source": [
    "imagetensor = detectionboxes = detectionscores = detectionclasses = numdetections = category_index = None\n",
    "#ini-iPython\n",
    "#self-iPython imagetensor\n",
    "#self-iPython detectionboxes\n",
    "#self-iPython detectionscores\n",
    "#self-iPython detectionclasses\n",
    "#self-iPython numdetections\n",
    "#self-iPython category_index\n",
    "#end-iPython"
   ]
  },
  {
   "cell_type": "markdown",
   "metadata": {},
   "source": [
    "# __unzipNetwork\n",
    ".\n",
    "doxygen-iPython"
   ]
  },
  {
   "cell_type": "code",
   "execution_count": 17,
   "metadata": {
    "collapsed": true
   },
   "outputs": [],
   "source": [
    "#eself-iPython __unzipNetwork\n",
    "#edes-iPython def __unzipNetwork(self, name):\n",
    "def __unzipNetwork(name):\n",
    "    tar = tarfile.open(\"./Data/\"+name+\".tar.gz\")\n",
    "    tar.extractall(path=__EXTRACTION_DIRECTORY)\n",
    "    tar.close() #self-iPython __unzipNetwork"
   ]
  },
  {
   "cell_type": "code",
   "execution_count": 18,
   "metadata": {
    "collapsed": true
   },
   "outputs": [],
   "source": [
    "#ini-iPython"
   ]
  },
  {
   "cell_type": "markdown",
   "metadata": {},
   "source": [
    "## Teste __unzipNetwork"
   ]
  },
  {
   "cell_type": "code",
   "execution_count": 19,
   "metadata": {
    "collapsed": false
   },
   "outputs": [
    {
     "ename": "IOError",
     "evalue": "[Errno 2] No such file or directory: './Data/rede.tar.gz'",
     "output_type": "error",
     "traceback": [
      "\u001b[0;31m---------------------------------------------------------------------------\u001b[0m",
      "\u001b[0;31mIOError\u001b[0m                                   Traceback (most recent call last)",
      "\u001b[0;32m<ipython-input-19-a00d53815b69>\u001b[0m in \u001b[0;36m<module>\u001b[0;34m()\u001b[0m\n\u001b[0;32m----> 1\u001b[0;31m \u001b[0m__unzipNetwork\u001b[0m\u001b[0;34m(\u001b[0m\u001b[0;34m\"rede\"\u001b[0m\u001b[0;34m)\u001b[0m\u001b[0;34m\u001b[0m\u001b[0m\n\u001b[0m\u001b[1;32m      2\u001b[0m \u001b[0;31m#end-iPython\u001b[0m\u001b[0;34m\u001b[0m\u001b[0;34m\u001b[0m\u001b[0m\n",
      "\u001b[0;32m<ipython-input-17-e322af19779c>\u001b[0m in \u001b[0;36m__unzipNetwork\u001b[0;34m(name)\u001b[0m\n\u001b[1;32m      2\u001b[0m \u001b[0;31m#edes-iPython def __unzipNetwork(self, name):\u001b[0m\u001b[0;34m\u001b[0m\u001b[0;34m\u001b[0m\u001b[0m\n\u001b[1;32m      3\u001b[0m \u001b[0;32mdef\u001b[0m \u001b[0m__unzipNetwork\u001b[0m\u001b[0;34m(\u001b[0m\u001b[0mname\u001b[0m\u001b[0;34m)\u001b[0m\u001b[0;34m:\u001b[0m\u001b[0;34m\u001b[0m\u001b[0m\n\u001b[0;32m----> 4\u001b[0;31m     \u001b[0mtar\u001b[0m \u001b[0;34m=\u001b[0m \u001b[0mtarfile\u001b[0m\u001b[0;34m.\u001b[0m\u001b[0mopen\u001b[0m\u001b[0;34m(\u001b[0m\u001b[0;34m\"./Data/\"\u001b[0m\u001b[0;34m+\u001b[0m\u001b[0mname\u001b[0m\u001b[0;34m+\u001b[0m\u001b[0;34m\".tar.gz\"\u001b[0m\u001b[0;34m)\u001b[0m\u001b[0;34m\u001b[0m\u001b[0m\n\u001b[0m\u001b[1;32m      5\u001b[0m     \u001b[0mtar\u001b[0m\u001b[0;34m.\u001b[0m\u001b[0mextractall\u001b[0m\u001b[0;34m(\u001b[0m\u001b[0mpath\u001b[0m\u001b[0;34m=\u001b[0m\u001b[0m__EXTRACTION_DIRECTORY\u001b[0m\u001b[0;34m)\u001b[0m\u001b[0;34m\u001b[0m\u001b[0m\n\u001b[1;32m      6\u001b[0m     \u001b[0mtar\u001b[0m\u001b[0;34m.\u001b[0m\u001b[0mclose\u001b[0m\u001b[0;34m(\u001b[0m\u001b[0;34m)\u001b[0m \u001b[0;31m#self-iPython __unzipNetwork\u001b[0m\u001b[0;34m\u001b[0m\u001b[0m\n",
      "\u001b[0;32m/usr/lib/python2.7/tarfile.pyc\u001b[0m in \u001b[0;36mopen\u001b[0;34m(cls, name, mode, fileobj, bufsize, **kwargs)\u001b[0m\n\u001b[1;32m   1658\u001b[0m                     \u001b[0msaved_pos\u001b[0m \u001b[0;34m=\u001b[0m \u001b[0mfileobj\u001b[0m\u001b[0;34m.\u001b[0m\u001b[0mtell\u001b[0m\u001b[0;34m(\u001b[0m\u001b[0;34m)\u001b[0m\u001b[0;34m\u001b[0m\u001b[0m\n\u001b[1;32m   1659\u001b[0m                 \u001b[0;32mtry\u001b[0m\u001b[0;34m:\u001b[0m\u001b[0;34m\u001b[0m\u001b[0m\n\u001b[0;32m-> 1660\u001b[0;31m                     \u001b[0;32mreturn\u001b[0m \u001b[0mfunc\u001b[0m\u001b[0;34m(\u001b[0m\u001b[0mname\u001b[0m\u001b[0;34m,\u001b[0m \u001b[0;34m\"r\"\u001b[0m\u001b[0;34m,\u001b[0m \u001b[0mfileobj\u001b[0m\u001b[0;34m,\u001b[0m \u001b[0;34m**\u001b[0m\u001b[0mkwargs\u001b[0m\u001b[0;34m)\u001b[0m\u001b[0;34m\u001b[0m\u001b[0m\n\u001b[0m\u001b[1;32m   1661\u001b[0m                 \u001b[0;32mexcept\u001b[0m \u001b[0;34m(\u001b[0m\u001b[0mReadError\u001b[0m\u001b[0;34m,\u001b[0m \u001b[0mCompressionError\u001b[0m\u001b[0;34m)\u001b[0m\u001b[0;34m,\u001b[0m \u001b[0me\u001b[0m\u001b[0;34m:\u001b[0m\u001b[0;34m\u001b[0m\u001b[0m\n\u001b[1;32m   1662\u001b[0m                     \u001b[0;32mif\u001b[0m \u001b[0mfileobj\u001b[0m \u001b[0;32mis\u001b[0m \u001b[0;32mnot\u001b[0m \u001b[0mNone\u001b[0m\u001b[0;34m:\u001b[0m\u001b[0;34m\u001b[0m\u001b[0m\n",
      "\u001b[0;32m/usr/lib/python2.7/tarfile.pyc\u001b[0m in \u001b[0;36mgzopen\u001b[0;34m(cls, name, mode, fileobj, compresslevel, **kwargs)\u001b[0m\n\u001b[1;32m   1720\u001b[0m \u001b[0;34m\u001b[0m\u001b[0m\n\u001b[1;32m   1721\u001b[0m         \u001b[0;32mif\u001b[0m \u001b[0mfileobj\u001b[0m \u001b[0;32mis\u001b[0m \u001b[0mNone\u001b[0m\u001b[0;34m:\u001b[0m\u001b[0;34m\u001b[0m\u001b[0m\n\u001b[0;32m-> 1722\u001b[0;31m             \u001b[0mfileobj\u001b[0m \u001b[0;34m=\u001b[0m \u001b[0mbltn_open\u001b[0m\u001b[0;34m(\u001b[0m\u001b[0mname\u001b[0m\u001b[0;34m,\u001b[0m \u001b[0mmode\u001b[0m \u001b[0;34m+\u001b[0m \u001b[0;34m\"b\"\u001b[0m\u001b[0;34m)\u001b[0m\u001b[0;34m\u001b[0m\u001b[0m\n\u001b[0m\u001b[1;32m   1723\u001b[0m \u001b[0;34m\u001b[0m\u001b[0m\n\u001b[1;32m   1724\u001b[0m         \u001b[0;32mtry\u001b[0m\u001b[0;34m:\u001b[0m\u001b[0;34m\u001b[0m\u001b[0m\n",
      "\u001b[0;31mIOError\u001b[0m: [Errno 2] No such file or directory: './Data/rede.tar.gz'"
     ]
    }
   ],
   "source": [
    "__unzipNetwork(\"rede\")\n",
    "#end-iPython"
   ]
  },
  {
   "cell_type": "markdown",
   "metadata": {},
   "source": [
    "# instantiatingDNNVariables\n",
    "Used to create/instantiate the variables that will be used by DNN in detecting objects.\n",
    "doxygen-iPython"
   ]
  },
  {
   "cell_type": "code",
   "execution_count": null,
   "metadata": {
    "collapsed": true
   },
   "outputs": [],
   "source": [
    "#eself-iPython __instantiatingDNNVariables\n",
    "#edes-iPython def __instantiatingDNNVariables(self):\n",
    "def __instantiatingDNNVariables( ):\n",
    "    global __numclasses, __detection_graph, __sess, __label #debug-iPython\n",
    "    global imagetensor, detectionboxes, detectionscores, detectionclasses, numdetections, category_index #debug-iPython\n",
    "    # Reading network file.\n",
    "    __detection_graph = tf.Graph()\n",
    "    with __detection_graph.as_default():\n",
    "        od_graph_def = tf.GraphDef()\n",
    "        with tf.gfile.GFile(__EXTRACTION_DIRECTORY+ \"/\" +__PATH_TO_CKPT, 'rb') as fid:\n",
    "            serialized_graph = fid.read()\n",
    "            od_graph_def.ParseFromString(serialized_graph)\n",
    "            tf.import_graph_def(od_graph_def, name='')\n",
    "\n",
    "    label_map = label_map_util.load_labelmap(__EXTRACTION_DIRECTORY+ \"/\" +__PATH_TO_LABELS)\n",
    "    \n",
    "    filelabel = str(label_map).replace(\"\\n\", \"\").replace(\" \", \"\").replace(\"{\", \"\").replace(\"}\", \"\")\n",
    "    __label = {}\n",
    "    for text in filelabel.split(\"item\")[1:]:\n",
    "        key = float(text[-1])\n",
    "        name = text.split(\"\\\"\")[1]\n",
    "        __label[key] = name\n",
    "    \n",
    "    if self._args.dnn == True:\n",
    "        __numclasses = str(label_map).count(\"id\")\n",
    "        categories = label_map_util.convert_label_map_to_categories(label_map, max_num_classes=__numclasses, use_display_name=True)\n",
    "        category_index = label_map_util.create_category_index(categories)\n",
    "\n",
    "    # Creating a section to run the detection.\n",
    "    with __detection_graph.as_default():\n",
    "        __sess = tf.Session(\n",
    "            graph=__detection_graph,\n",
    "            config=tf.ConfigProto(\n",
    "                intra_op_parallelism_threads=1,\n",
    "                inter_op_parallelism_threads=1\n",
    "            )\n",
    "        )\n",
    "        \n",
    "        imagetensor = __detection_graph.get_tensor_by_name('image_tensor:0')\n",
    "        detectionboxes = __detection_graph.get_tensor_by_name('detection_boxes:0')\n",
    "        detectionscores = __detection_graph.get_tensor_by_name('detection_scores:0')\n",
    "        detectionclasses = __detection_graph.get_tensor_by_name('detection_classes:0')\n",
    "        numdetections = __detection_graph.get_tensor_by_name('num_detections:0') #self-iPython __instantiatingDNNVariables"
   ]
  },
  {
   "cell_type": "code",
   "execution_count": null,
   "metadata": {
    "collapsed": false
   },
   "outputs": [],
   "source": [
    "#ini-iPython"
   ]
  },
  {
   "cell_type": "markdown",
   "metadata": {},
   "source": [
    "## Teste __instantiatingDNNVariables"
   ]
  },
  {
   "cell_type": "code",
   "execution_count": null,
   "metadata": {
    "collapsed": false
   },
   "outputs": [],
   "source": [
    "self = BasicThread(a, \"DNN\", \"Parameters\")\n",
    "__instantiatingDNNVariables()\n",
    "__numclasses, __detection_graph, __sess"
   ]
  },
  {
   "cell_type": "code",
   "execution_count": null,
   "metadata": {
    "collapsed": false
   },
   "outputs": [],
   "source": [
    "__numclasses = __detection_graph = __sess = self = None\n",
    "#end-iPython"
   ]
  },
  {
   "cell_type": "markdown",
   "metadata": {},
   "source": [
    "# Constructor Class\n",
    "doxygen-iPython"
   ]
  },
  {
   "cell_type": "code",
   "execution_count": null,
   "metadata": {
    "collapsed": false
   },
   "outputs": [],
   "source": [
    "#des-iPython def __init__(self, a):\n",
    "#ini-tab -> Criando construtor\n",
    "#edes-iPython super(DNN, self).__init__(a, \"DNN\", \"Parameters\")\n",
    "self = BasicThread(a, \"DNN\", \"Parameters\")\n",
    "\n",
    "# Creating and updating default parameter values.\n",
    "__parameters = {\n",
    "    \"network_name\": \"rede\",\n",
    "    \"threshold_to_train\": 0.2,\n",
    "}\n",
    "__parameters = self._conf.readVariables(__parameters)\n",
    "\n",
    "# Creating neural network.\n",
    "__unzipNetwork(__parameters[\"network_name\"])\n",
    "__instantiatingDNNVariables()"
   ]
  },
  {
   "cell_type": "code",
   "execution_count": null,
   "metadata": {
    "collapsed": true
   },
   "outputs": [],
   "source": [
    "#end-tab -> Finalizando construtor"
   ]
  },
  {
   "cell_type": "code",
   "execution_count": null,
   "metadata": {
    "collapsed": false
   },
   "outputs": [],
   "source": [
    "#ini-iPython"
   ]
  },
  {
   "cell_type": "markdown",
   "metadata": {},
   "source": [
    "## Teste construtor"
   ]
  },
  {
   "cell_type": "code",
   "execution_count": null,
   "metadata": {
    "collapsed": false
   },
   "outputs": [],
   "source": [
    "__numclasses, __detection_graph, __sess\n",
    "#end-iPython"
   ]
  },
  {
   "cell_type": "markdown",
   "metadata": {},
   "source": [
    "# detectDNN\n",
    ".\n",
    "doxygen-iPython"
   ]
  },
  {
   "cell_type": "code",
   "execution_count": null,
   "metadata": {
    "collapsed": false
   },
   "outputs": [],
   "source": [
    "#eself-iPython __detectDNN\n",
    "#edes-iPython def __detectDNN(self, img):\n",
    "def __detectDNN(img):\n",
    "    global __sess #debug-iPython\n",
    "    # Actual detection.\n",
    "    image_np_expanded = np.expand_dims(img, axis=0)\n",
    "    (boxes, scores, classes, num) = __sess.run(\n",
    "        [detectionboxes, detectionscores, detectionclasses, numdetections],\n",
    "        feed_dict={imagetensor: image_np_expanded}\n",
    "    )\n",
    "    \n",
    "    if self._args.dnn == True:\n",
    "        # Visualization of the results of a detection.\n",
    "        img = cv2.resize(\n",
    "            img,\n",
    "            None,\n",
    "            fx=380.0/img.shape[0],\n",
    "            fy=380.0/img.shape[0]\n",
    "        )\n",
    "        vis_util.visualize_boxes_and_labels_on_image_array(\n",
    "            img,\n",
    "            np.squeeze(boxes),\n",
    "            np.squeeze(classes).astype(np.int32),\n",
    "            np.squeeze(scores),\n",
    "            category_index,\n",
    "            use_normalized_coordinates=True,\n",
    "            line_thickness=2,\n",
    "            min_score_thresh=__parameters[\"threshold_to_train\"],\n",
    "        )\n",
    "    \n",
    "    # Creating DataFrame detection.\n",
    "    classes = classes.tolist()\n",
    "    for i in xrange(len(classes[0])):\n",
    "        classes[0][i] = __label[classes[0][i]]\n",
    "    \n",
    "    df = pd.DataFrame()\n",
    "    df[\"classes\"] = classes[0]\n",
    "    df[\"scores\"] = scores[0]\n",
    "    df[\"boxes\"] = boxes[0].tolist()\n",
    "    \n",
    "    return df, img #self-iPython __detectDNN"
   ]
  },
  {
   "cell_type": "code",
   "execution_count": null,
   "metadata": {
    "collapsed": false
   },
   "outputs": [],
   "source": [
    "#ini-iPython"
   ]
  },
  {
   "cell_type": "markdown",
   "metadata": {},
   "source": [
    "## Teste detectDNN"
   ]
  },
  {
   "cell_type": "code",
   "execution_count": null,
   "metadata": {
    "collapsed": false
   },
   "outputs": [],
   "source": [
    "img = cv2.imread(\"/home/vinicius/objectDetect_clear/Train/imagenstreino/frames0_040.jpg\")\n",
    "df, img = __detectDNN(img)\n",
    "cv2.imshow(\"Frame 2\", img)\n",
    "cv2.waitKey(0)\n",
    "cv2.destroyAllWindows()\n",
    "df\n",
    "#end-iPython"
   ]
  },
  {
   "cell_type": "markdown",
   "metadata": {},
   "source": [
    "# detect\n",
    ".\n",
    "doxygen-iPython"
   ]
  },
  {
   "cell_type": "code",
   "execution_count": null,
   "metadata": {
    "collapsed": false
   },
   "outputs": [],
   "source": [
    "#eself-iPython detect\n",
    "#edes-iPython def detect(self, observation):\n",
    "def detect(observation):\n",
    "    objects, observation['frame'] = __detectDNN(observation['frame'])\n",
    "\n",
    "\n",
    "    \n",
    "\n",
    "\n",
    "\n",
    "\n",
    "\n",
    "\n",
    "observation = {}\n",
    "\n",
    "observation['frame'] = cv2.imread(\"/home/vinicius/objectDetect_clear/Train/imagenstreino/frames0_040.jpg\")\n",
    "\n",
    "\n",
    "detect(observation)\n",
    "\n",
    "\n",
    "\n",
    "\n",
    "\n",
    "\n",
    "\n",
    "\n",
    "#self-iPython detect"
   ]
  },
  {
   "cell_type": "code",
   "execution_count": null,
   "metadata": {
    "collapsed": true
   },
   "outputs": [],
   "source": [
    "#ini-iPython"
   ]
  },
  {
   "cell_type": "markdown",
   "metadata": {},
   "source": [
    "## Teste detect"
   ]
  },
  {
   "cell_type": "code",
   "execution_count": null,
   "metadata": {
    "collapsed": false
   },
   "outputs": [],
   "source": [
    "\n",
    "#end-iPython"
   ]
  },
  {
   "cell_type": "code",
   "execution_count": null,
   "metadata": {
    "collapsed": false
   },
   "outputs": [],
   "source": [
    "#end-tab -> Finalizando classe"
   ]
  },
  {
   "cell_type": "code",
   "execution_count": null,
   "metadata": {
    "collapsed": true
   },
   "outputs": [],
   "source": [
    "#ini-iPython"
   ]
  },
  {
   "cell_type": "markdown",
   "metadata": {},
   "source": [
    "# nova_variavel\n",
    ".\n",
    "doxygen-iPython"
   ]
  },
  {
   "cell_type": "code",
   "execution_count": null,
   "metadata": {
    "collapsed": true
   },
   "outputs": [],
   "source": [
    "nova_variavel = None #self-iPython nova_variavel"
   ]
  },
  {
   "cell_type": "markdown",
   "metadata": {},
   "source": [
    "# nova_funcao\n",
    ".\n",
    "doxygen-iPython"
   ]
  },
  {
   "cell_type": "code",
   "execution_count": null,
   "metadata": {
    "collapsed": true
   },
   "outputs": [],
   "source": [
    "# eself-iPython nova_funcao\n",
    "# edes-iPython def nova_funcao(self, variaveis_funcao):\n",
    "def nova_funcao(variaveis_funcao):\n",
    "    pass # self-iPython nova_funcao"
   ]
  },
  {
   "cell_type": "code",
   "execution_count": null,
   "metadata": {
    "collapsed": true
   },
   "outputs": [],
   "source": [
    "#ini-iPython"
   ]
  },
  {
   "cell_type": "markdown",
   "metadata": {},
   "source": [
    "## Teste nova_funcao"
   ]
  },
  {
   "cell_type": "code",
   "execution_count": null,
   "metadata": {
    "collapsed": false
   },
   "outputs": [],
   "source": [
    "\n",
    "#end-iPython"
   ]
  },
  {
   "cell_type": "code",
   "execution_count": null,
   "metadata": {
    "collapsed": false
   },
   "outputs": [],
   "source": [
    "#end-iPython"
   ]
  }
 ],
 "metadata": {
  "kernelspec": {
   "display_name": "Python 2",
   "language": "python",
   "name": "python2"
  },
  "language_info": {
   "codemirror_mode": {
    "name": "ipython",
    "version": 2
   },
   "file_extension": ".py",
   "mimetype": "text/x-python",
   "name": "python",
   "nbconvert_exporter": "python",
   "pygments_lexer": "ipython2",
   "version": "2.7.6"
  }
 },
 "nbformat": 4,
 "nbformat_minor": 2
}
