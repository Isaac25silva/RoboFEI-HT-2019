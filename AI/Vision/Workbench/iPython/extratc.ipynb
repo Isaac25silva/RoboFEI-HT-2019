{
 "cells": [
  {
   "cell_type": "markdown",
   "metadata": {
    "collapsed": true
   },
   "source": [
    "****************************************************************************\n",
    "* @file: extratc.py\n",
    "* @project: ROBOFEI-HT - FEI 😛\n",
    "* @author: Vinicius Nicassio Ferreira\n",
    "* @version: V0.0.1\n",
    "* @created: 23/10/2017\n",
    "* @e-mail: vinicius.nicassio@gmail.com\n",
    "* @brief: Class extratc\n",
    "****************************************************************************"
   ]
  },
  {
   "cell_type": "code",
   "execution_count": null,
   "metadata": {
    "collapsed": true
   },
   "outputs": [],
   "source": [
    "#ini-iPython"
   ]
  },
  {
   "cell_type": "markdown",
   "metadata": {},
   "source": [
    "# Executando no diretório principal"
   ]
  },
  {
   "cell_type": "code",
   "execution_count": null,
   "metadata": {
    "collapsed": true
   },
   "outputs": [],
   "source": [
    "import os\n",
    "os.chdir('../../') #Executando na pasta Visual_Memory\n",
    "# os.system(\"cd Workbench/ && ./zerar.sh && cd ..\")\n",
    "# os.system(\"cd Workbench/iPython/ && ./convertendo.sh && cd ../../\")\n",
    "import sys\n",
    "sys.path.append('./include')\n",
    "sys.path.append('./src')\n",
    "sys.path.append('./Workbench/iPython')\n",
    "#end-iPython"
   ]
  },
  {
   "cell_type": "markdown",
   "metadata": {},
   "source": [
    "---- Imports ----"
   ]
  },
  {
   "cell_type": "code",
   "execution_count": null,
   "metadata": {
    "collapsed": true
   },
   "outputs": [],
   "source": [
    "# Libraries to be used.\n",
    "import time\n",
    "import sys\n",
    "import os\n",
    "#des-iPython os.chdir('../')\n",
    "#des-iPython sys.path.append('./include')\n",
    "#des-iPython sys.path.append('./src')"
   ]
  },
  {
   "cell_type": "code",
   "execution_count": null,
   "metadata": {
    "collapsed": true
   },
   "outputs": [],
   "source": [
    "# Used class developed by RoboFEI-HT.\n",
    "#ini-iPython - Utilizado para o iPython reconhecer as classes\n",
    "sys.path.append('/home/vinicius/models/research')\n",
    "sys.path.append('/home/vinicius/models/research/object_detection')\n",
    "#end-iPython\n",
    "from DNN import * # Class that implements object detection using a deep neural network (DNN)."
   ]
  },
  {
   "cell_type": "code",
   "execution_count": null,
   "metadata": {
    "collapsed": false
   },
   "outputs": [],
   "source": [
    "class Argumentos:\n",
    "    dnn = True\n",
    "    train = True\n",
    "\n",
    "a = Argumentos()\n",
    "\n",
    "dnn = DNN(a)"
   ]
  },
  {
   "cell_type": "code",
   "execution_count": null,
   "metadata": {
    "collapsed": false
   },
   "outputs": [],
   "source": [
    "dicionario = {}\n",
    "os.system(\"mkdir ./Train/images\\ to\\ classify\")\n",
    "for video in os.listdir(\"./Train/Videos\"):\n",
    "    cap = cv2.VideoCapture(\"./Train/Videos/\"+video)\n",
    "    while True:\n",
    "        for __ in xrange(0, 4):\n",
    "            __, dicionario[\"frame\"] = cap.read()\n",
    "        if dicionario[\"frame\"] is None:\n",
    "            break\n",
    "        dicionario[\"time\"] = time.localtime()\n",
    "        dnn.detect(dicionario)\n",
    "    os.system(\"rm ./Train/Videos/\"+video)"
   ]
  },
  {
   "cell_type": "code",
   "execution_count": null,
   "metadata": {
    "collapsed": false
   },
   "outputs": [],
   "source": [
    "try:\n",
    "    images = [i.rsplit(\".\", 1)[0] for i in os.listdir(\"./Train/images to classify\")]\n",
    "    xmls = [i.rsplit(\".\", 1)[0] for i in os.listdir(\"./Train/annotations DNN\")]\n",
    "    images = [i for i in images if i not in xmls]\n",
    "    for image in images:\n",
    "        dicionario[\"frame\"] = cv2.imread(\"./Train/images to classify/\"+image+\".png\")\n",
    "        dicionario[\"time\"] = time.localtime()\n",
    "        dnn.detect(dicionario)\n",
    "        os.system(\"rm ./Train/images\\ to\\ classify/\"+image.replace(\":\",\"\\\\:\").replace(\" \",\"\\\\ \")+\".png\")\n",
    "    cv2.destroyAllWindows()\n",
    "except:\n",
    "    pass"
   ]
  }
 ],
 "metadata": {
  "kernelspec": {
   "display_name": "Python 2",
   "language": "python",
   "name": "python2"
  },
  "language_info": {
   "codemirror_mode": {
    "name": "ipython",
    "version": 2
   },
   "file_extension": ".py",
   "mimetype": "text/x-python",
   "name": "python",
   "nbconvert_exporter": "python",
   "pygments_lexer": "ipython2",
   "version": "2.7.6"
  }
 },
 "nbformat": 4,
 "nbformat_minor": 1
}
