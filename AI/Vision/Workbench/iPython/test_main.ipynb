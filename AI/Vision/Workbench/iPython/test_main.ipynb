{
 "cells": [
  {
   "cell_type": "code",
   "execution_count": null,
   "metadata": {
    "collapsed": true
   },
   "outputs": [],
   "source": [
    "#ini-iPython"
   ]
  },
  {
   "cell_type": "markdown",
   "metadata": {},
   "source": [
    "# Executando no diretório principal"
   ]
  },
  {
   "cell_type": "code",
   "execution_count": null,
   "metadata": {
    "collapsed": true
   },
   "outputs": [],
   "source": [
    "import os\n",
    "os.chdir('../../') #Executando na pasta Vision\n",
    "os.system(\"cd Workbench/ && ./zerar.sh && cd ..\")\n",
    "os.system(\"cd Workbench/iPython/ && ./convertendo.sh && cd ../../\")\n",
    "import sys\n",
    "sys.path.append('./include')\n",
    "sys.path.append('./src')\n",
    "sys.path.append('./Workbench/iPython')\n",
    "#end-iPython"
   ]
  },
  {
   "cell_type": "markdown",
   "metadata": {},
   "source": [
    " ****************************************************************************\n",
    " * @file: vision.py\n",
    " * @project: ROBOFEI-HT - FEI 😛\n",
    " * @author: Vinicius Nicassio Ferreira\n",
    " * @version: V0.0.1\n",
    " * @created: 23/10/2017\n",
    " * @e-mail: vinicius.nicassio@gmail.com\n",
    " * @brief: Visual Memory\n",
    " ****************************************************************************\n",
    " Program to execute the Vision process\n",
    " ****************************************************************************"
   ]
  },
  {
   "cell_type": "markdown",
   "metadata": {},
   "source": [
    "---- List of execution parameters ----"
   ]
  },
  {
   "cell_type": "code",
   "execution_count": null,
   "metadata": {
    "collapsed": false
   },
   "outputs": [],
   "source": [
    "#des-iPython import argparse\n",
    "\n",
    "#des-iPython parser = argparse.ArgumentParser(\n",
    "#des-iPython     description='Vision',\n",
    "#des-iPython     epilog= 'Responsável por realizar as detecções de objetos utilizando a camera e rastrear os objetos na imagens utilizando os motores.\\\\' \\\n",
    "#des-iPython         'Responsible for performing object detections using the camera and tracking the objects in the images using the engines.'\n",
    "#des-iPython )\n",
    "\n",
    "#des-iPython parser.add_argument(\n",
    "#des-iPython     '--camera', # Full name\n",
    "#des-iPython     '--c', # Abbreviation for the name\n",
    "#des-iPython     action = \"store_true\", # Type variable\n",
    "#des-iPython     help = 'Calibra valor para a câmera.\\\\' \\\n",
    "#des-iPython     'Calibrates value for the camera.' # Description of the variable\n",
    "#des-iPython )\n",
    "\n",
    "#des-iPython parser.add_argument(\n",
    "#des-iPython     '--dnn', # Full name\n",
    "#des-iPython     action = \"store_true\", # Type variable\n",
    "#des-iPython     help = 'Exibe a classificação e a marcação feita pela DNN e ajusta os parametros para \\'train\\'.\\\\' \\\n",
    "#des-iPython     'Displays a DNN sort and markup and set the parameters to \\'train\\'.' # Description of the variable\n",
    "#des-iPython )\n",
    "\n",
    "#des-iPython parser.add_argument(\n",
    "#des-iPython     '--train', # Full name\n",
    "#des-iPython     '--tr', # Abbreviation for the name\n",
    "#des-iPython     action = \"store_true\", # Type variable\n",
    "#des-iPython     help = 'Salva as imagens que tiveram um baixo percentual de classificação e cria um XML de marcação.\\\\' \\\n",
    "#des-iPython     'Saves images that have a low rating percentage and creates a markup XML.' # Description of the variable\n",
    "#des-iPython )\n",
    "\n",
    "#ini-iPython\n",
    "#des-iPython parser.add_argument(\n",
    "#des-iPython     '--savedata', # Full name\n",
    "#des-iPython     '--sd', # Abbreviation for the name\n",
    "#des-iPython     action = \"store_true\", # Type variable\n",
    "#des-iPython     help = 'Calibra valor para a câmera.\\\\' \\\n",
    "#des-iPython     'Calibrates value for the camera.' # Description of the variable\n",
    "#des-iPython )\n",
    "#end-iPython\n",
    "\n",
    "#des-iPython args = parser.parse_args()\n",
    "#ini-iPython\n",
    "class argumentos:\n",
    "    camera = False\n",
    "    dnn = False\n",
    "    train = False\n",
    "\n",
    "args = argumentos()\n",
    "#end-iPython"
   ]
  },
  {
   "cell_type": "markdown",
   "metadata": {},
   "source": [
    "---- Imports ----"
   ]
  },
  {
   "cell_type": "code",
   "execution_count": null,
   "metadata": {
    "collapsed": true
   },
   "outputs": [],
   "source": [
    "# Libraries to be used.\n",
    "#des-iPython import sys\n",
    "#des-iPython sys.path.append('./include')\n",
    "#des-iPython sys.path.append('./src')"
   ]
  },
  {
   "cell_type": "code",
   "execution_count": null,
   "metadata": {
    "collapsed": false
   },
   "outputs": [],
   "source": [
    "# Used class developed by RoboFEI-HT.\n",
    "from Orchestrator import *"
   ]
  },
  {
   "cell_type": "markdown",
   "metadata": {},
   "source": [
    "---- Preparing process ----"
   ]
  },
  {
   "cell_type": "code",
   "execution_count": null,
   "metadata": {
    "collapsed": false
   },
   "outputs": [],
   "source": [
    "if args.train == True:\n",
    "    args.dnn = True\n",
    "\n",
    "vision = Orchestrator(args)"
   ]
  },
  {
   "cell_type": "markdown",
   "metadata": {},
   "source": [
    "---- Run process ----"
   ]
  },
  {
   "cell_type": "code",
   "execution_count": null,
   "metadata": {
    "collapsed": false
   },
   "outputs": [],
   "source": [
    "vision.run( )"
   ]
  },
  {
   "cell_type": "markdown",
   "metadata": {},
   "source": [
    "---- Finalizing process ----"
   ]
  },
  {
   "cell_type": "code",
   "execution_count": null,
   "metadata": {
    "collapsed": false
   },
   "outputs": [],
   "source": [
    "vision.end( )"
   ]
  }
 ],
 "metadata": {
  "kernelspec": {
   "display_name": "Python 2",
   "language": "python",
   "name": "python2"
  },
  "language_info": {
   "codemirror_mode": {
    "name": "ipython",
    "version": 2
   },
   "file_extension": ".py",
   "mimetype": "text/x-python",
   "name": "python",
   "nbconvert_exporter": "python",
   "pygments_lexer": "ipython2",
   "version": "2.7.6"
  }
 },
 "nbformat": 4,
 "nbformat_minor": 1
}
