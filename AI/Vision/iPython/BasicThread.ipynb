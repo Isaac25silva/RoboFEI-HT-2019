{
 "cells": [
  {
   "cell_type": "markdown",
   "metadata": {},
   "source": [
    "---- Imports ----"
   ]
  },
  {
   "cell_type": "code",
   "execution_count": 1,
   "metadata": {
    "collapsed": true
   },
   "outputs": [],
   "source": [
    "# Libraries to be used\n",
    "import sys\n",
    "#des-iPython sys.path.append('../include')\n",
    "#des-iPython sys.path.append('../src')\n",
    "sys.path.append('../../Blackboard/src') #debug-iPython"
   ]
  },
  {
   "cell_type": "code",
   "execution_count": 2,
   "metadata": {
    "collapsed": false
   },
   "outputs": [],
   "source": [
    "# The standard libraries used in the vision system\n",
    "from abc import ABCMeta, abstractmethod # Used to create abstract classes\n",
    "from threading import Thread # Used to create classes with thread functions"
   ]
  },
  {
   "cell_type": "code",
   "execution_count": 3,
   "metadata": {
    "collapsed": false
   },
   "outputs": [
    {
     "name": "stdout",
     "output_type": "stream",
     "text": [
      "BasicClass - Opencv Version: 3.2.0-dev\n"
     ]
    }
   ],
   "source": [
    "# Used class developed by RoboFEI-HT\n",
    "from BasicClass import * # \n",
    "from Blackboard import * # \n",
    "from VisionException import * # Used to handle exceptions\n",
    "#ini-iPython\n",
    "class test:\n",
    "    camera = True\n",
    "_args = test()\n",
    "#end-iPython"
   ]
  },
  {
   "cell_type": "markdown",
   "metadata": {},
   "source": [
    "# Basic Class - Thread\n",
    "Class that implements similar functions between classes used thread.\n",
    "doxygen-iPython"
   ]
  },
  {
   "cell_type": "code",
   "execution_count": 4,
   "metadata": {
    "collapsed": true
   },
   "outputs": [],
   "source": [
    "#des-iPython class BasicThread(BasicClass, Thread):\n",
    "#ini-tab -> Iniciando código classe\n",
    "#des-iPython __metaclass__ = ABCMeta"
   ]
  },
  {
   "cell_type": "code",
   "execution_count": null,
   "metadata": {
    "collapsed": true
   },
   "outputs": [],
   "source": [
    "#ini-iPython - Lista de funções\n",
    "\n",
    "#self-iPython finalize\n",
    "\n",
    "#end-iPython\n"
   ]
  },
  {
   "cell_type": "markdown",
   "metadata": {},
   "source": [
    "---- Variables ----"
   ]
  },
  {
   "cell_type": "markdown",
   "metadata": {},
   "source": [
    "# bkb\n",
    "Protected variable responsible for communication with shared memory (blackboard).\n",
    "doxygen-iPython"
   ]
  },
  {
   "cell_type": "code",
   "execution_count": 5,
   "metadata": {
    "collapsed": false
   },
   "outputs": [],
   "source": [
    "_bkb = None #self-iPython _bkb"
   ]
  },
  {
   "cell_type": "markdown",
   "metadata": {},
   "source": [
    "# Constructor Class\n",
    "doxygen-iPython"
   ]
  },
  {
   "cell_type": "code",
   "execution_count": 6,
   "metadata": {
    "collapsed": false
   },
   "outputs": [
    {
     "name": "stdout",
     "output_type": "stream",
     "text": [
      "Instantiating Basic Class\n"
     ]
    }
   ],
   "source": [
    "#des-iPython @abstractmethod\n",
    "#des-iPython def __init__(self, arg, name = None, func = None):\n",
    "#ini-tab -> Criando construtor\n",
    "print 'Instantiating Basic Class' #debug-iPython\n",
    "#des-iPython Thread.__init__(self)\n",
    "if name != None and func != None:\n",
    "    #edes-iPython super(BasicThread, self).__init__(arg, name, func)\n",
    "    print \"Tem sim\"\n",
    "else:\n",
    "    #edes-iPython super(BasicThread, self).__init__(arg)\n",
    "    print \"Tem não\"\n",
    "_bkb = Blackboard( )\n",
    "#end-tab -> Finalizando construtor"
   ]
  },
  {
   "cell_type": "code",
   "execution_count": null,
   "metadata": {
    "collapsed": true
   },
   "outputs": [],
   "source": [
    "#ini-iPython"
   ]
  },
  {
   "cell_type": "markdown",
   "metadata": {},
   "source": [
    "## Teste Construtor"
   ]
  },
  {
   "cell_type": "code",
   "execution_count": null,
   "metadata": {
    "collapsed": true
   },
   "outputs": [],
   "source": [
    "#end-iPython"
   ]
  },
  {
   "cell_type": "code",
   "execution_count": null,
   "metadata": {
    "collapsed": true
   },
   "outputs": [],
   "source": [
    "#end-tab -> Finalizando classe"
   ]
  }
 ],
 "metadata": {
  "kernelspec": {
   "display_name": "Python 2",
   "language": "python",
   "name": "python2"
  },
  "language_info": {
   "codemirror_mode": {
    "name": "ipython",
    "version": 2
   },
   "file_extension": ".py",
   "mimetype": "text/x-python",
   "name": "python",
   "nbconvert_exporter": "python",
   "pygments_lexer": "ipython2",
   "version": "2.7.6"
  }
 },
 "nbformat": 4,
 "nbformat_minor": 1
}
