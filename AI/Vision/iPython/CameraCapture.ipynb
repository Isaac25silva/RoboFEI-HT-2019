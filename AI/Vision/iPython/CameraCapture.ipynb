{
 "cells": [
  {
   "cell_type": "code",
   "execution_count": 79,
   "metadata": {
    "collapsed": true
   },
   "outputs": [],
   "source": [
    "# Libraries to be used\n",
    "import sys\n",
    "#des-iPython sys.path.append('../include')\n",
    "#des-iPython sys.path.append('../src')\n",
    "#ini-iPython\n",
    "\n",
    "class test:\n",
    "    camera = True\n",
    "\n",
    "class test1:\n",
    "    def read_float(self, name):\n",
    "        return 0\n",
    "\n",
    "_bkb = test1()\n",
    "\n",
    "_args = test()\n",
    "\n",
    "#end-iPython"
   ]
  },
  {
   "cell_type": "code",
   "execution_count": 80,
   "metadata": {
    "collapsed": false
   },
   "outputs": [],
   "source": [
    "import os # Library for interaction with the system\n",
    "from copy import copy\n",
    "import time\n",
    "# from datetime import *"
   ]
  },
  {
   "cell_type": "code",
   "execution_count": 81,
   "metadata": {
    "collapsed": false
   },
   "outputs": [],
   "source": [
    "# Used class developed by RoboFEI-HT\n",
    "sys.path.append('../../Blackboard/src') #debug-iPython\n",
    "from BasicThread import * # Base class with primary functions"
   ]
  },
  {
   "cell_type": "markdown",
   "metadata": {},
   "source": [
    "# Class CameraCapture\n",
    "Class responsible for performing the observation of domain\n",
    "doxygen-iPython"
   ]
  },
  {
   "cell_type": "code",
   "execution_count": 82,
   "metadata": {
    "collapsed": true
   },
   "outputs": [],
   "source": [
    "#des-iPython class CameraCapture(BasicThread):\n",
    "#ini-tab -> Iniciando código classe"
   ]
  },
  {
   "cell_type": "markdown",
   "metadata": {},
   "source": [
    "---- Variables ----"
   ]
  },
  {
   "cell_type": "markdown",
   "metadata": {},
   "source": [
    "# Camera variable\n",
    "Responsible for communicating with the camera.\n",
    "doxygen-iPython"
   ]
  },
  {
   "cell_type": "code",
   "execution_count": 83,
   "metadata": {
    "collapsed": true
   },
   "outputs": [],
   "source": [
    "__camera = None #self-iPython __camera"
   ]
  },
  {
   "cell_type": "markdown",
   "metadata": {},
   "source": [
    "# Port variable\n",
    "Port where the camera is connected.\n",
    "doxygen-iPython"
   ]
  },
  {
   "cell_type": "code",
   "execution_count": 84,
   "metadata": {
    "collapsed": true
   },
   "outputs": [],
   "source": [
    "__port = None #self-iPython __port"
   ]
  },
  {
   "cell_type": "markdown",
   "metadata": {},
   "source": [
    "# observation variable\n",
    "Saves the observation of the most recent state.\n",
    "doxygen-iPython"
   ]
  },
  {
   "cell_type": "code",
   "execution_count": 85,
   "metadata": {
    "collapsed": true
   },
   "outputs": [],
   "source": [
    "__observation = None #self-iPython __observation"
   ]
  },
  {
   "cell_type": "markdown",
   "metadata": {},
   "source": [
    "# exe variable\n",
    "Flag responsible for executing camera capture\n",
    "doxygen-iPython"
   ]
  },
  {
   "cell_type": "code",
   "execution_count": 86,
   "metadata": {
    "collapsed": true
   },
   "outputs": [],
   "source": [
    "__exe = None #self-iPython __exe"
   ]
  },
  {
   "cell_type": "code",
   "execution_count": 87,
   "metadata": {
    "collapsed": true
   },
   "outputs": [],
   "source": [
    "#ini-iPython - Lista de funções\n",
    "\n",
    "#self-iPython cameraOpen\n",
    "#self-iPython finalize\n",
    "#self-iPython run\n",
    "#self-iPython currentObservation\n",
    "#self-iPython trackbarFocus\n",
    "\n",
    "# Lista Variaveis classes herdadas\n",
    "\n",
    "#self-iPython _confini\n",
    "#self-iPython _bkb\n",
    "#self-iPython _args\n",
    "\n",
    "#end-iPython - Fim listas"
   ]
  },
  {
   "cell_type": "markdown",
   "metadata": {},
   "source": [
    "# cameraOpen\n",
    "Used to locate the port where the camera is connected and connect to it\n",
    "doxygen-iPython"
   ]
  },
  {
   "cell_type": "code",
   "execution_count": 88,
   "metadata": {
    "collapsed": true
   },
   "outputs": [],
   "source": [
    "#eself-iPython cameraOpen\n",
    "#edes-iPython def cameraOpen(self):\n",
    "def cameraOpen( ):\n",
    "    p = os.popen('ls /dev/video*')\n",
    "    line = p.readline()\n",
    "    #des-iPython if line == '':\n",
    "        #des-iPython raise VisionException(1, '')\n",
    "    \n",
    "    for port in xrange(10):\n",
    "        print port #debug-iPython\n",
    "        camera = cv2.VideoCapture(port)\n",
    "        print camera.isOpened() #debug-iPython\n",
    "        if camera.isOpened():\n",
    "            break\n",
    "    \n",
    "    #des-iPython if not camera.isOpened():\n",
    "        #des-iPython raise VisionException(2, '')\n",
    "    print 'Função:', camera.isOpened(), 'Porta:', port #debug-iPython\n",
    "    return camera, port #self-iPython cameraOpen"
   ]
  },
  {
   "cell_type": "code",
   "execution_count": 89,
   "metadata": {
    "collapsed": true
   },
   "outputs": [],
   "source": [
    "#ini-iPython"
   ]
  },
  {
   "cell_type": "markdown",
   "metadata": {},
   "source": [
    "## Teste cameraOpen"
   ]
  },
  {
   "cell_type": "code",
   "execution_count": 90,
   "metadata": {
    "collapsed": false,
    "scrolled": true
   },
   "outputs": [
    {
     "name": "stdout",
     "output_type": "stream",
     "text": [
      "0\n",
      "True\n",
      "Função: True Porta: 0\n"
     ]
    }
   ],
   "source": [
    "camera, port = cameraOpen()\n",
    "camera.release()\n",
    "#end-iPython"
   ]
  },
  {
   "cell_type": "markdown",
   "metadata": {},
   "source": [
    "# trackbarFocus\n",
    "Responsible for reading the values of the trackbar.\n",
    "doxygen-iPython"
   ]
  },
  {
   "cell_type": "code",
   "execution_count": 91,
   "metadata": {
    "collapsed": true
   },
   "outputs": [],
   "source": [
    "#eself-iPython trackbarFocus\n",
    "#edes-iPython def trackbarFocus(self, value):\n",
    "def trackbarFocus(value):\n",
    "    __observation['focus'] = value\n",
    "    os.system(\"v4l2-ctl -d /dev/video\" + str(__port) + \" -c focus_absolute=\" + str(__observation['focus'])) #self-iPython trackbarFocus"
   ]
  },
  {
   "cell_type": "code",
   "execution_count": 92,
   "metadata": {
    "collapsed": true
   },
   "outputs": [],
   "source": [
    "#ini-iPython"
   ]
  },
  {
   "cell_type": "markdown",
   "metadata": {},
   "source": [
    "## Teste trackbarFocus"
   ]
  },
  {
   "cell_type": "code",
   "execution_count": 93,
   "metadata": {
    "collapsed": false,
    "scrolled": true
   },
   "outputs": [],
   "source": [
    "#end-iPython"
   ]
  },
  {
   "cell_type": "markdown",
   "metadata": {
    "collapsed": true
   },
   "source": [
    "# finalize\n",
    "Terminates the capture process and saves the generated information\n",
    "doxygen-iPython"
   ]
  },
  {
   "cell_type": "code",
   "execution_count": 94,
   "metadata": {
    "collapsed": true
   },
   "outputs": [],
   "source": [
    "#eself-iPython finalize\n",
    "#edes-iPython def finalize(self):\n",
    "def finalize( ):\n",
    "    __exe = False\n",
    "    #des-iPython self.join()\n",
    "    __camera.release()\n",
    "    del __observation['frame']\n",
    "    del __observation['pos_tilt']\n",
    "    del __observation['pos_pan']\n",
    "    del __observation['time']\n",
    "    #des-iPython super(CameraCapture,self).finalize(__observation)"
   ]
  },
  {
   "cell_type": "code",
   "execution_count": 95,
   "metadata": {
    "collapsed": true
   },
   "outputs": [],
   "source": [
    "#ini-iPython"
   ]
  },
  {
   "cell_type": "markdown",
   "metadata": {},
   "source": [
    "## Teste finalize"
   ]
  },
  {
   "cell_type": "code",
   "execution_count": 96,
   "metadata": {
    "collapsed": false
   },
   "outputs": [
    {
     "name": "stdout",
     "output_type": "stream",
     "text": [
      "0\n",
      "True\n",
      "Função: True Porta: 0\n"
     ]
    }
   ],
   "source": [
    "__camera, __port = cameraOpen()\n",
    "__observation = {}\n",
    "__observation['frame'] = 1\n",
    "__observation['pos_tilt'] = 2\n",
    "__observation['pos_pan'] = 2\n",
    "__observation['time'] = 2\n",
    "finalize()\n",
    "#end-iPython"
   ]
  },
  {
   "cell_type": "markdown",
   "metadata": {},
   "source": [
    "# Constructor Class\n",
    "doxygen-iPython"
   ]
  },
  {
   "cell_type": "code",
   "execution_count": 97,
   "metadata": {
    "collapsed": false
   },
   "outputs": [
    {
     "name": "stdout",
     "output_type": "stream",
     "text": [
      "0\n",
      "True\n",
      "Função: True Porta: 0\n",
      "Contrutor:  True\n"
     ]
    },
    {
     "data": {
      "text/plain": [
       "0"
      ]
     },
     "execution_count": 97,
     "metadata": {},
     "output_type": "execute_result"
    }
   ],
   "source": [
    "#des-iPython def __init__(self, arg):\n",
    "arg = -1 #debug-iPython\n",
    "#ini-tab -> Iniciando código construtor\n",
    "#edes-iPython super(CameraCapture, self).__init__(\"Camera\" , \"parameters\", arg)\n",
    "_confini = ConfigIni(\"Camera\" , \"parameters\")\n",
    "\n",
    "__observation = _confini.read()\n",
    "if __observation is -1:\n",
    "    __observation = {\n",
    "        'fps': 30,\n",
    "        'focus': 25\n",
    "    }\n",
    "\n",
    "__camera, __port = cameraOpen()\n",
    "print \"Contrutor: \", __camera.isOpened() #debug-iPython\n",
    "\n",
    "os.system(\"v4l2-ctl -d /dev/video\" + str(__port) + \" -c focus_auto=0\")\n",
    "os.system(\"v4l2-ctl -d /dev/video\" + str(__port) + \" -c focus_absolute=\" + str(__observation['focus']))\n",
    "\n",
    "#des-iPython self.start()"
   ]
  },
  {
   "cell_type": "code",
   "execution_count": 98,
   "metadata": {
    "collapsed": true
   },
   "outputs": [],
   "source": [
    "#end-tab -> Fim construtor"
   ]
  },
  {
   "cell_type": "code",
   "execution_count": 99,
   "metadata": {
    "collapsed": true
   },
   "outputs": [],
   "source": [
    "#ini-iPython"
   ]
  },
  {
   "cell_type": "markdown",
   "metadata": {},
   "source": [
    "## Teste construtor"
   ]
  },
  {
   "cell_type": "code",
   "execution_count": 100,
   "metadata": {
    "collapsed": true
   },
   "outputs": [],
   "source": [
    "#end-iPython"
   ]
  },
  {
   "cell_type": "markdown",
   "metadata": {},
   "source": [
    "# run\n",
    "Function that will be executed as a thread\n",
    "doxygen-iPython"
   ]
  },
  {
   "cell_type": "code",
   "execution_count": 101,
   "metadata": {
    "collapsed": false
   },
   "outputs": [],
   "source": [
    "from IPython.display import clear_output #debug-iPython\n",
    "#eself-iPython run\n",
    "#edes-iPython def run(self):\n",
    "def run( ):\n",
    "    print 'Run:', __camera.isOpened() #debug-iPython\n",
    "    __exe = True\n",
    "    \n",
    "    if _args.camera is True:\n",
    "        cv2.namedWindow('Camera parameters')\n",
    "        cv2.createTrackbar('focus', 'Camera parameters', __observation['focus'], 250, trackbarFocus)\n",
    "    \n",
    "    while __exe:\n",
    "        if _args.camera == True or _args.camera == 'off':\n",
    "            #des-iPython os.system('clear') # Cleaning terminal\n",
    "#             clear_output()\n",
    "            start = time.time()\n",
    "        \n",
    "        ret, __observation['frame'] = __camera.read()\n",
    "        __observation['pos_tilt'] = _bkb.read_float('VISION_TILT_DEG')\n",
    "        __observation['pos_pan'] = _bkb.read_float('VISION_PAN_DEG')\n",
    "        __observation['time'] = time.localtime()\n",
    "        \n",
    "        if _args.camera == True:\n",
    "            cv2.imshow('Camera parameters', __observation['frame'])\n",
    "            if cv2.waitKey(1) & 0xFF == ord('q'):\n",
    "                _args.camera = 'off'\n",
    "                cv2.destroyAllWindows()\n",
    "#                 break #debug-iPython\n",
    "        else:\n",
    "            print \"FPS teorico:\", __observation['fps'] #debug-iPython\n",
    "            print \"Tempo espera:\", 1.0/__observation['fps'] #debug-iPython\n",
    "            time.sleep(1.0/__observation['fps']) # Camera fps\n",
    "        \n",
    "        if _args.camera == True or _args.camera == 'off':\n",
    "            diff = time.time() - start\n",
    "            print 'Diff:', diff, 'FPS medido:', 1.0/(diff) #self-iPython run"
   ]
  },
  {
   "cell_type": "code",
   "execution_count": 102,
   "metadata": {
    "collapsed": true
   },
   "outputs": [],
   "source": [
    "#ini-iPython"
   ]
  },
  {
   "cell_type": "markdown",
   "metadata": {},
   "source": [
    "## Teste run"
   ]
  },
  {
   "cell_type": "code",
   "execution_count": 103,
   "metadata": {
    "collapsed": false
   },
   "outputs": [
    {
     "name": "stdout",
     "output_type": "stream",
     "text": [
      "Run: True\n",
      "Diff: 0.305134057999 FPS medido: 3.27724806126\n",
      "Diff: 0.0418901443481 FPS medido: 23.8719635743\n",
      "Diff: 0.0274169445038 FPS medido: 36.4737945128\n",
      "Diff: 0.0277719497681 FPS medido: 36.0075546856\n",
      "Diff: 0.0337569713593 FPS medido: 29.623510633\n",
      "Diff: 0.0299739837646 FPS medido: 33.3622653516\n",
      "Diff: 0.030177116394 FPS medido: 33.1376923806\n",
      "Diff: 0.035740852356 FPS medido: 27.9791872348\n",
      "Diff: 0.030659198761 FPS medido: 32.6166384124\n",
      "Diff: 0.0299241542816 FPS medido: 33.417819952\n",
      "Diff: 0.0360100269318 FPS medido: 27.770043102\n",
      "Diff: 0.0304291248322 FPS medido: 32.8632520822\n",
      "Diff: 0.0298149585724 FPS medido: 33.5402109506\n",
      "Diff: 0.0369908809662 FPS medido: 27.0336897603\n",
      "Diff: 0.0299649238586 FPS medido: 33.3723524451\n",
      "Diff: 0.029865026474 FPS medido: 33.4839817025\n",
      "Diff: 0.0361511707306 FPS medido: 27.6616214576\n",
      "Diff: 0.0334661006927 FPS medido: 29.880983422\n",
      "Diff: 0.0276989936829 FPS medido: 36.1023946014\n",
      "Diff: 0.0342628955841 FPS medido: 29.1860913374\n",
      "Diff: 0.0336132049561 FPS medido: 29.7502127901\n",
      "Diff: 0.0280039310455 FPS medido: 35.7092723294\n",
      "Diff: 0.0375010967255 FPS medido: 26.6658867958\n",
      "Diff: 0.0307991504669 FPS medido: 32.4684280196\n",
      "Diff: 0.0304129123688 FPS medido: 32.8807707685\n",
      "Diff: 0.0357050895691 FPS medido: 28.0072116348\n",
      "Diff: 0.0308649539948 FPS medido: 32.3992059139\n",
      "Diff: 0.0306088924408 FPS medido: 32.6702445028\n",
      "Diff: 0.0340421199799 FPS medido: 29.375373819\n",
      "Diff: 0.0280020236969 FPS medido: 35.7117046548\n",
      "Diff: 0.0296041965485 FPS medido: 33.7789947571\n",
      "Diff: 0.0363569259644 FPS medido: 27.5050756761\n",
      "Diff: 0.0279109477997 FPS medido: 35.8282351132\n",
      "Diff: 0.0299708843231 FPS medido: 33.3657155131\n",
      "Diff: 0.0399861335754 FPS medido: 25.0086695207\n",
      "Diff: 0.0262069702148 FPS medido: 38.1577874818\n",
      "Diff: 0.0307850837708 FPS medido: 32.48326389\n",
      "Diff: 0.0340929031372 FPS medido: 29.3316176676\n",
      "Diff: 0.0291709899902 FPS medido: 34.2806329279\n",
      "Diff: 0.0324809551239 FPS medido: 30.7872719932\n",
      "Diff: 0.0356760025024 FPS medido: 28.0300462456\n",
      "Diff: 0.0296850204468 FPS medido: 33.687024127\n",
      "Diff: 0.0310201644897 FPS medido: 32.2370953362\n",
      "Diff: 0.0341210365295 FPS medido: 29.307433235\n",
      "Diff: 0.0321109294891 FPS medido: 31.142044653\n",
      "Diff: 0.028263092041 FPS medido: 35.3818329059\n",
      "Diff: 0.0355668067932 FPS medido: 28.1161029106\n",
      "Diff: 0.0339670181274 FPS medido: 29.4403234411\n",
      "Diff: 0.0317780971527 FPS medido: 31.4682152048\n",
      "Diff: 0.0411710739136 FPS medido: 24.2888976396\n",
      "Diff: 0.0230510234833 FPS medido: 43.3820216584\n",
      "Diff: 0.0343210697174 FPS medido: 29.1366209805\n",
      "Diff: 0.0379168987274 FPS medido: 26.3734649605\n",
      "Diff: 0.0291981697083 FPS medido: 34.2487220943\n",
      "Diff: 0.0306351184845 FPS medido: 32.6422762329\n",
      "Diff: 0.0347909927368 FPS medido: 28.743071736\n",
      "Diff: 0.0277628898621 FPS medido: 36.0193050856\n",
      "Diff: 0.0255491733551 FPS medido: 39.1402095912\n",
      "Diff: 0.0350589752197 FPS medido: 28.5233665198\n",
      "Diff: 0.0304000377655 FPS medido: 32.8946959775\n",
      "Diff: 0.0337469577789 FPS medido: 29.6323006818\n",
      "Diff: 0.030837059021 FPS medido: 32.4285139941\n",
      "Diff: 0.0306429862976 FPS medido: 32.6338950874\n",
      "Diff: 0.031280040741 FPS medido: 31.9692678242\n",
      "Diff: 0.0337569713593 FPS medido: 29.623510633\n",
      "Diff: 0.0288269519806 FPS medido: 34.6897584134\n",
      "Diff: 0.0353019237518 FPS medido: 28.3270681516\n",
      "Diff: 0.0381479263306 FPS medido: 26.2137446564\n",
      "Diff: 0.0252220630646 FPS medido: 39.6478272788\n",
      "Diff: 0.0338900089264 FPS medido: 29.5072214992\n",
      "Diff: 0.0316190719604 FPS medido: 31.626481677\n",
      "Diff: 0.0298418998718 FPS medido: 33.5099308119\n",
      "Diff: 0.0331580638885 FPS medido: 30.1585763077\n",
      "Diff: 0.0349469184875 FPS medido: 28.6148262359\n",
      "Diff: 0.0315999984741 FPS medido: 31.6455711483\n",
      "Diff: 0.0273549556732 FPS medido: 36.5564474659\n",
      "Diff: 0.0364911556244 FPS medido: 27.4039005586\n",
      "Diff: 0.0311648845673 FPS medido: 32.0873962437\n",
      "Diff: 0.0279059410095 FPS medido: 35.8346632948\n",
      "Diff: 0.0363869667053 FPS medido: 27.4823677417\n",
      "Diff: 0.0291111469269 FPS medido: 34.3511027756\n",
      "Diff: 0.0372221469879 FPS medido: 26.8657259433\n",
      "Diff: 0.028272151947 FPS medido: 35.3704946788\n",
      "Diff: 0.0337159633636 FPS medido: 29.6595410671\n",
      "Diff: 0.0287520885468 FPS medido: 34.780082093\n",
      "Diff: 0.0365750789642 FPS medido: 27.3410209443\n",
      "Diff: 0.029923915863 FPS medido: 33.4180862083\n",
      "Diff: 0.031457901001 FPS medido: 31.7885163403\n",
      "Diff: 0.0359032154083 FPS medido: 27.8526585607\n",
      "Diff: 0.0302729606628 FPS medido: 33.0327783641\n",
      "Diff: 0.0289318561554 FPS medido: 34.5639766294\n",
      "Diff: 0.0330889225006 FPS medido: 30.2215945527\n",
      "Diff: 0.0299320220947 FPS medido: 33.4090358759\n",
      "Diff: 0.031270980835 FPS medido: 31.9785300396\n",
      "Diff: 0.0341148376465 FPS medido: 29.3127585821\n",
      "Diff: 0.0288171768188 FPS medido: 34.7015256313\n",
      "Diff: 0.0312628746033 FPS medido: 31.9868218355\n",
      "Diff: 0.0342397689819 FPS medido: 29.2058045289\n",
      "Diff: 0.031182050705 FPS medido: 32.0697317012\n",
      "Diff: 0.0297009944916 FPS medido: 33.6689062814\n",
      "Diff: 0.0352799892426 FPS medido: 28.3446798446\n",
      "Diff: 0.028697013855 FPS medido: 34.8468312785\n",
      "Diff: 0.0352680683136 FPS medido: 28.354260605\n",
      "Diff: 0.029746055603 FPS medido: 33.6179026001\n",
      "Diff: 0.0293838977814 FPS medido: 34.0322447158\n",
      "Diff: 0.0306539535522 FPS medido: 32.6222194568\n",
      "Diff: 0.0351989269257 FPS medido: 28.4099569885\n",
      "Diff: 0.0355331897736 FPS medido: 28.1427028188\n",
      "Diff: 0.025053024292 FPS medido: 39.9153406928\n",
      "Diff: 0.036700963974 FPS medido: 27.2472407185\n",
      "Diff: 0.0320270061493 FPS medido: 31.223649046\n",
      "Diff: 0.0267479419708 FPS medido: 37.3860538912\n",
      "Diff: 0.0351979732513 FPS medido: 28.4107267444\n",
      "Diff: 0.0356271266937 FPS medido: 28.0684998427\n",
      "Diff: 0.0278379917145 FPS medido: 35.9221315336\n",
      "Diff: 0.0332000255585 FPS medido: 30.12045874\n",
      "Diff: 0.0291590690613 FPS medido: 34.2946476754\n",
      "Diff: 0.0306358337402 FPS medido: 32.6415141327\n",
      "Diff: 0.0366559028625 FPS medido: 27.280735759\n",
      "Diff: 0.0283451080322 FPS medido: 35.279456295\n",
      "Diff: 0.0311789512634 FPS medido: 32.0729196935\n",
      "Diff: 0.0359201431274 FPS medido: 27.8395327227\n",
      "Diff: 0.0269501209259 FPS medido: 37.105584897\n",
      "Diff: 0.0322840213776 FPS medido: 30.975075512\n",
      "Diff: 0.0338129997253 FPS medido: 29.5744242783\n",
      "Diff: 0.0321068763733 FPS medido: 31.1459759702\n",
      "Diff: 0.0286109447479 FPS medido: 34.9516595418\n",
      "Diff: 0.0369501113892 FPS medido: 27.0635178733\n",
      "Diff: 0.036257982254 FPS medido: 27.580133748\n",
      "Diff: 0.0255401134491 FPS medido: 39.1540938921\n",
      "Diff: 0.0358190536499 FPS medido: 27.9181021859\n",
      "Diff: 0.0294349193573 FPS medido: 33.9732542787\n",
      "Diff: 0.0309979915619 FPS medido: 32.2601545975\n",
      "Diff: 0.0351159572601 FPS medido: 28.4770821593\n",
      "Diff: 0.0306680202484 FPS medido: 32.6072564156\n",
      "Diff: 0.0307569503784 FPS medido: 32.5129763418\n",
      "Diff: 0.0328199863434 FPS medido: 30.4692387601\n",
      "Diff: 0.0308501720428 FPS medido: 32.41473009\n",
      "Diff: 0.028589963913 FPS medido: 34.9773089272\n",
      "Diff: 0.0361452102661 FPS medido: 27.6661829503\n",
      "Diff: 0.0310990810394 FPS medido: 32.1552909789\n",
      "Diff: 0.0290679931641 FPS medido: 34.4020997375\n",
      "Diff: 0.0375871658325 FPS medido: 26.6048258189\n",
      "Diff: 0.0313811302185 FPS medido: 31.866283752\n",
      "Diff: 0.0292971134186 FPS medido: 34.1330555578\n",
      "Diff: 0.0401010513306 FPS medido: 24.937002069\n",
      "Diff: 0.0260448455811 FPS medido: 38.3953130721\n",
      "Diff: 0.0299451351166 FPS medido: 33.3944060064\n",
      "Diff: 0.0374820232391 FPS medido: 26.6794562721\n",
      "Diff: 0.0320830345154 FPS medido: 31.169121472\n",
      "Diff: 0.0270659923553 FPS medido: 36.9467332611\n",
      "Diff: 0.0365779399872 FPS medido: 27.338882407\n",
      "Diff: 0.0284099578857 FPS medido: 35.198925814\n",
      "Diff: 0.0300309658051 FPS medido: 33.2989623608\n",
      "Diff: 0.0365920066833 FPS medido: 27.3283727961\n",
      "Diff: 0.0296709537506 FPS medido: 33.7029948011\n",
      "Diff: 0.0278060436249 FPS medido: 35.9634047005\n",
      "Diff: 0.0361988544464 FPS medido: 27.6251835947\n",
      "Diff: 0.0285401344299 FPS medido: 35.0383773579\n",
      "Diff: 0.0296468734741 FPS medido: 33.7303696079\n",
      "Diff: 0.0409867763519 FPS medido: 24.3981129771\n",
      "Diff: 0.028843164444 FPS medido: 34.6702596361\n",
      "Diff: 0.0277540683746 FPS medido: 36.0307536359\n",
      "Diff: 0.0376441478729 FPS medido: 26.5645540278\n",
      "Diff: 0.0309109687805 FPS medido: 32.3509757038\n",
      "Diff: 0.0275850296021 FPS medido: 36.2515471046\n",
      "Diff: 0.0353188514709 FPS medido: 28.3134914742\n",
      "Diff: 0.037055015564 FPS medido: 26.9869000129\n",
      "Diff: 0.0271339416504 FPS medido: 36.8542106003\n",
      "Diff: 0.034038066864 FPS medido: 29.3788717202\n",
      "Diff: 0.0297079086304 FPS medido: 33.6610702706\n",
      "Diff: 0.0315959453583 FPS medido: 31.6496306302\n",
      "Diff: 0.0346751213074 FPS medido: 28.83912045\n",
      "Diff: 0.0311949253082 FPS medido: 32.0564960525\n",
      "Diff: 0.0304038524628 FPS medido: 32.8905687601\n",
      "Diff: 0.0299479961395 FPS medido: 33.3912157375\n",
      "Diff: 0.0295059680939 FPS medido: 33.8914485645\n",
      "Diff: 0.0330281257629 FPS medido: 30.2772251498\n",
      "Diff: 0.0344219207764 FPS medido: 29.0512550562\n",
      "Diff: 0.0294990539551 FPS medido: 33.8993922152\n",
      "Diff: 0.0296921730042 FPS medido: 33.6789092486\n",
      "Diff: 0.0373620986938 FPS medido: 26.765091763\n",
      "Diff: 0.0293390750885 FPS medido: 34.0842373859\n",
      "Diff: 0.0291368961334 FPS medido: 34.3207456079\n",
      "Diff: 0.0354659557343 FPS medido: 28.1960539142\n",
      "Diff: 0.030305147171 FPS medido: 32.9976948918\n",
      "Diff: 0.0302648544312 FPS medido: 33.041625965\n",
      "Diff: 0.0327060222626 FPS medido: 30.5754087725\n",
      "Diff: 0.0318109989166 FPS medido: 31.4356679783\n",
      "Diff: 0.029326915741 FPS medido: 34.0983691852\n",
      "Diff: 0.0322911739349 FPS medido: 30.9682144729\n",
      "Diff: 0.0298821926117 FPS medido: 33.4647464794\n",
      "Diff: 0.0332081317902 FPS medido: 30.1131062211\n",
      "Diff: 0.0317120552063 FPS medido: 31.5337493422\n",
      "Diff: 0.0296080112457 FPS medido: 33.7746426702\n",
      "Diff: 0.0285928249359 FPS medido: 34.9738090672\n",
      "Diff: 0.0337810516357 FPS medido: 29.6023939924\n",
      "Diff: 0.0304851531982 FPS medido: 32.8028530313\n",
      "Diff: 0.0299739837646 FPS medido: 33.3622653516\n",
      "Diff: 0.0322170257568 FPS medido: 31.039488485\n",
      "FPS teorico: 30\n",
      "Tempo espera: 0.0333333333333\n",
      "Diff: 0.0577671527863 FPS medido: 17.3108756753\n",
      "FPS teorico: 30\n",
      "Tempo espera: 0.0333333333333\n",
      "Diff: 0.0393540859222 FPS medido: 25.4103221194\n",
      "FPS teorico: 30\n",
      "Tempo espera: 0.0333333333333\n",
      "Diff: 0.0365340709686 FPS medido: 27.3717101184\n",
      "FPS teorico: 30\n",
      "Tempo espera: 0.0333333333333\n",
      "Diff: 0.0369389057159 FPS medido: 27.0717277791\n",
      "FPS teorico: 30\n",
      "Tempo espera: 0.0333333333333\n",
      "Diff: 0.0365550518036 FPS medido: 27.3560000783\n",
      "FPS teorico: 30\n",
      "Tempo espera: 0.0333333333333\n",
      "Diff: 0.0382091999054 FPS medido: 26.1717074023\n",
      "FPS teorico: 30\n",
      "Tempo espera: 0.0333333333333\n",
      "Diff: 0.0366199016571 FPS medido: 27.3075555845\n",
      "FPS teorico: 30\n",
      "Tempo espera: 0.0333333333333\n",
      "Diff: 0.0387988090515 FPS medido: 25.7739869972\n",
      "FPS teorico: 30\n",
      "Tempo espera: 0.0333333333333\n",
      "Diff: 0.0365180969238 FPS medido: 27.3836832759\n",
      "FPS teorico: 30\n",
      "Tempo espera: 0.0333333333333\n",
      "Diff: 0.0395951271057 FPS medido: 25.2556330311\n",
      "FPS teorico: 30\n",
      "Tempo espera: 0.0333333333333\n",
      "Diff: 0.03662109375 FPS medido: 27.3066666667\n",
      "FPS teorico: 30\n",
      "Tempo espera: 0.0333333333333\n",
      "Diff: 0.0366749763489 FPS medido: 27.2665479178\n",
      "FPS teorico: 30\n",
      "Tempo espera: 0.0333333333333\n",
      "Diff: 0.0365831851959 FPS medido: 27.3349626241\n",
      "FPS teorico: 30\n",
      "Tempo espera: 0.0333333333333\n",
      "Diff: 0.0380108356476 FPS medido: 26.3082877017\n",
      "FPS teorico: 30\n",
      "Tempo espera: 0.0333333333333\n",
      "Diff: 0.0365271568298 FPS medido: 27.3768912445\n",
      "FPS teorico: 30\n",
      "Tempo espera: 0.0333333333333\n",
      "Diff: 0.0365109443665 FPS medido: 27.389047787\n",
      "FPS teorico: 30\n",
      "Tempo espera: 0.0333333333333\n",
      "Diff: 0.0366370677948 FPS medido: 27.2947607489\n",
      "FPS teorico: 30\n",
      "Tempo espera: 0.0333333333333\n",
      "Diff: 0.037337064743 FPS medido: 26.783037362\n",
      "FPS teorico: 30\n",
      "Tempo espera: 0.0333333333333\n",
      "Diff: 0.0366680622101 FPS medido: 27.2716893047\n",
      "FPS teorico: 30\n",
      "Tempo espera: 0.0333333333333\n",
      "Diff: 0.0414819717407 FPS medido: 24.1068579442\n",
      "FPS teorico: 30\n",
      "Tempo espera: 0.0333333333333\n",
      "Diff: 0.0365710258484 FPS medido: 27.3440511115\n",
      "FPS teorico: 30\n",
      "Tempo espera: 0.0333333333333\n",
      "Diff: 0.0377180576324 FPS medido: 26.512499921\n",
      "FPS teorico: 30\n",
      "Tempo espera: 0.0333333333333\n",
      "Diff: 0.0365169048309 FPS medido: 27.3845772151\n",
      "FPS teorico: 30\n",
      "Tempo espera: 0.0333333333333\n",
      "Diff: 0.0365362167358 FPS medido: 27.3701025815\n",
      "FPS teorico: 30\n",
      "Tempo espera: 0.0333333333333\n",
      "Diff: 0.0364830493927 FPS medido: 27.4099894786\n",
      "FPS teorico: 30\n",
      "Tempo espera: 0.0333333333333\n",
      "Diff: 0.0368220806122 FPS medido: 27.1576180209\n",
      "FPS teorico: 30\n",
      "Tempo espera: 0.0333333333333\n",
      "Diff: 0.0365221500397 FPS medido: 27.380644319\n",
      "FPS teorico: 30\n",
      "Tempo espera: 0.0333333333333\n",
      "Diff: 0.0363938808441 FPS medido: 27.4771466193\n",
      "FPS teorico: 30\n",
      "Tempo espera: 0.0333333333333\n",
      "Diff: 0.0366108417511 FPS medido: 27.3143132518\n",
      "FPS teorico: 30\n",
      "Tempo espera: 0.0333333333333\n",
      "Diff: 0.0397951602936 FPS medido: 25.1286838053\n",
      "FPS teorico: 30\n",
      "Tempo espera: 0.0333333333333\n",
      "Diff: 0.0366427898407 FPS medido: 27.2904984677\n",
      "FPS teorico: 30\n",
      "Tempo espera: 0.0333333333333\n",
      "Diff: 0.0392751693726 FPS medido: 25.4613796955\n",
      "FPS teorico: 30\n",
      "Tempo espera: 0.0333333333333\n",
      "Diff: 0.0365278720856 FPS medido: 27.376355175\n",
      "FPS teorico: 30\n",
      "Tempo espera: 0.0333333333333\n",
      "Diff: 0.0401570796967 FPS medido: 24.9022092133\n",
      "FPS teorico: 30\n",
      "Tempo espera: 0.0333333333333\n",
      "Diff: 0.0365779399872 FPS medido: 27.338882407\n",
      "FPS teorico: 30\n",
      "Tempo espera: 0.0333333333333\n",
      "Diff: 0.0363340377808 FPS medido: 27.5224021628\n",
      "FPS teorico: 30\n",
      "Tempo espera: 0.0333333333333\n",
      "Diff: 0.0364968776703 FPS medido: 27.399604126\n",
      "FPS teorico: 30\n",
      "Tempo espera: 0.0333333333333\n",
      "Diff: 0.0388679504395 FPS medido: 25.7281381882\n",
      "FPS teorico: 30\n",
      "Tempo espera: 0.0333333333333\n",
      "Diff: 0.0365989208221 FPS medido: 27.3232100165\n",
      "FPS teorico: 30\n",
      "Tempo espera: 0.0333333333333\n",
      "Diff: 0.0367519855499 FPS medido: 27.209414268\n",
      "FPS teorico: 30\n",
      "Tempo espera: 0.0333333333333\n",
      "Diff: 0.0366899967194 FPS medido: 27.2553853752\n",
      "FPS teorico: 30\n",
      "Tempo espera: 0.0333333333333\n",
      "Diff: 0.0399539470673 FPS medido: 25.0288162598\n",
      "FPS teorico: 30\n",
      "Tempo espera: 0.0333333333333\n",
      "Diff: 0.0365600585938 FPS medido: 27.3522537563\n",
      "FPS teorico: 30\n",
      "Tempo espera: 0.0333333333333\n",
      "Diff: 0.0381119251251 FPS medido: 26.238506628\n",
      "FPS teorico: 30\n",
      "Tempo espera: 0.0333333333333\n",
      "Diff: 0.0365269184113 FPS medido: 27.377069939\n",
      "FPS teorico: 30\n",
      "Tempo espera: 0.0333333333333\n",
      "Diff: 0.0390820503235 FPS medido: 25.5871939093\n",
      "FPS teorico: 30\n",
      "Tempo espera: 0.0333333333333\n",
      "Diff: 0.0365090370178 FPS medido: 27.3904786782\n",
      "FPS teorico: 30\n",
      "Tempo espera: 0.0333333333333\n",
      "Diff: 0.0365219116211 FPS medido: 27.3808230625\n",
      "FPS teorico: 30\n",
      "Tempo espera: 0.0333333333333\n",
      "Diff: 0.036660194397 FPS medido: 27.2775422075\n",
      "FPS teorico: 30\n",
      "Tempo espera: 0.0333333333333\n",
      "Diff: 0.0404379367828 FPS medido: 24.7292537542\n",
      "FPS teorico: 30\n",
      "Tempo espera: 0.0333333333333\n",
      "Diff: 0.0363581180573 FPS medido: 27.5041738526\n",
      "FPS teorico: 30\n",
      "Tempo espera: 0.0333333333333\n",
      "Diff: 0.0365328788757 FPS medido: 27.3726032761\n",
      "FPS teorico: 30\n",
      "Tempo espera: 0.0333333333333\n",
      "Diff: 0.0365269184113 FPS medido: 27.377069939\n",
      "FPS teorico: 30\n",
      "Tempo espera: 0.0333333333333\n",
      "Diff: 0.0380790233612 FPS medido: 26.2611777228\n",
      "FPS teorico: 30\n",
      "Tempo espera: 0.0333333333333\n",
      "Diff: 0.0365970134735 FPS medido: 27.3246340367\n",
      "FPS teorico: 30\n",
      "Tempo espera: 0.0333333333333\n",
      "Diff: 0.0377581119537 FPS medido: 26.4843750987\n",
      "FPS teorico: 30\n",
      "Tempo espera: 0.0333333333333\n",
      "Diff: 0.0367159843445 FPS medido: 27.2360939752\n",
      "FPS teorico: 30\n",
      "Tempo espera: 0.0333333333333\n",
      "Diff: 0.0365419387817 FPS medido: 27.3658167393\n",
      "FPS teorico: 30\n",
      "Tempo espera: 0.0333333333333\n",
      "Diff: 0.0365369319916 FPS medido: 27.3695667778\n",
      "FPS teorico: 30\n",
      "Tempo espera: 0.0333333333333\n",
      "Diff: 0.0365781784058 FPS medido: 27.3387042107\n",
      "FPS teorico: 30\n",
      "Tempo espera: 0.0333333333333\n",
      "Diff: 0.0366079807281 FPS medido: 27.3164479469\n",
      "FPS teorico: 30\n",
      "Tempo espera: 0.0333333333333\n",
      "Diff: 0.0411689281464 FPS medido: 24.2901636021\n",
      "FPS teorico: 30\n",
      "Tempo espera: 0.0333333333333\n",
      "Diff: 0.0365829467773 FPS medido: 27.3351407716\n",
      "FPS teorico: 30\n",
      "Tempo espera: 0.0333333333333\n",
      "Diff: 0.0366311073303 FPS medido: 27.2992020411\n",
      "FPS teorico: 30\n",
      "Tempo espera: 0.0333333333333\n",
      "Diff: 0.036591053009 FPS medido: 27.3290850568\n",
      "FPS teorico: 30\n",
      "Tempo espera: 0.0333333333333\n",
      "Diff: 0.0366458892822 FPS medido: 27.2881902878\n",
      "FPS teorico: 30\n",
      "Tempo espera: 0.0333333333333\n",
      "Diff: 0.0367200374603 FPS medido: 27.2330876863\n",
      "FPS teorico: 30\n",
      "Tempo espera: 0.0333333333333\n",
      "Diff: 0.0394840240479 FPS medido: 25.3266991933\n",
      "FPS teorico: 30\n",
      "Tempo espera: 0.0333333333333\n",
      "Diff: 0.0366070270538 FPS medido: 27.317159586\n",
      "FPS teorico: 30\n",
      "Tempo espera: 0.0333333333333\n",
      "Diff: 0.0364079475403 FPS medido: 27.4665304572\n",
      "FPS teorico: 30\n",
      "Tempo espera: 0.0333333333333\n",
      "Diff: 0.0365340709686 FPS medido: 27.3717101184\n",
      "FPS teorico: 30\n",
      "Tempo espera: 0.0333333333333\n",
      "Diff: 0.036835193634 FPS medido: 27.1479501353\n",
      "FPS teorico: 30\n",
      "Tempo espera: 0.0333333333333\n",
      "Diff: 0.0365290641785 FPS medido: 27.3754617724\n",
      "FPS teorico: 30\n",
      "Tempo espera: 0.0333333333333\n",
      "Diff: 0.0392301082611 FPS medido: 25.4906255508\n",
      "FPS teorico: 30\n",
      "Tempo espera: 0.0333333333333\n",
      "Diff: 0.0367970466614 FPS medido: 27.1760940274\n",
      "FPS teorico: 30\n",
      "Tempo espera: 0.0333333333333\n",
      "Diff: 0.0365419387817 FPS medido: 27.3658167393\n",
      "FPS teorico: 30\n",
      "Tempo espera: 0.0333333333333\n",
      "Diff: 0.0367558002472 FPS medido: 27.2065903415\n",
      "FPS teorico: 30\n",
      "Tempo espera: 0.0333333333333\n",
      "Diff: 0.038477897644 FPS medido: 25.9889458944\n",
      "FPS teorico: 30\n",
      "Tempo espera: 0.0333333333333\n",
      "Diff: 0.0367300510406 FPS medido: 27.2256632285\n",
      "FPS teorico: 30\n",
      "Tempo espera: 0.0333333333333\n",
      "Diff: 0.0401809215546 FPS medido: 24.8874331725\n",
      "FPS teorico: 30\n",
      "Tempo espera: 0.0333333333333\n",
      "Diff: 0.0366129875183 FPS medido: 27.3127124494\n",
      "FPS teorico: 30\n",
      "Tempo espera: 0.0333333333333\n",
      "Diff: 0.0366630554199 FPS medido: 27.2754135886\n",
      "FPS teorico: 30\n",
      "Tempo espera: 0.0333333333333\n",
      "Diff: 0.0366308689117 FPS medido: 27.2993797229\n",
      "FPS teorico: 30\n",
      "Tempo espera: 0.0333333333333\n",
      "Diff: 0.0366539955139 FPS medido: 27.2821553552\n",
      "FPS teorico: 30\n",
      "Tempo espera: 0.0333333333333\n",
      "Diff: 0.0366158485413 FPS medido: 27.310578338\n",
      "FPS teorico: 30\n",
      "Tempo espera: 0.0333333333333\n",
      "Diff: 0.0367271900177 FPS medido: 27.2277840891\n",
      "FPS teorico: 30\n",
      "Tempo espera: 0.0333333333333\n",
      "Diff: 0.03671002388 FPS medido: 27.2405161944\n",
      "FPS teorico: 30\n",
      "Tempo espera: 0.0333333333333\n",
      "Diff: 0.0367460250854 FPS medido: 27.2138278269\n",
      "FPS teorico: 30\n",
      "Tempo espera: 0.0333333333333\n",
      "Diff: 0.0366389751434 FPS medido: 27.2933398406\n",
      "FPS teorico: 30\n",
      "Tempo espera: 0.0333333333333\n",
      "Diff: 0.036602973938 FPS medido: 27.3201844663\n",
      "FPS teorico: 30\n",
      "Tempo espera: 0.0333333333333\n",
      "Diff: 0.0365419387817 FPS medido: 27.3658167393\n",
      "FPS teorico: 30\n",
      "Tempo espera: 0.0333333333333\n",
      "Diff: 0.0377371311188 FPS medido: 26.4990997024\n",
      "FPS teorico: 30\n",
      "Tempo espera: 0.0333333333333\n",
      "Diff: 0.036700963974 FPS medido: 27.2472407185\n",
      "FPS teorico: 30\n",
      "Tempo espera: 0.0333333333333\n",
      "Diff: 0.0382812023163 FPS medido: 26.1224815182\n",
      "FPS teorico: 30\n",
      "Tempo espera: 0.0333333333333\n",
      "Diff: 0.0366759300232 FPS medido: 27.2658389131\n",
      "FPS teorico: 30\n",
      "Tempo espera: 0.0333333333333\n",
      "Diff: 0.0366308689117 FPS medido: 27.2993797229\n",
      "FPS teorico: 30\n",
      "Tempo espera: 0.0333333333333\n",
      "Diff: 0.0367131233215 FPS medido: 27.2382164612\n",
      "FPS teorico: 30\n",
      "Tempo espera: 0.0333333333333\n",
      "Diff: 0.0389888286591 FPS medido: 25.6483724798\n",
      "FPS teorico: 30\n",
      "Tempo espera: 0.0333333333333\n",
      "Diff: 0.0364961624146 FPS medido: 27.4001411064\n",
      "FPS teorico: 30\n",
      "Tempo espera: 0.0333333333333\n",
      "Diff: 0.0366339683533 FPS medido: 27.2970700405\n",
      "FPS teorico: 30\n",
      "Tempo espera: 0.0333333333333\n",
      "Diff: 0.0366740226746 FPS medido: 27.2672569593\n",
      "FPS teorico: 30\n",
      "Tempo espera: 0.0333333333333\n",
      "Diff: 0.03981590271 FPS medido: 25.1155928144\n",
      "FPS teorico: 30\n",
      "Tempo espera: 0.0333333333333\n",
      "Diff: 0.0366170406342 FPS medido: 27.3096892234\n",
      "FPS teorico: 30\n",
      "Tempo espera: 0.0333333333333\n",
      "Diff: 0.0377399921417 FPS medido: 26.4970908379\n",
      "FPS teorico: 30\n",
      "Tempo espera: 0.0333333333333\n",
      "Diff: 0.0367789268494 FPS medido: 27.1894828279\n",
      "FPS teorico: 30\n",
      "Tempo espera: 0.0333333333333\n",
      "Diff: 0.0373349189758 FPS medido: 26.784576676\n",
      "FPS teorico: 30\n",
      "Tempo espera: 0.0333333333333\n",
      "Diff: 0.0366489887238 FPS medido: 27.2858824984\n",
      "FPS teorico: 30\n",
      "Tempo espera: 0.0333333333333\n",
      "Diff: 0.036810874939 FPS medido: 27.1658851266\n",
      "FPS teorico: 30\n",
      "Tempo espera: 0.0333333333333\n",
      "Diff: 0.0364630222321 FPS medido: 27.4250442993\n",
      "FPS teorico: 30\n",
      "Tempo espera: 0.0333333333333\n",
      "Diff: 0.0407819747925 FPS medido: 24.5206369993\n",
      "FPS teorico: 30\n",
      "Tempo espera: 0.0333333333333\n",
      "Diff: 0.0367069244385 FPS medido: 27.2428163159\n",
      "FPS teorico: 30\n",
      "Tempo espera: 0.0333333333333\n",
      "Diff: 0.0365700721741 FPS medido: 27.3447641897\n",
      "FPS teorico: 30\n",
      "Tempo espera: 0.0333333333333\n",
      "Diff: 0.0367970466614 FPS medido: 27.1760940274\n",
      "FPS teorico: 30\n",
      "Tempo espera: 0.0333333333333\n",
      "Diff: 0.0369780063629 FPS medido: 27.0431020587\n",
      "FPS teorico: 30\n",
      "Tempo espera: 0.0333333333333\n",
      "Diff: 0.0367290973663 FPS medido: 27.2263701453\n",
      "FPS teorico: 30\n",
      "Tempo espera: 0.0333333333333\n",
      "Diff: 0.0398979187012 FPS medido: 25.0639640501\n",
      "FPS teorico: 30\n",
      "Tempo espera: 0.0333333333333\n",
      "Diff: 0.0368759632111 FPS medido: 27.1179357208\n",
      "FPS teorico: 30\n",
      "Tempo espera: 0.0333333333333\n",
      "Diff: 0.0367889404297 FPS medido: 27.1820821236\n",
      "FPS teorico: 30\n",
      "Tempo espera: 0.0333333333333\n",
      "Diff: 0.0364210605621 FPS medido: 27.4566414203\n",
      "FPS teorico: 30\n",
      "Tempo espera: 0.0333333333333\n",
      "Diff: 0.0365829467773 FPS medido: 27.3351407716\n",
      "FPS teorico: 30\n",
      "Tempo espera: 0.0333333333333\n",
      "Diff: 0.0367319583893 FPS medido: 27.2242495051\n",
      "FPS teorico: 30\n",
      "Tempo espera: 0.0333333333333\n",
      "Diff: 0.0399959087372 FPS medido: 25.0025573008\n",
      "FPS teorico: 30\n",
      "Tempo espera: 0.0333333333333\n",
      "Diff: 0.036493062973 FPS medido: 27.4024682647\n",
      "FPS teorico: 30\n",
      "Tempo espera: 0.0333333333333\n",
      "Diff: 0.0365769863129 FPS medido: 27.3395952156\n",
      "FPS teorico: 30\n",
      "Tempo espera: 0.0333333333333\n",
      "Diff: 0.0365900993347 FPS medido: 27.3297973545\n",
      "FPS teorico: 30\n",
      "Tempo espera: 0.0333333333333\n",
      "Diff: 0.0368399620056 FPS medido: 27.1444362469\n",
      "FPS teorico: 30\n",
      "Tempo espera: 0.0333333333333\n",
      "Diff: 0.0366940498352 FPS medido: 27.2523748262\n",
      "FPS teorico: 30\n",
      "Tempo espera: 0.0333333333333\n",
      "Diff: 0.0397770404816 FPS medido: 25.1401307863\n",
      "FPS teorico: 30\n",
      "Tempo espera: 0.0333333333333\n",
      "Diff: 0.0366508960724 FPS medido: 27.2844625142\n",
      "FPS teorico: 30\n",
      "Tempo espera: 0.0333333333333\n",
      "Diff: 0.0372858047485 FPS medido: 26.8198583011\n",
      "FPS teorico: 30\n",
      "Tempo espera: 0.0333333333333\n",
      "Diff: 0.0372929573059 FPS medido: 26.8147144191\n",
      "FPS teorico: 30\n",
      "Tempo espera: 0.0333333333333\n",
      "Diff: 0.0365660190582 FPS medido: 27.3477951868\n",
      "FPS teorico: 30\n",
      "Tempo espera: 0.0333333333333\n",
      "Diff: 0.0366590023041 FPS medido: 27.2784292302\n",
      "FPS teorico: 30\n",
      "Tempo espera: 0.0333333333333\n",
      "Diff: 0.0382091999054 FPS medido: 26.1717074023\n",
      "FPS teorico: 30\n",
      "Tempo espera: 0.0333333333333\n",
      "Diff: 0.037456035614 FPS medido: 26.6979669259\n",
      "FPS teorico: 30\n",
      "Tempo espera: 0.0333333333333\n",
      "Diff: 0.0366878509521 FPS medido: 27.2569794645\n",
      "FPS teorico: 30\n",
      "Tempo espera: 0.0333333333333\n",
      "Diff: 0.0366711616516 FPS medido: 27.2693843053\n",
      "FPS teorico: 30\n",
      "Tempo espera: 0.0333333333333\n",
      "Diff: 0.0365610122681 FPS medido: 27.3515402875\n",
      "FPS teorico: 30\n",
      "Tempo espera: 0.0333333333333\n",
      "Diff: 0.0365390777588 FPS medido: 27.3679594926\n",
      "FPS teorico: 30\n",
      "Tempo espera: 0.0333333333333\n",
      "Diff: 0.0384631156921 FPS medido: 25.9989338358\n",
      "FPS teorico: 30\n",
      "Tempo espera: 0.0333333333333\n",
      "Diff: 0.0399739742279 FPS medido: 25.0162766979\n",
      "FPS teorico: 30\n",
      "Tempo espera: 0.0333333333333\n",
      "Diff: 0.0367269515991 FPS medido: 27.2279608424\n",
      "FPS teorico: 30\n",
      "Tempo espera: 0.0333333333333\n",
      "Diff: 0.0375831127167 FPS medido: 26.6076949916\n",
      "FPS teorico: 30\n",
      "Tempo espera: 0.0333333333333\n",
      "Diff: 0.0369110107422 FPS medido: 27.0921868541\n",
      "FPS teorico: 30\n",
      "Tempo espera: 0.0333333333333\n",
      "Diff: 0.0376539230347 FPS medido: 26.5576577261\n",
      "FPS teorico: 30\n",
      "Tempo espera: 0.0333333333333\n",
      "Diff: 0.0380718708038 FPS medido: 26.2661114068\n",
      "FPS teorico: 30\n",
      "Tempo espera: 0.0333333333333\n",
      "Diff: 0.0384819507599 FPS medido: 25.9862086057\n",
      "FPS teorico: 30\n",
      "Tempo espera: 0.0333333333333\n",
      "Diff: 0.0371530056 FPS medido: 26.9157228023\n",
      "FPS teorico: 30\n",
      "Tempo espera: 0.0333333333333\n",
      "Diff: 0.0366010665894 FPS medido: 27.3216081711\n",
      "FPS teorico: 30\n",
      "Tempo espera: 0.0333333333333\n",
      "Diff: 0.0365960597992 FPS medido: 27.3253461025\n",
      "FPS teorico: 30\n",
      "Tempo espera: 0.0333333333333\n",
      "Diff: 0.0400021076202 FPS medido: 24.9986828068\n",
      "FPS teorico: 30\n",
      "Tempo espera: 0.0333333333333\n",
      "Diff: 0.0385448932648 FPS medido: 25.9437740074\n",
      "FPS teorico: 30\n",
      "Tempo espera: 0.0333333333333\n",
      "Diff: 0.0365369319916 FPS medido: 27.3695667778\n",
      "FPS teorico: 30\n",
      "Tempo espera: 0.0333333333333\n",
      "Diff: 0.0396711826324 FPS medido: 25.2072142458\n",
      "FPS teorico: 30\n",
      "Tempo espera: 0.0333333333333\n",
      "Diff: 0.0370609760284 FPS medido: 26.9825597478\n",
      "FPS teorico: 30\n",
      "Tempo espera: 0.0333333333333\n",
      "Diff: 0.0368218421936 FPS medido: 27.1577938644\n",
      "FPS teorico: 30\n",
      "Tempo espera: 0.0333333333333\n",
      "Diff: 0.0370860099792 FPS medido: 26.9643458695\n",
      "FPS teorico: 30\n",
      "Tempo espera: 0.0333333333333\n",
      "Diff: 0.0371811389923 FPS medido: 26.8953568154\n",
      "FPS teorico: 30\n",
      "Tempo espera: 0.0333333333333\n",
      "Diff: 0.0366840362549 FPS medido: 27.2598138616\n",
      "FPS teorico: 30\n",
      "Tempo espera: 0.0333333333333\n",
      "Diff: 0.0369801521301 FPS medido: 27.0415328872\n",
      "FPS teorico: 30\n",
      "Tempo espera: 0.0333333333333\n",
      "Diff: 0.0382499694824 FPS medido: 26.1438117084\n",
      "FPS teorico: 30\n",
      "Tempo espera: 0.0333333333333\n",
      "Diff: 0.0369668006897 FPS medido: 27.0512995808\n",
      "FPS teorico: 30\n",
      "Tempo espera: 0.0333333333333\n",
      "Diff: 0.0366191864014 FPS medido: 27.308088963\n",
      "FPS teorico: 30\n",
      "Tempo espera: 0.0333333333333\n",
      "Diff: 0.0413570404053 FPS medido: 24.1796799336\n",
      "FPS teorico: 30\n",
      "Tempo espera: 0.0333333333333\n",
      "Diff: 0.0368099212646 FPS medido: 27.1665889424\n",
      "FPS teorico: 30\n",
      "Tempo espera: 0.0333333333333\n",
      "Diff: 0.0367810726166 FPS medido: 27.1878966235\n",
      "FPS teorico: 30\n",
      "Tempo espera: 0.0333333333333\n",
      "Diff: 0.0398828983307 FPS medido: 25.0734034349\n",
      "FPS teorico: 30\n",
      "Tempo espera: 0.0333333333333\n",
      "Diff: 0.0373249053955 FPS medido: 26.7917624815\n",
      "FPS teorico: 30\n",
      "Tempo espera: 0.0333333333333\n",
      "Diff: 0.0365459918976 FPS medido: 27.3627817464\n",
      "FPS teorico: 30\n",
      "Tempo espera: 0.0333333333333\n",
      "Diff: 0.042573928833 FPS medido: 23.4885533802\n",
      "FPS teorico: 30\n",
      "Tempo espera: 0.0333333333333\n",
      "Diff: 0.0367639064789 FPS medido: 27.2005914435\n",
      "FPS teorico: 30\n",
      "Tempo espera: 0.0333333333333\n",
      "Diff: 0.0366051197052 FPS medido: 27.3185829756\n",
      "FPS teorico: 30\n",
      "Tempo espera: 0.0333333333333\n",
      "Diff: 0.0367319583893 FPS medido: 27.2242495051\n",
      "FPS teorico: 30\n",
      "Tempo espera: 0.0333333333333\n",
      "Diff: 0.0367579460144 FPS medido: 27.2050021404\n",
      "FPS teorico: 30\n",
      "Tempo espera: 0.0333333333333\n",
      "Diff: 0.036759853363 FPS medido: 27.2035905618\n",
      "FPS teorico: 30\n",
      "Tempo espera: 0.0333333333333\n",
      "Diff: 0.0383710861206 FPS medido: 26.0612899217\n",
      "FPS teorico: 30\n",
      "Tempo espera: 0.0333333333333\n",
      "Diff: 0.0366771221161 FPS medido: 27.2649527091\n",
      "FPS teorico: 30\n",
      "Tempo espera: 0.0333333333333\n",
      "Diff: 0.0366110801697 FPS medido: 27.3141353756\n",
      "FPS teorico: 30\n",
      "Tempo espera: 0.0333333333333\n",
      "Diff: 0.0366830825806 FPS medido: 27.260522553\n",
      "FPS teorico: 30\n",
      "Tempo espera: 0.0333333333333\n",
      "Diff: 0.0382950305939 FPS medido: 26.1130487296\n",
      "FPS teorico: 30\n",
      "Tempo espera: 0.0333333333333\n",
      "Diff: 0.0368220806122 FPS medido: 27.1576180209\n",
      "FPS teorico: 30\n",
      "Tempo espera: 0.0333333333333\n",
      "Diff: 0.0364060401917 FPS medido: 27.4679694561\n",
      "FPS teorico: 30\n",
      "Tempo espera: 0.0333333333333\n",
      "Diff: 0.0367741584778 FPS medido: 27.1930083894\n",
      "FPS teorico: 30\n",
      "Tempo espera: 0.0333333333333\n",
      "Diff: 0.038076877594 FPS medido: 26.2626576334\n",
      "FPS teorico: 30\n",
      "Tempo espera: 0.0333333333333\n",
      "Diff: 0.036504983902 FPS medido: 27.3935198187\n",
      "FPS teorico: 30\n",
      "Tempo espera: 0.0333333333333\n",
      "Diff: 0.0374600887299 FPS medido: 26.6950782528\n",
      "FPS teorico: 30\n",
      "Tempo espera: 0.0333333333333\n",
      "Diff: 0.0367469787598 FPS medido: 27.2131215613\n",
      "FPS teorico: 30\n",
      "Tempo espera: 0.0333333333333\n",
      "Diff: 0.0380489826202 FPS medido: 26.2819116606\n",
      "FPS teorico: 30\n",
      "Tempo espera: 0.0333333333333\n",
      "Diff: 0.0364010334015 FPS medido: 27.4717475455\n",
      "FPS teorico: 30\n",
      "Tempo espera: 0.0333333333333\n",
      "Diff: 0.0364079475403 FPS medido: 27.4665304572\n",
      "FPS teorico: 30\n",
      "Tempo espera: 0.0333333333333\n",
      "Diff: 0.0365681648254 FPS medido: 27.3461904576\n",
      "FPS teorico: 30\n",
      "Tempo espera: 0.0333333333333\n",
      "Diff: 0.0413610935211 FPS medido: 24.1773104836\n",
      "FPS teorico: 30\n",
      "Tempo espera: 0.0333333333333\n",
      "Diff: 0.0366311073303 FPS medido: 27.2992020411\n",
      "FPS teorico: 30\n",
      "Tempo espera: 0.0333333333333\n",
      "Diff: 0.0383739471436 FPS medido: 26.059346886\n",
      "FPS teorico: 30\n",
      "Tempo espera: 0.0333333333333\n",
      "Diff: 0.0366599559784 FPS medido: 27.2777196074\n",
      "FPS teorico: 30\n",
      "Tempo espera: 0.0333333333333\n",
      "Diff: 0.0366740226746 FPS medido: 27.2672569593\n",
      "FPS teorico: 30\n",
      "Tempo espera: 0.0333333333333\n",
      "Diff: 0.0380601882935 FPS medido: 26.2741737453\n",
      "FPS teorico: 30\n",
      "Tempo espera: 0.0333333333333\n",
      "Diff: 0.0371251106262 FPS medido: 26.9359466715\n",
      "FPS teorico: 30\n",
      "Tempo espera: 0.0333333333333\n",
      "Diff: 0.0367610454559 FPS medido: 27.2027083995\n",
      "FPS teorico: 30\n",
      "Tempo espera: 0.0333333333333\n",
      "Diff: 0.0375528335571 FPS medido: 26.6291489956\n",
      "FPS teorico: 30\n",
      "Tempo espera: 0.0333333333333\n",
      "Diff: 0.0373079776764 FPS medido: 26.8039186866\n",
      "FPS teorico: 30\n",
      "Tempo espera: 0.0333333333333\n",
      "Diff: 0.0365669727325 FPS medido: 27.3470819505\n",
      "FPS teorico: 30\n",
      "Tempo espera: 0.0333333333333\n",
      "Diff: 0.0365068912506 FPS medido: 27.3920886097\n",
      "FPS teorico: 30\n",
      "Tempo espera: 0.0333333333333\n",
      "Diff: 0.0365290641785 FPS medido: 27.3754617724\n",
      "FPS teorico: 30\n",
      "Tempo espera: 0.0333333333333\n",
      "Diff: 0.0365860462189 FPS medido: 27.3328250344\n",
      "FPS teorico: 30\n",
      "Tempo espera: 0.0333333333333\n",
      "Diff: 0.0406770706177 FPS medido: 24.5838745223\n",
      "FPS teorico: 30\n",
      "Tempo espera: 0.0333333333333\n",
      "Diff: 0.0366199016571 FPS medido: 27.3075555845\n",
      "FPS teorico: 30\n",
      "Tempo espera: 0.0333333333333\n",
      "Diff: 0.0372920036316 FPS medido: 26.815400156\n",
      "FPS teorico: 30\n",
      "Tempo espera: 0.0333333333333\n",
      "Diff: 0.0367388725281 FPS medido: 27.219125988\n",
      "FPS teorico: 30\n",
      "Tempo espera: 0.0333333333333\n",
      "Diff: 0.0365419387817 FPS medido: 27.3658167393\n",
      "FPS teorico: 30\n",
      "Tempo espera: 0.0333333333333\n",
      "Diff: 0.0365688800812 FPS medido: 27.3456555897\n",
      "FPS teorico: 30\n",
      "Tempo espera: 0.0333333333333\n",
      "Diff: 0.0380618572235 FPS medido: 26.2730216796\n",
      "FPS teorico: 30\n",
      "Tempo espera: 0.0333333333333\n"
     ]
    },
    {
     "ename": "KeyboardInterrupt",
     "evalue": "",
     "output_type": "error",
     "traceback": [
      "\u001b[0;31m---------------------------------------------------------------------------\u001b[0m",
      "\u001b[0;31mKeyboardInterrupt\u001b[0m                         Traceback (most recent call last)",
      "\u001b[0;32m<ipython-input-103-157c9bda2cd6>\u001b[0m in \u001b[0;36m<module>\u001b[0;34m()\u001b[0m\n\u001b[0;32m----> 1\u001b[0;31m \u001b[0mrun\u001b[0m\u001b[0;34m(\u001b[0m\u001b[0;34m)\u001b[0m\u001b[0;34m\u001b[0m\u001b[0m\n\u001b[0m",
      "\u001b[0;32m<ipython-input-101-3594c3f875e2>\u001b[0m in \u001b[0;36mrun\u001b[0;34m()\u001b[0m\n\u001b[1;32m     29\u001b[0m             \u001b[0;32mprint\u001b[0m \u001b[0;34m\"FPS teorico:\"\u001b[0m\u001b[0;34m,\u001b[0m \u001b[0m__observation\u001b[0m\u001b[0;34m[\u001b[0m\u001b[0;34m'fps'\u001b[0m\u001b[0;34m]\u001b[0m \u001b[0;31m#debug-iPython\u001b[0m\u001b[0;34m\u001b[0m\u001b[0m\n\u001b[1;32m     30\u001b[0m             \u001b[0;32mprint\u001b[0m \u001b[0;34m\"Tempo espera:\"\u001b[0m\u001b[0;34m,\u001b[0m \u001b[0;36m1.0\u001b[0m\u001b[0;34m/\u001b[0m\u001b[0m__observation\u001b[0m\u001b[0;34m[\u001b[0m\u001b[0;34m'fps'\u001b[0m\u001b[0;34m]\u001b[0m \u001b[0;31m#debug-iPython\u001b[0m\u001b[0;34m\u001b[0m\u001b[0m\n\u001b[0;32m---> 31\u001b[0;31m             \u001b[0mtime\u001b[0m\u001b[0;34m.\u001b[0m\u001b[0msleep\u001b[0m\u001b[0;34m(\u001b[0m\u001b[0;36m1.0\u001b[0m\u001b[0;34m/\u001b[0m\u001b[0m__observation\u001b[0m\u001b[0;34m[\u001b[0m\u001b[0;34m'fps'\u001b[0m\u001b[0;34m]\u001b[0m\u001b[0;34m)\u001b[0m \u001b[0;31m# Camera fps\u001b[0m\u001b[0;34m\u001b[0m\u001b[0m\n\u001b[0m\u001b[1;32m     32\u001b[0m \u001b[0;34m\u001b[0m\u001b[0m\n\u001b[1;32m     33\u001b[0m         \u001b[0;32mif\u001b[0m \u001b[0m_args\u001b[0m\u001b[0;34m.\u001b[0m\u001b[0mcamera\u001b[0m \u001b[0;34m==\u001b[0m \u001b[0mTrue\u001b[0m \u001b[0;32mor\u001b[0m \u001b[0m_args\u001b[0m\u001b[0;34m.\u001b[0m\u001b[0mcamera\u001b[0m \u001b[0;34m==\u001b[0m \u001b[0;34m'off'\u001b[0m\u001b[0;34m:\u001b[0m\u001b[0;34m\u001b[0m\u001b[0m\n",
      "\u001b[0;31mKeyboardInterrupt\u001b[0m: "
     ]
    }
   ],
   "source": [
    "run()"
   ]
  },
  {
   "cell_type": "code",
   "execution_count": 104,
   "metadata": {
    "collapsed": false
   },
   "outputs": [],
   "source": [
    "finalize()\n",
    "cv2.destroyAllWindows()\n",
    "#end-iPython"
   ]
  },
  {
   "cell_type": "markdown",
   "metadata": {},
   "source": [
    "# currentObservation\n",
    "doxygen-iPython"
   ]
  },
  {
   "cell_type": "code",
   "execution_count": null,
   "metadata": {
    "collapsed": false
   },
   "outputs": [],
   "source": [
    "#eself-iPython currentObservation\n",
    "#edes-iPython def currentObservation(self):\n",
    "def currentObservation( ):\n",
    "    return __observation.copy() #self-iPython currentObservation"
   ]
  },
  {
   "cell_type": "code",
   "execution_count": null,
   "metadata": {
    "collapsed": true
   },
   "outputs": [],
   "source": [
    "#ini-iPython"
   ]
  },
  {
   "cell_type": "markdown",
   "metadata": {},
   "source": [
    "## Teste currentObservation"
   ]
  },
  {
   "cell_type": "code",
   "execution_count": null,
   "metadata": {
    "collapsed": false
   },
   "outputs": [],
   "source": [
    "\n",
    "#end-iPython"
   ]
  },
  {
   "cell_type": "code",
   "execution_count": null,
   "metadata": {
    "collapsed": true
   },
   "outputs": [],
   "source": []
  },
  {
   "cell_type": "code",
   "execution_count": null,
   "metadata": {
    "collapsed": true
   },
   "outputs": [],
   "source": []
  },
  {
   "cell_type": "code",
   "execution_count": null,
   "metadata": {
    "collapsed": true
   },
   "outputs": [],
   "source": []
  },
  {
   "cell_type": "code",
   "execution_count": null,
   "metadata": {
    "collapsed": true
   },
   "outputs": [],
   "source": []
  },
  {
   "cell_type": "code",
   "execution_count": null,
   "metadata": {
    "collapsed": true
   },
   "outputs": [],
   "source": []
  },
  {
   "cell_type": "code",
   "execution_count": null,
   "metadata": {
    "collapsed": true
   },
   "outputs": [],
   "source": []
  },
  {
   "cell_type": "code",
   "execution_count": null,
   "metadata": {
    "collapsed": true
   },
   "outputs": [],
   "source": []
  },
  {
   "cell_type": "code",
   "execution_count": null,
   "metadata": {
    "collapsed": true
   },
   "outputs": [],
   "source": []
  },
  {
   "cell_type": "code",
   "execution_count": null,
   "metadata": {
    "collapsed": true
   },
   "outputs": [],
   "source": []
  },
  {
   "cell_type": "code",
   "execution_count": null,
   "metadata": {
    "collapsed": true
   },
   "outputs": [],
   "source": []
  },
  {
   "cell_type": "code",
   "execution_count": null,
   "metadata": {
    "collapsed": true
   },
   "outputs": [],
   "source": []
  },
  {
   "cell_type": "code",
   "execution_count": null,
   "metadata": {
    "collapsed": true
   },
   "outputs": [],
   "source": []
  },
  {
   "cell_type": "code",
   "execution_count": null,
   "metadata": {
    "collapsed": true
   },
   "outputs": [],
   "source": []
  },
  {
   "cell_type": "code",
   "execution_count": null,
   "metadata": {
    "collapsed": true
   },
   "outputs": [],
   "source": []
  },
  {
   "cell_type": "code",
   "execution_count": null,
   "metadata": {
    "collapsed": true
   },
   "outputs": [],
   "source": []
  },
  {
   "cell_type": "code",
   "execution_count": null,
   "metadata": {
    "collapsed": true
   },
   "outputs": [],
   "source": []
  },
  {
   "cell_type": "code",
   "execution_count": null,
   "metadata": {
    "collapsed": true
   },
   "outputs": [],
   "source": []
  },
  {
   "cell_type": "code",
   "execution_count": null,
   "metadata": {
    "collapsed": true
   },
   "outputs": [],
   "source": []
  },
  {
   "cell_type": "code",
   "execution_count": null,
   "metadata": {
    "collapsed": true
   },
   "outputs": [],
   "source": []
  },
  {
   "cell_type": "code",
   "execution_count": null,
   "metadata": {
    "collapsed": true
   },
   "outputs": [],
   "source": []
  },
  {
   "cell_type": "code",
   "execution_count": null,
   "metadata": {
    "collapsed": true
   },
   "outputs": [],
   "source": []
  },
  {
   "cell_type": "code",
   "execution_count": null,
   "metadata": {
    "collapsed": true
   },
   "outputs": [],
   "source": []
  },
  {
   "cell_type": "code",
   "execution_count": null,
   "metadata": {
    "collapsed": true
   },
   "outputs": [],
   "source": []
  },
  {
   "cell_type": "code",
   "execution_count": null,
   "metadata": {
    "collapsed": true
   },
   "outputs": [],
   "source": []
  },
  {
   "cell_type": "code",
   "execution_count": null,
   "metadata": {
    "collapsed": true
   },
   "outputs": [],
   "source": []
  },
  {
   "cell_type": "code",
   "execution_count": null,
   "metadata": {
    "collapsed": true
   },
   "outputs": [],
   "source": []
  },
  {
   "cell_type": "code",
   "execution_count": null,
   "metadata": {
    "collapsed": true
   },
   "outputs": [],
   "source": []
  },
  {
   "cell_type": "code",
   "execution_count": null,
   "metadata": {
    "collapsed": true
   },
   "outputs": [],
   "source": []
  },
  {
   "cell_type": "code",
   "execution_count": null,
   "metadata": {
    "collapsed": true
   },
   "outputs": [],
   "source": []
  },
  {
   "cell_type": "code",
   "execution_count": null,
   "metadata": {
    "collapsed": true
   },
   "outputs": [],
   "source": []
  },
  {
   "cell_type": "code",
   "execution_count": null,
   "metadata": {
    "collapsed": true
   },
   "outputs": [],
   "source": []
  },
  {
   "cell_type": "code",
   "execution_count": null,
   "metadata": {
    "collapsed": true
   },
   "outputs": [],
   "source": []
  },
  {
   "cell_type": "code",
   "execution_count": null,
   "metadata": {
    "collapsed": true
   },
   "outputs": [],
   "source": []
  },
  {
   "cell_type": "code",
   "execution_count": null,
   "metadata": {
    "collapsed": true
   },
   "outputs": [],
   "source": []
  },
  {
   "cell_type": "code",
   "execution_count": null,
   "metadata": {
    "collapsed": true
   },
   "outputs": [],
   "source": []
  },
  {
   "cell_type": "code",
   "execution_count": null,
   "metadata": {
    "collapsed": true
   },
   "outputs": [],
   "source": []
  },
  {
   "cell_type": "code",
   "execution_count": null,
   "metadata": {
    "collapsed": true
   },
   "outputs": [],
   "source": []
  },
  {
   "cell_type": "code",
   "execution_count": null,
   "metadata": {
    "collapsed": true
   },
   "outputs": [],
   "source": []
  },
  {
   "cell_type": "code",
   "execution_count": null,
   "metadata": {
    "collapsed": true
   },
   "outputs": [],
   "source": []
  },
  {
   "cell_type": "code",
   "execution_count": null,
   "metadata": {
    "collapsed": true
   },
   "outputs": [],
   "source": []
  },
  {
   "cell_type": "code",
   "execution_count": null,
   "metadata": {
    "collapsed": true
   },
   "outputs": [],
   "source": []
  },
  {
   "cell_type": "code",
   "execution_count": null,
   "metadata": {
    "collapsed": true
   },
   "outputs": [],
   "source": []
  },
  {
   "cell_type": "code",
   "execution_count": null,
   "metadata": {
    "collapsed": true
   },
   "outputs": [],
   "source": []
  },
  {
   "cell_type": "code",
   "execution_count": null,
   "metadata": {
    "collapsed": true
   },
   "outputs": [],
   "source": [
    "#end-tab -> Fim código classe"
   ]
  }
 ],
 "metadata": {
  "kernelspec": {
   "display_name": "Python 2",
   "language": "python",
   "name": "python2"
  },
  "language_info": {
   "codemirror_mode": {
    "name": "ipython",
    "version": 2
   },
   "file_extension": ".py",
   "mimetype": "text/x-python",
   "name": "python",
   "nbconvert_exporter": "python",
   "pygments_lexer": "ipython2",
   "version": "2.7.6"
  }
 },
 "nbformat": 4,
 "nbformat_minor": 1
}
