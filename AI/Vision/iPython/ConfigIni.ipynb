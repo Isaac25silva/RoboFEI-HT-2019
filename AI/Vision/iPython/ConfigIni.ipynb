{
 "cells": [
  {
   "cell_type": "markdown",
   "metadata": {
    "collapsed": true
   },
   "source": [
    "---- Imports ----"
   ]
  },
  {
   "cell_type": "code",
   "execution_count": 1,
   "metadata": {
    "collapsed": true
   },
   "outputs": [],
   "source": [
    "# Libraries to be used\n",
    "#des-iPython import sys\n",
    "#des-iPython sys.path.append('../include')\n",
    "#des-iPython sys.path.append('../src')"
   ]
  },
  {
   "cell_type": "code",
   "execution_count": 2,
   "metadata": {
    "collapsed": true
   },
   "outputs": [],
   "source": [
    "# The standard libraries used in the vision system\n",
    "#ini-iPython\n",
    "import os\n",
    "os.chdir('/home/vinicius/Dropbox/Projeto Mestrado/Codigos/RoboFEI-HT_Debug/AI/Vision') #Executando na pasta Vision\n",
    "import sys\n",
    "sys.path.append('./include')\n",
    "sys.path.append('./src')\n",
    "sys.path.append('./iPython') #debug-iPython\n",
    "#end-iPython\n",
    "import configparser # Used to read ini files"
   ]
  },
  {
   "cell_type": "code",
   "execution_count": 3,
   "metadata": {
    "collapsed": false
   },
   "outputs": [],
   "source": [
    "# Used class developed by RoboFEI-HT\n",
    "from VisionException import * # Used to handle exceptions"
   ]
  },
  {
   "cell_type": "markdown",
   "metadata": {
    "collapsed": true
   },
   "source": [
    "# Class to config ini\n",
    "Class used to read the ini file from the view.\n",
    "doxygen-iPython"
   ]
  },
  {
   "cell_type": "code",
   "execution_count": 4,
   "metadata": {
    "collapsed": true
   },
   "outputs": [],
   "source": [
    "#des-iPython class ConfigIni( ):\n",
    "#ini-tab -> Iniciando código classe"
   ]
  },
  {
   "cell_type": "markdown",
   "metadata": {},
   "source": [
    "# Dictionary\n",
    "Section used.\n",
    "doxygen-iPython"
   ]
  },
  {
   "cell_type": "code",
   "execution_count": 5,
   "metadata": {
    "collapsed": true
   },
   "outputs": [],
   "source": [
    "__dictionary = None #self-iPython __dictionary"
   ]
  },
  {
   "cell_type": "markdown",
   "metadata": {},
   "source": [
    "# myobject\n",
    "doxygen-iPython"
   ]
  },
  {
   "cell_type": "code",
   "execution_count": 6,
   "metadata": {
    "collapsed": true
   },
   "outputs": [],
   "source": [
    "__myobject = None #self-iPython __myobject"
   ]
  },
  {
   "cell_type": "markdown",
   "metadata": {},
   "source": [
    "# function\n",
    "doxygen-iPython"
   ]
  },
  {
   "cell_type": "code",
   "execution_count": 7,
   "metadata": {
    "collapsed": true
   },
   "outputs": [],
   "source": [
    "__function = None #self-iPython __function"
   ]
  },
  {
   "cell_type": "markdown",
   "metadata": {},
   "source": [
    "# __conf\n",
    "doxygen-iPython"
   ]
  },
  {
   "cell_type": "code",
   "execution_count": 8,
   "metadata": {
    "collapsed": true
   },
   "outputs": [],
   "source": [
    "__conf = None #self-iPython __conf"
   ]
  },
  {
   "cell_type": "markdown",
   "metadata": {},
   "source": [
    "# Constructor Class\n",
    "doxygen-iPython"
   ]
  },
  {
   "cell_type": "code",
   "execution_count": 10,
   "metadata": {
    "collapsed": false
   },
   "outputs": [
    {
     "name": "stdout",
     "output_type": "stream",
     "text": [
      "Dicionario:  -1\n"
     ]
    },
    {
     "name": "stderr",
     "output_type": "stream",
     "text": [
      "/usr/local/lib/python2.7/dist-packages/ipykernel/__main__.py:10: DeprecationWarning: You passed a bytestring as `filenames`. This will not work on Python 3. Use `cp.read_file()` or switch to using Unicode strings across the board.\n"
     ]
    }
   ],
   "source": [
    "#des-iPython def __init__(self, obj, func):\n",
    "#ini-tab -> Criando construtor\n",
    "#ini-iPython\n",
    "obj = \"Rosto\"\n",
    "func = \"Haar\"\n",
    "#end-iPython\n",
    "__myobject = obj\n",
    "__function = func\n",
    "__conf = configparser.RawConfigParser()\n",
    "if __conf.read(\"./Data/config.ini\") is not [] and (__myobject + \" \" + __function).upper() in __conf.sections():\n",
    "    __dictionary = {}\n",
    "    for key in __conf[(__myobject + \" \" + __function).upper()].keys():\n",
    "        try:\n",
    "            __dictionary[str(key)] = __conf.getint((__myobject + \" \" + __function).upper(), str(key))\n",
    "            continue\n",
    "        except:\n",
    "            pass\n",
    "\n",
    "        try:\n",
    "            __dictionary[str(key)] = __conf.getfloat((__myobject + \" \" + __function).upper(), str(key))\n",
    "            continue\n",
    "        except:\n",
    "            pass\n",
    "\n",
    "        try:\n",
    "            __dictionary[str(key)] = __conf.getboolean((__myobject + \" \" + __function).upper(), str(key))\n",
    "            continue\n",
    "        except:\n",
    "            pass\n",
    "\n",
    "        try:\n",
    "            __dictionary[str(key)] = __conf.get((__myobject + \" \" + __function).upper(), str(key))\n",
    "            continue\n",
    "        except:\n",
    "            pass\n",
    "else:\n",
    "    __dictionary = -1\n",
    "\n",
    "print \"Dicionario: \", __dictionary #debug-iPython"
   ]
  },
  {
   "cell_type": "code",
   "execution_count": null,
   "metadata": {
    "collapsed": true
   },
   "outputs": [],
   "source": [
    "#end-tab -> finalizendo construtor"
   ]
  },
  {
   "cell_type": "code",
   "execution_count": null,
   "metadata": {
    "collapsed": true
   },
   "outputs": [],
   "source": [
    "#ini-iPython"
   ]
  },
  {
   "cell_type": "markdown",
   "metadata": {},
   "source": [
    "## Teste construtor"
   ]
  },
  {
   "cell_type": "code",
   "execution_count": 12,
   "metadata": {
    "collapsed": false
   },
   "outputs": [],
   "source": [
    "pass\n",
    "#end-iPython"
   ]
  },
  {
   "cell_type": "markdown",
   "metadata": {},
   "source": [
    "# read\n",
    "doxygen-iPython"
   ]
  },
  {
   "cell_type": "code",
   "execution_count": 24,
   "metadata": {
    "collapsed": false
   },
   "outputs": [],
   "source": [
    "#edes-iPython def read(self, base):\n",
    "def read(base):\n",
    "    global __dictionary #debug-iPython\n",
    "    # Data not found\n",
    "    if __dictionary == -1:\n",
    "        __dictionary = base\n",
    "        return base\n",
    "    \n",
    "    # Updating data\n",
    "    for k in __dictionary.keys():\n",
    "        base[k] = __dictionary[k]\n",
    "    \n",
    "    \n",
    "    # Updating and returning\n",
    "    __dictionary = base\n",
    "    return __dictionary"
   ]
  },
  {
   "cell_type": "code",
   "execution_count": 25,
   "metadata": {
    "collapsed": true
   },
   "outputs": [],
   "source": [
    "#ini-iPython"
   ]
  },
  {
   "cell_type": "code",
   "execution_count": 30,
   "metadata": {
    "collapsed": false
   },
   "outputs": [
    {
     "name": "stdout",
     "output_type": "stream",
     "text": [
      "base: {'batata': 0, 'subtitler': 0}\n",
      "dictionary: {'batata': 0, 'subtitler': 25}\n",
      "{'batata': 0, 'subtitler': 25}\n",
      "new dictionary: {'batata': 0, 'subtitler': 25}\n"
     ]
    }
   ],
   "source": [
    "# __dictionary = -1\n",
    "base = {}\n",
    "base[\"subtitler\"] = 0\n",
    "base[\"batata\"] = 0\n",
    "\n",
    "print 'base:', base\n",
    "print 'dictionary:', __dictionary\n",
    "\n",
    "print read(base)\n",
    "\n",
    "print 'new dictionary:', __dictionary\n",
    "#end-iPython"
   ]
  },
  {
   "cell_type": "markdown",
   "metadata": {},
   "source": [
    "# finalize\n",
    "doxygen-iPython"
   ]
  },
  {
   "cell_type": "code",
   "execution_count": null,
   "metadata": {
    "collapsed": true
   },
   "outputs": [],
   "source": [
    "#edes-iPython def finalize(self, dictionary):\n",
    "def finalize(dictionary):\n",
    "    __dictionary = dictionary # Saving dictionary in class\n",
    "    \n",
    "    #edes-iPython __conf.read(\"./Data/config.ini\")\n",
    "    __conf.read(\"../Data/config.ini\")\n",
    "        \n",
    "    #edes-iPython with open('./Data/config.ini', 'wb') as configfile:\n",
    "    with open('../Data/config.ini', 'wb') as configfile:\n",
    "        __conf[(__myobject + \" \" + __function).upper()] = __dictionary\n",
    "        __conf.write(configfile)"
   ]
  },
  {
   "cell_type": "code",
   "execution_count": null,
   "metadata": {
    "collapsed": true
   },
   "outputs": [],
   "source": [
    "#ini-iPython"
   ]
  },
  {
   "cell_type": "markdown",
   "metadata": {},
   "source": [
    "## Testando função finalize"
   ]
  },
  {
   "cell_type": "code",
   "execution_count": null,
   "metadata": {
    "collapsed": false
   },
   "outputs": [],
   "source": [
    "__myobject = 'CAMERA'\n",
    "__function = 'PARAMETERS'\n",
    "test = {\n",
    "    \"ola\": 2,\n",
    "    \"olaas\": 3\n",
    "}\n",
    "finalize(test)\n",
    "\n",
    "__myobject = \"Batata\"\n",
    "\n",
    "finalize(test)\n",
    "#end-iPython"
   ]
  },
  {
   "cell_type": "code",
   "execution_count": null,
   "metadata": {
    "collapsed": true
   },
   "outputs": [],
   "source": [
    "#end-tab -> finalizendo classe"
   ]
  },
  {
   "cell_type": "code",
   "execution_count": null,
   "metadata": {
    "collapsed": true
   },
   "outputs": [],
   "source": []
  }
 ],
 "metadata": {
  "kernelspec": {
   "display_name": "Python 2",
   "language": "python",
   "name": "python2"
  },
  "language_info": {
   "codemirror_mode": {
    "name": "ipython",
    "version": 2
   },
   "file_extension": ".py",
   "mimetype": "text/x-python",
   "name": "python",
   "nbconvert_exporter": "python",
   "pygments_lexer": "ipython2",
   "version": "2.7.6"
  }
 },
 "nbformat": 4,
 "nbformat_minor": 2
}
