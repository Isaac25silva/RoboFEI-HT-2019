{
 "cells": [
  {
   "cell_type": "code",
   "execution_count": null,
   "metadata": {
    "collapsed": true
   },
   "outputs": [],
   "source": [
    "# Libraries to be used\n",
    "import sys\n",
    "#des-iPython sys.path.append('../include')\n",
    "#des-iPython sys.path.append('../src')"
   ]
  },
  {
   "cell_type": "code",
   "execution_count": null,
   "metadata": {
    "collapsed": false
   },
   "outputs": [],
   "source": [
    "import os # Library for interaction with the system.\n",
    "from copy import copy # To create copies of the variables\n",
    "import time # Using for time control and measurement"
   ]
  },
  {
   "cell_type": "code",
   "execution_count": null,
   "metadata": {
    "collapsed": false
   },
   "outputs": [],
   "source": [
    "# Used class developed by RoboFEI-HT.\n",
    "#ini-iPython\n",
    "import os\n",
    "os.chdir('/home/vinicius/Dropbox/Projeto Mestrado/Codigos/RoboFEI-HT_Debug/AI/Vision') #Executando na pasta Vision\n",
    "sys.path.append('./iPython')\n",
    "sys.path.append('./include')\n",
    "sys.path.append('./src')\n",
    "#end-iPython\n",
    "from BasicThread import * # Base class with primary functions.\n",
    "from Servo import * # Class for servo control."
   ]
  },
  {
   "cell_type": "markdown",
   "metadata": {},
   "source": [
    "# Class HeadControl\n",
    "Class responsible for controlling the servos of the head using information from visual memory.\n",
    "doxygen-iPython"
   ]
  },
  {
   "cell_type": "code",
   "execution_count": null,
   "metadata": {
    "collapsed": true
   },
   "outputs": [],
   "source": [
    "#des-iPython class HeadControl(BasicThread):\n",
    "#ini-tab -> Iniciando código classe"
   ]
  },
  {
   "cell_type": "markdown",
   "metadata": {},
   "source": [
    "---- Variables ----"
   ]
  },
  {
   "cell_type": "markdown",
   "metadata": {},
   "source": [
    "# motor\n",
    "Servomotor addresses.\n",
    "doxygen-iPython"
   ]
  },
  {
   "cell_type": "code",
   "execution_count": null,
   "metadata": {
    "collapsed": true
   },
   "outputs": [],
   "source": [
    "__motor = { #self-iPython __motor\n",
    "    'Maximum Torque': 34,\n",
    "    'Goal Position': 30, \n",
    "    'Present Position': 36,\n",
    "}"
   ]
  },
  {
   "cell_type": "markdown",
   "metadata": {},
   "source": [
    "# head\n",
    ".\n",
    "doxygen-iPython"
   ]
  },
  {
   "cell_type": "code",
   "execution_count": null,
   "metadata": {
    "collapsed": true
   },
   "outputs": [],
   "source": [
    "__head = None #self-iPython __head"
   ]
  },
  {
   "cell_type": "markdown",
   "metadata": {},
   "source": [
    "# observation\n",
    ".\n",
    "doxygen-iPython"
   ]
  },
  {
   "cell_type": "code",
   "execution_count": null,
   "metadata": {
    "collapsed": true
   },
   "outputs": [],
   "source": [
    "__observation = None #self-iPython __observation"
   ]
  },
  {
   "cell_type": "code",
   "execution_count": null,
   "metadata": {
    "collapsed": true
   },
   "outputs": [],
   "source": [
    "#ini-iPython\n",
    "\n",
    "# ------- Lista de funções herdadas -------\n",
    "\n",
    "# ------- Lista de funções -------\n",
    "\n",
    "# ------- Lista variaveis herdadas -------\n",
    "\n",
    "#self-iPython _running\n",
    "#self-iPython _confini\n",
    "\n",
    "class test1:\n",
    "    def read_float(self, name):\n",
    "        return 0\n",
    "    def read_int(self, name):\n",
    "        return 0\n",
    "\n",
    "_bkb = test1() #self-iPython _bkb\n",
    "\n",
    "class test:\n",
    "    camera = True\n",
    "\n",
    "_args = test() #self-iPython _args\n",
    "\n",
    "# ------- Lista variaveis -------\n",
    "\n",
    "\n",
    "\n",
    "#end-iPython - Fim listas"
   ]
  },
  {
   "cell_type": "markdown",
   "metadata": {},
   "source": [
    "# Constructor Class\n",
    "doxygen-iPython"
   ]
  },
  {
   "cell_type": "code",
   "execution_count": null,
   "metadata": {
    "collapsed": false
   },
   "outputs": [],
   "source": [
    "#des-iPython def __init__(self, arg):\n",
    "#ini-tab -> Iniciando código construtor\n",
    "print '\\33[1;33m' + '---- Initializing class HeadControl ----' + '\\33[0m'\n",
    "#edes-iPython super(HeadControl, self).__init__(arg, 'Head' , 'parameters')\n",
    "_confini = ConfigIni('Head' , 'parameters')\n",
    "\n",
    "\n",
    "__observation = {\n",
    "    'ID Pan': 19,\n",
    "    'ID Tilt': 20,\n",
    "    'frequency': 1000,\n",
    "    'center_pan': 512,\n",
    "    'center_tilt': 310,\n",
    "}\n",
    "__observation = _confini.read(__observation)\n",
    "\n",
    "__head = Servo(__observation['center_tilt'], __observation['center_pan'])\n",
    "#des-iPython self.start()"
   ]
  },
  {
   "cell_type": "code",
   "execution_count": null,
   "metadata": {
    "collapsed": true
   },
   "outputs": [],
   "source": [
    "#end-tab -> Fim construtor"
   ]
  },
  {
   "cell_type": "code",
   "execution_count": null,
   "metadata": {
    "collapsed": true
   },
   "outputs": [],
   "source": [
    "#ini-iPython"
   ]
  },
  {
   "cell_type": "markdown",
   "metadata": {},
   "source": [
    "## Teste construtor"
   ]
  },
  {
   "cell_type": "code",
   "execution_count": null,
   "metadata": {
    "collapsed": true
   },
   "outputs": [],
   "source": [
    "#end-iPython"
   ]
  },
  {
   "cell_type": "markdown",
   "metadata": {
    "collapsed": true
   },
   "source": [
    "# run\n",
    ".\n",
    "doxygen-iPython"
   ]
  },
  {
   "cell_type": "code",
   "execution_count": null,
   "metadata": {
    "collapsed": true
   },
   "outputs": [],
   "source": [
    "#edes-iPython def run(self):\n",
    "def run( ):\n",
    "    _running = True\n",
    "    while _running:\n",
    "        start = time.time()\n",
    "        value = _bkb.read_int('DECISION_LOCALIZATION')\n",
    "        print 'value:', value \n",
    "        if value == -999:\n",
    "            __head.writeWord(\n",
    "                __observation['ID Pan'],\n",
    "                __motor['Goal Position'],\n",
    "                __observation['center_pan']\n",
    "            )\n",
    "            __head.writeWord(\n",
    "                __observation['ID Tilt'],\n",
    "                __motor['Goal Position'],\n",
    "                __observation['center_tilt']\n",
    "            )\n",
    "        else:\n",
    "            __head.writeWord(\n",
    "                __observation['ID Pan'],\n",
    "                __motor['Goal Position'],\n",
    "                __observation['center_pan']-(value*1023)/300\n",
    "            )\n",
    "            __head.writeWord(\n",
    "                __observation['ID Tilt'],\n",
    "                __motor['Goal Position'],\n",
    "                __observation['center_tilt']\n",
    "            )\n",
    "         \n",
    "        _bkb.write_float(\n",
    "            'VISION_PAN_DEG',\n",
    "            (__observation['center_pan'] - __head.readWord(\n",
    "                    __observation['ID Pan'],\n",
    "                    __motor['Present Position']\n",
    "                )\n",
    "            )*300.0/1023\n",
    "        )\n",
    "        \n",
    "        # Frequency of update\n",
    "        if start + 1.0/__observation['frequency'] - time.time() > 0:\n",
    "            time.sleep( # Frequency of processing\n",
    "                start + 1.0/__observation['frequency'] - time.time()\n",
    "            )"
   ]
  },
  {
   "cell_type": "markdown",
   "metadata": {
    "collapsed": true
   },
   "source": [
    "# finalize\n",
    ".\n",
    "doxygen-iPython"
   ]
  },
  {
   "cell_type": "code",
   "execution_count": null,
   "metadata": {
    "collapsed": true
   },
   "outputs": [],
   "source": [
    "#edes-iPython def finalize(self):\n",
    "def finalize( ):\n",
    "    _running = False\n",
    "    #des-iPython self.join()\n",
    "    #des-iPython super(HeadControl, self).finalize(__observation)"
   ]
  },
  {
   "cell_type": "code",
   "execution_count": null,
   "metadata": {
    "collapsed": true
   },
   "outputs": [],
   "source": [
    "#end-tab -> Fim código classe"
   ]
  }
 ],
 "metadata": {
  "kernelspec": {
   "display_name": "Python 2",
   "language": "python",
   "name": "python2"
  },
  "language_info": {
   "codemirror_mode": {
    "name": "ipython",
    "version": 2
   },
   "file_extension": ".py",
   "mimetype": "text/x-python",
   "name": "python",
   "nbconvert_exporter": "python",
   "pygments_lexer": "ipython2",
   "version": "2.7.6"
  }
 },
 "nbformat": 4,
 "nbformat_minor": 1
}
