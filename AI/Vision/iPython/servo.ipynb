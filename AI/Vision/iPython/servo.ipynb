{
 "cells": [
  {
   "cell_type": "code",
   "execution_count": null,
   "metadata": {
    "collapsed": true
   },
   "outputs": [],
   "source": [
    "import ctypes\n",
    "\n",
    "\"\"\"Describes Class Servo - Communicate, Write and read from Vision Servo-motors\"\"\"\n",
    "class Servo(object):\n",
    "\t\"\"\"Initializes the communication with the servos\"\"\"\n",
    "\tdef __init__(self,posTILT,posPAN):\n",
    "\t\t\"\"\"print Start the Class Servo\"\"\"\n",
    "\t\tprint \"Start the Class Servo\"\n",
    "\t\t\"\"\" Using shared memory from C++ functions\"\"\"\n",
    "\t\t\"\"\" Loads Vision library in the path /build/lib/libvision.so (Needs compilation and build) \"\"\"\n",
    "\t\tctypes.cdll.LoadLibrary(\"../../build/lib/libvision.so\")\n",
    "\t\t\"\"\" Calls lybrary that contains C++ functions \"\"\"\n",
    "\t\tself.visionlib = ctypes.CDLL('../../build/lib/libvision.so') \n",
    "\t\t\"\"\" Defines return type (boolean)  \"\"\"\n",
    "\t\tself.visionlib.initServo.restype = ctypes.c_bool \n",
    "\t\t\"\"\"Conects to Pan and tilt servos\"\"\"\n",
    "\t\tif self.visionlib.initServo(ctypes.c_int(posTILT), ctypes.c_int(posPAN)):\n",
    "\t\t\t\"\"\" Error treatament, if not connected to servos exit(0)\"\"\"  \n",
    "\t\t\texit (0)\n",
    "\t\t\"\"\" Define return type of the method dxlReadByte (int)\"\"\"\n",
    "\t\tself.visionlib.dxlReadByte.restype = ctypes.c_int \n",
    "\t\t\"\"\" Define return type of the method dxlReadWord (int)\"\"\"\n",
    "\t\tself.visionlib.dxlReadWord.restype = ctypes.c_int \n",
    "\t\t\"\"\" Define initial torque with 50% to servo ID=20, parameter 34 seted with 512\"\"\"\n",
    "\t\tself.visionlib.dxlWriteWord(ctypes.c_int(20), ctypes.c_int(34), ctypes.c_int(512)); \n",
    "\t\t\"\"\" Define initial torque with 50% to servo ID=19, parameter 34 seted with 512\"\"\"\n",
    "\t\tself.visionlib.dxlWriteWord(ctypes.c_int(19), ctypes.c_int(34), ctypes.c_int(512)); \n",
    "\t\t#--------------------------------------------------------------------------------------------------------------------\n",
    "\t\t\"\"\" Reads a byte from servo defined by ID \"\"\"\n",
    "\tdef readByte(self, ID, Pos):\n",
    "\t\t\"\"\"Returns a byte from servo defined by ID in pos position\"\"\"\n",
    "\t\treturn self.visionlib.dxlReadByte( ctypes.c_int(ID), ctypes.c_int(Pos))\n",
    "\t\t\"\"\" Reads a word from servo defined by ID \"\"\"\n",
    "\tdef readWord(self, ID, Pos):\n",
    "\t\t\"\"\" Returns a word from servo defined by ID in pos position\"\"\"\n",
    "\t\treturn self.visionlib.dxlReadWord( ctypes.c_int(ID), ctypes.c_int(Pos))\n",
    "\t\t\"\"\" Writes a byte from servo defined by ID \"\"\"\n",
    "\tdef writeByte(self, ID, Pos, value):\n",
    "\t\t\"\"\" Writes a byte in servo ID, Position Pos, and the value to be written\"\"\"\n",
    "\t\tself.visionlib.dxlWriteByte( ctypes.c_int(ID), ctypes.c_int(Pos), ctypes.c_int(value))\n",
    "\t\t\"\"\" Writes a word from servo defined by ID \"\"\"\n",
    "\tdef writeWord(self, ID, Pos, value):\n",
    "\t\t\"\"\" Writes a word in servo ID, Position Pos, and the value to be written\"\"\"\n",
    "\t\tself.visionlib.dxlWriteWord( ctypes.c_int(ID), ctypes.c_int(Pos), ctypes.c_int(value))"
   ]
  }
 ],
 "metadata": {
  "kernelspec": {
   "display_name": "Python 2",
   "language": "python",
   "name": "python2"
  },
  "language_info": {
   "codemirror_mode": {
    "name": "ipython",
    "version": 2
   },
   "file_extension": ".py",
   "mimetype": "text/x-python",
   "name": "python",
   "nbconvert_exporter": "python",
   "pygments_lexer": "ipython2",
   "version": "2.7.6"
  }
 },
 "nbformat": 4,
 "nbformat_minor": 1
}
