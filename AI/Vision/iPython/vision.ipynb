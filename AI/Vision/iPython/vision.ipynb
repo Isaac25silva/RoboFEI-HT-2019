{
 "cells": [
  {
   "cell_type": "markdown",
   "metadata": {},
   "source": [
    "---- List of execution parameters ----"
   ]
  },
  {
   "cell_type": "code",
   "execution_count": null,
   "metadata": {
    "collapsed": true
   },
   "outputs": [],
   "source": [
    "#des-iPython import argparse"
   ]
  },
  {
   "cell_type": "code",
   "execution_count": null,
   "metadata": {
    "collapsed": false
   },
   "outputs": [],
   "source": [
    "#des-iPython parser = argparse.ArgumentParser(description='Robot Vision', epilog= 'Responsável pela detecção dos objetos em campo / Responsible for detection of Field objects')\n",
    "#des-iPython parser.add_argument('--camera', '-ca', action=\"store_true\", help = 'Calibra valor para a câmera')\n",
    "#des-iPython parser.add_argument('--visionball', '-vb', action=\"store_true\", help = 'Calibra valor para a visão da bola')\n",
    "#des-iPython parser.add_argument('--withoutservo', '-ws', action=\"store_true\", help = 'Sem servos')\n",
    "#des-iPython parser.add_argument('--head', '-he', action=\"store_true\", help = 'Configurando parâmetros do controle da cabeça')\n",
    "#des-iPython parser.add_argument('--localization', '-lo', action=\"store_true\", help = 'Configurando parâmetros da localização')\n",
    "#des-iPython \n",
    "\n",
    "#des-iPython args = parser.parse_args()\n",
    "\n",
    "#ini-iPython\n",
    "class test():\n",
    "    camera = True\n",
    "    visionball = False\n",
    "    withoutservo = False\n",
    "    head = False\n",
    "args = test()\n",
    "#end-iPython"
   ]
  },
  {
   "cell_type": "markdown",
   "metadata": {},
   "source": [
    "---- Imports ----"
   ]
  },
  {
   "cell_type": "code",
   "execution_count": null,
   "metadata": {
    "collapsed": true
   },
   "outputs": [],
   "source": [
    "# Libraries to be used\n",
    "import sys\n",
    "#edes-iPython sys.path.append('./include')\n",
    "sys.path.append('../include')\n",
    "#edes-iPython sys.path.append('./src')\n",
    "sys.path.append('../src')"
   ]
  },
  {
   "cell_type": "code",
   "execution_count": null,
   "metadata": {
    "collapsed": true
   },
   "outputs": [],
   "source": [
    "# The standard libraries used in the vision system\n"
   ]
  },
  {
   "cell_type": "code",
   "execution_count": null,
   "metadata": {
    "collapsed": false
   },
   "outputs": [],
   "source": [
    "# Used class developed by RoboFEI-HT\n",
    "sys.path.append('../../Blackboard/src') #debug-iPython\n",
    "from CameraCapture import * # Class responsible for performing the observation of domain\n",
    "from LocalizationVision import * # Class responsible for performing the observation of domain\n",
    "from MainFunctions import * # Declaration the main functions"
   ]
  },
  {
   "cell_type": "markdown",
   "metadata": {},
   "source": [
    "---- Main Code ----"
   ]
  },
  {
   "cell_type": "markdown",
   "metadata": {},
   "source": [
    "Starting processes"
   ]
  },
  {
   "cell_type": "code",
   "execution_count": null,
   "metadata": {
    "collapsed": false
   },
   "outputs": [],
   "source": [
    "killedProcess() # Recognize external kill\n",
    "\n",
    "camera = CameraCapture(args) # Object responsible for the camera\n",
    "localization = LocalizationVision(args)\n",
    "head = HeadControl(args)"
   ]
  },
  {
   "cell_type": "markdown",
   "metadata": {},
   "source": [
    "Main loop"
   ]
  },
  {
   "cell_type": "code",
   "execution_count": null,
   "metadata": {
    "collapsed": false
   },
   "outputs": [],
   "source": [
    "while True:\n",
    "    try:\n",
    "        observation = camera.currentObservation()\n",
    "        if 'frame' not in observation.keys():\n",
    "            time.sleep(0.1)\n",
    "            continue\n",
    "        localization.find(observation, 0)\n",
    "        with localization.waitthread:\n",
    "            pass\n",
    "        print 'Passou'\n",
    "    except KeyboardInterrupt:\n",
    "        os.system('clear') # Cleaning terminal\n",
    "        print \"Keyboard interrupt detected\"\n",
    "        break\n",
    "    except VisionException as e:\n",
    "        if e.numbererror == 3:\n",
    "            break\n",
    "    #ini-iPython\n",
    "    except AttributeError:\n",
    "        os.system('clear')\n",
    "        print \"Atributo error\"\n",
    "        break\n",
    "    except cv2.error:\n",
    "        os.system('clear')\n",
    "        print \"Opencv error\"\n",
    "        break\n",
    "    #end-iPython"
   ]
  },
  {
   "cell_type": "markdown",
   "metadata": {},
   "source": [
    "Finishing processes"
   ]
  },
  {
   "cell_type": "code",
   "execution_count": null,
   "metadata": {
    "collapsed": false
   },
   "outputs": [],
   "source": [
    "localization.finalize()\n",
    "camera.finalize()"
   ]
  },
  {
   "cell_type": "code",
   "execution_count": null,
   "metadata": {
    "collapsed": true
   },
   "outputs": [],
   "source": [
    "#ini-iPython"
   ]
  },
  {
   "cell_type": "markdown",
   "metadata": {},
   "source": [
    "## Testando funções e códigos"
   ]
  },
  {
   "cell_type": "code",
   "execution_count": null,
   "metadata": {
    "collapsed": false
   },
   "outputs": [],
   "source": [
    "print 'ola'"
   ]
  },
  {
   "cell_type": "code",
   "execution_count": null,
   "metadata": {
    "collapsed": true
   },
   "outputs": [],
   "source": [
    "#end-iPython"
   ]
  },
  {
   "cell_type": "code",
   "execution_count": null,
   "metadata": {
    "collapsed": true
   },
   "outputs": [],
   "source": []
  }
 ],
 "metadata": {
  "kernelspec": {
   "display_name": "Python 2",
   "language": "python",
   "name": "python2"
  },
  "language_info": {
   "codemirror_mode": {
    "name": "ipython",
    "version": 2
   },
   "file_extension": ".py",
   "mimetype": "text/x-python",
   "name": "python",
   "nbconvert_exporter": "python",
   "pygments_lexer": "ipython2",
   "version": "2.7.6"
  }
 },
 "nbformat": 4,
 "nbformat_minor": 1
}
