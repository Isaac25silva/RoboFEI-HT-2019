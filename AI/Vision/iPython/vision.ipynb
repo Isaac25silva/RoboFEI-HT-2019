{
 "cells": [
  {
   "cell_type": "markdown",
   "metadata": {},
   "source": [
    "---- List of execution parameters ----"
   ]
  },
  {
   "cell_type": "code",
   "execution_count": 1,
   "metadata": {
    "collapsed": true
   },
   "outputs": [],
   "source": [
    "#des-iPython import argparse"
   ]
  },
  {
   "cell_type": "code",
   "execution_count": 2,
   "metadata": {
    "collapsed": false
   },
   "outputs": [],
   "source": [
    "#des-iPython parser = argparse.ArgumentParser(description='Robot Vision', epilog= 'Responsável pela detecção dos objetos em campo / Responsible for detection of Field objects')\n",
    "#des-iPython parser.add_argument('--visionball', '-vb', action=\"store_true\", help = 'Calibra valor para a visão da bola')\n",
    "#des-iPython parser.add_argument('--withoutservo', '-ws', action=\"store_true\", help = 'Sem servos')\n",
    "#des-iPython parser.add_argument('--head', '-he', action=\"store_true\", help = 'Configurando parâmetros do controle da cabeça')\n",
    "#des-iPython \n",
    "\n",
    "#des-iPython args = parser.parse_args()"
   ]
  },
  {
   "cell_type": "markdown",
   "metadata": {},
   "source": [
    "---- Imports ----"
   ]
  },
  {
   "cell_type": "code",
   "execution_count": 3,
   "metadata": {
    "collapsed": true
   },
   "outputs": [],
   "source": [
    "# Libraries to be used\n",
    "import sys\n",
    "#edes-iPython sys.path.append('./include')\n",
    "sys.path.append('../include')\n",
    "#edes-iPython sys.path.append('./src')\n",
    "sys.path.append('../src')"
   ]
  },
  {
   "cell_type": "code",
   "execution_count": 4,
   "metadata": {
    "collapsed": true
   },
   "outputs": [],
   "source": [
    "# The standard libraries used in the vision system\n"
   ]
  },
  {
   "cell_type": "code",
   "execution_count": 5,
   "metadata": {
    "collapsed": false
   },
   "outputs": [
    {
     "name": "stdout",
     "output_type": "stream",
     "text": [
      "Opencv Version: 3.2.0-dev\n",
      "Opencv Version: 3.2.0-dev\n"
     ]
    }
   ],
   "source": [
    "# Used class developed by RoboFEI-HT\n",
    "from CameraCapture import * # Class responsible for performing the observation of domain\n",
    "from MainFunctions import * # Declaration the main functions"
   ]
  },
  {
   "cell_type": "markdown",
   "metadata": {},
   "source": [
    "---- Main Code ----"
   ]
  },
  {
   "cell_type": "markdown",
   "metadata": {},
   "source": [
    "Starting processes"
   ]
  },
  {
   "cell_type": "code",
   "execution_count": 6,
   "metadata": {
    "collapsed": false
   },
   "outputs": [],
   "source": [
    "killedProcess() # Recognize external kill\n",
    "\n",
    "# Creating shared memory (blackboard)\n",
    "#des-iPython bkb = SharedMemory()\n",
    "#des-iPython mem = bkb.shd_constructor(0)\n",
    "\n",
    "#edes-iPython camera = CameraCapture(bkb, mem) # Object responsible for the camera\n",
    "camera = CameraCapture(0, 0)"
   ]
  },
  {
   "cell_type": "markdown",
   "metadata": {},
   "source": [
    "Main loop"
   ]
  },
  {
   "cell_type": "code",
   "execution_count": 7,
   "metadata": {
    "collapsed": false
   },
   "outputs": [
    {
     "name": "stdout",
     "output_type": "stream",
     "text": [
      "Keyboard interrupt detected\n"
     ]
    }
   ],
   "source": [
    "while True:\n",
    "    try:\n",
    "        frame = camera.currentObservation()\n",
    "        sleep(2)\n",
    "    except KeyboardInterrupt:\n",
    "        os.system('clear') # Cleaning terminal\n",
    "        print \"Keyboard interrupt detected\"\n",
    "        break\n",
    "    except VisionException as e:\n",
    "        if e.numbererror == 3:\n",
    "            break\n",
    "    #ini-iPython\n",
    "    except AttributeError:\n",
    "        os.system('clear')\n",
    "        print \"Atributo error\"\n",
    "        break\n",
    "    except cv2.error:\n",
    "        os.system('clear')\n",
    "        print \"Opencv error\"\n",
    "        break\n",
    "    #end-iPython"
   ]
  },
  {
   "cell_type": "markdown",
   "metadata": {},
   "source": [
    "Finishing processes"
   ]
  },
  {
   "cell_type": "code",
   "execution_count": 8,
   "metadata": {
    "collapsed": true
   },
   "outputs": [],
   "source": [
    "camera.finalize()\n",
    "cv2.destroyAllWindows()"
   ]
  },
  {
   "cell_type": "code",
   "execution_count": 9,
   "metadata": {
    "collapsed": true
   },
   "outputs": [],
   "source": [
    "#ini-iPython"
   ]
  },
  {
   "cell_type": "markdown",
   "metadata": {},
   "source": [
    "## Testando funções e códigos"
   ]
  },
  {
   "cell_type": "code",
   "execution_count": 10,
   "metadata": {
    "collapsed": false
   },
   "outputs": [
    {
     "name": "stdout",
     "output_type": "stream",
     "text": [
      "ola\n"
     ]
    }
   ],
   "source": [
    "print 'ola'"
   ]
  },
  {
   "cell_type": "code",
   "execution_count": 11,
   "metadata": {
    "collapsed": true
   },
   "outputs": [],
   "source": [
    "#end-iPython"
   ]
  },
  {
   "cell_type": "code",
   "execution_count": null,
   "metadata": {
    "collapsed": true
   },
   "outputs": [],
   "source": []
  }
 ],
 "metadata": {
  "kernelspec": {
   "display_name": "Python 2",
   "language": "python",
   "name": "python2"
  },
  "language_info": {
   "codemirror_mode": {
    "name": "ipython",
    "version": 2
   },
   "file_extension": ".py",
   "mimetype": "text/x-python",
   "name": "python",
   "nbconvert_exporter": "python",
   "pygments_lexer": "ipython2",
   "version": "2.7.6"
  }
 },
 "nbformat": 4,
 "nbformat_minor": 1
}
