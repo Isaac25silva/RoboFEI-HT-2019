{
 "cells": [
  {
   "cell_type": "markdown",
   "metadata": {},
   "source": [
    "---- List of execution parameters ----"
   ]
  },
  {
   "cell_type": "code",
   "execution_count": null,
   "metadata": {
    "collapsed": true
   },
   "outputs": [],
   "source": [
    "#des-iPython import argparse"
   ]
  },
  {
   "cell_type": "code",
   "execution_count": null,
   "metadata": {
    "collapsed": false
   },
   "outputs": [],
   "source": [
    "#des-iPython parser = argparse.ArgumentParser(description='Robot Vision', epilog= 'Responsável pela detecção dos objetos em campo./Responsible for detection of field objects.')\n",
    "\n",
    "#des-iPython parser.add_argument('--camera', # Full name\n",
    "#des-iPython                     '--ca', # Abbreviation for the name\n",
    "#des-iPython                     action = \"store_true\", # Type variable\n",
    "#des-iPython                     help = 'Calibra valor para a câmera.\\\\' \\\n",
    "#des-iPython                            'Calibrates value for the camera.' # Description of the variable\n",
    "#des-iPython                    )\n",
    "\n",
    "#des-iPython parser.add_argument('--visionball', # Full name\n",
    "#des-iPython                     '--vb', # Abbreviation for the name\n",
    "#des-iPython                     action = \"store_true\", # Type variable\n",
    "#des-iPython                     help = 'Calibra valor para a visão da bola.\\\\' \\\n",
    "#des-iPython                            'Calibrates value for ball view.' # Description of the variable\n",
    "#des-iPython                    )\n",
    "\n",
    "#des-iPython parser.add_argument('--whiteball', # Full name\n",
    "#des-iPython                     '--wb', # Abbreviation for the name\n",
    "#des-iPython                     action = \"store_true\", # Type variable\n",
    "#des-iPython                     help = 'Calibra valor o branco da bola.\\\\' \\\n",
    "#des-iPython                            'Calibrate morphology used on the ball.' # Description of the variable\n",
    "#des-iPython                    )\n",
    "\n",
    "#des-iPython parser.add_argument('--morphologyball', # Full name\n",
    "#des-iPython                     '--mb', # Abbreviation for the name\n",
    "#des-iPython                     action = \"store_true\", # Type variable\n",
    "#des-iPython                     help = 'Calibra morfologia usadas na bola.\\\\' \\\n",
    "#des-iPython                            'Calibrate morphology used on the ball.' # Description of the variable\n",
    "#des-iPython                    )\n",
    "\n",
    "#des-iPython parser.add_argument('--withoutservo', # Full name\n",
    "#des-iPython                     '--ws', # Abbreviation for the name\n",
    "#des-iPython                     action = \"store_true\", # Type variable\n",
    "#des-iPython                     help = 'Sem servos.\\\\' \\\n",
    "#des-iPython                            'Without servomotors.' # Description of the variable\n",
    "#des-iPython                    )\n",
    "\n",
    "#des-iPython parser.add_argument('--head', # Full name\n",
    "#des-iPython                     '--he', # Abbreviation for the name\n",
    "#des-iPython                     action = \"store_true\", # Type variable\n",
    "#des-iPython                     help = 'Configurando parâmetros do controle da cabeça.\\\\' \\\n",
    "#des-iPython                            'Configuring head control parameters.' # Description of the variable\n",
    "#des-iPython                    )\n",
    "\n",
    "#des-iPython parser.add_argument('--localization', # Full name\n",
    "#des-iPython                     '--lo', # Abbreviation for the name\n",
    "#des-iPython                     action = \"store_true\", # Type variable\n",
    "#des-iPython                     help = 'Configurando parâmetros da localização.\\\\' \\\n",
    "#des-iPython                            'Configuring location parameters.' # Description of the variable\n",
    "#des-iPython                    )\n",
    "\n",
    "#des-iPython parser.add_argument('--camerageometric', # Full name\n",
    "#des-iPython                     '--cg', # Abbreviation for the name\n",
    "#des-iPython                     action = \"store_true\", # Type variable\n",
    "#des-iPython                     help = 'Inicia o treinamento da modelagem geometrica de câmera.\\\\' \\\n",
    "#des-iPython                            'Begins geometric camera modeling training.' # Description of the variable\n",
    "#des-iPython                    )\n",
    "\n",
    "#des-iPython args = parser.parse_args()\n",
    "\n",
    "#ini-iPython\n",
    "class test():\n",
    "    camera = False\n",
    "    visionball = False\n",
    "    whiteball = False\n",
    "    morphologyball = False\n",
    "    withoutservo = False\n",
    "    head = False\n",
    "    localization = False\n",
    "    camerageometric = True\n",
    "args = test()\n",
    "#end-iPython"
   ]
  },
  {
   "cell_type": "markdown",
   "metadata": {},
   "source": [
    "---- Imports ----"
   ]
  },
  {
   "cell_type": "code",
   "execution_count": null,
   "metadata": {
    "collapsed": true
   },
   "outputs": [],
   "source": [
    "# Libraries to be used\n",
    "#ini-iPython\n",
    "import os\n",
    "os.chdir('/home/vinicius/Dropbox/Projeto Mestrado/Codigos/RoboFEI-HT_Debug/AI/Vision') #Executando na pasta Vision\n",
    "import sys\n",
    "sys.path.append('./include')\n",
    "sys.path.append('./src')\n",
    "sys.path.append('./iPython') #debug-iPython\n",
    "#end-iPython"
   ]
  },
  {
   "cell_type": "code",
   "execution_count": null,
   "metadata": {
    "collapsed": true
   },
   "outputs": [],
   "source": [
    "# The standard libraries used in the vision system\n"
   ]
  },
  {
   "cell_type": "code",
   "execution_count": null,
   "metadata": {
    "collapsed": false
   },
   "outputs": [],
   "source": [
    "# Used class developed by RoboFEI-HT\n",
    "from CameraCapture import * # Class responsible for performing the observation of domain\n",
    "from LocalizationVision import * # Class responsible for performing the observation of domain\n",
    "from MainFunctions import * # Declaration the main functions\n",
    "from HeadControl import * # "
   ]
  },
  {
   "cell_type": "markdown",
   "metadata": {},
   "source": [
    "---- Main Code ----"
   ]
  },
  {
   "cell_type": "markdown",
   "metadata": {},
   "source": [
    "Starting processes"
   ]
  },
  {
   "cell_type": "code",
   "execution_count": null,
   "metadata": {
    "collapsed": false
   },
   "outputs": [],
   "source": [
    "args.withoutservo = False #debug-iPython\n",
    "if args.camerageometric == True and args.withoutservo == True:\n",
    "    raise VisionException(6, 'It is not possible to do training without a servo, to remove the withoutservo function')\n",
    "\n",
    "killedProcess() # Recognize external kill\n",
    "\n",
    "try:\n",
    "    camera = CameraCapture(args) # Object responsible for the camera\n",
    "except VisionException as e:\n",
    "    #edes-iPython exit()\n",
    "    raise 1\n",
    "\n",
    "args.withoutservo = True #debug-iPython ----- NUNCA LIGA COM OS SERVOS -----\n",
    "if args.withoutservo == False:\n",
    "    try:\n",
    "        head = HeadControl(args)\n",
    "    except VisionException as e:\n",
    "        camera.finalize()\n",
    "        #edes-iPython exit()\n",
    "        print 'Erro no Head'"
   ]
  },
  {
   "cell_type": "code",
   "execution_count": null,
   "metadata": {
    "collapsed": false
   },
   "outputs": [],
   "source": [
    "#edes-iPython if args.camerageometric == True:\n",
    "if False:\n",
    "    head.finalize()"
   ]
  },
  {
   "cell_type": "markdown",
   "metadata": {},
   "source": [
    "Main loop"
   ]
  },
  {
   "cell_type": "code",
   "execution_count": null,
   "metadata": {
    "collapsed": false
   },
   "outputs": [],
   "source": [
    "while True:\n",
    "    try:\n",
    "        observation = camera.currentObservation()\n",
    "        if 'frame' not in observation.keys():\n",
    "            time.sleep(0.1)\n",
    "            continue\n",
    "    except KeyboardInterrupt:\n",
    "        os.system('clear') # Cleaning terminal\n",
    "        print \"Keyboard interrupt detected\"\n",
    "        break\n",
    "    except VisionException as e:\n",
    "        break\n",
    "    #ini-iPython\n",
    "    except AttributeError:\n",
    "        os.system('clear')\n",
    "        print \"Atributo error\"\n",
    "        break\n",
    "    except cv2.error:\n",
    "        os.system('clear')\n",
    "        print \"Opencv error\"\n",
    "        break\n",
    "    #end-iPython"
   ]
  },
  {
   "cell_type": "markdown",
   "metadata": {},
   "source": [
    "Finishing processes"
   ]
  },
  {
   "cell_type": "code",
   "execution_count": null,
   "metadata": {
    "collapsed": false
   },
   "outputs": [],
   "source": [
    "if args.withoutservo == False:\n",
    "    head.finalize()\n",
    "camera.finalize()"
   ]
  },
  {
   "cell_type": "code",
   "execution_count": null,
   "metadata": {
    "collapsed": true
   },
   "outputs": [],
   "source": [
    "#ini-iPython"
   ]
  },
  {
   "cell_type": "markdown",
   "metadata": {},
   "source": [
    "## Testando funções e códigos"
   ]
  },
  {
   "cell_type": "code",
   "execution_count": null,
   "metadata": {
    "collapsed": false
   },
   "outputs": [],
   "source": [
    "print 'ola'"
   ]
  },
  {
   "cell_type": "code",
   "execution_count": null,
   "metadata": {
    "collapsed": true
   },
   "outputs": [],
   "source": [
    "#end-iPython"
   ]
  },
  {
   "cell_type": "code",
   "execution_count": null,
   "metadata": {
    "collapsed": true
   },
   "outputs": [],
   "source": []
  }
 ],
 "metadata": {
  "kernelspec": {
   "display_name": "Python 2",
   "language": "python",
   "name": "python2"
  },
  "language_info": {
   "codemirror_mode": {
    "name": "ipython",
    "version": 2
   },
   "file_extension": ".py",
   "mimetype": "text/x-python",
   "name": "python",
   "nbconvert_exporter": "python",
   "pygments_lexer": "ipython2",
   "version": "2.7.6"
  }
 },
 "nbformat": 4,
 "nbformat_minor": 1
}
