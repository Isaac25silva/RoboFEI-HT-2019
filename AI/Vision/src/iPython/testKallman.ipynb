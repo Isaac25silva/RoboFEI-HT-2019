{
 "cells": [
  {
   "cell_type": "code",
   "execution_count": 1,
   "metadata": {
    "collapsed": false
   },
   "outputs": [],
   "source": [
    "# %pylab inline\n",
    "import sys\n",
    "# import os\n",
    "# from cv2 import __version__\n",
    "# print \"OpenCV \", __version__\n",
    "# import cv2\n",
    "from sympy import *\n",
    "# import pandas as pd\n",
    "# import numpy as np\n",
    "# import matplotlib.pyplot as plt\n",
    "\n",
    "init_printing()\n",
    "reload(sys)  \n",
    "sys.setdefaultencoding('utf8')"
   ]
  },
  {
   "cell_type": "code",
   "execution_count": 4,
   "metadata": {
    "collapsed": false
   },
   "outputs": [],
   "source": [
    "# Matriz de translação\n",
    "t0 = Symbol('t0')\n",
    "t1 = Symbol('t1')\n",
    "t2 = Symbol('t2')\n",
    "\n",
    "x0 = Symbol('x0')\n",
    "x1 = Symbol('x1')\n",
    "x2 = Symbol('x2')\n",
    "\n",
    "v0 = Symbol('v0')\n",
    "v1 = Symbol('v1')\n",
    "v2 = Symbol('v2')\n",
    "\n",
    "a0 = Symbol('a0')\n",
    "a1 = Symbol('a1')\n",
    "a2 = Symbol('a2')"
   ]
  },
  {
   "cell_type": "code",
   "execution_count": 7,
   "metadata": {
    "collapsed": false
   },
   "outputs": [
    {
     "data": {
      "image/png": "[encoded data removed]",
      "text/latex": [
       "$$\\left ( \\frac{- x_{0} + x_{1}}{- t_{0} + t_{1}}, \\quad \\frac{- x_{1} + x_{2}}{- t_{1} + t_{2}}\\right )$$"
      ],
      "text/plain": [
       "⎛-x₀ + x₁  -x₁ + x₂⎞\n",
       "⎜────────, ────────⎟\n",
       "⎝-t₀ + t₁  -t₁ + t₂⎠"
      ]
     },
     "execution_count": 7,
     "metadata": {},
     "output_type": "execute_result"
    }
   ],
   "source": [
    "v1 = (x1-x0)/(t1-t0)\n",
    "v2 = (x2-x1)/(t2-t1)\n",
    "v1, v2"
   ]
  },
  {
   "cell_type": "code",
   "execution_count": 11,
   "metadata": {
    "collapsed": false
   },
   "outputs": [
    {
     "data": {
      "image/png": "[encoded data removed]",
      "text/latex": [
       "$$- \\frac{1}{\\left(t_{0} - t_{1}\\right) \\left(t_{1} - t_{2}\\right)^{2}} \\left(\\left(t_{0} - t_{1}\\right) \\left(x_{1} - x_{2}\\right) - \\left(t_{1} - t_{2}\\right) \\left(x_{0} - x_{1}\\right)\\right)$$"
      ],
      "text/plain": [
       "-((t₀ - t₁)⋅(x₁ - x₂) - (t₁ - t₂)⋅(x₀ - x₁)) \n",
       "─────────────────────────────────────────────\n",
       "                                2            \n",
       "             (t₀ - t₁)⋅(t₁ - t₂)             "
      ]
     },
     "execution_count": 11,
     "metadata": {},
     "output_type": "execute_result"
    }
   ],
   "source": [
    "a2 = (v2-v1)/(t2-t1)\n",
    "simplify(a2)"
   ]
  },
  {
   "cell_type": "code",
   "execution_count": 18,
   "metadata": {
    "collapsed": false
   },
   "outputs": [
    {
     "data": {
      "image/png": "[encoded data removed]",
      "text/latex": [
       "$$0.5 a t^{2} + t v_{0 t} + x_{t}$$"
      ],
      "text/plain": [
       "       2                \n",
       "0.5⋅a⋅t  + t⋅v_0_t + x_t"
      ]
     },
     "execution_count": 18,
     "metadata": {},
     "output_type": "execute_result"
    }
   ],
   "source": [
    "xt = Symbol('x_t')\n",
    "vt = Symbol('v_t')\n",
    "t = Symbol('t')\n",
    "a = Symbol('a')\n",
    "xt1 = xt + v0t*t + 0.5*a*pow(t,2)\n",
    "xt1"
   ]
  },
  {
   "cell_type": "code",
   "execution_count": null,
   "metadata": {
    "collapsed": true
   },
   "outputs": [],
   "source": []
  }
 ],
 "metadata": {
  "kernelspec": {
   "display_name": "Python 2",
   "language": "python",
   "name": "python2"
  },
  "language_info": {
   "codemirror_mode": {
    "name": "ipython",
    "version": 2
   },
   "file_extension": ".py",
   "mimetype": "text/x-python",
   "name": "python",
   "nbconvert_exporter": "python",
   "pygments_lexer": "ipython2",
   "version": "2.7.12"
  }
 },
 "nbformat": 4,
 "nbformat_minor": 0
}
