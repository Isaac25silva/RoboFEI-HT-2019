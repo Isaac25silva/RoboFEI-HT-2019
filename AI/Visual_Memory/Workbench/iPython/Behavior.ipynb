{
 "cells": [
  {
   "cell_type": "code",
   "execution_count": 1,
   "metadata": {
    "collapsed": true
   },
   "outputs": [],
   "source": [
    "#ini-iPython"
   ]
  },
  {
   "cell_type": "markdown",
   "metadata": {},
   "source": [
    "# Executando no diretório principal"
   ]
  },
  {
   "cell_type": "code",
   "execution_count": 2,
   "metadata": {
    "collapsed": true
   },
   "outputs": [],
   "source": [
    "import os\n",
    "os.chdir('../../') #Executando na pasta Visual_Memory\n",
    "import sys\n",
    "sys.path.append('./include')\n",
    "sys.path.append('./src')\n",
    "sys.path.append('./Workbench/iPython')\n",
    "#end-iPython"
   ]
  },
  {
   "cell_type": "markdown",
   "metadata": {},
   "source": [
    "---- Imports ----"
   ]
  },
  {
   "cell_type": "code",
   "execution_count": 3,
   "metadata": {
    "collapsed": true
   },
   "outputs": [],
   "source": [
    "# Libraries to be used.\n",
    "#des-iPython import sys\n",
    "#des-iPython sys.path.append('../include')\n",
    "#des-iPython sys.path.append('../src')"
   ]
  },
  {
   "cell_type": "code",
   "execution_count": 4,
   "metadata": {
    "collapsed": true
   },
   "outputs": [],
   "source": [
    "# The standard libraries used in the visual memory system.\n"
   ]
  },
  {
   "cell_type": "code",
   "execution_count": 5,
   "metadata": {
    "collapsed": false
   },
   "outputs": [],
   "source": [
    "# Used class developed by RoboFEI-HT.\n",
    "#ini-iPython - Usando Classe Basic como instanciação\n",
    "os.system(\"sed -i '/@abstractmethod/d' ./Workbench/iPython/Basic.py\")\n",
    "os.system(\"sed -i '/__metaclass__/d' ./Workbench/iPython/Basic.py\")\n",
    "#end-iPython\n",
    "from Basic import * # Standard and abstract class.\n",
    "from Robots import * # Class responsible for performing robots tracking.\n",
    "from Landmark import * # Class responsible for performing landmarks tracking."
   ]
  },
  {
   "cell_type": "markdown",
   "metadata": {},
   "source": [
    "# Class Behavior\n",
    "Class responsible for managing the behavior of Visual Memory.\n",
    "doxygen-iPython"
   ]
  },
  {
   "cell_type": "code",
   "execution_count": 6,
   "metadata": {
    "collapsed": true
   },
   "outputs": [],
   "source": [
    "#des-iPython class Behavior(Basic):\n",
    "#ini-tab -> Iniciando código classe"
   ]
  },
  {
   "cell_type": "markdown",
   "metadata": {},
   "source": [
    "---- Variables ----"
   ]
  },
  {
   "cell_type": "markdown",
   "metadata": {},
   "source": [
    "# __posrobot\n",
    "Variable used to instantiate class responsible for robot speed.\n",
    "doxygen-iPython"
   ]
  },
  {
   "cell_type": "code",
   "execution_count": 7,
   "metadata": {
    "collapsed": true
   },
   "outputs": [],
   "source": [
    "__posrobot = None #self-iPython __posrobot"
   ]
  },
  {
   "cell_type": "markdown",
   "metadata": {},
   "source": [
    "# parameters\n",
    "Variable used to instantiate class responsible for robot speed.\n",
    "doxygen-iPython"
   ]
  },
  {
   "cell_type": "code",
   "execution_count": 8,
   "metadata": {
    "collapsed": true
   },
   "outputs": [],
   "source": [
    "parameters = None #self-iPython parameters"
   ]
  },
  {
   "cell_type": "code",
   "execution_count": 10,
   "metadata": {
    "collapsed": true
   },
   "outputs": [],
   "source": [
    "#ini-iPython\n",
    "\n",
    "# ------- Lista de funções herdadas -------\n",
    "\n",
    "\n",
    "\n",
    "# ------- Lista variaveis -------\n",
    "\n",
    "#self-iPython me\n",
    "#self-iPython land\n",
    "#self-iPython robots\n",
    "\n",
    "#self-iPython __newrobots\n",
    "\n",
    "# ------- Lista de funções -------\n",
    "\n",
    "#self-iPython run\n",
    "#self-iPython readDataLandmarks\n",
    "#self-iPython readDataRobots\n",
    "#self-iPython distributeDataRobots\n",
    "#self-iPython readDataBall\n",
    "\n",
    "#end-iPython - Fim listas"
   ]
  },
  {
   "cell_type": "markdown",
   "metadata": {},
   "source": [
    "# Constructor Class\n",
    "doxygen-iPython"
   ]
  },
  {
   "cell_type": "code",
   "execution_count": 11,
   "metadata": {
    "collapsed": false
   },
   "outputs": [
    {
     "name": "stdout",
     "output_type": "stream",
     "text": [
      "KALMAN FILTER - LANDMARKS section not found!\n"
     ]
    }
   ],
   "source": [
    "#des-iPython def __init__(self):\n",
    "#ini-tab -> Criando construtor\n",
    "#edes-iPython super(Behavior, self).__init__(\"Settings\", \"Visual Memory\")\n",
    "self = Basic(\"Settings\", \"Visual Memory\")\n",
    "\n",
    "# Creating default values and reading values\n",
    "parameters = {\n",
    "    \"number_robots\": 4,\n",
    "    \"execution_period_ms\": 100,\n",
    "    \"weight_robot\": 10,\n",
    "}\n",
    "parameters = self._conf.readVariables(parameters)\n",
    "\n",
    "# Creating objects to be tracking\n",
    "me = Speeds( )\n",
    "land = Landmark(me)\n",
    "\n",
    "# Support Variables\n",
    "robots = []\n",
    "__newrobots = []\n",
    "__posrobot = [0, 0]\n",
    "\n",
    "for i in xrange(parameters[\"number_robots\"]-1):\n",
    "    __newrobots.append(Robots(me, __posrobot))"
   ]
  },
  {
   "cell_type": "code",
   "execution_count": 12,
   "metadata": {
    "collapsed": true
   },
   "outputs": [],
   "source": [
    "#end-tab -> Finalizando construtor"
   ]
  },
  {
   "cell_type": "code",
   "execution_count": 13,
   "metadata": {
    "collapsed": true
   },
   "outputs": [],
   "source": [
    "#ini-iPython"
   ]
  },
  {
   "cell_type": "markdown",
   "metadata": {},
   "source": [
    "## Teste construtor"
   ]
  },
  {
   "cell_type": "code",
   "execution_count": 14,
   "metadata": {
    "collapsed": false
   },
   "outputs": [
    {
     "data": {
      "text/plain": [
       "[<Robots(Thread-4, started 140499270072064)>,\n",
       " <Robots(Thread-5, started 140499261679360)>]"
      ]
     },
     "execution_count": 14,
     "metadata": {},
     "output_type": "execute_result"
    }
   ],
   "source": [
    "self._end( )\n",
    "__newrobots\n",
    "#end-iPython"
   ]
  },
  {
   "cell_type": "markdown",
   "metadata": {},
   "source": [
    "# readDataLandmarks\n",
    "Responsible for reading the data coming from the vision system.\n",
    "doxygen-iPython"
   ]
  },
  {
   "cell_type": "code",
   "execution_count": 15,
   "metadata": {
    "collapsed": false
   },
   "outputs": [],
   "source": [
    "#eself-iPython readDataLandmarks\n",
    "#edes-iPython def readDataLandmarks(self, old):\n",
    "def readDataLandmarks(old):\n",
    "    if self._bkb.read_float(\"VISION_LAND_TAG\") == 1:\n",
    "        data = [{\n",
    "                \"tag\": 1,\n",
    "                \"pos\": [self._bkb.read_float(\"VISION_LAND_X\"), self._bkb.read_float(\"VISION_LAND_Y\")],\n",
    "                \"time\": self._bkb.read_float(\"VISION_LAND_TIME\"),\n",
    "                \"movement\": self._bkb.read_float(\"VISION_LAND_MOV\"),\n",
    "            }]\n",
    "        \n",
    "        self._bkb.write_float(\"VISION_LAND_TAG\", 0)\n",
    "        return old + data\n",
    "    else:\n",
    "        return old #self-iPython readDataLandmarks"
   ]
  },
  {
   "cell_type": "code",
   "execution_count": 16,
   "metadata": {
    "collapsed": true
   },
   "outputs": [],
   "source": [
    "#ini-iPython"
   ]
  },
  {
   "cell_type": "markdown",
   "metadata": {},
   "source": [
    "## Teste readDataLandmarks"
   ]
  },
  {
   "cell_type": "code",
   "execution_count": 17,
   "metadata": {
    "collapsed": false
   },
   "outputs": [
    {
     "name": "stdout",
     "output_type": "stream",
     "text": [
      "a: [{'tag': 1, 'pos': [2.0, 3.0], 'movement': 4.0, 'time': 4.0}]\n",
      "a: [{'tag': 1, 'pos': [2.0, 3.0], 'movement': 4.0, 'time': 4.0}]\n"
     ]
    }
   ],
   "source": [
    "self._bkb.write_float(\"VISION_LAND_TAG\", 1)\n",
    "self._bkb.write_float(\"VISION_LAND_X\", 2)\n",
    "self._bkb.write_float(\"VISION_LAND_Y\", 3)\n",
    "self._bkb.write_float(\"VISION_LAND_TIME\", 4)\n",
    "self._bkb.write_float(\"VISION_LAND_MOV\", 4)\n",
    "a = []\n",
    "a = readDataLandmarks(a)\n",
    "print \"a:\", a\n",
    "a = readDataLandmarks(a)\n",
    "print \"a:\", a\n",
    "#end-iPython"
   ]
  },
  {
   "cell_type": "markdown",
   "metadata": {},
   "source": [
    "# readDataRobots\n",
    ".\n",
    "doxygen-iPython"
   ]
  },
  {
   "cell_type": "code",
   "execution_count": 18,
   "metadata": {
    "collapsed": false
   },
   "outputs": [],
   "source": [
    "#eself-iPython readDataRobots\n",
    "#edes-iPython def readDataRobots(self, old):\n",
    "def readDataRobots(old):\n",
    "    data = []\n",
    "    for number in xrange(1, parameters[\"number_robots\"]):\n",
    "#         print \"number:\", number #debug-iPython\n",
    "        if self._bkb.read_float(\"VISION_RB\" + str(number).zfill(2) + \"_TAG\") == 0:\n",
    "            continue\n",
    "        \n",
    "        data.append({\n",
    "            \"tag\": self._bkb.read_float(\"VISION_RB\" + str(number).zfill(2) + \"_TAG\") - 2,\n",
    "            \"pos\": [self._bkb.read_float(\"VISION_RB\" + str(number).zfill(2) + \"_X\"), self._bkb.read_float(\"VISION_RB\" + str(number).zfill(2) + \"_Y\")],\n",
    "            \"time\": self._bkb.read_float(\"VISION_RB\" + str(number).zfill(2) + \"_TIME\"),\n",
    "            \"movement\": self._bkb.read_float(\"VISION_RB\" + str(number).zfill(2) + \"_MOV\"),\n",
    "        })\n",
    "        \n",
    "        self._bkb.write_float(\"VISION_RB\" + str(number).zfill(2) + \"_TAG\", 0)\n",
    "    \n",
    "    data = sorted(old + data, key= lambda k: k[\"time\"])\n",
    "    \n",
    "    return data #self-iPython readDataRobots"
   ]
  },
  {
   "cell_type": "code",
   "execution_count": 19,
   "metadata": {
    "collapsed": true
   },
   "outputs": [],
   "source": [
    "#ini-iPython"
   ]
  },
  {
   "cell_type": "markdown",
   "metadata": {},
   "source": [
    "## Teste readDataRobots"
   ]
  },
  {
   "cell_type": "code",
   "execution_count": 20,
   "metadata": {
    "collapsed": false
   },
   "outputs": [
    {
     "name": "stdout",
     "output_type": "stream",
     "text": [
      "a: [{'tag': 0.0, 'pos': [1.0, 2.0], 'movement': 3.0, 'time': 3.0}]\n",
      "a: [{'tag': -1.0, 'pos': [1.0, 2.0], 'movement': 2.0, 'time': 2.0}, {'tag': 0.0, 'pos': [1.0, 2.0], 'movement': 3.0, 'time': 3.0}]\n"
     ]
    }
   ],
   "source": [
    "self._bkb.write_float(\"VISION_RB01_TAG\", 2)\n",
    "self._bkb.write_float(\"VISION_RB01_X\", 1)\n",
    "self._bkb.write_float(\"VISION_RB01_Y\", 2)\n",
    "self._bkb.write_float(\"VISION_RB01_TIME\", 3)\n",
    "self._bkb.write_float(\"VISION_RB01_MOV\", 3)\n",
    "\n",
    "a = []\n",
    "a = readDataRobots(a)\n",
    "print \"a:\", a\n",
    "\n",
    "self._bkb.write_float(\"VISION_RB02_TAG\", 1)\n",
    "self._bkb.write_float(\"VISION_RB02_X\", 1)\n",
    "self._bkb.write_float(\"VISION_RB02_Y\", 2)\n",
    "self._bkb.write_float(\"VISION_RB02_TIME\", 2)\n",
    "self._bkb.write_float(\"VISION_RB02_MOV\", 2)\n",
    "\n",
    "a = readDataRobots(a)\n",
    "print \"a:\", a\n",
    "#end-iPython"
   ]
  },
  {
   "cell_type": "markdown",
   "metadata": {},
   "source": [
    "# distributeDataRobots\n",
    ".\n",
    "doxygen-iPython"
   ]
  },
  {
   "cell_type": "code",
   "execution_count": 21,
   "metadata": {
    "collapsed": true
   },
   "outputs": [],
   "source": [
    "#eself-iPython distributeDataRobots\n",
    "#edes-iPython def distributeDataRobots(self, datarobots):\n",
    "def distributeDataRobots(datarobots):\n",
    "    if datarobots == []:\n",
    "        return\n",
    "    \n",
    "    index = 0\n",
    "    time = -1\n",
    "    while index < len(datarobots):\n",
    "        data = datarobots[index]\n",
    "        print \"Dado analisado:\", data #debug-iPython\n",
    "        \n",
    "        # First input data\n",
    "        if robots == []:\n",
    "            print \"Primeira leitura\" #debug-iPython\n",
    "            candidates = __newrobots.pop(0)\n",
    "            candidates.updateThread(data)\n",
    "            robots.append(candidates)\n",
    "            datarobots.pop(index)\n",
    "            print \"\\n\" #debug-iPython\n",
    "            continue\n",
    "            \n",
    "        \n",
    "        if data[\"time\"] != time:\n",
    "            opponent = [ robot for robot in robots if robot.timenumber == -1 ]\n",
    "            indefinite = [ robot for robot in robots if robot.timenumber == 0 ]\n",
    "            teammate = [ robot for robot in robots if robot.timenumber == 1 ]\n",
    "            print \"Criado listas:\" #debug-iPython\n",
    "            print \"opponent:\", opponent #debug-iPython\n",
    "            print \"indefinite:\", indefinite #debug-iPython\n",
    "            print \"teammate:\", teammate #debug-iPython\n",
    "            time = data[\"time\"]\n",
    "\n",
    "        \n",
    "        # Calculates the similarity of the data with the objects\n",
    "        #  Saving position\n",
    "        __posrobot[0], __posrobot[1] = data[\"pos\"]\n",
    "        \n",
    "        #  Generating Candidates\n",
    "        if data[\"tag\"] == -1:\n",
    "            candidates = opponent + indefinite\n",
    "        elif data[\"tag\"] == 1:\n",
    "            candidates = indefinite + teammate\n",
    "        else:\n",
    "            candidates = opponent + indefinite + teammate\n",
    "        print \"Candidatos feitos:\", candidates #debug-iPython\n",
    "        \n",
    "        #  Calculates the similarity\n",
    "        candidates.sort()\n",
    "        \n",
    "        #  Sends the data to the most similar object and run object update\n",
    "        if (candidates == [] or candidates[0].weight > parameters[\"weight_robot\"]) and __newrobots != []:\n",
    "            print \"Nenhum candidato proximo\"\n",
    "            candidates = __newrobots.pop(0)\n",
    "            candidates.updateThread(data)\n",
    "            robots.append(candidates)\n",
    "            datarobots.pop(index)\n",
    "            index -= 1\n",
    "        else:\n",
    "            if candidates[0].timenumber == -1:\n",
    "                print \"candidato adversario\"\n",
    "                opponent.remove(candidates[0])\n",
    "                candidates[0].updateThread(data)\n",
    "                datarobots.pop(index)\n",
    "                index -= 1\n",
    "            elif candidates[0].timenumber == 1:\n",
    "                print \"cadidato aliado\"\n",
    "                teammate.remove(candidates[0])\n",
    "                candidates[0].updateThread(data)\n",
    "                datarobots.pop(index)\n",
    "                index -= 1\n",
    "            else:\n",
    "                print \"candidato sei lá\"\n",
    "                indefinite.remove(candidates[0])\n",
    "                candidates[0].updateThread(data)\n",
    "                datarobots.pop(index)\n",
    "                index -= 1\n",
    "        \n",
    "        print \"\\n\" #debug-iPython\n",
    "        index += 1 #self-iPython distributeDataRobots"
   ]
  },
  {
   "cell_type": "code",
   "execution_count": 22,
   "metadata": {
    "collapsed": true
   },
   "outputs": [],
   "source": [
    "#ini-iPython"
   ]
  },
  {
   "cell_type": "markdown",
   "metadata": {},
   "source": [
    "## Teste distributeDataRobots"
   ]
  },
  {
   "cell_type": "code",
   "execution_count": 23,
   "metadata": {
    "collapsed": false
   },
   "outputs": [
    {
     "name": "stdout",
     "output_type": "stream",
     "text": [
      "Dado analisado: {'tag': -1, 'pos': [4, 6], 'movement': 0, 'time': 1.0}\n",
      "Primeira leitura\n",
      "\n",
      "\n",
      "Dado analisado: {'tag': 1, 'pos': [4, 6], 'movement': 0, 'time': 1.0}\n",
      "Criado listas:\n",
      "opponent: [<Robots(Thread-4, started 140499270072064)>]\n",
      "indefinite: []\n",
      "teammate: []\n",
      "Candidatos feitos: []\n",
      "Nenhum candidato proximo\n",
      "\n",
      "\n",
      "Dado analisado: {'tag': 0, 'pos': [4, 6], 'movement': 0, 'time': 1.0}\n",
      "Candidatos feitos: [<Robots(Thread-4, started 140499270072064)>]\n",
      "candidato adversario\n",
      "\n",
      "\n",
      "Dado analisado: {'tag': 1, 'pos': [4, 6], 'movement': 0, 'time': 2.0}\n",
      "Criado listas:\n",
      "opponent: [<Robots(Thread-4, started 140499270072064)>]\n",
      "indefinite: []\n",
      "teammate: [<Robots(Thread-5, started 140499261679360)>]\n",
      "Candidatos feitos: [<Robots(Thread-5, started 140499261679360)>]\n",
      "cadidato aliado\n",
      "\n",
      "\n",
      "Dado analisado: {'tag': 1, 'pos': [3, 2], 'movement': 0, 'time': 3.0}\n",
      "Criado listas:\n",
      "opponent: [<Robots(Thread-4, started 140499270072064)>]\n",
      "indefinite: []\n",
      "teammate: [<Robots(Thread-5, started 140499261679360)>]\n",
      "Candidatos feitos: [<Robots(Thread-5, started 140499261679360)>]\n",
      "cadidato aliado\n",
      "\n",
      "\n"
     ]
    }
   ],
   "source": [
    "data = [{\n",
    "    \"tag\": 1,\n",
    "    \"pos\": [3, 2],\n",
    "    \"time\": 3.0,\n",
    "    \"movement\": 0,\n",
    "},\n",
    "    {\n",
    "    \"tag\": -1,\n",
    "    \"pos\": [4, 6],\n",
    "    \"time\": 1.0,\n",
    "    \"movement\": 0,\n",
    "},\n",
    "    {\n",
    "    \"tag\": 1,\n",
    "    \"pos\": [4, 6],\n",
    "    \"time\": 1.0,\n",
    "    \"movement\": 0,\n",
    "},\n",
    "    {\n",
    "    \"tag\": 0,\n",
    "    \"pos\": [4, 6],\n",
    "    \"time\": 1.0,\n",
    "    \"movement\": 0,\n",
    "},\n",
    "    {\n",
    "    \"tag\": 1,\n",
    "    \"pos\": [4, 6],\n",
    "    \"time\": 2.0,\n",
    "    \"movement\": 0,\n",
    "}]\n",
    "\n",
    "data = sorted(data, key= lambda k: k[\"time\"])\n",
    "\n",
    "distributeDataRobots(data)\n",
    "\n",
    "#end-iPython"
   ]
  },
  {
   "cell_type": "markdown",
   "metadata": {},
   "source": [
    "# readDataBall\n",
    "Responsible for reading the data coming from the vision system.\n",
    "doxygen-iPython"
   ]
  },
  {
   "cell_type": "code",
   "execution_count": 24,
   "metadata": {
    "collapsed": false
   },
   "outputs": [],
   "source": [
    "#eself-iPython readDataBall\n",
    "#edes-iPython def readDataBall(self):\n",
    "def readDataBall(old):\n",
    "    if self._bkb.read_float(\"VISION_BALL_TAG\") == 1:\n",
    "        data = [{\n",
    "                \"tag\": 1,\n",
    "                \"pos\": [self._bkb.read_float(\"VISION_BALL_X\"), self._bkb.read_float(\"VISION_BALL_Y\")],\n",
    "                \"time\": self._bkb.read_float(\"VISION_BALL_TIME\"),\n",
    "                \"movement\": self._bkb.read_float(\"VISION_BALL_MOV\"),\n",
    "            }]\n",
    "        \n",
    "        self._bkb.write_float(\"VISION_BALL_TAG\", 0)\n",
    "        return old + data\n",
    "    else:\n",
    "        return old #self-iPython readDataBall"
   ]
  },
  {
   "cell_type": "code",
   "execution_count": 25,
   "metadata": {
    "collapsed": true
   },
   "outputs": [],
   "source": [
    "#ini-iPython"
   ]
  },
  {
   "cell_type": "markdown",
   "metadata": {},
   "source": [
    "## Teste readDataLandmarks"
   ]
  },
  {
   "cell_type": "code",
   "execution_count": 26,
   "metadata": {
    "collapsed": false
   },
   "outputs": [
    {
     "name": "stdout",
     "output_type": "stream",
     "text": [
      "a: [{'tag': 1, 'pos': [2.0, 3.0], 'movement': 5.0, 'time': 4.0}]\n",
      "a: [{'tag': 1, 'pos': [2.0, 3.0], 'movement': 5.0, 'time': 4.0}]\n"
     ]
    }
   ],
   "source": [
    "self._bkb.write_float(\"VISION_LAND_TAG\", 1)\n",
    "self._bkb.write_float(\"VISION_LAND_X\", 2)\n",
    "self._bkb.write_float(\"VISION_LAND_Y\", 3)\n",
    "self._bkb.write_float(\"VISION_LAND_TIME\", 4)\n",
    "self._bkb.write_float(\"VISION_LAND_MOV\", 5)\n",
    "a = []\n",
    "a = readDataLandmarks(a)\n",
    "print \"a:\", a\n",
    "a = readDataLandmarks(a)\n",
    "print \"a:\", a\n",
    "#end-iPython"
   ]
  },
  {
   "cell_type": "markdown",
   "metadata": {},
   "source": [
    "# run\n",
    ".\n",
    "doxygen-iPython"
   ]
  },
  {
   "cell_type": "code",
   "execution_count": 27,
   "metadata": {
    "collapsed": false
   },
   "outputs": [
    {
     "name": "stdout",
     "output_type": "stream",
     "text": [
      "start: 1506368134.17\n",
      "delta: 0.49950003624\n",
      "Aguardando 499.50003624 ms\n",
      "Período finalizado\n"
     ]
    }
   ],
   "source": [
    "#eself-iPython run\n",
    "#des-iPython def run(self):\n",
    "#ini-tab - Função run\n",
    "# Initiating variables\n",
    "datalandmarks = []\n",
    "datarobots = []\n",
    "databall = []\n",
    "\n",
    "#des-iPython while True:\n",
    "#ini-tab - Função while\n",
    "# Start counting time\n",
    "start = time.time()\n",
    "print \"start:\", start #debug-iPython\n",
    "\n",
    "# Reading data from landmarks\n",
    "datalandmarks = readDataLandmarks(datalandmarks)\n",
    "\n",
    "if datalandmarks != []:\n",
    "    # Predict robot speed (me)\n",
    "    me.update(land(datalandmarks.pop(0)))\n",
    "else:\n",
    "    # Predicts only the new landmarks position\n",
    "    land.predict(movements = 1)\n",
    "\n",
    "# Reading robots data\n",
    "datarobots = readDataRobots(datarobots)\n",
    "\n",
    "# Distribute the data to the robot objects\n",
    "distributeDataRobots(datarobots)\n",
    "\n",
    "# # Reading ball data\n",
    "# databall = readDataBall(databall)\n",
    "\n",
    "# # Distribute the data to the ball objects\n",
    "# Batata\n",
    "\n",
    "# # Doing cleaning and objects (lost objects)\n",
    "# Batata\n",
    "\n",
    "# # Predicts objects (Now)\n",
    "# Batata\n",
    "\n",
    "# # Send object for vision screening\n",
    "# Batata\n",
    "\n",
    "# Wait an instant on the remaining time\n",
    "delta = parameters[\"execution_period_ms\"]*1e-3 - time.time() + start\n",
    "print \"delta:\", delta #debug-iPython\n",
    "if delta > 0:\n",
    "    print \"Aguardando\", delta*1e3, \"ms\" #debug-iPython\n",
    "    time.sleep(delta) #self-iPython run\n",
    "    print \"Período finalizado\" #debug-iPython   \n",
    "#end-tab - Função while\n",
    "#end-tab - Função run"
   ]
  },
  {
   "cell_type": "code",
   "execution_count": 28,
   "metadata": {
    "collapsed": true
   },
   "outputs": [],
   "source": [
    "#ini-iPython"
   ]
  },
  {
   "cell_type": "markdown",
   "metadata": {},
   "source": [
    "## Teste run"
   ]
  },
  {
   "cell_type": "code",
   "execution_count": 29,
   "metadata": {
    "collapsed": false
   },
   "outputs": [],
   "source": [
    "\n",
    "#end-iPython"
   ]
  },
  {
   "cell_type": "code",
   "execution_count": 30,
   "metadata": {
    "collapsed": true
   },
   "outputs": [],
   "source": [
    "#end-tab -> Finalizando classe"
   ]
  },
  {
   "cell_type": "code",
   "execution_count": 31,
   "metadata": {
    "collapsed": true
   },
   "outputs": [],
   "source": [
    "#ini-iPython"
   ]
  },
  {
   "cell_type": "markdown",
   "metadata": {},
   "source": [
    "# nova_variavel\n",
    ".\n",
    "doxygen-iPython"
   ]
  },
  {
   "cell_type": "code",
   "execution_count": 32,
   "metadata": {
    "collapsed": true
   },
   "outputs": [],
   "source": [
    "nova_variavel = None #self-iPython nova_variavel"
   ]
  },
  {
   "cell_type": "markdown",
   "metadata": {},
   "source": [
    "# nova_funcao\n",
    ".\n",
    "doxygen-iPython"
   ]
  },
  {
   "cell_type": "code",
   "execution_count": 33,
   "metadata": {
    "collapsed": true
   },
   "outputs": [],
   "source": [
    "# eself-iPython nova_funcao\n",
    "# edes-iPython def nova_funcao(self, variaveis_funcao):\n",
    "def nova_funcao(variaveis_funcao):\n",
    "    pass # self-iPython nova_funcao"
   ]
  },
  {
   "cell_type": "code",
   "execution_count": 34,
   "metadata": {
    "collapsed": true
   },
   "outputs": [],
   "source": [
    "#ini-iPython"
   ]
  },
  {
   "cell_type": "markdown",
   "metadata": {},
   "source": [
    "## Teste nova_funcao"
   ]
  },
  {
   "cell_type": "code",
   "execution_count": 35,
   "metadata": {
    "collapsed": false
   },
   "outputs": [],
   "source": [
    "\n",
    "#end-iPython"
   ]
  },
  {
   "cell_type": "code",
   "execution_count": 36,
   "metadata": {
    "collapsed": false
   },
   "outputs": [],
   "source": [
    "#end-iPython"
   ]
  }
 ],
 "metadata": {
  "kernelspec": {
   "display_name": "Python 2",
   "language": "python",
   "name": "python2"
  },
  "language_info": {
   "codemirror_mode": {
    "name": "ipython",
    "version": 2
   },
   "file_extension": ".py",
   "mimetype": "text/x-python",
   "name": "python",
   "nbconvert_exporter": "python",
   "pygments_lexer": "ipython2",
   "version": "2.7.6"
  }
 },
 "nbformat": 4,
 "nbformat_minor": 1
}
