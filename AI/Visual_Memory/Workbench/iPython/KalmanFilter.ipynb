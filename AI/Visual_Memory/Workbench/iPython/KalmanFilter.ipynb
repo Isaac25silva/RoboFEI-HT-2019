{
 "cells": [
  {
   "cell_type": "code",
   "execution_count": null,
   "metadata": {
    "collapsed": true
   },
   "outputs": [],
   "source": [
    "#ini-iPython"
   ]
  },
  {
   "cell_type": "markdown",
   "metadata": {},
   "source": [
    "# Executando no diretório principal"
   ]
  },
  {
   "cell_type": "code",
   "execution_count": null,
   "metadata": {
    "collapsed": false
   },
   "outputs": [],
   "source": [
    "import os\n",
    "os.chdir('../../') #Executando na pasta Visual_Memory\n",
    "import sys\n",
    "sys.path.append('./include')\n",
    "sys.path.append('./src')\n",
    "sys.path.append('./Workbench/iPython')\n",
    "#end-iPython"
   ]
  },
  {
   "cell_type": "markdown",
   "metadata": {
    "collapsed": true
   },
   "source": [
    "---- Imports ----"
   ]
  },
  {
   "cell_type": "code",
   "execution_count": null,
   "metadata": {
    "collapsed": true
   },
   "outputs": [],
   "source": [
    "# Libraries to be used.\n",
    "import sys\n",
    "#des-iPython sys.path.append(\"../include\")\n",
    "#des-iPython sys.path.append(\"../src\")"
   ]
  },
  {
   "cell_type": "code",
   "execution_count": null,
   "metadata": {
    "collapsed": true
   },
   "outputs": [],
   "source": [
    "# The standard libraries used in the visual memory system.\n",
    "import time # Libraries used for time management.\n",
    "import numpy as np # Used for matrix calculations."
   ]
  },
  {
   "cell_type": "code",
   "execution_count": null,
   "metadata": {
    "collapsed": false
   },
   "outputs": [],
   "source": [
    "# Used class developed by RoboFEI-HT.\n",
    "#ini-iPython - Usando Classe Basic como instanciação \n",
    "os.system(\"sed -i 's/_//g' ./Workbench/iPython/Basic.py\")\n",
    "os.system(\"sed -i 's/init/__init__/g' ./Workbench/iPython/Basic.py\")\n",
    "os.system(\"sed -i '/@abstractmethod/d' ./Workbench/iPython/Basic.py\")\n",
    "#end-iPython\n",
    "from Basic import * # _Standard and abstract class.\n",
    "from Speeds import * # Class responsible for managing the robot\"s possible speeds (me).\n",
    "sym.init_printing() #debug-iPython"
   ]
  },
  {
   "cell_type": "markdown",
   "metadata": {
    "collapsed": true
   },
   "source": [
    "# Class to KalmanFilter\n",
    "Class responsible for implementing kalman filter methods.\n",
    "doxygen-iPython"
   ]
  },
  {
   "cell_type": "code",
   "execution_count": null,
   "metadata": {
    "collapsed": true
   },
   "outputs": [],
   "source": [
    "#des-iPython class KalmanFilter(Basic):\n",
    "#ini-tab -> Iniciando código classe\n",
    "#des-iPython __metaclass__ = ABCMeta"
   ]
  },
  {
   "cell_type": "markdown",
   "metadata": {},
   "source": [
    "---- Variables ----"
   ]
  },
  {
   "cell_type": "markdown",
   "metadata": {},
   "source": [
    "# _parameters\n",
    "Variable used to instantiate class responsible for robot speed.\n",
    "doxygen-iPython"
   ]
  },
  {
   "cell_type": "code",
   "execution_count": null,
   "metadata": {
    "collapsed": true
   },
   "outputs": [],
   "source": [
    "_parameters = None #self-iPython _parameters"
   ]
  },
  {
   "cell_type": "markdown",
   "metadata": {},
   "source": [
    "# _speeds\n",
    "Variable used to instantiate class responsible for robot speed.\n",
    "doxygen-iPython"
   ]
  },
  {
   "cell_type": "code",
   "execution_count": null,
   "metadata": {
    "collapsed": true
   },
   "outputs": [],
   "source": [
    "_speeds = None #self-iPython _speeds"
   ]
  },
  {
   "cell_type": "markdown",
   "metadata": {},
   "source": [
    "# _t\n",
    "Time variable used in kalman filter.\n",
    "doxygen-iPython"
   ]
  },
  {
   "cell_type": "code",
   "execution_count": null,
   "metadata": {
    "collapsed": true
   },
   "outputs": [],
   "source": [
    "_t = None #self-iPython _t"
   ]
  },
  {
   "cell_type": "markdown",
   "metadata": {},
   "source": [
    "# _predictedstate\n",
    "Variable used to make predictions from observations.\n",
    "doxygen-iPython"
   ]
  },
  {
   "cell_type": "code",
   "execution_count": null,
   "metadata": {
    "collapsed": true
   },
   "outputs": [],
   "source": [
    "_predictedstate = None #self-iPython _predictedstate"
   ]
  },
  {
   "cell_type": "markdown",
   "metadata": {},
   "source": [
    "# _state\n",
    "Variable used to predict the position of the object at the current instant.\n",
    "doxygen-iPython"
   ]
  },
  {
   "cell_type": "code",
   "execution_count": null,
   "metadata": {
    "collapsed": true
   },
   "outputs": [],
   "source": [
    "_state = None #self-iPython _state"
   ]
  },
  {
   "cell_type": "markdown",
   "metadata": {},
   "source": [
    "Matrix used in kalman filter.\n",
    "doxygen-iPython"
   ]
  },
  {
   "cell_type": "code",
   "execution_count": null,
   "metadata": {
    "collapsed": false
   },
   "outputs": [],
   "source": [
    "_A = None; _B = None; _R = None; _C = None; _Q = None"
   ]
  },
  {
   "cell_type": "markdown",
   "metadata": {},
   "source": [
    "_Status variables.\n",
    "doxygen-iPython"
   ]
  },
  {
   "cell_type": "code",
   "execution_count": null,
   "metadata": {
    "collapsed": true
   },
   "outputs": [],
   "source": [
    "_px = None; _py = None; _vx = None; _vy = None; _ax = None; _ay = None; _b_x = None; _b_y = None"
   ]
  },
  {
   "cell_type": "markdown",
   "metadata": {},
   "source": [
    "_Support variables.\n",
    "doxygen-iPython"
   ]
  },
  {
   "cell_type": "code",
   "execution_count": null,
   "metadata": {
    "collapsed": true
   },
   "outputs": [],
   "source": [
    "_sin = None; _cos = None"
   ]
  },
  {
   "cell_type": "code",
   "execution_count": null,
   "metadata": {
    "collapsed": true
   },
   "outputs": [],
   "source": [
    "#ini-iPython\n",
    "\n",
    "# ------- Lista de funções herdadas -------\n",
    "\n",
    "\n",
    "\n",
    "# ------- Lista variaveis herdadas -------\n",
    "\n",
    "#self-iPython _bkb\n",
    "#self-iPython _conf\n",
    "\n",
    "# ------- Lista de funções -------\n",
    "\n",
    "#self-iPython _reset\n",
    "#self-iPython __predictNow\n",
    "#self-iPython __predictTime\n",
    "#self-iPython _predict\n",
    "#self-iPython _update\n",
    "#self-iPython __listVariables\n",
    "\n",
    "\n",
    "# ------- Lista de variáveis -------\n",
    "\n",
    "#self-iPython _A\n",
    "#self-iPython _B\n",
    "#self-iPython _R\n",
    "#self-iPython _C\n",
    "#self-iPython _Q\n",
    "\n",
    "#self-iPython _px\n",
    "#self-iPython _py\n",
    "#self-iPython _vx\n",
    "#self-iPython _vy\n",
    "#self-iPython _ax\n",
    "#self-iPython _ay\n",
    "#self-iPython _b_x\n",
    "#self-iPython _b_y\n",
    "\n",
    "#self-iPython _sin\n",
    "#self-iPython _cos\n",
    "\n",
    "#end-iPython - Fim listas"
   ]
  },
  {
   "cell_type": "markdown",
   "metadata": {},
   "source": [
    "# _reset\n",
    "doxygen-iPython"
   ]
  },
  {
   "cell_type": "code",
   "execution_count": null,
   "metadata": {
    "collapsed": true
   },
   "outputs": [],
   "source": [
    "#eself-iPython _reset\n",
    "#edes-iPython def _reset(self):\n",
    "def _reset( ):\n",
    "    global _t, _state, _predictedstate #debug-iPython\n",
    "    global _A, _B, _R, _C, _Q #debug-iPython\n",
    "    global _px, _py, _vx, _vy, _ax, _ay #debug-iPython\n",
    "    global _S, _C #debug-iPython\n",
    "    # Creating the Kalman Filter Matrix\n",
    "    _A = sym.Matrix([\n",
    "      [1, 0, _t, 0, 0.5*_t**2, 0],\n",
    "      [0, 1, 0, _t, 0, 0.5*_t**2],\n",
    "      [0, 0, 1, 0, _t, 0],\n",
    "      [0, 0, 0, 1, 0, _t],\n",
    "      [0, 0, 0, 0, 1, 0],\n",
    "      [0, 0, 0, 0, 0, 1],\n",
    "    ])\n",
    "\n",
    "    _B = sym.Matrix([\n",
    "    [-_t, 0, -0.5*_t**2, 0, _px],\n",
    "    [0, -_t, 0, -0.5*_t**2, _py],\n",
    "    [0, 0, 0, 0, _vx - _vx*(1-_cos) + _vy*_sin],\n",
    "    [0, 0, 0, 0, _vy - _vy*(1-_cos) + _vx*_sin],\n",
    "    [0, 0, 0, 0, _ax - _ax*(1-_cos) - _ay*_sin],\n",
    "    [0, 0, 0, 0, _ay - _ay*(1-_cos) + _ax*_sin],\n",
    "    ])\n",
    "\n",
    "    _R = sym.Matrix(sym.Identity(6))\n",
    "\n",
    "    _C = sym.Matrix([\n",
    "      [1, 0, 0, 0, 0, 0],\n",
    "      [0, 1, 0, 0, 0, 0],\n",
    "    ])\n",
    "\n",
    "    _Q = sym.Matrix(sym.Identity(2)*_parameters[\"vision_error\"])\n",
    "\n",
    "\n",
    "    # Initial state\n",
    "    _predictedstate[\"x\"] = sym.Matrix([0, 0, 0, 0, 0, 0])\n",
    "    _predictedstate[\"covariance\"] = sym.Matrix(sym.Identity(6)*1000)\n",
    "    _predictedstate[\"time\"] = -1\n",
    "\n",
    "    _state = copy(_predictedstate) #self-iPython _reset"
   ]
  },
  {
   "cell_type": "code",
   "execution_count": null,
   "metadata": {
    "collapsed": true
   },
   "outputs": [],
   "source": [
    "#ini-iPython"
   ]
  },
  {
   "cell_type": "markdown",
   "metadata": {},
   "source": [
    "## Teste _reset"
   ]
  },
  {
   "cell_type": "code",
   "execution_count": null,
   "metadata": {
    "collapsed": false
   },
   "outputs": [],
   "source": [
    "_predictedstate = { }\n",
    "_state = { }\n",
    "\n",
    "_t = sym.symbols(\"t\")\n",
    "\n",
    "_px, _py = sym.symbols(\"p_x p_y\")\n",
    "_vx, _vy = sym.symbols(\"v_x v_y\")\n",
    "_ax, _ay = sym.symbols(\"a_x a_y\")\n",
    "\n",
    "_cos, _sin = sym.symbols(\"C S\")\n",
    "\n",
    "_parameters = {}\n",
    "_parameters[\"vision_error\"] = 1\n",
    "\n",
    "_reset( )\n",
    "\n",
    "_state[\"x\"], _state[\"covariance\"], _A, _B, _R, _C, _Q, _B.subs([\n",
    "    [_px, 1]\n",
    "])\n",
    "_A*sym.Matrix([\n",
    "    [_px],\n",
    "    [_py],\n",
    "    [_vx],\n",
    "    [_vy],\n",
    "    [_ax],\n",
    "    [_ay],\n",
    "]), _B*sym.Matrix([\n",
    "    [_vx],\n",
    "    [_vy],\n",
    "    [_ax],\n",
    "    [_ay],\n",
    "    [1],\n",
    "])"
   ]
  },
  {
   "cell_type": "code",
   "execution_count": null,
   "metadata": {
    "collapsed": false
   },
   "outputs": [],
   "source": [
    "_predictedstate = _state = _A = _B = _parameters = None\n",
    "_t = _px = _py = _vx = _vy = _ax = _ay = None\n",
    "_C = _S = None\n",
    "#end-iPython"
   ]
  },
  {
   "cell_type": "markdown",
   "metadata": {},
   "source": [
    "# Constructor Class\n",
    "Responsible for starting the matrices of kalman patterns.\n",
    "doxygen-iPython"
   ]
  },
  {
   "cell_type": "code",
   "execution_count": null,
   "metadata": {
    "collapsed": false,
    "scrolled": true
   },
   "outputs": [],
   "source": [
    "#ini-iPython\n",
    "class argumentos:\n",
    "    numberrobots = 3\n",
    "    executionperiod = 2000\n",
    "    debug = False\n",
    "a = argumentos()\n",
    "#end-iPython\n",
    "obj = \"Test\" #debug-iPython\n",
    "#des-iPython @abstractmethod\n",
    "#des-iPython def __init__(self, a, s, obj):\n",
    "#ini-tab -> Criando construtor\n",
    "_predictedstate = { }\n",
    "_state = { }\n",
    "\n",
    "# Instantiating parent class\n",
    "#edes-iPython super(KalmanFilter,self).__init__(a, \"Kalman Filter\", obj)\n",
    "basic = Basic(a, \"Kalman Filter\", obj)\n",
    "\n",
    "# Creating standard parameters and reading\n",
    "_parameters = {\n",
    "    \"vision_error\": 0.1,\n",
    "    \"linear_acceleration\": False,\n",
    "}\n",
    "\n",
    "#edes-iPython _parameters = _conf.readVariables(_parameters)\n",
    "_parameters = basic.conf.readVariables(_parameters)\n",
    "\n",
    "# Variable to robot speed\n",
    "#edes-iPython _speeds = s\n",
    "_speeds = Speeds( )\n",
    "\n",
    "_t = sym.symbols(\"t\") # Declaring variable time\n",
    "\n",
    "# _Status variables\n",
    "_px, _py = sym.symbols(\"p_x p_y\")\n",
    "_vx, _vy = sym.symbols(\"v_x v_y\")\n",
    "_ax, _ay = sym.symbols(\"a_x a_y\")\n",
    "\n",
    "# _Sine and cosine variables\n",
    "_cos, _sin = sym.symbols(\"C S\")"
   ]
  },
  {
   "cell_type": "code",
   "execution_count": null,
   "metadata": {
    "collapsed": true
   },
   "outputs": [],
   "source": [
    "#end-tab -> Finalizando construtor"
   ]
  },
  {
   "cell_type": "code",
   "execution_count": null,
   "metadata": {
    "collapsed": false
   },
   "outputs": [],
   "source": [
    "#ini-iPython"
   ]
  },
  {
   "cell_type": "markdown",
   "metadata": {},
   "source": [
    "## Teste construtor"
   ]
  },
  {
   "cell_type": "code",
   "execution_count": null,
   "metadata": {
    "collapsed": false
   },
   "outputs": [],
   "source": [
    "_reset( )\n",
    "print _parameters\n",
    "basic.end( )\n",
    "_A\n",
    "#end-iPython"
   ]
  },
  {
   "cell_type": "markdown",
   "metadata": {},
   "source": [
    "# __listVariables\n",
    ".\n",
    "doxygen-iPython"
   ]
  },
  {
   "cell_type": "code",
   "execution_count": null,
   "metadata": {
    "collapsed": true
   },
   "outputs": [],
   "source": [
    "#eself-iPython __listVariables\n",
    "#edes-iPython def __listVariables(self, tnow, movements):\n",
    "def __listVariables(tnow, movements):\n",
    "    # Tested null acceleration condition\n",
    "    if _speeds[movements][\"x_speed\"][2, 0] != 0.0 or _speeds[movements][\"x_speed\"][3, 0] != 0:\n",
    "        listsub = [        \n",
    "            # Auxiliary variables\n",
    "            [_cos, sym.cos(sym.atan2(0.5*_speeds[movements][\"x_speed\"][3, 0]*_t**2, 0.5*_speeds[movements][\"x_speed\"][2, 0]*_t**2))],\n",
    "            [_sin, sym.sin(sym.atan2(0.5*_speeds[movements][\"x_speed\"][3, 0]*_t**2, 0.5*_speeds[movements][\"x_speed\"][2, 0]*_t**2))],\n",
    "\n",
    "            [_t, tnow - _predictedstate[\"time\"]], # Inserting delta time\n",
    "\n",
    "            # State Variables\n",
    "            [_px, _predictedstate[\"x\"][0, 0]],\n",
    "            [_py, _predictedstate[\"x\"][1, 0]],\n",
    "            [_vx, _predictedstate[\"x\"][2, 0]],\n",
    "            [_vy, _predictedstate[\"x\"][3, 0]],\n",
    "        ]\n",
    "    else:\n",
    "        listsub = [        \n",
    "            # Auxiliary variables\n",
    "            [_cos, 1],\n",
    "            [_sin, 0],\n",
    "\n",
    "            [_t, tnow - _predictedstate[\"time\"]], # Inserting delta time\n",
    "\n",
    "            # State Variables\n",
    "            [_px, _predictedstate[\"x\"][0, 0]],\n",
    "            [_py, _predictedstate[\"x\"][1, 0]],\n",
    "            [_vx, _predictedstate[\"x\"][2, 0]],\n",
    "            [_vy, _predictedstate[\"x\"][3, 0]],\n",
    "        ]\n",
    "    \n",
    "    if len(_predictedstate[\"x\"]) == 6:\n",
    "        listsub.extend([\n",
    "                [_ax, _predictedstate[\"x\"][4, 0]],\n",
    "                [_ay, _predictedstate[\"x\"][5, 0]],\n",
    "            ])\n",
    "    \n",
    "    return listsub #self-iPython __listVariables"
   ]
  },
  {
   "cell_type": "markdown",
   "metadata": {},
   "source": [
    "# __predictNow\n",
    "Performs the prediction using the current instant in time to determine the new state.\n",
    "doxygen-iPython"
   ]
  },
  {
   "cell_type": "code",
   "execution_count": null,
   "metadata": {
    "collapsed": false
   },
   "outputs": [],
   "source": [
    "#eself-iPython __predictNow\n",
    "#edes-iPython def __predictNow(self, tnow = None, movements = None):\n",
    "def __predictNow(tnow = None, movements = None):\n",
    "    print \"Executou predictTime\", tnow, movements #debug-iPython\n",
    "    tnow = 1 #debug-iPython\n",
    "    \n",
    "    # Checking if you can hear at least one measurement.\n",
    "    if _state[\"time\"] == -1:\n",
    "        return\n",
    "    else:\n",
    "        tnow = time.time( )\n",
    "        \n",
    "    #--------------------------------------------------------------------------------------------------\n",
    "    \n",
    "    # Calculating stop time (speed equal to zero)\n",
    "    if _parameters[\"linear_acceleration\"] == False and len(_state[\"x\"]) == 6:\n",
    "        times = [tnow]\n",
    "        for i in xrange(2,4):\n",
    "            a = -_state[\"x\"][i]/_state[\"x\"][i+2]\n",
    "            if a == sym.nan or a == sym.zoo or a < 0 :\n",
    "                times.append(tnow)\n",
    "            else:\n",
    "                times.append(float(_state[\"time\"] + a))\n",
    "        while tnow > min([n for n in times if n>=0]):\n",
    "            #edes-iPython self.__predictNow(tnow=min([n for n in times if n>0]), movements=movements)\n",
    "            __predictNow(tnow=min([n for n in times if n>0]), movements=movements)\n",
    "            times = [tnow]\n",
    "            for i in xrange(2,4):\n",
    "                a = -_state[\"x\"][i]/_state[\"x\"][i+2]\n",
    "                if a == sym.nan or a == sym.zoo:\n",
    "                    times.append(tnow)\n",
    "                else:\n",
    "                    times.append(float(_state[\"time\"] + a))\n",
    "        \n",
    "    #--------------------------------------------------------------------------------------------------\n",
    "    \n",
    "    listsub = __listVariables(tnow, movements)\n",
    "    \n",
    "    # Calculating states\n",
    "    _state[\"x\"] = (\n",
    "        _A*_state[\"x\"] # A * x\n",
    "    ).subs(listsub)\n",
    "    \n",
    "    listsub = __listVariables(tnow, movements)\n",
    "    \n",
    "    _state[\"x\"] = (\n",
    "        _B*_speeds[movements][\"x_speed\"] # B * U\n",
    "    ).subs(listsub)\n",
    "    \n",
    "    listsub = __listVariables(tnow, movements)\n",
    "\n",
    "    #--------------------------------------------------------------------------------------------------\n",
    "        \n",
    "    # Calculating covariance\n",
    "    _state[\"covariance\"] = (\n",
    "        _A*_state[\"covariance\"]*sym.transpose(_A) + _R*_speeds[movements][\"R\"][:_R.shape[0], :_R.shape[1]] # A*covariance*A.T + R\n",
    "    ).subs(listsub)\n",
    "    \n",
    "    listsub = __listVariables(tnow, movements)\n",
    "    \n",
    "    #--------------------------------------------------------------------------------------------------\n",
    "    \n",
    "    # Rounding value with precision\n",
    "    _state[\"x\"] = sym.Matrix(_state[\"x\"])\n",
    "    for x in xrange(len(_state[\"x\"])):\n",
    "        try:\n",
    "            if abs(_state[\"x\"][x, 0]) < _parameters[\"vision_error\"]/2:\n",
    "                _state[\"x\"][x, 0] = 0.0\n",
    "        except TypeError:\n",
    "            _state[\"x\"][x, 0] = 0.0\n",
    "    \n",
    "    #--------------------------------------------------------------------------------------------------\n",
    "    \n",
    "    # Resetting acceleration if velocity is zero.\n",
    "    if _parameters[\"linear_acceleration\"] == False and len(_state[\"x\"]) == 6:\n",
    "        for x in xrange(2, len(_state[\"x\"]) - 2):\n",
    "            if abs(_state[\"x\"][x, 0]) == 0.0:\n",
    "                _state[\"x\"][x+2, 0] = 0.0\n",
    "    \n",
    "    _state[\"time\"] = tnow #self-iPython __predictNow"
   ]
  },
  {
   "cell_type": "code",
   "execution_count": null,
   "metadata": {
    "collapsed": true
   },
   "outputs": [],
   "source": [
    "#ini-iPython"
   ]
  },
  {
   "cell_type": "markdown",
   "metadata": {},
   "source": [
    "## Teste __predictNow"
   ]
  },
  {
   "cell_type": "code",
   "execution_count": null,
   "metadata": {
    "collapsed": false
   },
   "outputs": [],
   "source": [
    "__predictNow(movements = 0)\n",
    "_state[\"x\"]\n",
    "#end-iPython"
   ]
  },
  {
   "cell_type": "markdown",
   "metadata": {},
   "source": [
    "# __predictTime\n",
    "Uses a current instant in time and updates the observation and the current state.\n",
    "doxygen-iPython"
   ]
  },
  {
   "cell_type": "code",
   "execution_count": null,
   "metadata": {
    "collapsed": true
   },
   "outputs": [],
   "source": [
    "#eself-iPython __predictTime\n",
    "#edes-iPython def __predictTime(self, tnow = None, movements = None):\n",
    "def __predictTime(tnow = None, movements = None):\n",
    "    print \"Executou predictTime\", tnow, movements #debug-iPython\n",
    "    tnow = 1 #debug-iPython\n",
    "    \n",
    "    # Checking if you can hear at least one measurement.\n",
    "    if _predictedstate[\"time\"] == -1:\n",
    "        _predictedstate[\"time\"] = tnow\n",
    "        \n",
    "    #--------------------------------------------------------------------------------------------------\n",
    "    \n",
    "    # Calculating stop time (speed equal to zero)\n",
    "    if _parameters[\"linear_acceleration\"] == False and len(_predictedstate[\"x\"]) == 6:\n",
    "        times = [tnow]\n",
    "        for i in xrange(2,4):\n",
    "            a = -_predictedstate[\"x\"][i]/_predictedstate[\"x\"][i+2]\n",
    "            if a == sym.nan or a == sym.zoo or a < 0 :\n",
    "                times.append(tnow)\n",
    "            else:\n",
    "                times.append(float(_predictedstate[\"time\"] + a))\n",
    "        while tnow > min([n for n in times if n>=0]):\n",
    "            #edes-iPython self.__predictTime(tnow=min([n for n in times if n>0]), movements=movements)\n",
    "            __predictTime(tnow=min([n for n in times if n>0]), movements=movements)\n",
    "            times = [tnow]\n",
    "            for i in xrange(2,4):\n",
    "                a = -_predictedstate[\"x\"][i]/_predictedstate[\"x\"][i+2]\n",
    "                if a == sym.nan or a == sym.zoo:\n",
    "                    times.append(tnow)\n",
    "                else:\n",
    "                    times.append(float(_predictedstate[\"time\"] + a))\n",
    "        \n",
    "    #--------------------------------------------------------------------------------------------------\n",
    "    \n",
    "    listsub = __listVariables(tnow, movements)\n",
    "    \n",
    "    # Calculating states\n",
    "    \n",
    "    _predictedstate[\"x\"] = (\n",
    "        _A*_predictedstate[\"x\"] # A * x\n",
    "    ).subs(listsub)\n",
    "    \n",
    "    listsub = __listVariables(tnow, movements)\n",
    "    \n",
    "    _predictedstate[\"x\"] = (\n",
    "        _B*_speeds[movements][\"x_speed\"] # B * U\n",
    "    ).subs(listsub)\n",
    "    \n",
    "    listsub = __listVariables(tnow, movements)\n",
    "    \n",
    "    #--------------------------------------------------------------------------------------------------\n",
    "        \n",
    "    # Calculating covariance\n",
    "    _predictedstate[\"covariance\"] = (\n",
    "        _A*_predictedstate[\"covariance\"]*sym.transpose(_A) + _R*_speeds[movements][\"R\"][:_R.shape[0], :_R.shape[1]] # A*covariance*A.T + R\n",
    "    ).subs(listsub)\n",
    "    \n",
    "    #--------------------------------------------------------------------------------------------------\n",
    "    \n",
    "    # Rounding value with precision\n",
    "    _predictedstate[\"x\"] = sym.Matrix(_predictedstate[\"x\"])\n",
    "    for x in xrange(len(_predictedstate[\"x\"])):\n",
    "        try:\n",
    "            if abs(_predictedstate[\"x\"][x, 0]) < _parameters[\"vision_error\"]/2:\n",
    "                _predictedstate[\"x\"][x, 0] = 0.0\n",
    "        except TypeError:\n",
    "            _predictedstate[\"x\"][x, 0] = 0.0\n",
    "    \n",
    "    #--------------------------------------------------------------------------------------------------\n",
    "    \n",
    "    # Resetting acceleration if velocity is zero.\n",
    "    if _parameters[\"linear_acceleration\"] == False and len(_predictedstate[\"x\"]) == 6:\n",
    "        for x in xrange(2, len(_predictedstate[\"x\"]) - 2):\n",
    "            if abs(_predictedstate[\"x\"][x, 0]) == 0.0:\n",
    "                _predictedstate[\"x\"][x+2, 0] = 0.0\n",
    "    \n",
    "    _predictedstate[\"time\"] = tnow\n",
    "    \n",
    "    _state = copy(_predictedstate) #self-iPython __predictTime"
   ]
  },
  {
   "cell_type": "code",
   "execution_count": null,
   "metadata": {
    "collapsed": true
   },
   "outputs": [],
   "source": [
    "#ini-iPython"
   ]
  },
  {
   "cell_type": "markdown",
   "metadata": {},
   "source": [
    "## Teste __predictTime"
   ]
  },
  {
   "cell_type": "code",
   "execution_count": null,
   "metadata": {
    "collapsed": false
   },
   "outputs": [],
   "source": [
    "__predictTime(movements = 1)\n",
    "_state[\"x\"]\n",
    "#end-iPython"
   ]
  },
  {
   "cell_type": "markdown",
   "metadata": {},
   "source": [
    "# predict\n",
    ".\n",
    "doxygen-iPython"
   ]
  },
  {
   "cell_type": "code",
   "execution_count": null,
   "metadata": {
    "collapsed": false
   },
   "outputs": [],
   "source": [
    "#eself-iPython _predict\n",
    "#edes-iPython def _predict(self, tnow = None, movements = None):\n",
    "def _predict(tnow = None, movements = None):\n",
    "    {\n",
    "        (float, int): __predictTime,\n",
    "        (type(None), int): __predictNow,\n",
    "    }[(type(tnow), type(movements))](tnow, movements) #self-iPython _predict"
   ]
  },
  {
   "cell_type": "code",
   "execution_count": null,
   "metadata": {
    "collapsed": true
   },
   "outputs": [],
   "source": [
    "#ini-iPython"
   ]
  },
  {
   "cell_type": "markdown",
   "metadata": {},
   "source": [
    "## Teste predict"
   ]
  },
  {
   "cell_type": "code",
   "execution_count": null,
   "metadata": {
    "collapsed": false
   },
   "outputs": [],
   "source": [
    "_predict(movements=0)\n",
    "#end-iPython"
   ]
  },
  {
   "cell_type": "markdown",
   "metadata": {},
   "source": [
    "# update\n",
    ".\n",
    "doxygen-iPython"
   ]
  },
  {
   "cell_type": "code",
   "execution_count": null,
   "metadata": {
    "collapsed": true
   },
   "outputs": [],
   "source": [
    "#eself-iPython _update\n",
    "#edes-iPython def _update(self, data):\n",
    "def _update(data):\n",
    "    global _predictedstate #debug-iPython\n",
    "    # Predicting value in observation time.\n",
    "    _predict(data[\"time\"], data[\"movement\"])\n",
    "    \n",
    "    \n",
    "    k = _predictedstate[\"covariance\"] * sym.transpose(_C) * sym.inv_quick( # covariance*C.T*(_)^(-1)\n",
    "        _C * _predictedstate[\"covariance\"] * sym.transpose(_C) + _Q # C*covariance*C.T + Q\n",
    "    )\n",
    "    \n",
    "    z = sym.Matrix(data[\"pos\"])\n",
    "    \n",
    "    _predictedstate[\"x\"] = _predictedstate[\"x\"] + k*(z - _C*_predictedstate[\"x\"]) # x + k*(z - C*X)\n",
    "    _predictedstate[\"covariance\"] = (sym.Matrix(sym.Identity(len(_predictedstate[\"x\"]))) - k*_C) * _predictedstate[\"covariance\"] # (I - k*C)*covariance\n",
    "    \n",
    "    #--------------------------------------------------------------------------------------------------\n",
    "    \n",
    "    # Rounding value with precision\n",
    "    _predictedstate[\"x\"] = sym.Matrix(_predictedstate[\"x\"])\n",
    "    for x in xrange(len(_predictedstate[\"x\"])):\n",
    "        try:\n",
    "            if abs(_predictedstate[\"x\"][x, 0]) < _parameters[\"vision_error\"]/2:\n",
    "                _predictedstate[\"x\"][x, 0] = 0.0\n",
    "        except TypeError:\n",
    "            _predictedstate[\"x\"][x, 0] = 0.0\n",
    "    \n",
    "    #--------------------------------------------------------------------------------------------------\n",
    "    \n",
    "    # Resetting acceleration if velocity is zero.\n",
    "    if _parameters[\"linear_acceleration\"] == False and len(_predictedstate[\"x\"]) == 6:\n",
    "        for x in xrange(2, len(_predictedstate[\"x\"]) - 2):\n",
    "            if abs(_predictedstate[\"x\"][x, 0]) == 0.0:\n",
    "                _predictedstate[\"x\"][x+2, 0] = 0.0\n",
    "    \n",
    "    _state = copy(_predictedstate) #self-iPython _update"
   ]
  },
  {
   "cell_type": "code",
   "execution_count": null,
   "metadata": {
    "collapsed": true
   },
   "outputs": [],
   "source": [
    "#ini-iPython"
   ]
  },
  {
   "cell_type": "markdown",
   "metadata": {},
   "source": [
    "## Teste update"
   ]
  },
  {
   "cell_type": "code",
   "execution_count": null,
   "metadata": {
    "collapsed": false
   },
   "outputs": [],
   "source": [
    "data = {\n",
    "    \"target\": 1,\n",
    "    \"pos\": [0, 0],\n",
    "    \"time\": 1.0,\n",
    "    \"movement\": 1\n",
    "}\n",
    "_update(data)\n",
    "#end-iPython"
   ]
  },
  {
   "cell_type": "code",
   "execution_count": null,
   "metadata": {
    "collapsed": false
   },
   "outputs": [],
   "source": [
    "#end-tab -> Finalizando classe"
   ]
  },
  {
   "cell_type": "code",
   "execution_count": null,
   "metadata": {
    "collapsed": true
   },
   "outputs": [],
   "source": [
    "#ini-iPython"
   ]
  },
  {
   "cell_type": "markdown",
   "metadata": {},
   "source": [
    "# nova_variavel\n",
    ".\n",
    "doxygen-iPython"
   ]
  },
  {
   "cell_type": "code",
   "execution_count": null,
   "metadata": {
    "collapsed": true
   },
   "outputs": [],
   "source": [
    "nova_variavel = None #self-iPython nova_variavel"
   ]
  },
  {
   "cell_type": "markdown",
   "metadata": {},
   "source": [
    "# nova_funcao\n",
    ".\n",
    "doxygen-iPython"
   ]
  },
  {
   "cell_type": "code",
   "execution_count": null,
   "metadata": {
    "collapsed": true
   },
   "outputs": [],
   "source": [
    "# eself-iPython nova_funcao\n",
    "# edes-iPython def nova_funcao(self, variaveis_funcao):\n",
    "def nova_funcao(variaveis_funcao):\n",
    "    pass # self-iPython nova_funcao"
   ]
  },
  {
   "cell_type": "code",
   "execution_count": null,
   "metadata": {
    "collapsed": true
   },
   "outputs": [],
   "source": [
    "#ini-iPython"
   ]
  },
  {
   "cell_type": "markdown",
   "metadata": {},
   "source": [
    "## Teste nova_funcao"
   ]
  },
  {
   "cell_type": "code",
   "execution_count": null,
   "metadata": {
    "collapsed": false
   },
   "outputs": [],
   "source": [
    "\n",
    "#end-iPython"
   ]
  },
  {
   "cell_type": "code",
   "execution_count": null,
   "metadata": {
    "collapsed": false
   },
   "outputs": [],
   "source": [
    "#end-iPython"
   ]
  }
 ],
 "metadata": {
  "kernelspec": {
   "display_name": "Python 2",
   "language": "python",
   "name": "python2"
  },
  "language_info": {
   "codemirror_mode": {
    "name": "ipython",
    "version": 2
   },
   "file_extension": ".py",
   "mimetype": "text/x-python",
   "name": "python",
   "nbconvert_exporter": "python",
   "pygments_lexer": "ipython2",
   "version": "2.7.6"
  }
 },
 "nbformat": 4,
 "nbformat_minor": 2
}
