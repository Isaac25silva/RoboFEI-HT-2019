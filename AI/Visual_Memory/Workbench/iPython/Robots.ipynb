{
 "cells": [
  {
   "cell_type": "code",
   "execution_count": 1,
   "metadata": {
    "collapsed": true
   },
   "outputs": [],
   "source": [
    "#ini-iPython"
   ]
  },
  {
   "cell_type": "markdown",
   "metadata": {},
   "source": [
    "# Executando no diretório principal"
   ]
  },
  {
   "cell_type": "code",
   "execution_count": 2,
   "metadata": {
    "collapsed": true
   },
   "outputs": [],
   "source": [
    "import os\n",
    "os.chdir('../../') #Executando na pasta Visual_Memory\n",
    "import sys\n",
    "sys.path.append('./include')\n",
    "sys.path.append('./src')\n",
    "sys.path.append('./Workbench/iPython')\n",
    "#end-iPython"
   ]
  },
  {
   "cell_type": "markdown",
   "metadata": {
    "collapsed": true
   },
   "source": [
    "---- Imports ----"
   ]
  },
  {
   "cell_type": "code",
   "execution_count": 3,
   "metadata": {
    "collapsed": true
   },
   "outputs": [],
   "source": [
    "# Libraries to be used.\n",
    "import sys\n",
    "#des-iPython sys.path.append(\"../include\")\n",
    "#des-iPython sys.path.append(\"../src\")"
   ]
  },
  {
   "cell_type": "code",
   "execution_count": 4,
   "metadata": {
    "collapsed": true
   },
   "outputs": [],
   "source": [
    "# The standard libraries used in the visual memory system.\n"
   ]
  },
  {
   "cell_type": "code",
   "execution_count": 5,
   "metadata": {
    "collapsed": false
   },
   "outputs": [],
   "source": [
    "# Used class developed by RoboFEI-HT.\n",
    "#ini-iPython - Usando Classe KalmanFilter como instanciação\n",
    "os.system(\"sed -i 's/_//g' ./Workbench/iPython/KalmanFilter.py\")\n",
    "os.system(\"sed -i 's/init/__init__/g' ./Workbench/iPython/KalmanFilter.py\")\n",
    "os.system(\"sed -i '/@abstractmethod/d' ./Workbench/iPython/KalmanFilter.py\")\n",
    "os.system(\"sed -i 's/conf/_conf/g' ./Workbench/iPython/KalmanFilter.py\")\n",
    "os.system(\"sed -i 's/invquick/inv_quick/g' ./Workbench/iPython/KalmanFilter.py\")\n",
    "os.system(\"sed -i 's/linearacceleration/linear_acceleration/g' ./Workbench/iPython/KalmanFilter.py\")\n",
    "os.system(\"sed -i 's/visionerror/vision_error/g' ./Workbench/iPython/KalmanFilter.py\")\n",
    "os.system(\"sed -i 's/xspeed/x_speed/g' ./Workbench/iPython/KalmanFilter.py\")\n",
    "\n",
    "os.system(\"sed -i '/__metaclass__/d' ./Workbench/iPython/BasicThread.py\")\n",
    "os.system(\"sed -i 's/_//g' ./Workbench/iPython/BasicThread.py\")\n",
    "os.system(\"sed -i 's/init/__init__/g' ./Workbench/iPython/BasicThread.py\")\n",
    "os.system(\"sed -i '/@abstractmethod/d' ./Workbench/iPython/BasicThread.py\")\n",
    "\n",
    "#end-iPython\n",
    "from BasicThread import * # Responsible for implementing the methods and variables responsible for managing the thread.\n",
    "sym.init_printing() #debug-iPython"
   ]
  },
  {
   "cell_type": "markdown",
   "metadata": {
    "collapsed": true
   },
   "source": [
    "# Class to Robots\n",
    "Class responsible for performing robots tracking.\n",
    "doxygen-iPython"
   ]
  },
  {
   "cell_type": "code",
   "execution_count": 6,
   "metadata": {
    "collapsed": true
   },
   "outputs": [],
   "source": [
    "#des-iPython class Robots(BasicThread):\n",
    "#ini-tab -> Iniciando código classe"
   ]
  },
  {
   "cell_type": "markdown",
   "metadata": {},
   "source": [
    "---- Variables ----"
   ]
  },
  {
   "cell_type": "markdown",
   "metadata": {},
   "source": [
    "# listfunction\n",
    ".\n",
    "doxygen-iPython"
   ]
  },
  {
   "cell_type": "code",
   "execution_count": 7,
   "metadata": {
    "collapsed": true
   },
   "outputs": [],
   "source": [
    "__listfunction = None #self-iPython __listfunction"
   ]
  },
  {
   "cell_type": "markdown",
   "metadata": {},
   "source": [
    "# robotnumber\n",
    ".\n",
    "doxygen-iPython"
   ]
  },
  {
   "cell_type": "code",
   "execution_count": 8,
   "metadata": {
    "collapsed": true
   },
   "outputs": [],
   "source": [
    "__robotnumber = None #self-iPython __robotnumber"
   ]
  },
  {
   "cell_type": "markdown",
   "metadata": {},
   "source": [
    "# posdata\n",
    ".\n",
    "doxygen-iPython"
   ]
  },
  {
   "cell_type": "code",
   "execution_count": 1,
   "metadata": {
    "collapsed": true
   },
   "outputs": [],
   "source": [
    "__posdata = None #self-iPython __posdata"
   ]
  },
  {
   "cell_type": "markdown",
   "metadata": {},
   "source": [
    "# timenumber\n",
    ".\n",
    "doxygen-iPython"
   ]
  },
  {
   "cell_type": "code",
   "execution_count": 9,
   "metadata": {
    "collapsed": true
   },
   "outputs": [],
   "source": [
    "timenumber = 0 #self-iPython timenumber"
   ]
  },
  {
   "cell_type": "markdown",
   "metadata": {},
   "source": [
    "# weight\n",
    ".\n",
    "doxygen-iPython"
   ]
  },
  {
   "cell_type": "code",
   "execution_count": 9,
   "metadata": {
    "collapsed": true
   },
   "outputs": [],
   "source": [
    "weight = 0 #self-iPython weight"
   ]
  },
  {
   "cell_type": "code",
   "execution_count": 10,
   "metadata": {
    "collapsed": true
   },
   "outputs": [],
   "source": [
    "#ini-iPython\n",
    "\n",
    "# ------- Lista de funções herdadas -------\n",
    "\n",
    "#self-iPython _finalize\n",
    "\n",
    "# ------- Lista variaveis herdadas -------\n",
    "\n",
    "#self-iPython _t\n",
    "\n",
    "#self-iPython _A\n",
    "#self-iPython _B\n",
    "#self-iPython _R\n",
    "#self-iPython _C\n",
    "\n",
    "#self-iPython _px\n",
    "#self-iPython _py\n",
    "#self-iPython _vx\n",
    "#self-iPython _vy\n",
    "#self-iPython _ax\n",
    "#self-iPython _ay\n",
    "\n",
    "#self-iPython _parameters\n",
    "#self-iPython _conf\n",
    "#self-iPython _bkb\n",
    "\n",
    "# Estados\n",
    "#self-iPython _state\n",
    "#self-iPython _predictedstate\n",
    "#self-iPython _speeds\n",
    "\n",
    "\n",
    "# ------- Lista de funções -------\n",
    "\n",
    "#self-iPython reset\n",
    "#self-iPython predict\n",
    "#self-iPython __predictVector\n",
    "#self-iPython predictThread\n",
    "#self-iPython __updateVector\n",
    "#self-iPython updateThread\n",
    "#self-iPython run\n",
    "#self-iPython end\n",
    "\n",
    "#end-iPython - Fim listas"
   ]
  },
  {
   "cell_type": "markdown",
   "metadata": {},
   "source": [
    "# reset\n",
    ".\n",
    "doxygen-iPython"
   ]
  },
  {
   "cell_type": "code",
   "execution_count": 11,
   "metadata": {
    "collapsed": false
   },
   "outputs": [],
   "source": [
    "#eself-iPython reset\n",
    "#edes-iPython def reset(self):\n",
    "def reset( ):\n",
    "    #edes-iPython super(Robots, self)._reset( )\n",
    "    kalman.reset( )\n",
    "    \n",
    "    #edes-iPython _A = _A[:-2,:-2]\n",
    "    kalman.A = kalman.A[:-2,:-2]\n",
    "    #edes-iPython _B = _B[:-2,:]\n",
    "    kalman.B = kalman.B[:-2,:]\n",
    "    #edes-iPython _R = _R[:-2,:-2]\n",
    "    kalman.R = kalman.R[:-2,:-2]\n",
    "    #edes-iPython _C = _C[:,:-2]\n",
    "    kalman.C = kalman.C[:,:-2]\n",
    "    \n",
    "    #edes-iPython _predictedstate[\"x\"] = _predictedstate[\"x\"][:-2,:]\n",
    "    kalman.predictedstate[\"x\"] = kalman.predictedstate[\"x\"][:-2,:]\n",
    "    #edes-iPython _predictedstate[\"covariance\"] = _predictedstate[\"covariance\"][:-2,:-2] #self-iPython reset\n",
    "    kalman.predictedstate[\"covariance\"] = kalman.predictedstate[\"covariance\"][:-2,:-2]"
   ]
  },
  {
   "cell_type": "code",
   "execution_count": 12,
   "metadata": {
    "collapsed": true
   },
   "outputs": [],
   "source": [
    "#ini-iPython"
   ]
  },
  {
   "cell_type": "markdown",
   "metadata": {},
   "source": [
    "## Teste reset"
   ]
  },
  {
   "cell_type": "code",
   "execution_count": 13,
   "metadata": {
    "collapsed": false
   },
   "outputs": [
    {
     "name": "stdout",
     "output_type": "stream",
     "text": [
      "KALMAN FILTER - ROBOTS section not found!\n"
     ]
    },
    {
     "data": {
      "image/png": "[encoded data removed]",
      "text/latex": [
       "$$\\left ( \\left[\\begin{matrix}1 & 0 & t & 0\\\\0 & 1 & 0 & t\\\\0 & 0 & 1 & 0\\\\0 & 0 & 0 & 1\\end{matrix}\\right], \\quad \\left[\\begin{matrix}- t & 0 & - 0.5 t^{2} & 0 & px\\\\0 & - t & 0 & - 0.5 t^{2} & py\\\\0 & 0 & 0 & 0 & S vy - vx \\left(- C + 1\\right) + vx\\\\0 & 0 & 0 & 0 & S vx - vy \\left(- C + 1\\right) + vy\\end{matrix}\\right], \\quad \\left[\\begin{matrix}1 & 0 & 0 & 0\\\\0 & 1 & 0 & 0\\\\0 & 0 & 1 & 0\\\\0 & 0 & 0 & 1\\end{matrix}\\right], \\quad \\left[\\begin{matrix}1 & 0 & 0 & 0\\\\0 & 1 & 0 & 0\\end{matrix}\\right], \\quad \\left[\\begin{matrix}0\\\\0\\\\0\\\\0\\end{matrix}\\right], \\quad \\left[\\begin{matrix}1000 & 0 & 0 & 0\\\\0 & 1000 & 0 & 0\\\\0 & 0 & 1000 & 0\\\\0 & 0 & 0 & 1000\\end{matrix}\\right]\\right )$$"
      ],
      "text/plain": [
       "⎛              ⎡              2                                  ⎤            \n",
       "⎜⎡1  0  t  0⎤, ⎢-t  0   -0.5⋅t      0               px           ⎥, ⎡1  0  0  \n",
       "⎜⎢          ⎥  ⎢                                                 ⎥  ⎢         \n",
       "⎜⎢0  1  0  t⎥  ⎢                       2                         ⎥  ⎢0  1  0  \n",
       "⎜⎢          ⎥  ⎢0   -t     0     -0.5⋅t             py           ⎥  ⎢         \n",
       "⎜⎢0  0  1  0⎥  ⎢                                                 ⎥  ⎢0  0  1  \n",
       "⎜⎢          ⎥  ⎢0   0      0        0     S⋅vy - vx⋅(-C + 1) + vx⎥  ⎢         \n",
       "⎜⎣0  0  0  1⎦  ⎢                                                 ⎥  ⎣0  0  0  \n",
       "⎝              ⎣0   0      0        0     S⋅vx - vy⋅(-C + 1) + vy⎦            \n",
       "\n",
       "                                               ⎞\n",
       "0⎤, ⎡1  0  0  0⎤, ⎡0⎤, ⎡1000   0     0     0  ⎤⎟\n",
       " ⎥  ⎢          ⎥  ⎢ ⎥  ⎢                      ⎥⎟\n",
       "0⎥  ⎣0  1  0  0⎦  ⎢0⎥  ⎢ 0    1000   0     0  ⎥⎟\n",
       " ⎥                ⎢ ⎥  ⎢                      ⎥⎟\n",
       "0⎥                ⎢0⎥  ⎢ 0     0    1000   0  ⎥⎟\n",
       " ⎥                ⎢ ⎥  ⎢                      ⎥⎟\n",
       "1⎦                ⎣0⎦  ⎣ 0     0     0    1000⎦⎟\n",
       "                                               ⎠"
      ]
     },
     "execution_count": 13,
     "metadata": {},
     "output_type": "execute_result"
    }
   ],
   "source": [
    "vrx, vry, arx, ary = sym.symbols(\"vr_x vr_y ar_x ar_y\")\n",
    "s = Speeds( ) #debug-iPython\n",
    "kalman = KalmanFilter(s, \"Robots\")\n",
    "reset( )\n",
    "kalman.A, kalman.B, kalman.R, kalman.C, kalman.predictedstate[\"x\"], kalman.predictedstate[\"covariance\"]"
   ]
  },
  {
   "cell_type": "code",
   "execution_count": 14,
   "metadata": {
    "collapsed": false
   },
   "outputs": [],
   "source": [
    "del kalman\n",
    "del s\n",
    "#end-iPython"
   ]
  },
  {
   "cell_type": "markdown",
   "metadata": {},
   "source": [
    "# Constructor Class\n",
    "doxygen-iPython"
   ]
  },
  {
   "cell_type": "code",
   "execution_count": 16,
   "metadata": {
    "collapsed": false,
    "scrolled": true
   },
   "outputs": [
    {
     "name": "stdout",
     "output_type": "stream",
     "text": [
      "KALMAN FILTER - ROBOTS section not found!\n",
      "2 4\n"
     ]
    }
   ],
   "source": [
    "s = Speeds( ) #debug-iPython\n",
    "pos = [0, 0] #debug-iPython\n",
    "#des-iPython def __init__(self, s, pos):\n",
    "#ini-tab -> Criando construtor\n",
    "# Instantiating constructor for inherited class.\n",
    "#edes-iPython super(Robots, self).__init__(s, \"Robots\")\n",
    "kalman = BasicThread(s, \"Robots\")\n",
    "\n",
    "__posdata = pos\n",
    "\n",
    "# Creating characteristic variables for Robots and reading.\n",
    "#des-iPython _parameters.update({ })\n",
    "#ini-iPython\n",
    "kalman.parameters.update({ })\n",
    "#end-iPython\n",
    "#edes-iPython _parameters = _conf.readVariables(_parameters)\n",
    "kalman.parameters = kalman._conf.readVariables(kalman.parameters)\n",
    "\n",
    "reset( )\n",
    "\n",
    "__listfunction = [ ]"
   ]
  },
  {
   "cell_type": "code",
   "execution_count": null,
   "metadata": {
    "collapsed": true
   },
   "outputs": [],
   "source": [
    "#end-tab -> Finalizando construtor"
   ]
  },
  {
   "cell_type": "code",
   "execution_count": null,
   "metadata": {
    "collapsed": false
   },
   "outputs": [],
   "source": [
    "#ini-iPython"
   ]
  },
  {
   "cell_type": "markdown",
   "metadata": {},
   "source": [
    "## Teste construtor"
   ]
  },
  {
   "cell_type": "code",
   "execution_count": null,
   "metadata": {
    "collapsed": false
   },
   "outputs": [],
   "source": [
    "kalman._end( )\n",
    "print kalman.parameters\n",
    "\n",
    "vrx, vry, arx, ary = sym.symbols(\"vr_x vr_y ar_x ar_y\")\n",
    "\n",
    "__u = sym.Matrix([\n",
    "    [vrx],\n",
    "    [vry],\n",
    "    [arx],\n",
    "    [ary],\n",
    "    [1],\n",
    "])\n",
    "\n",
    "kalman.B*__u\n",
    "#end-iPython"
   ]
  },
  {
   "cell_type": "markdown",
   "metadata": {},
   "source": [
    "# __predictVector\n",
    ".\n",
    "doxygen-iPython"
   ]
  },
  {
   "cell_type": "code",
   "execution_count": null,
   "metadata": {
    "collapsed": false
   },
   "outputs": [],
   "source": [
    "#eself-iPython __predictVector\n",
    "#edes-iPython def __predictVector(self, vector):\n",
    "def __predictVector(vector):\n",
    "    tnow, movements = vector\n",
    "    #edes-iPython super(Robots, self).predict(tnow, movements)\n",
    "    kalman.predict(tnow, movements)\n",
    "    \n",
    "    if tnow == None and __time__robotnumber != 0:\n",
    "        if __time__robotnumber == 1:\n",
    "            #edes-iPython _bkb.write_float(\n",
    "            kalman._bkb.write_float(\n",
    "                \"VISUAL_MEMORY_AL_\" + str(__robotnumber).zfill(2) + \"_X\",\n",
    "                #edes-iPython _state[\"x\"][0]\n",
    "                kalman.state[\"x\"][0]\n",
    "            )\n",
    "            #edes-iPython _bkb.write_float(\n",
    "            kalman._bkb.write_float(\n",
    "                \"VISUAL_MEMORY_AL_\" + str(__robotnumber).zfill(2) + \"_Y\",\n",
    "                #edes-iPython _state[\"x\"][1]\n",
    "                kalman.state[\"x\"][1]\n",
    "            )\n",
    "            \n",
    "            #edes-iPython if sym.sqrt(_state[\"x\"][2]**2 + _state[\"x\"][3]**2) > _bkb.read_float(\"VISUAL_MEMORY_AL_\" + str(__robotnumber).zfill(2) + \"_MAX_VEL\"):\n",
    "            if sym.sqrt(kalman.state[\"x\"][2]**2 + kalman.state[\"x\"][3]**2) > kalman._bkb.read_float(\"VISUAL_MEMORY_AL_\" + str(__robotnumber).zfill(2) + \"_MAX_VEL\"):\n",
    "                #edes-iPython _bkb.write_float(\n",
    "                kalman._bkb.write_float(\n",
    "                    \"VISUAL_MEMORY_AL_\" + str(__robotnumber).zfill(2) + \"_MAX_VEL\",\n",
    "                    #edes-iPython sym.sqrt(_state[\"x\"][2]**2 + _state[\"x\"][3]**2)\n",
    "                    sym.sqrt(kalman.state[\"x\"][2]**2 + kalman.state[\"x\"][3]**2)\n",
    "                )\n",
    "        else:\n",
    "            #edes-iPython _bkb.write_float(\n",
    "            kalman._bkb.write_float(\n",
    "                \"VISUAL_MEMORY_OP_\" + str(__robotnumber).zfill(2) + \"_X\",\n",
    "                #edes-iPython _state[\"x\"][0]\n",
    "                kalman.state[\"x\"][0]\n",
    "            )\n",
    "            #edes-iPython _bkb.write_float(\n",
    "            kalman._bkb.write_float(\n",
    "                \"VISUAL_MEMORY_OP_\" + str(__robotnumber).zfill(2) + \"_Y\",\n",
    "                #edes-iPython _state[\"x\"][1]\n",
    "                kalman.state[\"x\"][1]\n",
    "            )\n",
    "            \n",
    "            #edes-iPython if sym.sqrt(_state[\"x\"][2]**2 + _state[\"x\"][3]**2) > _bkb.read_float(\"VISUAL_MEMORY_AL_\" + str(__robotnumber).zfill(2) + \"_MAX_VEL\"):\n",
    "            if sym.sqrt(kalman.state[\"x\"][2]**2 + kalman.state[\"x\"][3]**2) > kalman._bkb.read_float(\"VISUAL_MEMORY_AL_\" + str(__robotnumber).zfill(2) + \"_MAX_VEL\"):\n",
    "                #edes-iPython _bkb.write_float(\n",
    "                kalman._bkb.write_float(\n",
    "                    \"VISUAL_MEMORY_OP_\" + str(__robotnumber).zfill(2) + \"_MAX_VEL\",\n",
    "                    #edes-iPython sym.sqrt(_state[\"x\"][2]**2 + _state[\"x\"][3]**2)\n",
    "                    sym.sqrt(kalman.state[\"x\"][2]**2 + kalman.state[\"x\"][3]**2)\n",
    "                ) #self-iPython __predictVector"
   ]
  },
  {
   "cell_type": "markdown",
   "metadata": {},
   "source": [
    "# predictThread\n",
    ".\n",
    "doxygen-iPython"
   ]
  },
  {
   "cell_type": "code",
   "execution_count": null,
   "metadata": {
    "collapsed": true
   },
   "outputs": [],
   "source": [
    "#eself-iPython predictThread\n",
    "#edes-iPython def predictThread(self, tnow = None, movements = None):\n",
    "def predictThread(tnow = None, movements = None):\n",
    "    __listfunction.append([__predictVector, [tnow, movements]])\n",
    "    #edes-iPython _resume( ) #self-iPython predictThread\n",
    "    kalman.resume( )"
   ]
  },
  {
   "cell_type": "code",
   "execution_count": null,
   "metadata": {
    "collapsed": true
   },
   "outputs": [],
   "source": [
    "#ini-iPython"
   ]
  },
  {
   "cell_type": "markdown",
   "metadata": {},
   "source": [
    "## Teste predictThread"
   ]
  },
  {
   "cell_type": "code",
   "execution_count": null,
   "metadata": {
    "collapsed": false
   },
   "outputs": [],
   "source": [
    "predictThread(1.0, 1)\n",
    "#end-iPython"
   ]
  },
  {
   "cell_type": "markdown",
   "metadata": {},
   "source": [
    "# updateVector\n",
    ".\n",
    "doxygen-iPython"
   ]
  },
  {
   "cell_type": "code",
   "execution_count": null,
   "metadata": {
    "collapsed": false
   },
   "outputs": [],
   "source": [
    "#eself-iPython __updateVector\n",
    "#edes-iPython def __updateVector(self, vector):\n",
    "def __updateVector(data):\n",
    "    #edes-iPython super(Robots, self).update(data)\n",
    "    kalman.update(data)\n",
    "    \n",
    "    if data[\"tag\"] != 0:\n",
    "        timenumber = data[\"tag\"] #self-iPython __updateVector"
   ]
  },
  {
   "cell_type": "markdown",
   "metadata": {},
   "source": [
    "# updateThread\n",
    ".\n",
    "doxygen-iPython"
   ]
  },
  {
   "cell_type": "code",
   "execution_count": null,
   "metadata": {
    "collapsed": true
   },
   "outputs": [],
   "source": [
    "#eself-iPython updateThread\n",
    "#edes-iPython def updateThread(self, tnow = None, movements = None):\n",
    "def updateThread(data):\n",
    "    __listfunction.append([__updateVector, data])\n",
    "    #edes-iPython _resume( ) #self-iPython updateThread\n",
    "    kalman.resume( )"
   ]
  },
  {
   "cell_type": "code",
   "execution_count": null,
   "metadata": {
    "collapsed": true
   },
   "outputs": [],
   "source": [
    "#ini-iPython"
   ]
  },
  {
   "cell_type": "markdown",
   "metadata": {},
   "source": [
    "## Teste predictThread"
   ]
  },
  {
   "cell_type": "code",
   "execution_count": null,
   "metadata": {
    "collapsed": false
   },
   "outputs": [],
   "source": [
    "predictThread(1.0, 1)\n",
    "#end-iPython"
   ]
  },
  {
   "cell_type": "markdown",
   "metadata": {},
   "source": [
    "# run\n",
    ".\n",
    "doxygen-iPython"
   ]
  },
  {
   "cell_type": "code",
   "execution_count": null,
   "metadata": {
    "collapsed": true
   },
   "outputs": [],
   "source": [
    "#eself-iPython run\n",
    "#edes-iPython def run(self):\n",
    "def run( ):\n",
    "    global kalman #debug-iPython\n",
    "    #edes-iPython self.__running = True\n",
    "    kalman.running = True\n",
    "    #edes-iPython while self.__running:\n",
    "    while kalman.running:\n",
    "        #edes-iPython with self._pausethread:\n",
    "        with kalman.pausethread:\n",
    "            while __listfunction != []:\n",
    "                func, data = __listfunction.pop(0)\n",
    "                func(data)\n",
    "        #edes-iPython self._pause( ) #self-iPython run\n",
    "        kalman.pause( )"
   ]
  },
  {
   "cell_type": "code",
   "execution_count": null,
   "metadata": {
    "collapsed": true
   },
   "outputs": [],
   "source": [
    "#ini-iPython"
   ]
  },
  {
   "cell_type": "markdown",
   "metadata": {},
   "source": [
    "## Teste run"
   ]
  },
  {
   "cell_type": "code",
   "execution_count": null,
   "metadata": {
    "collapsed": false
   },
   "outputs": [],
   "source": [
    "kalman = BasicThread(s, \"Robots\")\n",
    "kalman.reset()\n",
    "kalman.run = run\n",
    "kalman.start( )\n",
    "\n",
    "data = {\n",
    "    \"target\": 1,\n",
    "    \"pos\": [1, 1],\n",
    "    \"time\": 1.0,\n",
    "    \"movement\": 1\n",
    "}\n",
    "__listfunction = [ ]\n",
    "\n",
    "updateThread(data)\n",
    "\n",
    "# time.sleep(1)\n",
    "print \"listfunction:\", __listfunction\n",
    "kalman.predictedstate"
   ]
  },
  {
   "cell_type": "code",
   "execution_count": null,
   "metadata": {
    "collapsed": false
   },
   "outputs": [],
   "source": [
    "print kalman.predictedstate\n",
    "time.sleep(1)\n",
    "kalman.finalize( )\n",
    "print kalman.running, kalman.pauseistrue\n",
    "#end-iPython"
   ]
  },
  {
   "cell_type": "markdown",
   "metadata": {},
   "source": [
    "# end\n",
    ".\n",
    "doxygen-iPython"
   ]
  },
  {
   "cell_type": "code",
   "execution_count": null,
   "metadata": {
    "collapsed": true
   },
   "outputs": [],
   "source": [
    "#eself-iPython end\n",
    "#edes-iPython def end(self):\n",
    "def end( ):\n",
    "    __listfunction = [ ]\n",
    "    #edes-iPython _finalize( )\n",
    "    kalman.finalize( )\n",
    "    #edes-iPython super(Robots, self)._end( ) #self-iPython end\n",
    "    kalman._end( ) #self-iPython end"
   ]
  },
  {
   "cell_type": "code",
   "execution_count": null,
   "metadata": {
    "collapsed": true
   },
   "outputs": [],
   "source": [
    "#ini-iPython"
   ]
  },
  {
   "cell_type": "markdown",
   "metadata": {},
   "source": [
    "## Teste end"
   ]
  },
  {
   "cell_type": "code",
   "execution_count": null,
   "metadata": {
    "collapsed": false
   },
   "outputs": [],
   "source": [
    "end( )\n",
    "#end-iPython"
   ]
  },
  {
   "cell_type": "code",
   "execution_count": null,
   "metadata": {
    "collapsed": false
   },
   "outputs": [],
   "source": [
    "#end-tab -> Finalizando classe"
   ]
  },
  {
   "cell_type": "code",
   "execution_count": null,
   "metadata": {
    "collapsed": true
   },
   "outputs": [],
   "source": [
    "#ini-iPython"
   ]
  },
  {
   "cell_type": "markdown",
   "metadata": {},
   "source": [
    "# nova_variavel\n",
    ".\n",
    "doxygen-iPython"
   ]
  },
  {
   "cell_type": "code",
   "execution_count": null,
   "metadata": {
    "collapsed": true
   },
   "outputs": [],
   "source": [
    "nova_variavel = None #self-iPython nova_variavel"
   ]
  },
  {
   "cell_type": "markdown",
   "metadata": {},
   "source": [
    "# nova_funcao\n",
    ".\n",
    "doxygen-iPython"
   ]
  },
  {
   "cell_type": "code",
   "execution_count": null,
   "metadata": {
    "collapsed": true
   },
   "outputs": [],
   "source": [
    "# eself-iPython nova_funcao\n",
    "# edes-iPython def nova_funcao(self, variaveis_funcao):\n",
    "def nova_funcao(variaveis_funcao):\n",
    "    pass # self-iPython nova_funcao"
   ]
  },
  {
   "cell_type": "code",
   "execution_count": null,
   "metadata": {
    "collapsed": true
   },
   "outputs": [],
   "source": [
    "#ini-iPython"
   ]
  },
  {
   "cell_type": "markdown",
   "metadata": {},
   "source": [
    "## Teste nova_funcao"
   ]
  },
  {
   "cell_type": "code",
   "execution_count": null,
   "metadata": {
    "collapsed": false
   },
   "outputs": [],
   "source": [
    "\n",
    "#end-iPython"
   ]
  },
  {
   "cell_type": "code",
   "execution_count": null,
   "metadata": {
    "collapsed": true
   },
   "outputs": [],
   "source": [
    "#end-iPython"
   ]
  }
 ],
 "metadata": {
  "kernelspec": {
   "display_name": "Python 2",
   "language": "python",
   "name": "python2"
  },
  "language_info": {
   "codemirror_mode": {
    "name": "ipython",
    "version": 2
   },
   "file_extension": ".py",
   "mimetype": "text/x-python",
   "name": "python",
   "nbconvert_exporter": "python",
   "pygments_lexer": "ipython2",
   "version": "2.7.6"
  }
 },
 "nbformat": 4,
 "nbformat_minor": 2
}
