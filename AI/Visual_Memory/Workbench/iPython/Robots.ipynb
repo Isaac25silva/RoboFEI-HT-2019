{
 "cells": [
  {
   "cell_type": "code",
   "execution_count": 1,
   "metadata": {
    "collapsed": true
   },
   "outputs": [],
   "source": [
    "#ini-iPython"
   ]
  },
  {
   "cell_type": "markdown",
   "metadata": {},
   "source": [
    "# Executando no diretório principal"
   ]
  },
  {
   "cell_type": "code",
   "execution_count": 2,
   "metadata": {
    "collapsed": true
   },
   "outputs": [],
   "source": [
    "import os\n",
    "os.chdir('../../') #Executando na pasta Visual_Memory\n",
    "import sys\n",
    "sys.path.append('./include')\n",
    "sys.path.append('./src')\n",
    "sys.path.append('./Workbench/iPython')\n",
    "#end-iPython"
   ]
  },
  {
   "cell_type": "markdown",
   "metadata": {
    "collapsed": true
   },
   "source": [
    "---- Imports ----"
   ]
  },
  {
   "cell_type": "code",
   "execution_count": 3,
   "metadata": {
    "collapsed": true
   },
   "outputs": [],
   "source": [
    "# Libraries to be used.\n",
    "import sys\n",
    "#des-iPython sys.path.append(\"../include\")\n",
    "#des-iPython sys.path.append(\"../src\")"
   ]
  },
  {
   "cell_type": "code",
   "execution_count": 4,
   "metadata": {
    "collapsed": true
   },
   "outputs": [],
   "source": [
    "# The standard libraries used in the visual memory system.\n"
   ]
  },
  {
   "cell_type": "code",
   "execution_count": 5,
   "metadata": {
    "collapsed": false
   },
   "outputs": [],
   "source": [
    "# Used class developed by RoboFEI-HT.\n",
    "#ini-iPython - Usando Classe KalmanFilter como instanciação\n",
    "os.system(\"sed -i 's/_//g' ./Workbench/iPython/KalmanFilter.py\")\n",
    "os.system(\"sed -i 's/init/__init__/g' ./Workbench/iPython/KalmanFilter.py\")\n",
    "os.system(\"sed -i '/@abstractmethod/d' ./Workbench/iPython/KalmanFilter.py\")\n",
    "os.system(\"sed -i 's/conf/_conf/g' ./Workbench/iPython/KalmanFilter.py\")\n",
    "os.system(\"sed -i 's/invquick/inv_quick/g' ./Workbench/iPython/KalmanFilter.py\")\n",
    "os.system(\"sed -i 's/linearacceleration/linear_acceleration/g' ./Workbench/iPython/KalmanFilter.py\")\n",
    "os.system(\"sed -i 's/visionerror/vision_error/g' ./Workbench/iPython/KalmanFilter.py\")\n",
    "os.system(\"sed -i 's/xspeed/x_speed/g' ./Workbench/iPython/KalmanFilter.py\")\n",
    "\n",
    "os.system(\"sed -i '/__metaclass__/d' ./Workbench/iPython/BasicThread.py\")\n",
    "os.system(\"sed -i 's/_//g' ./Workbench/iPython/BasicThread.py\")\n",
    "os.system(\"sed -i 's/init/__init__/g' ./Workbench/iPython/BasicThread.py\")\n",
    "os.system(\"sed -i '/@abstractmethod/d' ./Workbench/iPython/BasicThread.py\")\n",
    "\n",
    "#end-iPython\n",
    "from BasicThread import * # Responsible for implementing the methods and variables responsible for managing the thread.\n",
    "sym.init_printing() #debug-iPython"
   ]
  },
  {
   "cell_type": "markdown",
   "metadata": {
    "collapsed": true
   },
   "source": [
    "# Class to Robots\n",
    "Class responsible for performing robots tracking.\n",
    "doxygen-iPython"
   ]
  },
  {
   "cell_type": "code",
   "execution_count": 6,
   "metadata": {
    "collapsed": true
   },
   "outputs": [],
   "source": [
    "#des-iPython class Robots(BasicThread):\n",
    "#ini-tab -> Iniciando código classe"
   ]
  },
  {
   "cell_type": "markdown",
   "metadata": {},
   "source": [
    "---- Variables ----"
   ]
  },
  {
   "cell_type": "markdown",
   "metadata": {},
   "source": [
    "# listfunction\n",
    ".\n",
    "doxygen-iPython"
   ]
  },
  {
   "cell_type": "code",
   "execution_count": 7,
   "metadata": {
    "collapsed": true
   },
   "outputs": [],
   "source": [
    "__listfunction = None #self-iPython __listfunction"
   ]
  },
  {
   "cell_type": "markdown",
   "metadata": {},
   "source": [
    "# robotnumber\n",
    ".\n",
    "doxygen-iPython"
   ]
  },
  {
   "cell_type": "code",
   "execution_count": 8,
   "metadata": {
    "collapsed": true
   },
   "outputs": [],
   "source": [
    "__robotnumber = None #self-iPython __robotnumber"
   ]
  },
  {
   "cell_type": "markdown",
   "metadata": {},
   "source": [
    "# posdata\n",
    ".\n",
    "doxygen-iPython"
   ]
  },
  {
   "cell_type": "code",
   "execution_count": 9,
   "metadata": {
    "collapsed": true
   },
   "outputs": [],
   "source": [
    "__posdata = None #self-iPython __posdata"
   ]
  },
  {
   "cell_type": "markdown",
   "metadata": {},
   "source": [
    "# __lastposdata\n",
    ".\n",
    "doxygen-iPython"
   ]
  },
  {
   "cell_type": "code",
   "execution_count": 10,
   "metadata": {
    "collapsed": true
   },
   "outputs": [],
   "source": [
    "__lastposdata = None #self-iPython __lastposdata"
   ]
  },
  {
   "cell_type": "markdown",
   "metadata": {},
   "source": [
    "# timenumber\n",
    ".\n",
    "doxygen-iPython"
   ]
  },
  {
   "cell_type": "code",
   "execution_count": 11,
   "metadata": {
    "collapsed": true
   },
   "outputs": [],
   "source": [
    "timenumber = 0 #self-iPython timenumber"
   ]
  },
  {
   "cell_type": "markdown",
   "metadata": {},
   "source": [
    "# weight\n",
    ".\n",
    "doxygen-iPython"
   ]
  },
  {
   "cell_type": "code",
   "execution_count": 12,
   "metadata": {
    "collapsed": true
   },
   "outputs": [],
   "source": [
    "weight = 0 #self-iPython weight"
   ]
  },
  {
   "cell_type": "code",
   "execution_count": 13,
   "metadata": {
    "collapsed": true
   },
   "outputs": [],
   "source": [
    "#ini-iPython\n",
    "\n",
    "# ------- Lista de funções herdadas -------\n",
    "\n",
    "#self-iPython _finalize\n",
    "#self-iPython _resume\n",
    "\n",
    "# ------- Lista variaveis herdadas -------\n",
    "\n",
    "#self-iPython _t\n",
    "\n",
    "#self-iPython _A\n",
    "#self-iPython _B\n",
    "#self-iPython _R\n",
    "#self-iPython _C\n",
    "\n",
    "#self-iPython _px\n",
    "#self-iPython _py\n",
    "#self-iPython _vx\n",
    "#self-iPython _vy\n",
    "#self-iPython _ax\n",
    "#self-iPython _ay\n",
    "\n",
    "#self-iPython _conf\n",
    "\n",
    "# Estados\n",
    "#self-iPython _speeds\n",
    "\n",
    "\n",
    "# ------- Lista de funções -------\n",
    "\n",
    "#self-iPython reset\n",
    "#self-iPython __predictVector\n",
    "#self-iPython predictThread\n",
    "#self-iPython __updateVector\n",
    "#self-iPython updateThread\n",
    "#self-iPython run\n",
    "#self-iPython end\n",
    "#self-iPython calculatesDistance\n",
    "#self-iPython __lt__\n",
    "\n",
    "#end-iPython - Fim listas"
   ]
  },
  {
   "cell_type": "markdown",
   "metadata": {},
   "source": [
    "# reset\n",
    ".\n",
    "doxygen-iPython"
   ]
  },
  {
   "cell_type": "code",
   "execution_count": 14,
   "metadata": {
    "collapsed": false
   },
   "outputs": [],
   "source": [
    "#eself-iPython reset\n",
    "#edes-iPython def reset(self):\n",
    "def reset( ):\n",
    "    global timenumber #debug-iPython\n",
    "    #edes-iPython super(Robots, self)._reset( )\n",
    "    self.reset( )\n",
    "    \n",
    "    #edes-iPython _A = _A[:-2,:-2]\n",
    "    self.A = self.A[:-2,:-2]\n",
    "    #edes-iPython _B = _B[:-2,:]\n",
    "    self.B = self.B[:-2,:]\n",
    "    #edes-iPython _R = _R[:-2,:-2]\n",
    "    self.R = self.R[:-2,:-2]\n",
    "    #edes-iPython _C = _C[:,:-2]\n",
    "    self.C = self.C[:,:-2]\n",
    "    \n",
    "    self._predictedstate[\"x\"] = self._predictedstate[\"x\"][:-2,:]\n",
    "    self._predictedstate[\"covariance\"] = self._predictedstate[\"covariance\"][:-2,:-2]\n",
    "\n",
    "    if timenumber == 0:\n",
    "        return\n",
    "    elif timenumber < 0:\n",
    "        print \"Adversario:\", \"VISUAL_MEMORY_OP_\"+ str(-timenumber).zfill(2) #debug-iPython\n",
    "        #edes-iPython self._bkb.write_float(\"VISUAL_MEMORY_OP_\"+ str(-timenumber).zfill(2) +\"_X\", 0)\n",
    "        self._bkb.write_float(\"VISUAL_MEMORY_OP_\"+ str(-timenumber).zfill(2) +\"_X\", 0)\n",
    "        #edes-iPython self._bkb.write_float(\"VISUAL_MEMORY_OP_\"+ str(-timenumber).zfill(2) +\"_Y\", 0)\n",
    "        self._bkb.write_float(\"VISUAL_MEMORY_OP_\"+ str(-timenumber).zfill(2) +\"_Y\", 0)\n",
    "        #edes-iPython self._bkb.write_float(\"VISUAL_MEMORY_OP_\"+ str(-timenumber).zfill(2) +\"_MAX_VEL\", 0)\n",
    "        self._bkb.write_float(\"VISUAL_MEMORY_OP_\"+ str(-timenumber).zfill(2) +\"_MAX_VEL\", 0)\n",
    "        #edes-iPython self._bkb.write_float(\"VISUAL_MEMORY_OP_\"+ str(-timenumber).zfill(2) +\"_LOC\", 0)\n",
    "        self._bkb.write_float(\"VISUAL_MEMORY_OP_\"+ str(-timenumber).zfill(2) +\"_LOC\", 0)\n",
    "    else:\n",
    "        print \"Aliado:\", \"VISUAL_MEMORY_AL_\"+ str(timenumber).zfill(2) #debug-iPython\n",
    "        #edes-iPython self._bkb.write_float(\"VISUAL_MEMORY_AL_\"+ str(timenumber).zfill(2) +\"_X\", 0)\n",
    "        self._bkb.write_float(\"VISUAL_MEMORY_AL_\"+ str(timenumber).zfill(2) +\"_X\", 0)\n",
    "        #edes-iPython self._bkb.write_float(\"VISUAL_MEMORY_AL_\"+ str(timenumber).zfill(2) +\"_Y\", 0)\n",
    "        self._bkb.write_float(\"VISUAL_MEMORY_AL_\"+ str(timenumber).zfill(2) +\"_Y\", 0)\n",
    "        #edes-iPython self._bkb.write_float(\"VISUAL_MEMORY_AL_\"+ str(timenumber).zfill(2) +\"_MAX_VEL\", 0)\n",
    "        self._bkb.write_float(\"VISUAL_MEMORY_AL_\"+ str(timenumber).zfill(2) +\"_MAX_VEL\", 0)\n",
    "        #edes-iPython self._bkb.write_float(\"VISUAL_MEMORY_AL_\"+ str(timenumber).zfill(2) +\"_LOC\", 0)\n",
    "        self._bkb.write_float(\"VISUAL_MEMORY_AL_\"+ str(timenumber).zfill(2) +\"_LOC\", 0)\n",
    "    timenumber = 0  #self-iPython reset"
   ]
  },
  {
   "cell_type": "code",
   "execution_count": 15,
   "metadata": {
    "collapsed": false
   },
   "outputs": [],
   "source": [
    "#ini-iPython"
   ]
  },
  {
   "cell_type": "markdown",
   "metadata": {},
   "source": [
    "## Teste reset"
   ]
  },
  {
   "cell_type": "code",
   "execution_count": 16,
   "metadata": {
    "collapsed": false
   },
   "outputs": [
    {
     "ename": "TypeError",
     "evalue": "Can't instantiate abstract class KalmanFilter with abstract methods __init__",
     "output_type": "error",
     "traceback": [
      "\u001b[0;31m---------------------------------------------------------------------------\u001b[0m",
      "\u001b[0;31mTypeError\u001b[0m                                 Traceback (most recent call last)",
      "\u001b[0;32m<ipython-input-16-6b41e061be7a>\u001b[0m in \u001b[0;36m<module>\u001b[0;34m()\u001b[0m\n\u001b[1;32m      2\u001b[0m \u001b[0mvrx\u001b[0m\u001b[0;34m,\u001b[0m \u001b[0mvry\u001b[0m\u001b[0;34m,\u001b[0m \u001b[0marx\u001b[0m\u001b[0;34m,\u001b[0m \u001b[0mary\u001b[0m \u001b[0;34m=\u001b[0m \u001b[0msym\u001b[0m\u001b[0;34m.\u001b[0m\u001b[0msymbols\u001b[0m\u001b[0;34m(\u001b[0m\u001b[0;34m\"vr_x vr_y ar_x ar_y\"\u001b[0m\u001b[0;34m)\u001b[0m\u001b[0;34m\u001b[0m\u001b[0m\n\u001b[1;32m      3\u001b[0m \u001b[0ms\u001b[0m \u001b[0;34m=\u001b[0m \u001b[0mSpeeds\u001b[0m\u001b[0;34m(\u001b[0m \u001b[0;34m)\u001b[0m \u001b[0;31m#debug-iPython\u001b[0m\u001b[0;34m\u001b[0m\u001b[0m\n\u001b[0;32m----> 4\u001b[0;31m \u001b[0mself\u001b[0m \u001b[0;34m=\u001b[0m \u001b[0mKalmanFilter\u001b[0m\u001b[0;34m(\u001b[0m\u001b[0ms\u001b[0m\u001b[0;34m,\u001b[0m \u001b[0;34m\"Robots\"\u001b[0m\u001b[0;34m)\u001b[0m\u001b[0;34m\u001b[0m\u001b[0m\n\u001b[0m\u001b[1;32m      5\u001b[0m \u001b[0mreset\u001b[0m\u001b[0;34m(\u001b[0m \u001b[0;34m)\u001b[0m\u001b[0;34m\u001b[0m\u001b[0m\n\u001b[1;32m      6\u001b[0m \u001b[0mself\u001b[0m\u001b[0;34m.\u001b[0m\u001b[0mA\u001b[0m\u001b[0;34m,\u001b[0m \u001b[0mself\u001b[0m\u001b[0;34m.\u001b[0m\u001b[0mB\u001b[0m\u001b[0;34m,\u001b[0m \u001b[0mself\u001b[0m\u001b[0;34m.\u001b[0m\u001b[0mR\u001b[0m\u001b[0;34m,\u001b[0m \u001b[0mself\u001b[0m\u001b[0;34m.\u001b[0m\u001b[0mC\u001b[0m\u001b[0;34m,\u001b[0m \u001b[0mself\u001b[0m\u001b[0;34m.\u001b[0m\u001b[0mpredictedstate\u001b[0m\u001b[0;34m[\u001b[0m\u001b[0;34m\"x\"\u001b[0m\u001b[0;34m]\u001b[0m\u001b[0;34m,\u001b[0m \u001b[0mself\u001b[0m\u001b[0;34m.\u001b[0m\u001b[0mpredictedstate\u001b[0m\u001b[0;34m[\u001b[0m\u001b[0;34m\"covariance\"\u001b[0m\u001b[0;34m]\u001b[0m\u001b[0;34m,\u001b[0m \u001b[0mtimenumber\u001b[0m\u001b[0;34m\u001b[0m\u001b[0m\n",
      "\u001b[0;31mTypeError\u001b[0m: Can't instantiate abstract class KalmanFilter with abstract methods __init__"
     ]
    }
   ],
   "source": [
    "timenumber = -2\n",
    "vrx, vry, arx, ary = sym.symbols(\"vr_x vr_y ar_x ar_y\")\n",
    "s = Speeds( ) #debug-iPython\n",
    "self = KalmanFilter(s, \"Robots\")\n",
    "reset( )\n",
    "self.A, self.B, self.R, self.C, self.predictedstate[\"x\"], self.predictedstate[\"covariance\"], timenumber"
   ]
  },
  {
   "cell_type": "code",
   "execution_count": null,
   "metadata": {
    "collapsed": false
   },
   "outputs": [],
   "source": [
    "del self\n",
    "del s\n",
    "#end-iPython"
   ]
  },
  {
   "cell_type": "markdown",
   "metadata": {},
   "source": [
    "# Constructor Class\n",
    "doxygen-iPython"
   ]
  },
  {
   "cell_type": "code",
   "execution_count": null,
   "metadata": {
    "collapsed": false,
    "scrolled": true
   },
   "outputs": [],
   "source": [
    "s = Speeds( ) #debug-iPython\n",
    "pos = [0, 0] #debug-iPython\n",
    "#des-iPython def __init__(self, s, pos, n):\n",
    "#ini-tab -> Criando construtor\n",
    "# Instantiating constructor for inherited class.\n",
    "#edes-iPython super(Robots, self).__init__(s, \"Robots\")\n",
    "self = BasicThread(s, \"Robots\")\n",
    "\n",
    "timenumber = n\n",
    "\n",
    "__posdata = pos\n",
    "\n",
    "# Creating characteristic variables for Robots and reading.\n",
    "#des-iPython self._parameters.update({\n",
    "#des-iPython     \"precision\": 0.6\n",
    "#des-iPython })\n",
    "#ini-iPython\n",
    "self.parameters.update({\n",
    "    \"precision\": 0.6\n",
    "})\n",
    "#end-iPython\n",
    "#edes-iPython self._parameters = _conf.readVariables(self._parameters)\n",
    "self.parameters = self._conf.readVariables(self.parameters)\n",
    "\n",
    "reset( )\n",
    "\n",
    "__listfunction = [ ]\n",
    "\n",
    "#des-iPython self.start( )"
   ]
  },
  {
   "cell_type": "code",
   "execution_count": null,
   "metadata": {
    "collapsed": true
   },
   "outputs": [],
   "source": [
    "#end-tab -> Finalizando construtor"
   ]
  },
  {
   "cell_type": "code",
   "execution_count": null,
   "metadata": {
    "collapsed": false
   },
   "outputs": [],
   "source": [
    "#ini-iPython"
   ]
  },
  {
   "cell_type": "markdown",
   "metadata": {},
   "source": [
    "## Teste construtor"
   ]
  },
  {
   "cell_type": "code",
   "execution_count": null,
   "metadata": {
    "collapsed": false
   },
   "outputs": [],
   "source": [
    "self._end( )\n",
    "print self.parameters\n",
    "\n",
    "vrx, vry, arx, ary = sym.symbols(\"vr_x vr_y ar_x ar_y\")\n",
    "\n",
    "__u = sym.Matrix([\n",
    "    [vrx],\n",
    "    [vry],\n",
    "    [arx],\n",
    "    [ary],\n",
    "    [1],\n",
    "])\n",
    "\n",
    "self.B*__u\n",
    "#end-iPython"
   ]
  },
  {
   "cell_type": "markdown",
   "metadata": {},
   "source": [
    "# __predictVector\n",
    ".\n",
    "doxygen-iPython"
   ]
  },
  {
   "cell_type": "code",
   "execution_count": null,
   "metadata": {
    "collapsed": false
   },
   "outputs": [],
   "source": [
    "#eself-iPython __predictVector\n",
    "#edes-iPython def __predictVector(self, vector):\n",
    "def __predictVector(vector):\n",
    "    tnow, movements = vector\n",
    "    #edes-iPython super(Robots, self).predict(tnow, movements)\n",
    "    self.predict(tnow, movements)\n",
    "    \n",
    "    if tnow == None and timenumber != 0:\n",
    "        if self._predictedstate[\"covariance\"][0, 0] > self._parameters['precision'] or self._predictedstate[\"covariance\"][1, 1] > self._parameters['precision']:\n",
    "            if timenumber > 0:\n",
    "                self._bkb.write_float(\n",
    "                    \"VISUAL_MEMORY_AL_\" + str(int(timenumber)).zfill(2) + \"_LOC\",\n",
    "                    0\n",
    "                )\n",
    "            else:\n",
    "                self._bkb.write_float(\n",
    "                    \"VISUAL_MEMORY_OP_\" + str(-int(timenumber)).zfill(2) + \"_LOC\",\n",
    "                    0\n",
    "                )\n",
    "        \n",
    "        elif timenumber > 0:\n",
    "            self._bkb.write_float(\n",
    "                \"VISUAL_MEMORY_AL_\" + str(int(timenumber)).zfill(2) + \"_X\",\n",
    "                self._state[\"x\"][0, 0]\n",
    "            )\n",
    "            self._bkb.write_float(\n",
    "                \"VISUAL_MEMORY_AL_\" + str(int(timenumber)).zfill(2) + \"_Y\",\n",
    "                self._state[\"x\"][1, 0]\n",
    "            )\n",
    "            \n",
    "            if sym.sqrt(self._state[\"x\"][2, 0]**2 + self._state[\"x\"][3, 0]**2) > self._bkb.read_float(\"VISUAL_MEMORY_AL_\" + str(int(timenumber)).zfill(2) + \"_MAX_VEL\"):\n",
    "                self._bkb.write_float(\n",
    "                    \"VISUAL_MEMORY_AL_\" + str(int(timenumber)).zfill(2) + \"_MAX_VEL\",\n",
    "                    sym.sqrt(self._state[\"x\"][2, 0]**2 + self._state[\"x\"][3, 0]**2)\n",
    "                )\n",
    "            \n",
    "            self._bkb.write_float(\n",
    "                \"VISUAL_MEMORY_AL_\" + str(int(timenumber)).zfill(2) + \"_LOC\",\n",
    "                1\n",
    "            )\n",
    "        else:\n",
    "            self._bkb.write_float(\n",
    "                \"VISUAL_MEMORY_OP_\" + str(-int(timenumber)).zfill(2) + \"_X\",\n",
    "                self._state[\"x\"][0, 0]\n",
    "            )\n",
    "            self._bkb.write_float(\n",
    "                \"VISUAL_MEMORY_OP_\" + str(-int(timenumber)).zfill(2) + \"_Y\",\n",
    "                self._state[\"x\"][1, 0]\n",
    "            )\n",
    "            \n",
    "            if sym.sqrt(self._state[\"x\"][2, 0]**2 + self._state[\"x\"][3, 0]**2) > self._bkb.read_float(\"VISUAL_MEMORY_OP_\" + str(-int(timenumber)).zfill(2) + \"_MAX_VEL\"):\n",
    "                self._bkb.write_float(\n",
    "                    \"VISUAL_MEMORY_OP_\" + str(-int(timenumber)).zfill(2) + \"_MAX_VEL\",\n",
    "                    sym.sqrt(self._state[\"x\"][2, 0]**2 + self._state[\"x\"][3, 0]**2)\n",
    "                )\n",
    "            \n",
    "            self._bkb.write_float(\n",
    "                \"VISUAL_MEMORY_OP_\" + str(-int(timenumber)).zfill(2) + \"_LOC\",\n",
    "                1\n",
    "            ) #self-iPython __predictVector"
   ]
  },
  {
   "cell_type": "markdown",
   "metadata": {},
   "source": [
    "# predictThread\n",
    ".\n",
    "doxygen-iPython"
   ]
  },
  {
   "cell_type": "code",
   "execution_count": null,
   "metadata": {
    "collapsed": true
   },
   "outputs": [],
   "source": [
    "#eself-iPython predictThread\n",
    "#edes-iPython def predictThread(self, tnow = None, movements = None):\n",
    "def predictThread(tnow = None, movements = None):\n",
    "    __listfunction.append([__predictVector, [tnow, movements]])\n",
    "    #edes-iPython _resume( ) #self-iPython predictThread\n",
    "    self.resume( )"
   ]
  },
  {
   "cell_type": "code",
   "execution_count": null,
   "metadata": {
    "collapsed": true
   },
   "outputs": [],
   "source": [
    "#ini-iPython"
   ]
  },
  {
   "cell_type": "markdown",
   "metadata": {},
   "source": [
    "## Teste predictThread"
   ]
  },
  {
   "cell_type": "code",
   "execution_count": null,
   "metadata": {
    "collapsed": false
   },
   "outputs": [],
   "source": [
    "predictThread(1.0, 1)\n",
    "#end-iPython"
   ]
  },
  {
   "cell_type": "markdown",
   "metadata": {},
   "source": [
    "# updateVector\n",
    ".\n",
    "doxygen-iPython"
   ]
  },
  {
   "cell_type": "code",
   "execution_count": null,
   "metadata": {
    "collapsed": false
   },
   "outputs": [],
   "source": [
    "#eself-iPython __updateVector\n",
    "#edes-iPython def __updateVector(self, data):\n",
    "def __updateVector(data):    \n",
    "    #edes-iPython super(Robots, self).update(data) #self-iPython __updateVector\n",
    "    self.update(data)"
   ]
  },
  {
   "cell_type": "markdown",
   "metadata": {},
   "source": [
    "# updateThread\n",
    ".\n",
    "doxygen-iPython"
   ]
  },
  {
   "cell_type": "code",
   "execution_count": null,
   "metadata": {
    "collapsed": true
   },
   "outputs": [],
   "source": [
    "#eself-iPython updateThread\n",
    "#edes-iPython def updateThread(self, data):\n",
    "def updateThread(data):\n",
    "    __listfunction.append([__updateVector, data])\n",
    "    #edes-iPython _resume( ) #self-iPython updateThread\n",
    "    self.resume( )"
   ]
  },
  {
   "cell_type": "code",
   "execution_count": null,
   "metadata": {
    "collapsed": true
   },
   "outputs": [],
   "source": [
    "#ini-iPython"
   ]
  },
  {
   "cell_type": "markdown",
   "metadata": {},
   "source": [
    "## Teste predictThread"
   ]
  },
  {
   "cell_type": "code",
   "execution_count": null,
   "metadata": {
    "collapsed": false
   },
   "outputs": [],
   "source": [
    "predictThread(1.0, 1)\n",
    "#end-iPython"
   ]
  },
  {
   "cell_type": "markdown",
   "metadata": {},
   "source": [
    "# run\n",
    ".\n",
    "doxygen-iPython"
   ]
  },
  {
   "cell_type": "code",
   "execution_count": null,
   "metadata": {
    "collapsed": true
   },
   "outputs": [],
   "source": [
    "#eself-iPython run\n",
    "#edes-iPython def run(self):\n",
    "def run( ):\n",
    "    global self #debug-iPython\n",
    "    #edes-iPython self._running = True\n",
    "    self.running = True\n",
    "    #edes-iPython while self._running:\n",
    "    while self.running:\n",
    "        #edes-iPython with self._pausethread:\n",
    "        with self.pausethread:\n",
    "            while __listfunction != []:\n",
    "                func, data = __listfunction.pop(0)\n",
    "                func(data)\n",
    "        #edes-iPython self._pause( ) #self-iPython run\n",
    "        self.pause( )"
   ]
  },
  {
   "cell_type": "code",
   "execution_count": null,
   "metadata": {
    "collapsed": true
   },
   "outputs": [],
   "source": [
    "#ini-iPython"
   ]
  },
  {
   "cell_type": "markdown",
   "metadata": {},
   "source": [
    "## Teste run"
   ]
  },
  {
   "cell_type": "code",
   "execution_count": null,
   "metadata": {
    "collapsed": false
   },
   "outputs": [],
   "source": [
    "self = BasicThread(s, \"Robots\")\n",
    "self.reset()\n",
    "self.run = run\n",
    "self.start( )\n",
    "\n",
    "data = {\n",
    "    \"target\": 1,\n",
    "    \"pos\": [1, 1],\n",
    "    \"time\": 1.0,\n",
    "    \"movement\": 1\n",
    "}\n",
    "__listfunction = [ ]\n",
    "\n",
    "updateThread(data)\n",
    "\n",
    "# time.sleep(1)\n",
    "print \"listfunction:\", __listfunction\n",
    "self.predictedstate"
   ]
  },
  {
   "cell_type": "code",
   "execution_count": null,
   "metadata": {
    "collapsed": false
   },
   "outputs": [],
   "source": [
    "print self.predictedstate\n",
    "time.sleep(1)\n",
    "self.finalize( )\n",
    "print self.running, self.pauseistrue\n",
    "#end-iPython"
   ]
  },
  {
   "cell_type": "markdown",
   "metadata": {},
   "source": [
    "# end\n",
    ".\n",
    "doxygen-iPython"
   ]
  },
  {
   "cell_type": "code",
   "execution_count": null,
   "metadata": {
    "collapsed": true
   },
   "outputs": [],
   "source": [
    "#eself-iPython end\n",
    "#edes-iPython def end(self):\n",
    "def end( ):\n",
    "    __listfunction = [ ]\n",
    "    #edes-iPython _finalize( )\n",
    "    self.finalize( )\n",
    "    #edes-iPython super(Robots, self)._end( ) #self-iPython end\n",
    "    self._end( ) #self-iPython end"
   ]
  },
  {
   "cell_type": "code",
   "execution_count": null,
   "metadata": {
    "collapsed": true
   },
   "outputs": [],
   "source": [
    "#ini-iPython"
   ]
  },
  {
   "cell_type": "markdown",
   "metadata": {},
   "source": [
    "## Teste end"
   ]
  },
  {
   "cell_type": "code",
   "execution_count": null,
   "metadata": {
    "collapsed": false
   },
   "outputs": [],
   "source": [
    "end( )\n",
    "#end-iPython"
   ]
  },
  {
   "cell_type": "markdown",
   "metadata": {},
   "source": [
    "# calculatesDistance\n",
    ".\n",
    "doxygen-iPython"
   ]
  },
  {
   "cell_type": "code",
   "execution_count": null,
   "metadata": {
    "collapsed": true
   },
   "outputs": [],
   "source": [
    "#eself-iPython calculatesDistance\n",
    "#edes-iPython def calculatesDistance(self):\n",
    "def calculatesDistance( ):\n",
    "    global __lastposdata, __posdata, weight #debug-iPython\n",
    "    if __lastposdata == __posdata:\n",
    "        print \"Já calulado\" #debug-iPython\n",
    "        return\n",
    "    \n",
    "    print \"Calculando\" #debug-iPython    \n",
    "    __lastposdata = copy(__posdata)\n",
    "    \n",
    "    weight = sym.exp(\n",
    "        -0.5*sym.transpose(sym.Matrix(__posdata) - self._state[\"x\"][:2,:2])*\n",
    "        self._state[\"covariance\"][:2,:2]*\n",
    "        (sym.Matrix(__posdata) - self._state[\"x\"][:2,:2])\n",
    "    )[0, 0] #self-iPython calculatesDistance"
   ]
  },
  {
   "cell_type": "code",
   "execution_count": null,
   "metadata": {
    "collapsed": false
   },
   "outputs": [],
   "source": [
    "#ini-iPython"
   ]
  },
  {
   "cell_type": "markdown",
   "metadata": {},
   "source": [
    "## Teste calculatesDistance"
   ]
  },
  {
   "cell_type": "code",
   "execution_count": null,
   "metadata": {
    "collapsed": false
   },
   "outputs": [],
   "source": [
    "__posdata = [1, 1]\n",
    "\n",
    "self._state[\"x\"][:2,:2] = [1, 2]\n",
    "self._state[\"x\"][:2,:2]\n",
    "self._state[\"covariance\"][:2,:2] = [[1, 0], [0, 1]]\n",
    "\n",
    "calculatesDistance( )\n",
    "print weight\n",
    "#end-iPython"
   ]
  },
  {
   "cell_type": "markdown",
   "metadata": {},
   "source": [
    "# __lt__\n",
    ".\n",
    "doxygen-iPython"
   ]
  },
  {
   "cell_type": "code",
   "execution_count": null,
   "metadata": {
    "collapsed": false
   },
   "outputs": [],
   "source": [
    "#eself-iPython __lt__\n",
    "#eself-iPython weight\n",
    "#eself-iPython calculatesDistance\n",
    "#edes-iPython def __lt__(self, other):\n",
    "def __lt__(other):\n",
    "    self.calculatesDistance( )\n",
    "    other.calculatesDistance( )\n",
    "    return self.weight < other.weight #self-iPython __lt__\n",
    "    #self-iPython weight\n",
    "    #self-iPython calculatesDistance"
   ]
  },
  {
   "cell_type": "code",
   "execution_count": null,
   "metadata": {
    "collapsed": true
   },
   "outputs": [],
   "source": [
    "#ini-iPython"
   ]
  },
  {
   "cell_type": "markdown",
   "metadata": {},
   "source": [
    "## Teste __lt__"
   ]
  },
  {
   "cell_type": "code",
   "execution_count": null,
   "metadata": {
    "collapsed": false
   },
   "outputs": [],
   "source": [
    "\n",
    "#end-iPython"
   ]
  },
  {
   "cell_type": "code",
   "execution_count": null,
   "metadata": {
    "collapsed": false
   },
   "outputs": [],
   "source": [
    "#end-tab -> Finalizando classe"
   ]
  },
  {
   "cell_type": "code",
   "execution_count": null,
   "metadata": {
    "collapsed": true
   },
   "outputs": [],
   "source": [
    "#ini-iPython"
   ]
  },
  {
   "cell_type": "markdown",
   "metadata": {},
   "source": [
    "# nova_variavel\n",
    ".\n",
    "doxygen-iPython"
   ]
  },
  {
   "cell_type": "code",
   "execution_count": null,
   "metadata": {
    "collapsed": true
   },
   "outputs": [],
   "source": [
    "nova_variavel = None #self-iPython nova_variavel"
   ]
  },
  {
   "cell_type": "markdown",
   "metadata": {},
   "source": [
    "# nova_funcao\n",
    ".\n",
    "doxygen-iPython"
   ]
  },
  {
   "cell_type": "code",
   "execution_count": null,
   "metadata": {
    "collapsed": true
   },
   "outputs": [],
   "source": [
    "# eself-iPython nova_funcao\n",
    "# edes-iPython def nova_funcao(self, variaveis_funcao):\n",
    "def nova_funcao(variaveis_funcao):\n",
    "    pass # self-iPython nova_funcao"
   ]
  },
  {
   "cell_type": "code",
   "execution_count": null,
   "metadata": {
    "collapsed": true
   },
   "outputs": [],
   "source": [
    "#ini-iPython"
   ]
  },
  {
   "cell_type": "markdown",
   "metadata": {},
   "source": [
    "## Teste nova_funcao"
   ]
  },
  {
   "cell_type": "code",
   "execution_count": null,
   "metadata": {
    "collapsed": false
   },
   "outputs": [],
   "source": [
    "\n",
    "#end-iPython"
   ]
  },
  {
   "cell_type": "code",
   "execution_count": null,
   "metadata": {
    "collapsed": true
   },
   "outputs": [],
   "source": [
    "#end-iPython"
   ]
  }
 ],
 "metadata": {
  "kernelspec": {
   "display_name": "Python 2",
   "language": "python",
   "name": "python2"
  },
  "language_info": {
   "codemirror_mode": {
    "name": "ipython",
    "version": 2
   },
   "file_extension": ".py",
   "mimetype": "text/x-python",
   "name": "python",
   "nbconvert_exporter": "python",
   "pygments_lexer": "ipython2",
   "version": "2.7.6"
  }
 },
 "nbformat": 4,
 "nbformat_minor": 2
}
