{
 "cells": [
  {
   "cell_type": "markdown",
   "metadata": {},
   "source": [
    "# Experimento mestrado 2 - Ex 1\n",
    "## Executando na pasta principal"
   ]
  },
  {
   "cell_type": "code",
   "execution_count": 1,
   "metadata": {
    "collapsed": true
   },
   "outputs": [],
   "source": [
    "import os\n",
    "import numpy as np\n",
    "import pandas as pd\n",
    "import time\n",
    "import matplotlib.pyplot as plt\n",
    "%matplotlib inline\n",
    "os.chdir('../../../../') #Executando na pasta Visual_Memory\n",
    "import sys\n",
    "sys.path.append('./include')\n",
    "sys.path.append('./src')"
   ]
  },
  {
   "cell_type": "markdown",
   "metadata": {},
   "source": [
    "### Criando lista de videos "
   ]
  },
  {
   "cell_type": "code",
   "execution_count": 2,
   "metadata": {
    "collapsed": false
   },
   "outputs": [],
   "source": [
    "address = \"/home/vinicius/Vídeos/Ex1\"\n",
    "Files = os.listdir(address)\n",
    "Files.sort()"
   ]
  },
  {
   "cell_type": "code",
   "execution_count": 3,
   "metadata": {
    "collapsed": false
   },
   "outputs": [],
   "source": [
    "filesrob = []\n",
    "filescel = []\n",
    "for video in Files:\n",
    "    if video.find('cel') == -1:\n",
    "        filesrob.append(video)\n",
    "    else:\n",
    "        filescel.append(video)\n",
    "\n",
    "Files = zip(filesrob, filescel)"
   ]
  },
  {
   "cell_type": "markdown",
   "metadata": {},
   "source": [
    "### Preparando sistema:"
   ]
  },
  {
   "cell_type": "code",
   "execution_count": 4,
   "metadata": {
    "collapsed": false
   },
   "outputs": [],
   "source": [
    "# Files = Files[:1]\n",
    "# print Files"
   ]
  },
  {
   "cell_type": "code",
   "execution_count": 5,
   "metadata": {
    "collapsed": false
   },
   "outputs": [],
   "source": [
    "# os.system(\"mkdir Ex1\")\n",
    "# listTime = []\n",
    "# for vision, debug in Files:\n",
    "#     # Criando sh da visão\n",
    "#     text = open(\"./runvision.sh\", \"w\")\n",
    "#     text.write(\"#!/bin/bash\\nPYTHONPATH=~/models/research/slim:~/models/research/object_detection:~/models/research:$PYTHONPATH\\n\\ncd Vision/\\npython vision.py --dnn --v \" + address + \"/\" + vision)\n",
    "#     text.close()\n",
    "#     os.system(\"chmod 755 runvision.sh\")\n",
    "    \n",
    "#     # Criando sh da Visual Memory\n",
    "#     text = open(\"./runvisualmemory.sh\", \"w\")\n",
    "#     text.write(\"#!/bin/bash\\n\\ncd Visual_Memory/\\npython visualMemory.py --d --sd --nr 3 --p 333\")\n",
    "#     text.close()\n",
    "#     os.system(\"chmod 755 runvisualmemory.sh\")\n",
    "\n",
    "#     # Limpando bkb\n",
    "#     os.system(\"screen -d -m -S 'Vision' './runvision.sh'\")\n",
    "#     time.sleep(3)\n",
    "#     os.system(\"kill $(pidof -x ./runvision.sh)\")\n",
    "    \n",
    "#     #Executando Visual Memory\n",
    "#     os.system(\"screen -d -m -S 'VisualMemory' './runvisualmemory.sh'\")\n",
    "#     os.system(\"gnome-terminal -x sh -c 'screen -R VisualMemory'\")\n",
    "    \n",
    "#     #Executando visão[tempo, x, y, vx, vy, ex, ey, evx, evy, cx, cy, cvx, cvy, time]\n",
    "#     os.system(\"screen -d -m -S 'Vision' './runvision.sh'\")\n",
    "# #     os.system(\"gnome-terminal -x sh -c 'screen -R Vision'\")\n",
    "    \n",
    "#     #Vendo video\n",
    "# #     os.system(\"gnome-terminal -x sh -c 'sleep 4 && vlc \" + address + \"/\" + debug + \"'\")\n",
    "    \n",
    "#     listTime.append([vision.split(\"_\")[0], time.time()])\n",
    "    \n",
    "#     while os.system(\"pidof -x ./runvision.sh\") == 0:\n",
    "#         time.sleep(1)\n",
    "    \n",
    "#     os.system(\"kill $(pidof -x ./runvisualmemory.sh)\")\n",
    "#     os.system(\"kill $(pidof -x ./runvision.sh)\")\n",
    "#     os.system(\"kill $(pidof -x vlc)\")\n",
    "    \n",
    "#     os.system(\"mv ./Visual_Memory/Data/Thread-1-Robots.npy ./Ex1/\" + vision.split(\"_\")[0] + \".npy\")\n",
    "    \n",
    "#     os.system(\"sleep 5\")\n",
    "\n",
    "# text = open(\"./time.txt\", \"w\")\n",
    "# text.write(str(listTime))\n",
    "# text.close()\n",
    "# raw_input(\"Esperando..\")"
   ]
  },
  {
   "cell_type": "code",
   "execution_count": 6,
   "metadata": {
    "collapsed": false
   },
   "outputs": [],
   "source": [
    "address = \"./Ex1\"\n",
    "Files = os.listdir(address)\n",
    "Files.sort()\n",
    "listData = []\n",
    "for name in Files:\n",
    "#     print address + \"/\" + name\n",
    "    dataRob = np.load(address + \"/\" + name)\n",
    "    dataExp = []\n",
    "    for tempo, [x, y, vx, vy], [ex, ey, evx, evy], [cx, cy, cvx, cvy], t in dataRob:\n",
    "        dataExp.append([tempo, x, y, vx, vy, ex, ey, evx, evy, cx, cy, cvx, cvy, t])\n",
    "    dataExp = pd.DataFrame(\n",
    "        dataExp,\n",
    "        columns=[\n",
    "            \"Tempo\",\n",
    "            \"Posição X\",\n",
    "            \"Posição Y\",\n",
    "            \"Velocidade X\",\n",
    "            \"Velocidade Y\",\n",
    "            \"Erro PX\",\n",
    "            \"Erro PY\",\n",
    "            \"Erro VX\",\n",
    "            \"Erro VY\",\n",
    "            \"Covariância PX\",\n",
    "            \"Covariância PY\",\n",
    "            \"Covariância VX\",\n",
    "            \"Covariância VY\",\n",
    "            \"Time\",\n",
    "        ]\n",
    "    )\n",
    "#     dataExp[\"Tempo\"] = dataExp[\"Tempo\"] - dataExp[\"Tempo\"][0]\n",
    "    listData.append(dataExp)"
   ]
  },
  {
   "cell_type": "code",
   "execution_count": 7,
   "metadata": {
    "collapsed": false
   },
   "outputs": [],
   "source": [
    "listTime = pd.DataFrame(\n",
    "    np.loadtxt(\"time.txt\")[:,1],\n",
    "    index = [str(int(i)) for i in np.loadtxt(\"time.txt\")[:,0]]\n",
    ")\n",
    "for data, time in zip(listData, listTime[0]):\n",
    "    data[\"Tempo\"] = data[\"Tempo\"] - time"
   ]
  },
  {
   "cell_type": "code",
   "execution_count": 8,
   "metadata": {
    "collapsed": false
   },
   "outputs": [],
   "source": [
    "# listData[7]"
   ]
  },
  {
   "cell_type": "code",
   "execution_count": 9,
   "metadata": {
    "collapsed": false
   },
   "outputs": [],
   "source": [
    "interposy = listData[0][\"Posição Y\"].values\n",
    "interposy\n",
    "\n",
    "listData[0][\"Erro PY\"] = listData[0][\"Erro PY\"].values.astype(float)\n",
    "intererry = listData[0][\"Erro PY\"].values\n",
    "intererry\n",
    "\n",
    "vel = ((600/max(listData[0][\"Tempo\"]))*listData[0][\"Tempo\"] - 300).values\n",
    "\n",
    "for data in listData[1:]:\n",
    "    newposy = np.interp(\n",
    "        listData[0][\"Tempo\"],\n",
    "        data[\"Tempo\"],\n",
    "        data[\"Posição Y\"]\n",
    "    )\n",
    "    \n",
    "    data[\"Erro PY\"] = data[\"Erro PY\"].values.astype(float)\n",
    "    newerry = np.interp(\n",
    "        listData[0][\"Tempo\"],\n",
    "        data[\"Tempo\"],\n",
    "        data[\"Erro PY\"]\n",
    "    )\n",
    "    \n",
    "    b = np.interp(\n",
    "        listData[0][\"Tempo\"],\n",
    "        data[\"Tempo\"],\n",
    "        ((600/max(data[\"Tempo\"]))*data[\"Tempo\"] - 300).values\n",
    "    )\n",
    "    \n",
    "    try:\n",
    "        interposy = np.append(interposy, [newposy], axis=0)\n",
    "        intererry = np.append(intererry, [newerry], axis=0)\n",
    "        vel = np.append(vel, [b], axis=0)\n",
    "    except ValueError:\n",
    "        interposy = np.append([interposy], [newposy], axis=0)\n",
    "        intererry = np.append([intererry], [newerry], axis=0)\n",
    "        vel = np.append([vel], [b], axis=0)"
   ]
  },
  {
   "cell_type": "code",
   "execution_count": 10,
   "metadata": {
    "collapsed": false
   },
   "outputs": [],
   "source": [
    "# zip(interposy.mean(axis=0), np.sqrt(interposy.var(axis=0)))\n",
    "# zip(intererry.mean(axis=0), np.sqrt(intererry.var(axis=0)))\n",
    "# zip(vel.mean(axis=0), np.sqrt(vel.var(axis=0)))"
   ]
  },
  {
   "cell_type": "code",
   "execution_count": 11,
   "metadata": {
    "collapsed": false
   },
   "outputs": [
    {
     "name": "stdout",
     "output_type": "stream",
     "text": [
      "Conta x: 300.0 cm\n",
      "Velocidade: 12.2959706468 cm/s\n"
     ]
    }
   ],
   "source": [
    "t = max(listData[0][\"Tempo\"])\n",
    "# t = 0\n",
    "print \"Conta x:\", (600/max(listData[0][\"Tempo\"]))*t - 300, \"cm\\nVelocidade:\", (600/max(listData[0][\"Tempo\"])), \"cm/s\""
   ]
  },
  {
   "cell_type": "code",
   "execution_count": 12,
   "metadata": {
    "collapsed": true
   },
   "outputs": [],
   "source": [
    "def moving_average(a, n=3) :\n",
    "    ret = np.cumsum(a, dtype=float)\n",
    "    ret[n:] = ret[n:] - ret[:-n]\n",
    "    return ret[n - 1:] / n"
   ]
  },
  {
   "cell_type": "code",
   "execution_count": 13,
   "metadata": {
    "collapsed": false
   },
   "outputs": [
    {
     "data": {
      "text/plain": [
       "0"
      ]
     },
     "execution_count": 13,
     "metadata": {},
     "output_type": "execute_result"
    }
   ],
   "source": [
    "os.system(\"mkdir /home/vinicius/Dropbox/Projeto\\ Mestrado/Dados/\")\n",
    "os.system(\"sleep 3\")"
   ]
  },
  {
   "cell_type": "code",
   "execution_count": 14,
   "metadata": {
    "collapsed": false
   },
   "outputs": [
    {
     "name": "stderr",
     "output_type": "stream",
     "text": [
      "/usr/lib/pymodules/python2.7/matplotlib/collections.py:548: FutureWarning: elementwise comparison failed; returning scalar instead, but in the future will perform elementwise comparison\n",
      "  if self._edgecolors == 'face':\n"
     ]
    },
    {
     "data": {
      "image/png": "[encoded data removed]",
      "text/plain": [
       "<matplotlib.figure.Figure at 0x7f91aedd2f90>"
      ]
     },
     "metadata": {},
     "output_type": "display_data"
    }
   ],
   "source": [
    "limit = 100\n",
    "\n",
    "# plt.figure(figsize = (12,8))\n",
    "plt.plot(\n",
    "    listData[0][\"Tempo\"], # Tempo\n",
    "    vel.mean(axis = 0), # Desejado\n",
    "    \"r\", # Cor e padrão\n",
    "    label = u\"Posição estimada\",\n",
    ")\n",
    "\n",
    "plt.errorbar(\n",
    "    listData[0][\"Tempo\"], # Tempo\n",
    "    interposy.mean(axis = 0), # Posição\n",
    "    yerr = np.clip(intererry.mean(axis = 0), -limit, limit), # Erro Y\n",
    "    color = \"b\", # Cor e padrão\n",
    "    label = u\"Médias dos experimentos\",\n",
    ")\n",
    "\n",
    "plt.legend(loc = 2)\n",
    "plt.xlabel(u\"Tempo (s)\")\n",
    "plt.ylabel(u\"Distância (cm)\")\n",
    "# plt.title(u\"Distância do rôbo em Y pelo tempo\")\n",
    "\n",
    "plt.grid()\n",
    "plt.savefig(\"/home/vinicius/Dropbox/Projeto Mestrado/Imagens/ex1graf1.png\", dpi = 720)"
   ]
  },
  {
   "cell_type": "code",
   "execution_count": 15,
   "metadata": {
    "collapsed": false
   },
   "outputs": [],
   "source": [
    "for data, time in zip(listData, listTime[0]):\n",
    "    data[\"Posição Y\"] = abs((600/max(data[\"Tempo\"]))*data[\"Tempo\"] - 300 - data[\"Posição Y\"])"
   ]
  },
  {
   "cell_type": "code",
   "execution_count": 16,
   "metadata": {
    "collapsed": true
   },
   "outputs": [],
   "source": [
    "interposy = listData[0][\"Posição Y\"].values\n",
    "interposy\n",
    "\n",
    "listData[0][\"Erro PY\"] = listData[0][\"Erro PY\"].values.astype(float)\n",
    "intererry = listData[0][\"Erro PY\"].values\n",
    "intererry\n",
    "\n",
    "vel = ((600/max(listData[0][\"Tempo\"]))*listData[0][\"Tempo\"] - 300).values\n",
    "\n",
    "for data in listData[1:]:\n",
    "    newposy = np.interp(\n",
    "        listData[0][\"Tempo\"],\n",
    "        data[\"Tempo\"],\n",
    "        data[\"Posição Y\"]\n",
    "    )\n",
    "    \n",
    "    data[\"Erro PY\"] = data[\"Erro PY\"].values.astype(float)\n",
    "    newerry = np.interp(\n",
    "        listData[0][\"Tempo\"],\n",
    "        data[\"Tempo\"],\n",
    "        data[\"Erro PY\"]\n",
    "    )\n",
    "    \n",
    "    b = np.interp(\n",
    "        listData[0][\"Tempo\"],\n",
    "        data[\"Tempo\"],\n",
    "        ((600/max(data[\"Tempo\"]))*data[\"Tempo\"] - 300).values\n",
    "    )\n",
    "    \n",
    "    try:\n",
    "        interposy = np.append(interposy, [newposy], axis=0)\n",
    "        intererry = np.append(intererry, [newerry], axis=0)\n",
    "        vel = np.append(vel, [b], axis=0)\n",
    "    except ValueError:\n",
    "        interposy = np.append([interposy], [newposy], axis=0)\n",
    "        intererry = np.append([intererry], [newerry], axis=0)\n",
    "        vel = np.append([vel], [b], axis=0)"
   ]
  },
  {
   "cell_type": "code",
   "execution_count": 17,
   "metadata": {
    "collapsed": false
   },
   "outputs": [
    {
     "data": {
      "image/png": "[encoded data removed]",
      "text/plain": [
       "<matplotlib.figure.Figure at 0x7f91aedd21d0>"
      ]
     },
     "metadata": {},
     "output_type": "display_data"
    }
   ],
   "source": [
    "# plt.figure(figsize=(12,8))\n",
    "plt.plot(\n",
    "    listData[0][\"Tempo\"], # Tempo\n",
    "    interposy.mean(axis = 0), # Desejado\n",
    "    \"r\", # Cor e padrão\n",
    "    label = u\"Erro Y\",\n",
    ")\n",
    "\n",
    "plt.axhline(\n",
    "    interposy.mean( ),\n",
    "    color = 'b',\n",
    "    linestyle = '--',\n",
    "    label = u\"Média\",\n",
    ")\n",
    "\n",
    "plt.legend(loc = 2)\n",
    "plt.xlabel(u\"Tempo (s)\")\n",
    "plt.ylabel(u\"Distância (cm)\")\n",
    "# plt.title(u\"Erro de distância em Y pelo tempo\")\n",
    "\n",
    "plt.grid()\n",
    "plt.savefig(\"/home/vinicius/Dropbox/Projeto Mestrado/Imagens/ex1graf2.png\", dpi = 720)"
   ]
  },
  {
   "cell_type": "code",
   "execution_count": 18,
   "metadata": {
    "collapsed": false
   },
   "outputs": [],
   "source": [
    "interposy = interposy.mean(axis=0)"
   ]
  },
  {
   "cell_type": "code",
   "execution_count": 19,
   "metadata": {
    "collapsed": false
   },
   "outputs": [
    {
     "name": "stdout",
     "output_type": "stream",
     "text": [
      "43.1521201776 ± 22.5438435948 cm\n"
     ]
    }
   ],
   "source": [
    "print interposy.mean(), \"±\", np.sqrt(interposy.var( )), \"cm\""
   ]
  },
  {
   "cell_type": "code",
   "execution_count": 20,
   "metadata": {
    "collapsed": false
   },
   "outputs": [],
   "source": [
    "with open(\"/home/vinicius/Dropbox/Projeto Mestrado/Dados/media.txt\", \"w\") as f:\n",
    "    f.write(str(round(interposy.mean( ), 2)))\n",
    "\n",
    "with open(\"/home/vinicius/Dropbox/Projeto Mestrado/Dados/desvio.txt\", \"w\") as f:\n",
    "    f.write(str(round(np.sqrt(interposy.var( )), 2)))"
   ]
  }
 ],
 "metadata": {
  "kernelspec": {
   "display_name": "Python 2",
   "language": "python",
   "name": "python2"
  },
  "language_info": {
   "codemirror_mode": {
    "name": "ipython",
    "version": 2
   },
   "file_extension": ".py",
   "mimetype": "text/x-python",
   "name": "python",
   "nbconvert_exporter": "python",
   "pygments_lexer": "ipython2",
   "version": "2.7.6"
  }
 },
 "nbformat": 4,
 "nbformat_minor": 1
}
