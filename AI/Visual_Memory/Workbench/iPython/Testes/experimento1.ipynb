{
 "cells": [
  {
   "cell_type": "markdown",
   "metadata": {},
   "source": [
    "# Experimento mestrado 1\n",
    "## Executando na pasta principal"
   ]
  },
  {
   "cell_type": "code",
   "execution_count": 1,
   "metadata": {
    "collapsed": true
   },
   "outputs": [],
   "source": [
    "import os\n",
    "os.chdir('../../../') #Executando na pasta Visual_Memory\n",
    "import sys\n",
    "sys.path.append('./include')\n",
    "sys.path.append('./src')"
   ]
  },
  {
   "cell_type": "markdown",
   "metadata": {},
   "source": [
    "## Copilando arquivos para teste"
   ]
  },
  {
   "cell_type": "code",
   "execution_count": 2,
   "metadata": {
    "collapsed": false
   },
   "outputs": [],
   "source": [
    "if os.system(\"cd Workbench/ && ./convertendo_all.sh && cd ..\") != 0:\n",
    "    print \"Erro de copilação\"\n",
    "    sys.exit(0)"
   ]
  },
  {
   "cell_type": "markdown",
   "metadata": {},
   "source": [
    "## Criando configurações padroes e arquivo de execução"
   ]
  },
  {
   "cell_type": "code",
   "execution_count": 44,
   "metadata": {
    "collapsed": false
   },
   "outputs": [],
   "source": [
    "ERRO = 0.1\n",
    "\n",
    "os.system('sed -i \\'s/tnow = time.time( )/tnow = self._bkb.read_float(\"VISION_RB20_TAG\")/g\\' ./include/KalmanFilter.py')\n",
    "\n",
    "text = open(\"./run.sh\", \"w\")\n",
    "text.write(\"#!/bin/bash\\n\\npython visualMemory.py --nr 5 --p 2000 --d\")\n",
    "text.close()"
   ]
  },
  {
   "cell_type": "code",
   "execution_count": 45,
   "metadata": {
    "collapsed": false
   },
   "outputs": [],
   "source": [
    "from Blackboard import *\n",
    "import random"
   ]
  },
  {
   "cell_type": "code",
   "execution_count": 46,
   "metadata": {
    "collapsed": false
   },
   "outputs": [],
   "source": [
    "bkb = Blackboard( )"
   ]
  },
  {
   "cell_type": "code",
   "execution_count": 47,
   "metadata": {
    "collapsed": false
   },
   "outputs": [],
   "source": [
    "bkb.write_float('VISION_RB20_TAG', 0) # tempo no now\n",
    "\n",
    "# Zerando robôs\n",
    "bkb.write_float('VISION_RB01_TAG', 0)\n",
    "bkb.write_float('VISION_RB02_TAG', 0)\n",
    "\n",
    "bkb.write_float('VISION_LAND_TAG', 0)"
   ]
  },
  {
   "cell_type": "markdown",
   "metadata": {},
   "source": [
    "## Executando VisualMemory e removendo arquivo de execução"
   ]
  },
  {
   "cell_type": "code",
   "execution_count": 48,
   "metadata": {
    "collapsed": false
   },
   "outputs": [
    {
     "data": {
      "text/plain": [
       "0"
      ]
     },
     "execution_count": 48,
     "metadata": {},
     "output_type": "execute_result"
    }
   ],
   "source": [
    "os.system(\"chmod 777 run.sh\")\n",
    "os.system(\"screen -d -m -S 'VisualMemory' './run.sh'\")\n",
    "os.system(\"gnome-terminal -x sh -c 'screen -R VisualMemory'\")\n",
    "os.system(\"rm run.sh\")"
   ]
  },
  {
   "cell_type": "code",
   "execution_count": 15,
   "metadata": {
    "collapsed": false
   },
   "outputs": [],
   "source": [
    "bkb.write_float(\"VISUAL_MEMORY_LAND_LOC\", 1)\n",
    "bkb.write_float(\"VISUAL_MEMORY_LAND_X\", 14.455787)\n",
    "bkb.write_float(\"VISUAL_MEMORY_LAND_Y\", 133.578545)"
   ]
  },
  {
   "cell_type": "code",
   "execution_count": 38,
   "metadata": {
    "collapsed": true
   },
   "outputs": [],
   "source": [
    "bkb.write_float(\"VISUAL_MEMORY_AL_01_LOC\", 1)\n",
    "bkb.write_float(\"VISUAL_MEMORY_AL_01_X\", 10)\n",
    "bkb.write_float(\"VISUAL_MEMORY_AL_01_MAX_VEL\", 1.468)"
   ]
  },
  {
   "cell_type": "code",
   "execution_count": 37,
   "metadata": {
    "collapsed": true
   },
   "outputs": [],
   "source": [
    "bkb.write_float(\"VISUAL_MEMORY_AL_02_LOC\", 0)\n",
    "bkb.write_float(\"VISUAL_MEMORY_AL_02_X\", 123.4)\n",
    "bkb.write_float(\"VISUAL_MEMORY_AL_02_MAX_VEL\", 5.6784768476)"
   ]
  },
  {
   "cell_type": "code",
   "execution_count": 24,
   "metadata": {
    "collapsed": true
   },
   "outputs": [],
   "source": [
    "bkb.write_float(\"VISUAL_MEMORY_OP_01_LOC\", 1)\n",
    "bkb.write_float(\"VISUAL_MEMORY_OP_01_X\", 20.4876)\n",
    "bkb.write_float(\"VISUAL_MEMORY_OP_01_MAX_VEL\", 1.56874)"
   ]
  },
  {
   "cell_type": "code",
   "execution_count": null,
   "metadata": {
    "collapsed": true
   },
   "outputs": [],
   "source": [
    "bkb.write_float(\"VISUAL_MEMORY_OP_02_LOC\", 1)\n",
    "bkb.write_float(\"VISUAL_MEMORY_OP_02_X\", 5.587)\n",
    "bkb.write_float(\"VISUAL_MEMORY_OP_02_MAX_VEL\", 154.46876)"
   ]
  },
  {
   "cell_type": "code",
   "execution_count": 13,
   "metadata": {
    "collapsed": false
   },
   "outputs": [],
   "source": [
    "FALHA = 100\n",
    "FALHACOR = 100\n",
    "# vx = 2; vy = 1; vax = 5; vay = -1; vox = -3; voy = -1.5; ω = 1°\n",
    "listaLand = [\n",
    "    {\"tag\": 1, \"pos\": [+6.00, +3.00], \"movement\": 1, \"time\": 0.0},\n",
    "    {\"tag\": 1, \"pos\": [+5.03, +2.45], \"movement\": 1, \"time\": 0.5},\n",
    "    {\"tag\": 1, \"pos\": [+4.05, +1.89], \"movement\": 1, \"time\": 1.0},\n",
    "    {\"tag\": 1, \"pos\": [+3.08, +1.34], \"movement\": 1, \"time\": 1.5},\n",
    "    {\"tag\": 1, \"pos\": [+2.10, +0.79], \"movement\": 1, \"time\": 2.0},\n",
    "    {\"tag\": 1, \"pos\": [+1.13, +0.24], \"movement\": 1, \"time\": 2.5},\n",
    "    {\"tag\": 1, \"pos\": [+0.15, -0.32], \"movement\": 1, \"time\": 3.0},\n",
    "    {\"tag\": 1, \"pos\": [-0.83, -0.87], \"movement\": 1, \"time\": 3.5},\n",
    "    {\"tag\": 1, \"pos\": [-1.81, -1.43], \"movement\": 1, \"time\": 4.0},\n",
    "    {\"tag\": 1, \"pos\": [-2.78, -1.98], \"movement\": 1, \"time\": 4.5},\n",
    "    {\"tag\": 1, \"pos\": [-3.76, -2.53], \"movement\": 1, \"time\": 5.0},\n",
    "    {\"tag\": 1, \"pos\": [-4.74, -3.09], \"movement\": 1, \"time\": 5.5},\n",
    "    {\"tag\": 1, \"pos\": [-5.72, -3.64], \"movement\": 1, \"time\": 6.0},\n",
    "    {\"tag\": 1, \"pos\": [-6.70, -4.20], \"movement\": 1, \"time\": 6.5},\n",
    "    {\"tag\": 1, \"pos\": [-7.68, -4.75], \"movement\": 1, \"time\": 7.0},\n",
    "    {\"tag\": 1, \"pos\": [-8.66, -5.31], \"movement\": 1, \"time\": 7.5},\n",
    "    {\"tag\": 1, \"pos\": [-9.64, -5.86], \"movement\": 1, \"time\": 8.0},\n",
    "]\n",
    "\n",
    "listaOponente = [\n",
    "    {\"tag\": 1, \"pos\": [+7.00, +0.00], \"movement\": 1, \"time\": 0.0},\n",
    "    {\"tag\": 1, \"pos\": [+4.49, -1.30], \"movement\": 1, \"time\": 0.5},\n",
    "    {\"tag\": 1, \"pos\": [+1.97, -2.57], \"movement\": 1, \"time\": 1.0},\n",
    "    {\"tag\": 1, \"pos\": [-0.56, -3.81], \"movement\": 1, \"time\": 1.5},\n",
    "    {\"tag\": 1, \"pos\": [-3.11, -5.03], \"movement\": 1, \"time\": 2.0},\n",
    "    {\"tag\": 1, \"pos\": [-5.66, -6.22], \"movement\": 1, \"time\": 2.5},\n",
    "    {\"tag\": 1, \"pos\": [-8.23, -7.39], \"movement\": 1, \"time\": 3.0},\n",
    "    {\"tag\": 1, \"pos\": [-10.8, -8.53], \"movement\": 1, \"time\": 3.5},\n",
    "    {\"tag\": 1, \"pos\": [-13.4, -9.64], \"movement\": 1, \"time\": 4.0},\n",
    "    {\"tag\": 1, \"pos\": [-16.0, -10.7], \"movement\": 1, \"time\": 4.5},\n",
    "    {\"tag\": 1, \"pos\": [-18.6, -11.8], \"movement\": 1, \"time\": 5.0},\n",
    "    {\"tag\": 1, \"pos\": [-21.3, -12.8], \"movement\": 1, \"time\": 5.5},\n",
    "    {\"tag\": 1, \"pos\": [-23.9, -13.8], \"movement\": 1, \"time\": 6.0},\n",
    "    {\"tag\": 1, \"pos\": [-26.5, -14.7], \"movement\": 1, \"time\": 6.5},\n",
    "    {\"tag\": 1, \"pos\": [-29.1, -15.7], \"movement\": 1, \"time\": 7.0},\n",
    "    {\"tag\": 1, \"pos\": [-31.8, -16.6], \"movement\": 1, \"time\": 7.5},\n",
    "    {\"tag\": 1, \"pos\": [-34.5, -17.5], \"movement\": 1, \"time\": 8.0},\n",
    "]\n",
    "\n",
    "listaAliado = [\n",
    "    {\"tag\": 3, \"pos\": [+6.00, +0.00], \"movement\": 1, \"time\": 0.0},\n",
    "    {\"tag\": 3, \"pos\": [+4.00, -1.04], \"movement\": 1, \"time\": 0.5},\n",
    "    {\"tag\": 3, \"pos\": [+1.98, -1.97], \"movement\": 1, \"time\": 1.0},\n",
    "    {\"tag\": 3, \"pos\": [-0.04, -3.00], \"movement\": 1, \"time\": 1.5},\n",
    "    {\"tag\": 3, \"pos\": [-2.07, -4.07], \"movement\": 1, \"time\": 2.0},\n",
    "    {\"tag\": 3, \"pos\": [-4.11, -5.04], \"movement\": 1, \"time\": 2.5},\n",
    "    {\"tag\": 3, \"pos\": [-6.16, -6.00], \"movement\": 1, \"time\": 3.0},\n",
    "    {\"tag\": 3, \"pos\": [-8.21, -6.93], \"movement\": 1, \"time\": 3.5},\n",
    "    {\"tag\": 3, \"pos\": [-10.3, -7.85], \"movement\": 1, \"time\": 4.0},\n",
    "    {\"tag\": 3, \"pos\": [-12.3, -8.75], \"movement\": 1, \"time\": 4.5},\n",
    "    {\"tag\": 3, \"pos\": [-14.4, -9.63], \"movement\": 1, \"time\": 5.0},\n",
    "    {\"tag\": 3, \"pos\": [-16.5, -10.5], \"movement\": 1, \"time\": 5.5},\n",
    "    {\"tag\": 3, \"pos\": [-18.6, -11.3], \"movement\": 1, \"time\": 6.0},\n",
    "    {\"tag\": 3, \"pos\": [-20.7, -12.2], \"movement\": 1, \"time\": 6.5},\n",
    "    {\"tag\": 3, \"pos\": [-22.8, -13.0], \"movement\": 1, \"time\": 7.0},\n",
    "    {\"tag\": 3, \"pos\": [-24.9, -13.8], \"movement\": 1, \"time\": 7.5},\n",
    "    {\"tag\": 3, \"pos\": [-27.0, -14.5], \"movement\": 1, \"time\": 8.0},\n",
    "]\n",
    "\n",
    "\n",
    "for lista in [listaLand, listaOponente, listaAliado]:\n",
    "    for data in lista:\n",
    "        if random.random() <= FALHA/100.0:\n",
    "            data[\"pos\"][0] += random.uniform(-ERRO, ERRO)\n",
    "            data[\"pos\"][1] += random.uniform(-ERRO, ERRO)\n",
    "        else:\n",
    "            lista.remove(data)\n",
    "\n",
    "for lista in [listaOponente, listaAliado]:\n",
    "    for data in lista:\n",
    "        if random.random() > FALHACOR/100.0:\n",
    "            data[\"tag\"] = 2"
   ]
  }
 ],
 "metadata": {
  "kernelspec": {
   "display_name": "Python 2",
   "language": "python",
   "name": "python2"
  },
  "language_info": {
   "codemirror_mode": {
    "name": "ipython",
    "version": 2
   },
   "file_extension": ".py",
   "mimetype": "text/x-python",
   "name": "python",
   "nbconvert_exporter": "python",
   "pygments_lexer": "ipython2",
   "version": "2.7.6"
  }
 },
 "nbformat": 4,
 "nbformat_minor": 1
}
