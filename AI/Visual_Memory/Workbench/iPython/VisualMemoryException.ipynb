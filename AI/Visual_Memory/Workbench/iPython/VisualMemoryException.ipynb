{
 "cells": [
  {
   "cell_type": "markdown",
   "metadata": {},
   "source": [
    "---- Imports ----"
   ]
  },
  {
   "cell_type": "code",
   "execution_count": 1,
   "metadata": {
    "collapsed": true
   },
   "outputs": [],
   "source": [
    "# Libraries to be used.\n",
    "import sys"
   ]
  },
  {
   "cell_type": "markdown",
   "metadata": {},
   "source": [
    "# Class to VisualMemoryException\n",
    "Class used to handle system errors\n",
    "doxygen-iPython"
   ]
  },
  {
   "cell_type": "code",
   "execution_count": 2,
   "metadata": {
    "collapsed": true
   },
   "outputs": [],
   "source": [
    "#des-iPython class VisualMemoryException(Exception):\n",
    "#ini-tab -> Iniciando código classe"
   ]
  },
  {
   "cell_type": "markdown",
   "metadata": {},
   "source": [
    "# Constructor Class\n",
    "Displays the error message.\n",
    "doxygen-iPython"
   ]
  },
  {
   "cell_type": "code",
   "execution_count": 3,
   "metadata": {
    "collapsed": false
   },
   "outputs": [
    {
     "name": "stdout",
     "output_type": "stream",
     "text": [
      "Vision Memory System Error: Number of robots incoherent, it was not possible to use Banana robots in the field.\n"
     ]
    },
    {
     "ename": "SystemExit",
     "evalue": "1",
     "output_type": "error",
     "traceback": [
      "An exception has occurred, use %tb to see the full traceback.\n",
      "\u001b[0;31mSystemExit\u001b[0m\u001b[0;31m:\u001b[0m 1\n"
     ]
    },
    {
     "name": "stderr",
     "output_type": "stream",
     "text": [
      "/usr/local/lib/python2.7/dist-packages/IPython/core/interactiveshell.py:2889: UserWarning: To exit: use 'exit', 'quit', or Ctrl-D.\n",
      "  warn(\"To exit: use 'exit', 'quit', or Ctrl-D.\", stacklevel=1)\n"
     ]
    }
   ],
   "source": [
    "numbererror = 1 #debug-iPython\n",
    "message = 'Banana' #debug-iPython\n",
    "#des-iPython def __init__(self, numbererror, message):\n",
    "#ini-tab -> Criando construtor\n",
    "#des-iPython self.numbererror = numbererror\n",
    "if numbererror == 5: # Request to terminate processes by one of the threads.\n",
    "    print 'Request process termination by thread', message\n",
    "    #des-iPython return\n",
    "print 'Vision Memory System Error:',\n",
    "if numbererror == 0: # Generic error messages\n",
    "    print message\n",
    "elif numbererror == 1: # Number of robots incoherent\n",
    "    print \"Number of robots incoherent, it was not possible to use\", message, \"robots in field.\"\n",
    "    sys.exit(1)\n",
    "elif numbererror == 3: # Detecting external kill\n",
    "    print 'Process kill command detected'"
   ]
  },
  {
   "cell_type": "code",
   "execution_count": null,
   "metadata": {
    "collapsed": false
   },
   "outputs": [],
   "source": [
    "#end-tab -> Finalizando construtor"
   ]
  },
  {
   "cell_type": "code",
   "execution_count": null,
   "metadata": {
    "collapsed": true
   },
   "outputs": [],
   "source": [
    "#end-tab -> Finalizando classe"
   ]
  }
 ],
 "metadata": {
  "kernelspec": {
   "display_name": "Python 2",
   "language": "python",
   "name": "python2"
  },
  "language_info": {
   "codemirror_mode": {
    "name": "ipython",
    "version": 2
   },
   "file_extension": ".py",
   "mimetype": "text/x-python",
   "name": "python",
   "nbconvert_exporter": "python",
   "pygments_lexer": "ipython2",
   "version": "2.7.6"
  }
 },
 "nbformat": 4,
 "nbformat_minor": 1
}
