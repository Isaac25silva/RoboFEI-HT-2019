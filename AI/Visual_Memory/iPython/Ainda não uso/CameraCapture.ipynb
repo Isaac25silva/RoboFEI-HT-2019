{
 "cells": [
  {
   "cell_type": "code",
   "execution_count": 1,
   "metadata": {
    "collapsed": true
   },
   "outputs": [],
   "source": [
    "#ini-iPython\n",
    "import os\n",
    "os.chdir('/home/vinicius/Dropbox/Projeto Mestrado/Codigos/RoboFEI-HT_Debug/AI/Vision') #Executando na pasta Vision\n",
    "import sys\n",
    "sys.path.append('./include')\n",
    "sys.path.append('./src')\n",
    "sys.path.append('./iPython')\n",
    "#end-iPython"
   ]
  },
  {
   "cell_type": "code",
   "execution_count": 2,
   "metadata": {
    "collapsed": true
   },
   "outputs": [],
   "source": [
    "# Libraries to be used.\n",
    "import sys\n",
    "#des-iPython sys.path.append('../include')\n",
    "#des-iPython sys.path.append('../src')"
   ]
  },
  {
   "cell_type": "code",
   "execution_count": 3,
   "metadata": {
    "collapsed": false
   },
   "outputs": [],
   "source": [
    "# The standard libraries used in the vision system.\n",
    "import os # Library for interaction with the system\n",
    "from copy import copy # To create copies of the variables\n",
    "import time # Using for time control and measurement"
   ]
  },
  {
   "cell_type": "code",
   "execution_count": 4,
   "metadata": {
    "collapsed": false
   },
   "outputs": [
    {
     "name": "stdout",
     "output_type": "stream",
     "text": [
      "BasicClass - Opencv Version: 3.2.0-dev\n"
     ]
    }
   ],
   "source": [
    "# Used class developed by RoboFEI-HT.\n",
    "from BasicThread import * # Base class with primary functions"
   ]
  },
  {
   "cell_type": "markdown",
   "metadata": {},
   "source": [
    "# Class CameraCapture\n",
    "Class responsible for performing the observation of domain\n",
    "doxygen-iPython"
   ]
  },
  {
   "cell_type": "code",
   "execution_count": 5,
   "metadata": {
    "collapsed": true
   },
   "outputs": [],
   "source": [
    "#des-iPython class CameraCapture(BasicThread):\n",
    "#ini-tab -> Iniciando código classe"
   ]
  },
  {
   "cell_type": "markdown",
   "metadata": {},
   "source": [
    "---- Variables ----"
   ]
  },
  {
   "cell_type": "code",
   "execution_count": 6,
   "metadata": {
    "collapsed": true
   },
   "outputs": [],
   "source": [
    "#ini-iPython\n",
    "\n",
    "# ------- Lista de funções herdadas -------\n",
    "\n",
    "# ------- Lista de funções -------\n",
    "\n",
    "#self-iPython __cameraOpen\n",
    "#self-iPython finalize\n",
    "#self-iPython run\n",
    "#self-iPython currentObservation\n",
    "#self-iPython __trackbarFocus\n",
    "#self-iPython __trackbarSaturation\n",
    "\n",
    "# ------- Lista variaveis herdadas -------\n",
    "\n",
    "#self-iPython _confini\n",
    "\n",
    "class test1:\n",
    "    def read_float(self, name):\n",
    "        return 0\n",
    "\n",
    "_bkb = test1() #self-iPython _bkb\n",
    "\n",
    "class test:\n",
    "    camera = True\n",
    "\n",
    "_args = test() #self-iPython _args\n",
    "\n",
    "#self-iPython printLine\n",
    "\n",
    "# ------- Lista variaveis -------\n",
    "\n",
    "#end-iPython - Fim listas"
   ]
  },
  {
   "cell_type": "markdown",
   "metadata": {},
   "source": [
    "# Camera variable\n",
    "Responsible for communicating with the camera.\n",
    "doxygen-iPython"
   ]
  },
  {
   "cell_type": "code",
   "execution_count": 7,
   "metadata": {
    "collapsed": true
   },
   "outputs": [],
   "source": [
    "__camera = None #self-iPython __camera"
   ]
  },
  {
   "cell_type": "markdown",
   "metadata": {},
   "source": [
    "# Port variable\n",
    "Port where the camera is connected.\n",
    "doxygen-iPython"
   ]
  },
  {
   "cell_type": "code",
   "execution_count": 8,
   "metadata": {
    "collapsed": true
   },
   "outputs": [],
   "source": [
    "__port = None #self-iPython __port"
   ]
  },
  {
   "cell_type": "markdown",
   "metadata": {},
   "source": [
    "# observation variable\n",
    "Saves the observation of the most recent state.\n",
    "doxygen-iPython"
   ]
  },
  {
   "cell_type": "code",
   "execution_count": 9,
   "metadata": {
    "collapsed": true
   },
   "outputs": [],
   "source": [
    "__observation = None #self-iPython __observation"
   ]
  },
  {
   "cell_type": "markdown",
   "metadata": {},
   "source": [
    "# running variable\n",
    "Flag responsible for executing camera capture\n",
    "doxygen-iPython"
   ]
  },
  {
   "cell_type": "code",
   "execution_count": 10,
   "metadata": {
    "collapsed": true
   },
   "outputs": [],
   "source": [
    "_running = None #self-iPython _running"
   ]
  },
  {
   "cell_type": "markdown",
   "metadata": {},
   "source": [
    "# cameraOpen\n",
    "Used to locate the port where the camera is connected and connect to it.\n",
    "@return Returns the object of the camera and the port on which it is connected.\n",
    "doxygen-iPython"
   ]
  },
  {
   "cell_type": "code",
   "execution_count": 11,
   "metadata": {
    "collapsed": true
   },
   "outputs": [],
   "source": [
    "#eself-iPython __cameraOpen\n",
    "#edes-iPython def __cameraOpen(self):\n",
    "def __cameraOpen( ):\n",
    "    p = os.popen('ls /dev/video*')\n",
    "    line = p.readline()\n",
    "    #des-iPython if line == '':\n",
    "        #des-iPython raise VisionException(1, '')\n",
    "    \n",
    "    for port in xrange(10):\n",
    "        print port #debug-iPython\n",
    "        camera = cv2.VideoCapture(port)\n",
    "        print camera.isOpened() #debug-iPython\n",
    "        if camera.isOpened():\n",
    "            break\n",
    "    \n",
    "    #des-iPython if not camera.isOpened():\n",
    "        #des-iPython raise VisionException(2, '')\n",
    "    print 'Função:', camera.isOpened(), 'Porta:', port #debug-iPython\n",
    "    return camera, port #self-iPython __cameraOpen"
   ]
  },
  {
   "cell_type": "code",
   "execution_count": 12,
   "metadata": {
    "collapsed": true
   },
   "outputs": [],
   "source": [
    "#ini-iPython"
   ]
  },
  {
   "cell_type": "markdown",
   "metadata": {},
   "source": [
    "## Teste cameraOpen"
   ]
  },
  {
   "cell_type": "code",
   "execution_count": 13,
   "metadata": {
    "collapsed": false,
    "scrolled": true
   },
   "outputs": [
    {
     "name": "stdout",
     "output_type": "stream",
     "text": [
      "0\n",
      "True\n",
      "Função: True Porta: 0\n"
     ]
    }
   ],
   "source": [
    "camera, port = __cameraOpen()\n",
    "camera.release()\n",
    "#end-iPython"
   ]
  },
  {
   "cell_type": "markdown",
   "metadata": {},
   "source": [
    "# trackbarFocus\n",
    "Responsible for reading the values of the trackbar.\n",
    "@param value Amount to be processed.\n",
    "doxygen-iPython"
   ]
  },
  {
   "cell_type": "code",
   "execution_count": 14,
   "metadata": {
    "collapsed": true
   },
   "outputs": [],
   "source": [
    "#eself-iPython __trackbarFocus\n",
    "#edes-iPython def __trackbarFocus(self, value):\n",
    "def __trackbarFocus(value):\n",
    "    __observation['focus'] = value\n",
    "    os.system(\"v4l2-ctl -d /dev/video\" + str(__port) + \" -c focus_absolute=\" + str(__observation['focus'])) #self-iPython __trackbarFocus"
   ]
  },
  {
   "cell_type": "markdown",
   "metadata": {},
   "source": [
    "# trackbarSaturation\n",
    "Responsible for reading the values of the trackbar.\n",
    "@param value Amount to be processed.\n",
    "doxygen-iPython"
   ]
  },
  {
   "cell_type": "code",
   "execution_count": 15,
   "metadata": {
    "collapsed": true
   },
   "outputs": [],
   "source": [
    "#eself-iPython __trackbarSaturation\n",
    "#edes-iPython def __trackbarSaturation(self, value):\n",
    "def __trackbarSaturation(value):\n",
    "    __observation['saturation'] = value\n",
    "    os.system(\"v4l2-ctl -d /dev/video\" + str(__port) + \" -c saturation=\" + str(__observation['saturation'])) #self-iPython __trackbarSaturation"
   ]
  },
  {
   "cell_type": "markdown",
   "metadata": {
    "collapsed": true
   },
   "source": [
    "# finalize\n",
    "Terminates the capture process and saves the generated information\n",
    "doxygen-iPython"
   ]
  },
  {
   "cell_type": "code",
   "execution_count": 16,
   "metadata": {
    "collapsed": true
   },
   "outputs": [],
   "source": [
    "#eself-iPython finalize\n",
    "#edes-iPython def finalize(self):\n",
    "def finalize( ):\n",
    "    _running = False\n",
    "    #des-iPython self.join()\n",
    "    __camera.release()\n",
    "    \n",
    "    if 'frame' in __observation.keys():\n",
    "        del __observation['frame']\n",
    "    if 'pos_tilt' in __observation.keys():\n",
    "        del __observation['pos_tilt']\n",
    "    if 'pos_pan' in __observation.keys():\n",
    "        del __observation['pos_pan']\n",
    "    if 'time' in __observation.keys():\n",
    "        del __observation['time']\n",
    "    #des-iPython super(CameraCapture,self).finalize(__observation)"
   ]
  },
  {
   "cell_type": "code",
   "execution_count": 17,
   "metadata": {
    "collapsed": true
   },
   "outputs": [],
   "source": [
    "#ini-iPython"
   ]
  },
  {
   "cell_type": "markdown",
   "metadata": {},
   "source": [
    "## Teste finalize"
   ]
  },
  {
   "cell_type": "code",
   "execution_count": 18,
   "metadata": {
    "collapsed": false
   },
   "outputs": [
    {
     "name": "stdout",
     "output_type": "stream",
     "text": [
      "0\n",
      "True\n",
      "Função: True Porta: 0\n"
     ]
    }
   ],
   "source": [
    "__camera, __port = __cameraOpen()\n",
    "__observation = {}\n",
    "__observation['frame'] = 1\n",
    "__observation['pos_tilt'] = 2\n",
    "__observation['pos_pan'] = 2\n",
    "__observation['time'] = 2\n",
    "finalize()\n",
    "#end-iPython"
   ]
  },
  {
   "cell_type": "markdown",
   "metadata": {},
   "source": [
    "# Constructor Class\n",
    "doxygen-iPython"
   ]
  },
  {
   "cell_type": "code",
   "execution_count": 19,
   "metadata": {
    "collapsed": false
   },
   "outputs": [
    {
     "name": "stdout",
     "output_type": "stream",
     "text": [
      "\u001b[1;33m---- Initializing class camera ----\u001b[0m\n",
      "0\n",
      "True\n",
      "Função: True Porta: 0\n",
      "Câmera conectada:  True\n"
     ]
    }
   ],
   "source": [
    "#des-iPython def __init__(self, arg):\n",
    "arg = -1 #debug-iPython\n",
    "#ini-tab -> Iniciando código construtor\n",
    "print '\\33[1;33m' + '---- Initializing class camera ----' + '\\33[0m'\n",
    "#edes-iPython super(CameraCapture, self).__init__(arg, 'Camera' , 'parameters')\n",
    "_confini = ConfigIni(\"Camera\" , \"parameters\")\n",
    "\n",
    "__observation = {\n",
    "    'fps': 30,\n",
    "    'focus': 25,\n",
    "    'saturation': 128,\n",
    "    'resolution': '1280x720'\n",
    "}\n",
    "__observation = _confini.read(__observation)\n",
    "\n",
    "__camera, __port = __cameraOpen()\n",
    "print \"Câmera conectada: \", __camera.isOpened() #debug-iPython\n",
    "\n",
    "__camera.set(3,int(__observation['resolution'].split('x')[0]))\n",
    "__camera.set(4,int(__observation['resolution'].split('x')[1]))\n",
    "\n",
    "os.system(\"v4l2-ctl -d /dev/video\" + str(__port) + \" -c focus_auto=0\")\n",
    "os.system(\"v4l2-ctl -d /dev/video\" + str(__port) + \" -c focus_absolute=\" + str(__observation['focus']))\n",
    "os.system(\"v4l2-ctl -d /dev/video\" + str(__port) + \" -c saturation=\" + str(__observation['saturation']))\n",
    "\n",
    "#edes-iPython self.start()\n",
    "__camera.release()"
   ]
  },
  {
   "cell_type": "code",
   "execution_count": 20,
   "metadata": {
    "collapsed": true
   },
   "outputs": [],
   "source": [
    "#end-tab -> Fim construtor"
   ]
  },
  {
   "cell_type": "markdown",
   "metadata": {},
   "source": [
    "# run\n",
    "Function that will be executed as a thread\n",
    "doxygen-iPython"
   ]
  },
  {
   "cell_type": "code",
   "execution_count": 21,
   "metadata": {
    "collapsed": false
   },
   "outputs": [],
   "source": [
    "from IPython.display import clear_output #debug-iPython\n",
    "#eself-iPython run\n",
    "#edes-iPython def run(self):\n",
    "def run( ):\n",
    "    print 'Run:', __camera.isOpened() #debug-iPython\n",
    "    raw_input('Pressione pra continuar') #debug-iPython\n",
    "    _running = True\n",
    "    \n",
    "    if _args.camera is True:\n",
    "        cv2.namedWindow('Camera parameters')\n",
    "        cv2.createTrackbar('focus', 'Camera parameters', __observation['focus'], 250, __trackbarFocus)\n",
    "        cv2.createTrackbar('saturation', 'Camera parameters', __observation['saturation'], 255, __trackbarSaturation)\n",
    "    \n",
    "    while _running:\n",
    "        clear_output() #debug-iPython\n",
    "        start = time.time()\n",
    "        \n",
    "        ret, __observation['frame'] = __camera.read()\n",
    "        __observation['pos_tilt'] = _bkb.read_float('VISION_TILT_DEG')\n",
    "        __observation['pos_pan'] = _bkb.read_float('VISION_PAN_DEG')\n",
    "        __observation['time'] = time.localtime()\n",
    "        \n",
    "        if _args.camera == True:\n",
    "            cv2.imshow('Camera parameters', __observation['frame'])\n",
    "            if cv2.waitKey(1) & 0xFF == ord('q'):\n",
    "                _args.camera = 'off'\n",
    "                cv2.destroyAllWindows()\n",
    "                break #debug-iPython\n",
    "        else:\n",
    "            print \"Tempo espera:\", 1.0/__observation['fps'] #debug-iPython\n",
    "            if start + 1.0/__observation['fps'] - time.time() > 0:\n",
    "                time.sleep( # Camera fps\n",
    "                    start + 1.0/__observation['fps'] - time.time()\n",
    "                )\n",
    "        \n",
    "        if _args.camera == True or _args.camera == 'off':\n",
    "            diff = time.time() - start\n",
    "            s = '\\33[0;36m' + 'FPS' + '\\33[0m' + ': ' + str(1.0/(diff))\n",
    "            #edes-iPython printLine(s)\n",
    "            print s\n",
    "                \n",
    "            "
   ]
  },
  {
   "cell_type": "code",
   "execution_count": 22,
   "metadata": {
    "collapsed": true
   },
   "outputs": [],
   "source": [
    "#ini-iPython"
   ]
  },
  {
   "cell_type": "markdown",
   "metadata": {},
   "source": [
    "## Teste run"
   ]
  },
  {
   "cell_type": "code",
   "execution_count": 23,
   "metadata": {
    "collapsed": false
   },
   "outputs": [],
   "source": [
    "_args.camera = True\n",
    "__camera, __port = __cameraOpen()\n",
    "run()"
   ]
  },
  {
   "cell_type": "code",
   "execution_count": 24,
   "metadata": {
    "collapsed": false
   },
   "outputs": [],
   "source": [
    "finalize()\n",
    "cv2.destroyAllWindows()\n",
    "#end-iPython"
   ]
  },
  {
   "cell_type": "markdown",
   "metadata": {},
   "source": [
    "# currentObservation\n",
    "doxygen-iPython"
   ]
  },
  {
   "cell_type": "code",
   "execution_count": 25,
   "metadata": {
    "collapsed": false
   },
   "outputs": [],
   "source": [
    "#eself-iPython currentObservation\n",
    "#edes-iPython def currentObservation(self):\n",
    "def currentObservation( ):\n",
    "    return __observation.copy() #self-iPython currentObservation"
   ]
  },
  {
   "cell_type": "code",
   "execution_count": 26,
   "metadata": {
    "collapsed": true
   },
   "outputs": [],
   "source": [
    "#end-tab -> Fim código classe"
   ]
  }
 ],
 "metadata": {
  "kernelspec": {
   "display_name": "Python 2",
   "language": "python",
   "name": "python2"
  },
  "language_info": {
   "codemirror_mode": {
    "name": "ipython",
    "version": 2
   },
   "file_extension": ".py",
   "mimetype": "text/x-python",
   "name": "python",
   "nbconvert_exporter": "python",
   "pygments_lexer": "ipython2",
   "version": "2.7.6"
  }
 },
 "nbformat": 4,
 "nbformat_minor": 1
}
