{
 "cells": [
  {
   "cell_type": "code",
   "execution_count": 1,
   "metadata": {
    "collapsed": true
   },
   "outputs": [],
   "source": [
    "#ini-iPython"
   ]
  },
  {
   "cell_type": "markdown",
   "metadata": {},
   "source": [
    "# Executando no diretório principal"
   ]
  },
  {
   "cell_type": "code",
   "execution_count": 2,
   "metadata": {
    "collapsed": false
   },
   "outputs": [],
   "source": [
    "import os\n",
    "os.chdir(\"/home/vinicius/Dropbox/Projeto Mestrado/Codigos/RoboFEI-HT_Debug/AI/Visual_Memory\") #Executando na pasta Visual_Memory\n",
    "import sys\n",
    "sys.path.append(\"./include\")\n",
    "sys.path.append(\"./src\")\n",
    "sys.path.append(\"./iPython\")\n",
    "#end-iPython"
   ]
  },
  {
   "cell_type": "markdown",
   "metadata": {
    "collapsed": true
   },
   "source": [
    "---- Imports ----"
   ]
  },
  {
   "cell_type": "code",
   "execution_count": 3,
   "metadata": {
    "collapsed": true
   },
   "outputs": [],
   "source": [
    "# Libraries to be used.\n",
    "import sys\n",
    "#des-iPython sys.path.append(\"../include\")\n",
    "#des-iPython sys.path.append(\"../src\")"
   ]
  },
  {
   "cell_type": "code",
   "execution_count": 4,
   "metadata": {
    "collapsed": true
   },
   "outputs": [],
   "source": [
    "# The standard libraries used in the visual memory system.\n",
    "import time # Libraries used for time management.\n",
    "import numpy as np # Used for matrix calculations."
   ]
  },
  {
   "cell_type": "code",
   "execution_count": 5,
   "metadata": {
    "collapsed": false
   },
   "outputs": [],
   "source": [
    "# Used class developed by RoboFEI-HT.\n",
    "#ini-iPython - Usando Classe KalmanFilter como instanciação \n",
    "os.system(\"sed -i 's/_//g' ./iPython/Basic.py\")\n",
    "os.system(\"sed -i 's/init/__init__/g' ./iPython/Basic.py\")\n",
    "os.system(\"sed -i 's/@abstractmethod//g' ./iPython/Basic.py\")\n",
    "#end-iPython\n",
    "from Basic import * # _Standard and abstract class.\n",
    "from Speeds import * # Class responsible for managing the robot\"s possible speeds (me).\n",
    "sym.init_printing() #debug-iPython"
   ]
  },
  {
   "cell_type": "markdown",
   "metadata": {
    "collapsed": true
   },
   "source": [
    "# Class to KalmanFilter\n",
    "Class responsible for implementing kalman filter methods.\n",
    "doxygen-iPython"
   ]
  },
  {
   "cell_type": "code",
   "execution_count": 6,
   "metadata": {
    "collapsed": true
   },
   "outputs": [],
   "source": [
    "#des-iPython class KalmanFilter(Basic):\n",
    "#ini-tab -> Iniciando código classe\n",
    "#des-iPython __metaclass__ = ABCMeta"
   ]
  },
  {
   "cell_type": "markdown",
   "metadata": {},
   "source": [
    "---- Variables ----"
   ]
  },
  {
   "cell_type": "markdown",
   "metadata": {},
   "source": [
    "# _parameters\n",
    "Variable used to instantiate class responsible for robot speed.\n",
    "doxygen-iPython"
   ]
  },
  {
   "cell_type": "code",
   "execution_count": 7,
   "metadata": {
    "collapsed": true
   },
   "outputs": [],
   "source": [
    "_parameters = None #self-iPython _parameters"
   ]
  },
  {
   "cell_type": "markdown",
   "metadata": {},
   "source": [
    "# _speeds\n",
    "Variable used to instantiate class responsible for robot speed.\n",
    "doxygen-iPython"
   ]
  },
  {
   "cell_type": "code",
   "execution_count": 8,
   "metadata": {
    "collapsed": true
   },
   "outputs": [],
   "source": [
    "_speeds = None #self-iPython _speeds"
   ]
  },
  {
   "cell_type": "markdown",
   "metadata": {},
   "source": [
    "# _t\n",
    "Time variable used in kalman filter.\n",
    "doxygen-iPython"
   ]
  },
  {
   "cell_type": "code",
   "execution_count": 9,
   "metadata": {
    "collapsed": true
   },
   "outputs": [],
   "source": [
    "_t = None #self-iPython _t"
   ]
  },
  {
   "cell_type": "markdown",
   "metadata": {},
   "source": [
    "# _predictedstate\n",
    "Variable used to make predictions from observations.\n",
    "doxygen-iPython"
   ]
  },
  {
   "cell_type": "code",
   "execution_count": 10,
   "metadata": {
    "collapsed": true
   },
   "outputs": [],
   "source": [
    "_predictedstate = { } #self-iPython _predictedstate"
   ]
  },
  {
   "cell_type": "markdown",
   "metadata": {},
   "source": [
    "# _state\n",
    "Variable used to predict the position of the object at the current instant.\n",
    "doxygen-iPython"
   ]
  },
  {
   "cell_type": "code",
   "execution_count": 11,
   "metadata": {
    "collapsed": true
   },
   "outputs": [],
   "source": [
    "_state = { } #self-iPython _state"
   ]
  },
  {
   "cell_type": "markdown",
   "metadata": {},
   "source": [
    "Matrix used in kalman filter.\n",
    "doxygen-iPython"
   ]
  },
  {
   "cell_type": "code",
   "execution_count": 12,
   "metadata": {
    "collapsed": false
   },
   "outputs": [],
   "source": [
    "_A = None; _B = None; _R = None; _C = None; _Q = None"
   ]
  },
  {
   "cell_type": "markdown",
   "metadata": {},
   "source": [
    "_Status variables.\n",
    "doxygen-iPython"
   ]
  },
  {
   "cell_type": "code",
   "execution_count": 13,
   "metadata": {
    "collapsed": true
   },
   "outputs": [],
   "source": [
    "_p_x = None; _p_y = None; _v_x = None; _v_y = None; _a_x = None; _a_y = None; _b_x = None; _b_y = None"
   ]
  },
  {
   "cell_type": "markdown",
   "metadata": {},
   "source": [
    "_Support variables.\n",
    "doxygen-iPython"
   ]
  },
  {
   "cell_type": "code",
   "execution_count": 14,
   "metadata": {
    "collapsed": true
   },
   "outputs": [],
   "source": [
    "_sin = None; _cos = None"
   ]
  },
  {
   "cell_type": "code",
   "execution_count": 15,
   "metadata": {
    "collapsed": true
   },
   "outputs": [],
   "source": [
    "#ini-iPython\n",
    "\n",
    "# ------- Lista de funções herdadas -------\n",
    "\n",
    "\n",
    "\n",
    "# ------- Lista variaveis herdadas -------\n",
    "\n",
    "#self-iPython _bkb\n",
    "#self-iPython _conf\n",
    "\n",
    "# ------- Lista de funções -------\n",
    "\n",
    "#self-iPython _reset\n",
    "#self-iPython __predictNow\n",
    "#self-iPython __predictTime\n",
    "#self-iPython predict\n",
    "#self-iPython update\n",
    "\n",
    "\n",
    "# ------- Lista de variáveis -------\n",
    "\n",
    "#self-iPython _A\n",
    "#self-iPython _B\n",
    "#self-iPython _R\n",
    "#self-iPython _C\n",
    "#self-iPython _Q\n",
    "\n",
    "#self-iPython _p_x\n",
    "#self-iPython _p_y\n",
    "#self-iPython _v_x\n",
    "#self-iPython _v_y\n",
    "#self-iPython _a_x\n",
    "#self-iPython _a_y\n",
    "#self-iPython _b_x\n",
    "#self-iPython _b_y\n",
    "\n",
    "#self-iPython _sin\n",
    "#self-iPython _cos\n",
    "\n",
    "#end-iPython - Fim listas"
   ]
  },
  {
   "cell_type": "markdown",
   "metadata": {},
   "source": [
    "# _reset\n",
    "doxygen-iPython"
   ]
  },
  {
   "cell_type": "code",
   "execution_count": 16,
   "metadata": {
    "collapsed": true
   },
   "outputs": [],
   "source": [
    "#eself-iPython _reset\n",
    "#edes-iPython def _reset(self):\n",
    "def _reset( ):\n",
    "    global _t, _state, _predictedstate #debug-iPython\n",
    "    global _A, _B, _R, _C, _Q #debug-iPython\n",
    "    global _p_x, _p_y, _v_x, _v_y, _a_x, _a_y #debug-iPython\n",
    "    global _S, _C #debug-iPython\n",
    "    # Creating the Kalman Filter Matrix\n",
    "    _A = sym.Matrix([\n",
    "            [1, 0, _t, 0, 0.5*_t**2, 0],\n",
    "            [0, 1, 0, _t, 0, 0.5*_t**2],\n",
    "            [0, 0, 1, 0, _t, 0],\n",
    "            [0, 0, 0, 1, 0, _t],\n",
    "            [0, 0, 0, 0, 1, 0],\n",
    "            [0, 0, 0, 0, 0, 1],\n",
    "        ])\n",
    "\n",
    "    _B = sym.Matrix([\n",
    "        [-_t, 0, -0.5*_t**2, 0, _p_x],\n",
    "        [0, -_t, 0, -0.5*_t**2, _p_y],\n",
    "        [0, 0, 0, 0, _v_x - _v_x*(1-_cos) - _v_y*_sin],\n",
    "        [0, 0, 0, 0, _v_y - _v_y*(1-_cos) + _v_x*_sin],\n",
    "        [0, 0, 0, 0, _a_x - _a_x*(1-_cos) - _a_y*_sin],\n",
    "        [0, 0, 0, 0, _a_y - _a_y*(1-_cos) + _a_x*_sin],\n",
    "    ])\n",
    "\n",
    "    _R = sym.Matrix(sym.Identity(6))\n",
    "\n",
    "    _C = sym.Matrix([\n",
    "            [1, 0, 0, 0, 0, 0],\n",
    "            [0, 1, 0, 0, 0, 0],\n",
    "        ])\n",
    "\n",
    "    _Q = sym.Matrix(sym.Identity(2)*_parameters[\"vision_error\"])\n",
    "\n",
    "\n",
    "    # Initial state\n",
    "    _predictedstate[\"x\"] = sym.Matrix([0, 0, 0, 0, 0, 0])\n",
    "    _predictedstate[\"covariance\"] = sym.Matrix(sym.Identity(6)*1000)\n",
    "    _predictedstate[\"time\"] = -1\n",
    "\n",
    "    _state = copy(_predictedstate) #self-iPython _reset"
   ]
  },
  {
   "cell_type": "code",
   "execution_count": 17,
   "metadata": {
    "collapsed": true
   },
   "outputs": [],
   "source": [
    "#ini-iPython"
   ]
  },
  {
   "cell_type": "markdown",
   "metadata": {},
   "source": [
    "## Teste _reset"
   ]
  },
  {
   "cell_type": "code",
   "execution_count": 18,
   "metadata": {
    "collapsed": false
   },
   "outputs": [
    {
     "data": {
      "image/png": "[encoded data removed]",
      "text/latex": [
       "$$\\left ( \\left[\\begin{matrix}0.5 a_{x} t^{2} + p_{x} + t v_{x}\\\\0.5 a_{y} t^{2} + p_{y} + t v_{y}\\\\a_{x} t + v_{x}\\\\a_{y} t + v_{y}\\\\a_{x}\\\\a_{y}\\end{matrix}\\right], \\quad \\left[\\begin{matrix}- 0.5 a_{x} t^{2} + p_{x} - t v_{x}\\\\- 0.5 a_{y} t^{2} + p_{y} - t v_{y}\\\\- _S v_{y} - v_{x} \\left(- _C + 1\\right) + v_{x}\\\\_S v_{x} - v_{y} \\left(- _C + 1\\right) + v_{y}\\\\- _S a_{y} - a_{x} \\left(- _C + 1\\right) + a_{x}\\\\_S a_{x} - a_{y} \\left(- _C + 1\\right) + a_{y}\\end{matrix}\\right]\\right )$$"
      ],
      "text/plain": [
       "⎛⎡         2              ⎤  ⎡            2              ⎤⎞\n",
       "⎜⎢ 0.5⋅aₓ⋅t  + pₓ + t⋅vₓ  ⎥, ⎢  - 0.5⋅aₓ⋅t  + pₓ - t⋅vₓ  ⎥⎟\n",
       "⎜⎢                        ⎥  ⎢                           ⎥⎟\n",
       "⎜⎢         2              ⎥  ⎢           2               ⎥⎟\n",
       "⎜⎢0.5⋅a_y⋅t  + p_y + t⋅v_y⎥  ⎢- 0.5⋅a_y⋅t  + p_y - t⋅v_y ⎥⎟\n",
       "⎜⎢                        ⎥  ⎢                           ⎥⎟\n",
       "⎜⎢       aₓ⋅t + vₓ        ⎥  ⎢-_S⋅v_y - vₓ⋅(-_C + 1) + vₓ⎥⎟\n",
       "⎜⎢                        ⎥  ⎢                           ⎥⎟\n",
       "⎜⎢      a_y⋅t + v_y       ⎥  ⎢_S⋅vₓ - v_y⋅(-_C + 1) + v_y⎥⎟\n",
       "⎜⎢                        ⎥  ⎢                           ⎥⎟\n",
       "⎜⎢           aₓ           ⎥  ⎢-_S⋅a_y - aₓ⋅(-_C + 1) + aₓ⎥⎟\n",
       "⎜⎢                        ⎥  ⎢                           ⎥⎟\n",
       "⎝⎣          a_y           ⎦  ⎣_S⋅aₓ - a_y⋅(-_C + 1) + a_y⎦⎠"
      ]
     },
     "execution_count": 18,
     "metadata": {},
     "output_type": "execute_result"
    }
   ],
   "source": [
    "_t = sym.symbols(\"t\")\n",
    "\n",
    "_p_x, _p_y = sym.symbols(\"p_x, p_y\")\n",
    "_v_x, _v_y = sym.symbols(\"v_x, v_y\")\n",
    "_a_x, _a_y = sym.symbols(\"a_x, a_y\")\n",
    "\n",
    "_cos, _sin = sym.symbols(\"C S\")\n",
    "\n",
    "_parameters = {}\n",
    "_parameters[\"vision_error\"] = 1\n",
    "\n",
    "_reset( )\n",
    "\n",
    "_state[\"x\"], _state[\"covariance\"], _A, _B, _R, _C, _Q, _B.subs([\n",
    "    [_p_x, 1]\n",
    "])\n",
    "_A*sym.Matrix([\n",
    "    [_p_x],\n",
    "    [_p_y],\n",
    "    [_v_x],\n",
    "    [_v_y],\n",
    "    [_a_x],\n",
    "    [_a_y],\n",
    "]), _B*sym.Matrix([\n",
    "    [_v_x],\n",
    "    [_v_y],\n",
    "    [_a_x],\n",
    "    [_a_y],\n",
    "    [1],\n",
    "])"
   ]
  },
  {
   "cell_type": "code",
   "execution_count": 19,
   "metadata": {
    "collapsed": false
   },
   "outputs": [],
   "source": [
    "_A = _B = _parameters = None\n",
    "_t = _p_x = _p_y = _v_x = _v_y = _a_x = _a_y = None\n",
    "_C = _S = None\n",
    "#end-iPython"
   ]
  },
  {
   "cell_type": "markdown",
   "metadata": {},
   "source": [
    "# Constructor Class\n",
    "Responsible for starting the matrices of kalman patterns.\n",
    "doxygen-iPython"
   ]
  },
  {
   "cell_type": "code",
   "execution_count": 21,
   "metadata": {
    "collapsed": false,
    "scrolled": true
   },
   "outputs": [],
   "source": [
    "obj = \"Test\" #debug-iPython\n",
    "#des-iPython @abstractmethod\n",
    "#des-iPython def __init__(self, s, obj):\n",
    "#ini-tab -> Criando construtor\n",
    "\n",
    "# Instantiating parent class\n",
    "#edes-iPython super(KalmanFilter,self).__init__(\"Kalman Filter\", obj)\n",
    "basic = Basic(\"Kalman Filter\", obj)\n",
    "\n",
    "# Creating standard parameters and reading\n",
    "_parameters = {\n",
    "    \"vision_error\": 0.1,\n",
    "}\n",
    "\n",
    "#edes-iPython _parameters = _conf.readVariables(_parameters)\n",
    "_parameters = basic.conf.readVariables(_parameters)\n",
    "\n",
    "# Variable to robot speed\n",
    "#edes-iPython _speeds = s\n",
    "_speeds = Speeds( )\n",
    "\n",
    "_t = sym.symbols(\"t\") # Declaring variable time\n",
    "\n",
    "# _Status variables\n",
    "_p_x, _p_y = sym.symbols(\"p_x, p_y\")\n",
    "_v_x, _v_y = sym.symbols(\"v_x, v_y\")\n",
    "_a_x, _a_y = sym.symbols(\"a_x, a_y\")\n",
    "\n",
    "# _Sine and cosine variables\n",
    "_cos, _sin = sym.symbols(\"C S\")"
   ]
  },
  {
   "cell_type": "code",
   "execution_count": 22,
   "metadata": {
    "collapsed": true
   },
   "outputs": [],
   "source": [
    "#end-tab -> Finalizando construtor"
   ]
  },
  {
   "cell_type": "code",
   "execution_count": 23,
   "metadata": {
    "collapsed": false
   },
   "outputs": [],
   "source": [
    "#ini-iPython"
   ]
  },
  {
   "cell_type": "markdown",
   "metadata": {},
   "source": [
    "## Teste construtor"
   ]
  },
  {
   "cell_type": "code",
   "execution_count": 24,
   "metadata": {
    "collapsed": false
   },
   "outputs": [
    {
     "name": "stdout",
     "output_type": "stream",
     "text": [
      "{'vision_error': 0.1}\n"
     ]
    },
    {
     "data": {
      "image/png": "[encoded data removed]",
      "text/latex": [
       "$$\\left[\\begin{matrix}1 & 0 & t & 0 & 0.5 t^{2} & 0\\\\0 & 1 & 0 & t & 0 & 0.5 t^{2}\\\\0 & 0 & 1 & 0 & t & 0\\\\0 & 0 & 0 & 1 & 0 & t\\\\0 & 0 & 0 & 0 & 1 & 0\\\\0 & 0 & 0 & 0 & 0 & 1\\end{matrix}\\right]$$"
      ],
      "text/plain": [
       "⎡                 2        ⎤\n",
       "⎢1  0  t  0  0.5⋅t     0   ⎥\n",
       "⎢                          ⎥\n",
       "⎢                         2⎥\n",
       "⎢0  1  0  t    0     0.5⋅t ⎥\n",
       "⎢                          ⎥\n",
       "⎢0  0  1  0    t       0   ⎥\n",
       "⎢                          ⎥\n",
       "⎢0  0  0  1    0       t   ⎥\n",
       "⎢                          ⎥\n",
       "⎢0  0  0  0    1       0   ⎥\n",
       "⎢                          ⎥\n",
       "⎣0  0  0  0    0       1   ⎦"
      ]
     },
     "execution_count": 24,
     "metadata": {},
     "output_type": "execute_result"
    }
   ],
   "source": [
    "_reset( )\n",
    "print _parameters\n",
    "basic.end( )\n",
    "_A\n",
    "#end-iPython"
   ]
  },
  {
   "cell_type": "markdown",
   "metadata": {},
   "source": [
    "# __predictNow\n",
    "Performs the prediction using the current instant in time to determine the new state.\n",
    "doxygen-iPython"
   ]
  },
  {
   "cell_type": "code",
   "execution_count": 25,
   "metadata": {
    "collapsed": false
   },
   "outputs": [],
   "source": [
    "#eself-iPython __predictNow\n",
    "#edes-iPython def __predictNow(self, tnow = None, movements = None):\n",
    "def __predictNow(tnow = None, movements = None):\n",
    "    print \"Executou predictTime\", tnow, movements #debug-iPython\n",
    "    tnow = 1 #debug-iPython\n",
    "    \n",
    "    # Checking if you can hear at least one measurement.\n",
    "    if _state[\"time\"] == -1:\n",
    "        _state[\"time\"] = tnow\n",
    "        \n",
    "    #--------------------------------------------------------------------------------------------------\n",
    "    \n",
    "    # Calculating stop time (speed equal to zero)\n",
    "    times = [tnow]\n",
    "    for i in xrange(2,4):\n",
    "        a = -_state[\"x\"][i]/_state[\"x\"][i+2]\n",
    "        if a == sym.nan or a == sym.zoo or a < 0 :\n",
    "            times.append(tnow)\n",
    "        else:\n",
    "            times.append(float(_state[\"time\"] + a))\n",
    "    while tnow > min([n for n in times if n>=0]):\n",
    "        #edes-iPython self.__predictNow(tnow=min([n for n in times if n>0]), movements=movements)\n",
    "        __predictNow(tnow=min([n for n in times if n>0]), movements=movements)\n",
    "        times = [tnow]\n",
    "        for i in xrange(2,4):\n",
    "            a = -_state[\"x\"][i]/_state[\"x\"][i+2]\n",
    "            if a == sym.nan or a == sym.zoo:\n",
    "                times.append(tnow)\n",
    "            else:\n",
    "                times.append(float(_state[\"time\"] + a))\n",
    "        \n",
    "    #--------------------------------------------------------------------------------------------------\n",
    "    \n",
    "    # Calculating states\n",
    "    _state[\"x\"] = (\n",
    "        _A*_state[\"x\"] # A * x\n",
    "    ).subs([\n",
    "        [_t, tnow - _state[\"time\"]], # Inserting delta time\n",
    "    ])\n",
    "\n",
    "    \n",
    "    # Tested null acceleration condition\n",
    "    if _speeds[movements][\"x_speed\"][2] != 0.0 or _speeds[movements][\"x_speed\"][3] != 0:\n",
    "        _state[\"x\"] = (\n",
    "            _B*_speeds[movements][\"x_speed\"] # B * U\n",
    "        ).subs([        \n",
    "            # Auxiliary variables\n",
    "            [_cos, sym.cos(sym.atan2(0.5*_speeds[movements][\"x_speed\"][3]*__t**2, 0.5*_speeds[movements][\"x_speed\"][2]*__t**2))],\n",
    "            [_sin, sym.sin(sym.atan2(0.5*_speeds[movements][\"x_speed\"][3]*__t**2, 0.5*_speeds[movements][\"x_speed\"][2]*__t**2))],\n",
    "\n",
    "            [_t, tnow - _state[\"time\"]], # Inserting delta time\n",
    "\n",
    "            # State Variables\n",
    "            [_p_x, _state[\"x\"][0]],\n",
    "            [_p_y, _state[\"x\"][1]],\n",
    "            [_v_x, _state[\"x\"][2]],\n",
    "            [_v_y, _state[\"x\"][3]],\n",
    "            [_a_x, _state[\"x\"][4]],\n",
    "            [_a_y, _state[\"x\"][5]],\n",
    "        ])\n",
    "    else:\n",
    "        _state[\"x\"] = (\n",
    "            _B*_speeds[movements][\"x_speed\"] # B * U\n",
    "        ).subs([        \n",
    "            # Auxiliary variables\n",
    "            [_cos, 1],\n",
    "            [_sin, 0],\n",
    "\n",
    "            [_t, tnow - _state[\"time\"]], # Inserting delta time\n",
    "\n",
    "            # State Variables\n",
    "            [_p_x, _state[\"x\"][0]],\n",
    "            [_p_y, _state[\"x\"][1]],\n",
    "            [_v_x, _state[\"x\"][2]],\n",
    "            [_v_y, _state[\"x\"][3]],\n",
    "            [_a_x, _state[\"x\"][4]],\n",
    "            [_a_y, _state[\"x\"][5]],\n",
    "        ])\n",
    "\n",
    "    #--------------------------------------------------------------------------------------------------\n",
    "        \n",
    "    # Calculating covariance\n",
    "    _state[\"covariance\"] = (\n",
    "        _A*_state[\"covariance\"]*sym.transpose(_A) + _R*_speeds[movements][\"R\"] # A*covariance*A.T + R\n",
    "    ).subs([\n",
    "        [_t, tnow - _state[\"time\"]],\n",
    "    ])\n",
    "    \n",
    "    #--------------------------------------------------------------------------------------------------\n",
    "    \n",
    "    # Rounding value with precision\n",
    "    _state[\"x\"] = sym.Matrix(_state[\"x\"])\n",
    "    for x in xrange(len(_state[\"x\"])):\n",
    "        if abs(_state[\"x\"][x]) < _parameters[\"vision_error\"]/2:\n",
    "            _state[\"x\"][x] = 0.0\n",
    "    \n",
    "    #--------------------------------------------------------------------------------------------------\n",
    "    \n",
    "    # Resetting acceleration if velocity is zero.\n",
    "    for x in xrange(2, len(_state[\"x\"]) - 2):\n",
    "        if abs(_state[\"x\"][x]) == 0.0:\n",
    "            _state[\"x\"][x+2] = 0.0\n",
    "    \n",
    "    _state[\"time\"] = tnow #self-iPython __predictNow"
   ]
  },
  {
   "cell_type": "code",
   "execution_count": 26,
   "metadata": {
    "collapsed": true
   },
   "outputs": [],
   "source": [
    "#ini-iPython"
   ]
  },
  {
   "cell_type": "markdown",
   "metadata": {},
   "source": [
    "## Teste __predictNow"
   ]
  },
  {
   "cell_type": "code",
   "execution_count": 27,
   "metadata": {
    "collapsed": false
   },
   "outputs": [],
   "source": [
    "__predictNow(movements = 0)\n",
    "_state[\"x\"]\n",
    "#end-iPython"
   ]
  },
  {
   "cell_type": "markdown",
   "metadata": {},
   "source": [
    "# __predictTime\n",
    "Uses a current instant in time and updates the observation and the current state.\n",
    "doxygen-iPython"
   ]
  },
  {
   "cell_type": "code",
   "execution_count": 43,
   "metadata": {
    "collapsed": true
   },
   "outputs": [],
   "source": [
    "#eself-iPython __predictTime\n",
    "#edes-iPython def __predictTime(self, tnow = None, movements = None):\n",
    "def __predictTime(tnow = None, movements = None):\n",
    "    print \"Executou predictTime\", tnow, movements #debug-iPython\n",
    "    tnow = 1 #debug-iPython\n",
    "    \n",
    "    # Checking if you can hear at least one measurement.\n",
    "    if _predictedstate[\"time\"] == -1:\n",
    "        _predictedstate[\"time\"] = tnow\n",
    "        \n",
    "    #--------------------------------------------------------------------------------------------------\n",
    "    \n",
    "    # Calculating stop time (speed equal to zero)\n",
    "    times = [tnow]\n",
    "    for i in xrange(2,4):\n",
    "        a = -_predictedstate[\"x\"][i]/_predictedstate[\"x\"][i+2]\n",
    "        if a == sym.nan or a == sym.zoo or a < 0 :\n",
    "            times.append(tnow)\n",
    "        else:\n",
    "            times.append(float(_predictedstate[\"time\"] + a))\n",
    "    while tnow > min([n for n in times if n>=0]):\n",
    "        #edes-iPython self.__predictTime(tnow=min([n for n in times if n>0]), movements=movements)\n",
    "        __predictTime(tnow=min([n for n in times if n>0]), movements=movements)\n",
    "        times = [tnow]\n",
    "        for i in xrange(2,4):\n",
    "            a = -_predictedstate[\"x\"][i]/_predictedstate[\"x\"][i+2]\n",
    "            if a == sym.nan or a == sym.zoo:\n",
    "                times.append(tnow)\n",
    "            else:\n",
    "                times.append(float(_predictedstate[\"time\"] + a))\n",
    "        \n",
    "    #--------------------------------------------------------------------------------------------------\n",
    "    \n",
    "    # Calculating states\n",
    "    _predictedstate[\"x\"] = (\n",
    "        _A*_predictedstate[\"x\"] # A * x\n",
    "    ).subs([\n",
    "        [_t, tnow - _predictedstate[\"time\"]], # Inserting delta time\n",
    "    ])\n",
    "\n",
    "    \n",
    "    # Tested null acceleration condition\n",
    "    if _speeds[movements][\"x_speed\"][2] != 0.0 or _speeds[movements][\"x_speed\"][3] != 0:\n",
    "        _predictedstate[\"x\"] = (\n",
    "            _B*_speeds[movements][\"x_speed\"] # B * U\n",
    "        ).subs([        \n",
    "            # Auxiliary variables\n",
    "            [_cos, sym.cos(sym.atan2(0.5*_speeds[movements][\"x_speed\"][3]*__t**2, 0.5*_speeds[movements][\"x_speed\"][2]*__t**2))],\n",
    "            [_sin, sym.sin(sym.atan2(0.5*_speeds[movements][\"x_speed\"][3]*__t**2, 0.5*_speeds[movements][\"x_speed\"][2]*__t**2))],\n",
    "\n",
    "            [_t, tnow - _predictedstate[\"time\"]], # Inserting delta time\n",
    "\n",
    "            # State Variables\n",
    "            [_p_x, _predictedstate[\"x\"][0]],\n",
    "            [_p_y, _predictedstate[\"x\"][1]],\n",
    "            [_v_x, _predictedstate[\"x\"][2]],\n",
    "            [_v_y, _predictedstate[\"x\"][3]],\n",
    "            [_a_x, _predictedstate[\"x\"][4]],\n",
    "            [_a_y, _predictedstate[\"x\"][5]],\n",
    "        ])\n",
    "    else:\n",
    "        _predictedstate[\"x\"] = (\n",
    "            _B*_speeds[movements][\"x_speed\"] # B * U\n",
    "        ).subs([        \n",
    "            # Auxiliary variables\n",
    "            [_cos, 1],\n",
    "            [_sin, 0],\n",
    "\n",
    "            [_t, tnow - _predictedstate[\"time\"]], # Inserting delta time\n",
    "\n",
    "            # State Variables\n",
    "            [_p_x, _predictedstate[\"x\"][0]],\n",
    "            [_p_y, _predictedstate[\"x\"][1]],\n",
    "            [_v_x, _predictedstate[\"x\"][2]],\n",
    "            [_v_y, _predictedstate[\"x\"][3]],\n",
    "            [_a_x, _predictedstate[\"x\"][4]],\n",
    "            [_a_y, _predictedstate[\"x\"][5]],\n",
    "        ])\n",
    "\n",
    "    #--------------------------------------------------------------------------------------------------\n",
    "        \n",
    "    # Calculating covariance\n",
    "    _predictedstate[\"covariance\"] = (\n",
    "        _A*_predictedstate[\"covariance\"]*sym.transpose(_A) + _R*_speeds[movements][\"R\"] # A*covariance*A.T + R\n",
    "    ).subs([\n",
    "        [_t, tnow - _predictedstate[\"time\"]],\n",
    "    ])\n",
    "    \n",
    "    #--------------------------------------------------------------------------------------------------\n",
    "    \n",
    "    # Rounding value with precision\n",
    "    _predictedstate[\"x\"] = sym.Matrix(_predictedstate[\"x\"])\n",
    "    for x in xrange(len(_predictedstate[\"x\"])):\n",
    "        if abs(_predictedstate[\"x\"][x]) < _parameters[\"vision_error\"]/2:\n",
    "            _predictedstate[\"x\"][x] = 0.0\n",
    "    \n",
    "    #--------------------------------------------------------------------------------------------------\n",
    "    \n",
    "    # Resetting acceleration if velocity is zero.\n",
    "    for x in xrange(2, len(_predictedstate[\"x\"]) - 2):\n",
    "        if abs(_predictedstate[\"x\"][x]) == 0.0:\n",
    "            _predictedstate[\"x\"][x+2] = 0.0\n",
    "    \n",
    "    _predictedstate[\"time\"] = tnow\n",
    "    \n",
    "    _state = copy(_predictedstate[\"time\"]) #self-iPython __predictTime"
   ]
  },
  {
   "cell_type": "code",
   "execution_count": 44,
   "metadata": {
    "collapsed": true
   },
   "outputs": [],
   "source": [
    "#ini-iPython"
   ]
  },
  {
   "cell_type": "markdown",
   "metadata": {},
   "source": [
    "## Teste __predictTime"
   ]
  },
  {
   "cell_type": "code",
   "execution_count": 45,
   "metadata": {
    "collapsed": false
   },
   "outputs": [
    {
     "name": "stdout",
     "output_type": "stream",
     "text": [
      "Executou predictTime None 1\n"
     ]
    },
    {
     "ename": "TypeError",
     "evalue": "cannot determine truth value of Relational",
     "output_type": "error",
     "traceback": [
      "\u001b[0;31m---------------------------------------------------------------------------\u001b[0m",
      "\u001b[0;31mTypeError\u001b[0m                                 Traceback (most recent call last)",
      "\u001b[0;32m<ipython-input-45-a274407e3dd0>\u001b[0m in \u001b[0;36m<module>\u001b[0;34m()\u001b[0m\n\u001b[0;32m----> 1\u001b[0;31m \u001b[0m__predictTime\u001b[0m\u001b[0;34m(\u001b[0m\u001b[0mmovements\u001b[0m \u001b[0;34m=\u001b[0m \u001b[0;36m1\u001b[0m\u001b[0;34m)\u001b[0m\u001b[0;34m\u001b[0m\u001b[0m\n\u001b[0m\u001b[1;32m      2\u001b[0m \u001b[0m_state\u001b[0m\u001b[0;34m[\u001b[0m\u001b[0;34m\"x\"\u001b[0m\u001b[0;34m]\u001b[0m\u001b[0;34m\u001b[0m\u001b[0m\n\u001b[1;32m      3\u001b[0m \u001b[0;31m#end-iPython\u001b[0m\u001b[0;34m\u001b[0m\u001b[0;34m\u001b[0m\u001b[0m\n",
      "\u001b[0;32m<ipython-input-43-9710d02759c2>\u001b[0m in \u001b[0;36m__predictTime\u001b[0;34m(tnow, movements)\u001b[0m\n\u001b[1;32m     15\u001b[0m     \u001b[0;32mfor\u001b[0m \u001b[0mi\u001b[0m \u001b[0;32min\u001b[0m \u001b[0mxrange\u001b[0m\u001b[0;34m(\u001b[0m\u001b[0;36m2\u001b[0m\u001b[0;34m,\u001b[0m\u001b[0;36m4\u001b[0m\u001b[0;34m)\u001b[0m\u001b[0;34m:\u001b[0m\u001b[0;34m\u001b[0m\u001b[0m\n\u001b[1;32m     16\u001b[0m         \u001b[0ma\u001b[0m \u001b[0;34m=\u001b[0m \u001b[0;34m-\u001b[0m\u001b[0m_predictedstate\u001b[0m\u001b[0;34m[\u001b[0m\u001b[0;34m\"x\"\u001b[0m\u001b[0;34m]\u001b[0m\u001b[0;34m[\u001b[0m\u001b[0mi\u001b[0m\u001b[0;34m]\u001b[0m\u001b[0;34m/\u001b[0m\u001b[0m_predictedstate\u001b[0m\u001b[0;34m[\u001b[0m\u001b[0;34m\"x\"\u001b[0m\u001b[0;34m]\u001b[0m\u001b[0;34m[\u001b[0m\u001b[0mi\u001b[0m\u001b[0;34m+\u001b[0m\u001b[0;36m2\u001b[0m\u001b[0;34m]\u001b[0m\u001b[0;34m\u001b[0m\u001b[0m\n\u001b[0;32m---> 17\u001b[0;31m         \u001b[0;32mif\u001b[0m \u001b[0ma\u001b[0m \u001b[0;34m==\u001b[0m \u001b[0msym\u001b[0m\u001b[0;34m.\u001b[0m\u001b[0mnan\u001b[0m \u001b[0;32mor\u001b[0m \u001b[0ma\u001b[0m \u001b[0;34m==\u001b[0m \u001b[0msym\u001b[0m\u001b[0;34m.\u001b[0m\u001b[0mzoo\u001b[0m \u001b[0;32mor\u001b[0m \u001b[0ma\u001b[0m \u001b[0;34m<\u001b[0m \u001b[0;36m0\u001b[0m \u001b[0;34m:\u001b[0m\u001b[0;34m\u001b[0m\u001b[0m\n\u001b[0m\u001b[1;32m     18\u001b[0m             \u001b[0mtimes\u001b[0m\u001b[0;34m.\u001b[0m\u001b[0mappend\u001b[0m\u001b[0;34m(\u001b[0m\u001b[0mtnow\u001b[0m\u001b[0;34m)\u001b[0m\u001b[0;34m\u001b[0m\u001b[0m\n\u001b[1;32m     19\u001b[0m         \u001b[0;32melse\u001b[0m\u001b[0;34m:\u001b[0m\u001b[0;34m\u001b[0m\u001b[0m\n",
      "\u001b[0;32m/usr/local/lib/python2.7/dist-packages/sympy/core/relational.pyc\u001b[0m in \u001b[0;36m__nonzero__\u001b[0;34m(self)\u001b[0m\n\u001b[1;32m    193\u001b[0m \u001b[0;34m\u001b[0m\u001b[0m\n\u001b[1;32m    194\u001b[0m     \u001b[0;32mdef\u001b[0m \u001b[0m__nonzero__\u001b[0m\u001b[0;34m(\u001b[0m\u001b[0mself\u001b[0m\u001b[0;34m)\u001b[0m\u001b[0;34m:\u001b[0m\u001b[0;34m\u001b[0m\u001b[0m\n\u001b[0;32m--> 195\u001b[0;31m         \u001b[0;32mraise\u001b[0m \u001b[0mTypeError\u001b[0m\u001b[0;34m(\u001b[0m\u001b[0;34m\"cannot determine truth value of Relational\"\u001b[0m\u001b[0;34m)\u001b[0m\u001b[0;34m\u001b[0m\u001b[0m\n\u001b[0m\u001b[1;32m    196\u001b[0m \u001b[0;34m\u001b[0m\u001b[0m\n\u001b[1;32m    197\u001b[0m     \u001b[0m__bool__\u001b[0m \u001b[0;34m=\u001b[0m \u001b[0m__nonzero__\u001b[0m\u001b[0;34m\u001b[0m\u001b[0m\n",
      "\u001b[0;31mTypeError\u001b[0m: cannot determine truth value of Relational"
     ]
    }
   ],
   "source": [
    "__predictTime(movements = 1)\n",
    "_state[\"x\"]\n",
    "#end-iPython"
   ]
  },
  {
   "cell_type": "markdown",
   "metadata": {},
   "source": [
    "# predict\n",
    ".\n",
    "doxygen-iPython"
   ]
  },
  {
   "cell_type": "code",
   "execution_count": null,
   "metadata": {
    "collapsed": false
   },
   "outputs": [],
   "source": [
    "#eself-iPython predict\n",
    "#edes-iPython def predict(self, tnow = None, movements = None):\n",
    "def predict(tnow = None, movements = None):\n",
    "    {\n",
    "        (float, int): __predictTime,\n",
    "        (type(None), int): __predictNow,\n",
    "    }[(type(tnow), type(movements))](tnow, movements) #self-iPython predict"
   ]
  },
  {
   "cell_type": "code",
   "execution_count": null,
   "metadata": {
    "collapsed": true
   },
   "outputs": [],
   "source": [
    "#ini-iPython"
   ]
  },
  {
   "cell_type": "markdown",
   "metadata": {},
   "source": [
    "## Teste predict"
   ]
  },
  {
   "cell_type": "code",
   "execution_count": null,
   "metadata": {
    "collapsed": false
   },
   "outputs": [],
   "source": [
    "predict(movements=0)\n",
    "#end-iPython"
   ]
  },
  {
   "cell_type": "markdown",
   "metadata": {},
   "source": [
    "# update\n",
    ".\n",
    "doxygen-iPython"
   ]
  },
  {
   "cell_type": "code",
   "execution_count": null,
   "metadata": {
    "collapsed": true
   },
   "outputs": [],
   "source": [
    "#eself-iPython update\n",
    "#edes-iPython def update(self, data):\n",
    "def update(data):\n",
    "    global _predictedstate #debug-iPython\n",
    "    # Predicting value in observation time.\n",
    "    predict(data[\"time\"], data[\"movement\"])\n",
    "    \n",
    "    \n",
    "    k = _predictedstate[\"covariance\"] * sym.transpose(_C) * sym.inv_quick( # covariance*C.T*(_)^(-1)\n",
    "        _C * _predictedstate[\"covariance\"] * sym.transpose(_C) + _Q # C*covariance*C.T + Q\n",
    "    )\n",
    "    \n",
    "    z = sym.Matrix(data[\"pos\"])\n",
    "    \n",
    "    _predictedstate[\"x\"] = _predictedstate[\"x\"] + k*(z - _C*_predictedstate[\"x\"])\n",
    "    _predictedstate[\"covariance\"] = (sym.Matrix(sym.Identity(6)) - k*_C) * _predictedstate[\"covariance\"]\n",
    "    \n",
    "    \n",
    "    # Resetting acceleration if speed equals zero\n",
    "    _predictedstate[\"x\"] = sym.Matrix(_predictedstate[\"x\"])\n",
    "    for x in xrange(len(_predictedstate[\"x\"])):\n",
    "        if x != 2 and x != 3 and abs(_predictedstate[\"x\"][x]) < _parameters[\"vision_error\"]/2:\n",
    "            _predictedstate[\"x\"][x] = 0.0\n",
    "        elif abs(_predictedstate[\"x\"][x]) < _parameters[\"vision_error\"]/2:\n",
    "            _predictedstate[\"x\"][x] = 0.0\n",
    "            _predictedstate[\"x\"][x+2] = 0.0\n",
    "    \n",
    "    _state = copy(_predictedstate)\n",
    "    \n",
    "    #self-iPython update"
   ]
  },
  {
   "cell_type": "code",
   "execution_count": null,
   "metadata": {
    "collapsed": true
   },
   "outputs": [],
   "source": [
    "#ini-iPython"
   ]
  },
  {
   "cell_type": "markdown",
   "metadata": {},
   "source": [
    "## Teste update"
   ]
  },
  {
   "cell_type": "code",
   "execution_count": null,
   "metadata": {
    "collapsed": false
   },
   "outputs": [],
   "source": [
    "data = {\n",
    "    \"target\": 1,\n",
    "    \"pos\": [0, 0],\n",
    "    \"time\": 1.0,\n",
    "    \"movement\": 1\n",
    "}\n",
    "update(data)\n",
    "#end-iPython"
   ]
  },
  {
   "cell_type": "code",
   "execution_count": null,
   "metadata": {
    "collapsed": false
   },
   "outputs": [],
   "source": [
    "#end-tab -> Finalizando classe"
   ]
  },
  {
   "cell_type": "code",
   "execution_count": null,
   "metadata": {
    "collapsed": true
   },
   "outputs": [],
   "source": [
    "#ini-iPython"
   ]
  },
  {
   "cell_type": "markdown",
   "metadata": {},
   "source": [
    "# nova_variavel\n",
    ".\n",
    "doxygen-iPython"
   ]
  },
  {
   "cell_type": "code",
   "execution_count": null,
   "metadata": {
    "collapsed": true
   },
   "outputs": [],
   "source": [
    "nova_variavel = None #self-iPython nova_variavel"
   ]
  },
  {
   "cell_type": "markdown",
   "metadata": {},
   "source": [
    "# nova_funcao\n",
    ".\n",
    "doxygen-iPython"
   ]
  },
  {
   "cell_type": "code",
   "execution_count": null,
   "metadata": {
    "collapsed": true
   },
   "outputs": [],
   "source": [
    "# eself-iPython nova_funcao\n",
    "# edes-iPython def nova_funcao(self, variaveis_funcao):\n",
    "def nova_funcao(variaveis_funcao):\n",
    "    pass # self-iPython nova_funcao"
   ]
  },
  {
   "cell_type": "code",
   "execution_count": null,
   "metadata": {
    "collapsed": true
   },
   "outputs": [],
   "source": [
    "#ini-iPython"
   ]
  },
  {
   "cell_type": "markdown",
   "metadata": {},
   "source": [
    "## Teste nova_funcao"
   ]
  },
  {
   "cell_type": "code",
   "execution_count": null,
   "metadata": {
    "collapsed": false
   },
   "outputs": [],
   "source": [
    "\n",
    "#end-iPython"
   ]
  },
  {
   "cell_type": "code",
   "execution_count": null,
   "metadata": {
    "collapsed": false
   },
   "outputs": [],
   "source": [
    "#end-iPython"
   ]
  }
 ],
 "metadata": {
  "kernelspec": {
   "display_name": "Python 2",
   "language": "python",
   "name": "python2"
  },
  "language_info": {
   "codemirror_mode": {
    "name": "ipython",
    "version": 2
   },
   "file_extension": ".py",
   "mimetype": "text/x-python",
   "name": "python",
   "nbconvert_exporter": "python",
   "pygments_lexer": "ipython2",
   "version": "2.7.6"
  }
 },
 "nbformat": 4,
 "nbformat_minor": 2
}
