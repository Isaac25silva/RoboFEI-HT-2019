{
 "cells": [
  {
   "cell_type": "code",
   "execution_count": 1,
   "metadata": {
    "collapsed": false
   },
   "outputs": [],
   "source": [
    "#ini-iPython\n",
    "import os\n",
    "os.chdir(\"/home/vinicius/Dropbox/Projeto Mestrado/Codigos/RoboFEI-HT_Debug/AI/Visual_Memory\") #Executando na pasta Vision\n",
    "import sys\n",
    "sys.path.append(\"./include\")\n",
    "sys.path.append(\"./src\")\n",
    "sys.path.append(\"./iPython\")\n",
    "#end-iPython"
   ]
  },
  {
   "cell_type": "markdown",
   "metadata": {
    "collapsed": true
   },
   "source": [
    "---- Imports ----"
   ]
  },
  {
   "cell_type": "code",
   "execution_count": 2,
   "metadata": {
    "collapsed": true
   },
   "outputs": [],
   "source": [
    "# Libraries to be used.\n",
    "import sys\n",
    "#des-iPython sys.path.append(\"../include\")\n",
    "#des-iPython sys.path.append(\"../src\")"
   ]
  },
  {
   "cell_type": "code",
   "execution_count": 3,
   "metadata": {
    "collapsed": true
   },
   "outputs": [],
   "source": [
    "# The standard libraries used in the visual memory system.\n"
   ]
  },
  {
   "cell_type": "code",
   "execution_count": 4,
   "metadata": {
    "collapsed": true
   },
   "outputs": [],
   "source": [
    "# Used class developed by RoboFEI-HT.\n",
    "from BasicThread import * # Class responsible for implementing thread\n",
    "sym.init_printing() #debug-iPython"
   ]
  },
  {
   "cell_type": "markdown",
   "metadata": {
    "collapsed": true
   },
   "source": [
    "# Class to Landmark\n",
    ".\n",
    "doxygen-iPython"
   ]
  },
  {
   "cell_type": "code",
   "execution_count": 5,
   "metadata": {
    "collapsed": true
   },
   "outputs": [],
   "source": [
    "#des-iPython class Landmark(BasicThread):\n",
    "#ini-tab -> Iniciando código classe"
   ]
  },
  {
   "cell_type": "markdown",
   "metadata": {},
   "source": [
    "---- Variables ----"
   ]
  },
  {
   "cell_type": "markdown",
   "metadata": {},
   "source": [
    "# __t\n",
    ".\n",
    "doxygen-iPython"
   ]
  },
  {
   "cell_type": "code",
   "execution_count": 6,
   "metadata": {
    "collapsed": true
   },
   "outputs": [],
   "source": [
    "__t = None #self-iPython __t"
   ]
  },
  {
   "cell_type": "markdown",
   "metadata": {},
   "source": [
    "# __movlastmeasurement\n",
    "Saves the moviment at the last measurement time.\n",
    "doxygen-iPython"
   ]
  },
  {
   "cell_type": "markdown",
   "metadata": {
    "collapsed": true
   },
   "source": [
    "__movlastmeasurement = 0 #self-iPython __movlastmeasurement"
   ]
  },
  {
   "cell_type": "markdown",
   "metadata": {},
   "source": [
    "# __A\n",
    "Declaring matrix A of the Kalman Filter.\n",
    "doxygen-iPython"
   ]
  },
  {
   "cell_type": "code",
   "execution_count": 7,
   "metadata": {
    "collapsed": true
   },
   "outputs": [],
   "source": [
    "__A = None #self-iPython __A"
   ]
  },
  {
   "cell_type": "markdown",
   "metadata": {},
   "source": [
    "# __B\n",
    "Declaring matrix B of the Kalman Filter.\n",
    "doxygen-iPython"
   ]
  },
  {
   "cell_type": "code",
   "execution_count": 8,
   "metadata": {
    "collapsed": true
   },
   "outputs": [],
   "source": [
    "__B = None #self-iPython __B"
   ]
  },
  {
   "cell_type": "markdown",
   "metadata": {},
   "source": [
    "# __R\n",
    "Declaring matrix R of the Kalman Filter.\n",
    "doxygen-iPython"
   ]
  },
  {
   "cell_type": "code",
   "execution_count": 9,
   "metadata": {
    "collapsed": true
   },
   "outputs": [],
   "source": [
    "__R = None #self-iPython __R"
   ]
  },
  {
   "cell_type": "markdown",
   "metadata": {},
   "source": [
    "# __C\n",
    "Declaring matrix C of the Kalman Filter.\n",
    "doxygen-iPython"
   ]
  },
  {
   "cell_type": "code",
   "execution_count": 10,
   "metadata": {
    "collapsed": true
   },
   "outputs": [],
   "source": [
    "__C = None #self-iPython __C"
   ]
  },
  {
   "cell_type": "markdown",
   "metadata": {},
   "source": [
    "# __Q\n",
    "Declaring matrix Q of the Kalman Filter.\n",
    "doxygen-iPython"
   ]
  },
  {
   "cell_type": "code",
   "execution_count": 11,
   "metadata": {
    "collapsed": true
   },
   "outputs": [],
   "source": [
    "__Q = None #self-iPython __Q"
   ]
  },
  {
   "cell_type": "code",
   "execution_count": 12,
   "metadata": {
    "collapsed": false
   },
   "outputs": [],
   "source": [
    "#ini-iPython\n",
    "\n",
    "# ------- Lista de funções herdadas -------\n",
    "\n",
    "\n",
    "\n",
    "# ------- Lista variaveis herdadas -------\n",
    "\n",
    "_obsstate = {} #self-iPython _obsstate\n",
    "_predictedstate = {} #self-iPython _predictedstate\n",
    "_state = {} #self-iPython _state\n",
    "\n",
    "class test:\n",
    "    def error(self, a):\n",
    "        return 0.1\n",
    "\n",
    "_speeds = test() #self-iPython _speeds\n",
    "\n",
    "# ------- Lista de funções -------\n",
    "\n",
    "#self-iPython reset\n",
    "#self-iPython prediction\n",
    "#self-iPython update\n",
    "\n",
    "#end-iPython - Fim listas"
   ]
  },
  {
   "cell_type": "markdown",
   "metadata": {},
   "source": [
    "# reset\n",
    "doxygen-iPython"
   ]
  },
  {
   "cell_type": "code",
   "execution_count": 13,
   "metadata": {
    "collapsed": true
   },
   "outputs": [],
   "source": [
    "#eself-iPython reset\n",
    "#edes-iPython def reset(self):\n",
    "def reset( ):\n",
    "    global __t, _state, _predictedstate #debug-iPython\n",
    "    global __A, __B, __R, __C, __Q #debug-iPython\n",
    "    __t = sym.symbols(\"t\") # Declaring variable time\n",
    "\n",
    "    # Creating the Kalman Filter Matrix\n",
    "    __A = sym.Matrix([\n",
    "            [1, 0, __t, 0, 0.5*__t**2, 0],\n",
    "            [0, 1, 0, __t, 0, 0.5*__t**2],\n",
    "            [0, 0, 1, 0, __t, 0],\n",
    "            [0, 0, 0, 1, 0, __t],\n",
    "            [0, 0, 0, 0, 1, 0],\n",
    "            [0, 0, 0, 0, -1, 0],\n",
    "        ])\n",
    "\n",
    "    __B = sym.Matrix([\n",
    "            [1, 0, 0],\n",
    "            [0, 1, 0],\n",
    "            [0, 0, 1],\n",
    "            [0, 0, 0],\n",
    "            [0, 0, 0],\n",
    "            [0, 0, 0],\n",
    "        ])\n",
    "\n",
    "    __R = sym.Matrix(sym.Identity(6)*parameters[\"motion_error\"])\n",
    "\n",
    "    __C = sym.Matrix([\n",
    "            [1, 0, 0, 0, 0, 0],\n",
    "            [0, 1, 0, 0, 0, 0],\n",
    "        ])\n",
    "\n",
    "    __Q = sym.Matrix(sym.Identity(2)*parameters[\"vision_error\"])\n",
    "\n",
    "\n",
    "    # Initial state\n",
    "    _obsstate[\"x\"] = sym.Matrix([0, 0, 0, 0, 0, 0])\n",
    "    _obsstate[\"covariance\"] = sym.Matrix(sym.Identity(6)*1000)\n",
    "    _obsstate[\"time\"] = -1\n",
    "\n",
    "    _predictedstate = copy(_obsstate)\n",
    "    _state = copy(_predictedstate)\n",
    "\n",
    "#self-iPython reset"
   ]
  },
  {
   "cell_type": "code",
   "execution_count": 14,
   "metadata": {
    "collapsed": true
   },
   "outputs": [],
   "source": [
    "#ini-iPython"
   ]
  },
  {
   "cell_type": "markdown",
   "metadata": {},
   "source": [
    "## Teste reset"
   ]
  },
  {
   "cell_type": "code",
   "execution_count": 15,
   "metadata": {
    "collapsed": false
   },
   "outputs": [
    {
     "data": {
      "image/png": "[encoded data removed]",
      "text/latex": [
       "$$\\left ( \\left[\\begin{matrix}0\\\\0\\\\0\\\\0\\\\0\\\\0\\end{matrix}\\right], \\quad \\left[\\begin{array}{cccccc}1000 & 0 & 0 & 0 & 0 & 0\\\\0 & 1000 & 0 & 0 & 0 & 0\\\\0 & 0 & 1000 & 0 & 0 & 0\\\\0 & 0 & 0 & 1000 & 0 & 0\\\\0 & 0 & 0 & 0 & 1000 & 0\\\\0 & 0 & 0 & 0 & 0 & 1000\\end{array}\\right], \\quad \\left[\\begin{matrix}1 & 0 & t & 0 & 0.5 t^{2} & 0\\\\0 & 1 & 0 & t & 0 & 0.5 t^{2}\\\\0 & 0 & 1 & 0 & t & 0\\\\0 & 0 & 0 & 1 & 0 & t\\\\0 & 0 & 0 & 0 & 1 & 0\\\\0 & 0 & 0 & 0 & -1 & 0\\end{matrix}\\right], \\quad \\left[\\begin{matrix}1 & 0 & 0\\\\0 & 1 & 0\\\\0 & 0 & 1\\\\0 & 0 & 0\\\\0 & 0 & 0\\\\0 & 0 & 0\\end{matrix}\\right], \\quad \\left[\\begin{array}{cccccc}1 & 0 & 0 & 0 & 0 & 0\\\\0 & 1 & 0 & 0 & 0 & 0\\\\0 & 0 & 1 & 0 & 0 & 0\\\\0 & 0 & 0 & 1 & 0 & 0\\\\0 & 0 & 0 & 0 & 1 & 0\\\\0 & 0 & 0 & 0 & 0 & 1\\end{array}\\right], \\quad \\left[\\begin{matrix}1 & 0 & 0 & 0 & 0 & 0\\\\0 & 1 & 0 & 0 & 0 & 0\\end{matrix}\\right], \\quad \\left[\\begin{array}{cc}1 & 0\\\\0 & 1\\end{array}\\right]\\right )$$"
      ],
      "text/plain": [
       "⎛                                           ⎡                 2        ⎤      \n",
       "⎜⎡0⎤, ⎡1000   0     0     0     0     0  ⎤, ⎢1  0  t  0  0.5⋅t     0   ⎥, ⎡1  \n",
       "⎜⎢ ⎥  ⎢                                  ⎥  ⎢                          ⎥  ⎢   \n",
       "⎜⎢0⎥  ⎢ 0    1000   0     0     0     0  ⎥  ⎢                         2⎥  ⎢0  \n",
       "⎜⎢ ⎥  ⎢                                  ⎥  ⎢0  1  0  t    0     0.5⋅t ⎥  ⎢   \n",
       "⎜⎢0⎥  ⎢ 0     0    1000   0     0     0  ⎥  ⎢                          ⎥  ⎢0  \n",
       "⎜⎢ ⎥  ⎢                                  ⎥  ⎢0  0  1  0    t       0   ⎥  ⎢   \n",
       "⎜⎢0⎥  ⎢ 0     0     0    1000   0     0  ⎥  ⎢                          ⎥  ⎢0  \n",
       "⎜⎢ ⎥  ⎢                                  ⎥  ⎢0  0  0  1    0       t   ⎥  ⎢   \n",
       "⎜⎢0⎥  ⎢ 0     0     0     0    1000   0  ⎥  ⎢                          ⎥  ⎢0  \n",
       "⎜⎢ ⎥  ⎢                                  ⎥  ⎢0  0  0  0    1       0   ⎥  ⎢   \n",
       "⎜⎣0⎦  ⎣ 0     0     0     0     0    1000⎦  ⎢                          ⎥  ⎣0  \n",
       "⎝                                           ⎣0  0  0  0    -1      0   ⎦      \n",
       "\n",
       "                                                     ⎞\n",
       "0  0⎤, ⎡1  0  0  0  0  0⎤, ⎡1  0  0  0  0  0⎤, ⎡1  0⎤⎟\n",
       "    ⎥  ⎢                ⎥  ⎢                ⎥  ⎢    ⎥⎟\n",
       "1  0⎥  ⎢0  1  0  0  0  0⎥  ⎣0  1  0  0  0  0⎦  ⎣0  1⎦⎟\n",
       "    ⎥  ⎢                ⎥                            ⎟\n",
       "0  1⎥  ⎢0  0  1  0  0  0⎥                            ⎟\n",
       "    ⎥  ⎢                ⎥                            ⎟\n",
       "0  0⎥  ⎢0  0  0  1  0  0⎥                            ⎟\n",
       "    ⎥  ⎢                ⎥                            ⎟\n",
       "0  0⎥  ⎢0  0  0  0  1  0⎥                            ⎟\n",
       "    ⎥  ⎢                ⎥                            ⎟\n",
       "0  0⎦  ⎣0  0  0  0  0  1⎦                            ⎟\n",
       "                                                     ⎠"
      ]
     },
     "execution_count": 15,
     "metadata": {},
     "output_type": "execute_result"
    }
   ],
   "source": [
    "parameters = {}\n",
    "parameters[\"motion_error\"] = 1\n",
    "parameters[\"vision_error\"] = 1\n",
    "reset( )\n",
    "del parameters\n",
    "\n",
    "_state[\"x\"], _state[\"covariance\"], __A, __B, __R, __C, __Q\n",
    "#end-iPython"
   ]
  },
  {
   "cell_type": "markdown",
   "metadata": {},
   "source": [
    "# Constructor Class\n",
    "doxygen-iPython"
   ]
  },
  {
   "cell_type": "code",
   "execution_count": 16,
   "metadata": {
    "collapsed": false
   },
   "outputs": [],
   "source": [
    "#des-iPython def __init__(self, s):\n",
    "s = None #debug-iPython\n",
    "#ini-tab -> Criando construtor\n",
    "#des-iPython super(Landmark, self).__init__(s)\n",
    "\n",
    "# Default values\n",
    "parameters = {\n",
    "    \"vision_error\": 1,\n",
    "    \"motion_error\": 2,\n",
    "}\n",
    "\n",
    "# Reading \"config.ini\" values\n",
    "conf = ConfigIni(\"Landmark\", \"Settings\")\n",
    "parameters = conf.read(parameters)\n",
    "\n",
    "reset()"
   ]
  },
  {
   "cell_type": "code",
   "execution_count": 17,
   "metadata": {
    "collapsed": true
   },
   "outputs": [],
   "source": [
    "#end-tab -> Finalizando construtor\n",
    "#ini-iPython"
   ]
  },
  {
   "cell_type": "markdown",
   "metadata": {},
   "source": [
    "## Teste construtor"
   ]
  },
  {
   "cell_type": "code",
   "execution_count": 18,
   "metadata": {
    "collapsed": false
   },
   "outputs": [
    {
     "name": "stdout",
     "output_type": "stream",
     "text": [
      "motion_error: 2\n",
      "vision_error: 1\n"
     ]
    }
   ],
   "source": [
    "for key in parameters.keys():\n",
    "    print key + \":\", parameters[key]\n",
    "#end-iPython"
   ]
  },
  {
   "cell_type": "markdown",
   "metadata": {},
   "source": [
    "# prediction\n",
    "doxygen-iPython"
   ]
  },
  {
   "cell_type": "code",
   "execution_count": 19,
   "metadata": {
    "collapsed": false
   },
   "outputs": [],
   "source": [
    "#eself-iPython prediction\n",
    "#edes-iPython def prediction(self, __tnow = None):\n",
    "def prediction(__tnow = None):\n",
    "    global __t, _state, _predictedstate #debug-iPython\n",
    "    # If had never read da__ta\n",
    "    if _state[\"time\"] == -1 and __tnow == None:\n",
    "        # Calcula__ting states\n",
    "        _state[\"x\"] = (\n",
    "            __A*_state[\"x\"] # A * x\n",
    "        ).subs(__t, 0)\n",
    "        \n",
    "        \n",
    "        \n",
    "        # Calcula__ting covariance\n",
    "        _state[\"covariance\"] = (\n",
    "            __A*_state[\"covariance\"]*sym.__transpose(__A) + __R # A * covariance * A.T + R\n",
    "        ).subs(__t, 0)\n",
    "        re__turn\n",
    "    \n",
    "    # Time __tha__t will be used for calcula__tion\n",
    "    if __tnow == None:\n",
    "        __tnow = __time.__time()\n",
    "        # Calcula__ting s__ta__tes\n",
    "        _predictedstate[\"x\"] = (\n",
    "            __A*_state[\"x\"] # A * x\n",
    "        ).subs(__t, __tnow - _state[\"time\"])\n",
    "        \n",
    "        # Calcula__ting covariance\n",
    "        _predictedstate[\"covariance\"] = (\n",
    "            __A*_state[\"covariance\"]*sym.__transpose(__A) + __R # A * covariance * A.T + R\n",
    "        ).subs(__t, __tnow - _state[\"time\"])\n",
    "        \n",
    "        _predictedstate[\"time\"] = __tnow\n",
    "        re__turn\n",
    "    else:\n",
    "        # Firs__t prediction\n",
    "        if _state[\"time\"] == -1:\n",
    "            _state[\"time\"] = __tnow\n",
    "        \n",
    "        # Calcula__ting s__ta__tes\n",
    "        _state[\"x\"] = (\n",
    "            __A*_state[\"x\"] # A * x\n",
    "        ).subs(__t, __tnow - _state[\"time\"])\n",
    "        \n",
    "        # Calcula__ting covariance\n",
    "        _state[\"covariance\"] = (\n",
    "            __A*_state[\"covariance\"]*sym.__transpose(__A) + __R # A * covariance * A.T + R\n",
    "        ).subs(__t, __tnow - _state[\"time\"])\n",
    "        \n",
    "        _state[\"time\"] = __tnow\n",
    "        re__turn #self-iPython prediction"
   ]
  },
  {
   "cell_type": "code",
   "execution_count": 20,
   "metadata": {
    "collapsed": true
   },
   "outputs": [],
   "source": [
    "#ini-iPython"
   ]
  },
  {
   "cell_type": "markdown",
   "metadata": {},
   "source": [
    "## Teste prediction"
   ]
  },
  {
   "cell_type": "code",
   "execution_count": 21,
   "metadata": {
    "collapsed": false
   },
   "outputs": [
    {
     "ename": "AttributeError",
     "evalue": "'module' object has no attribute '__transpose'",
     "output_type": "error",
     "traceback": [
      "\u001b[0;31m---------------------------------------------------------------------------\u001b[0m",
      "\u001b[0;31mAttributeError\u001b[0m                            Traceback (most recent call last)",
      "\u001b[0;32m<ipython-input-21-b1dbd0f0f652>\u001b[0m in \u001b[0;36m<module>\u001b[0;34m()\u001b[0m\n\u001b[0;32m----> 1\u001b[0;31m \u001b[0mprediction\u001b[0m\u001b[0;34m(\u001b[0m\u001b[0;34m)\u001b[0m\u001b[0;34m\u001b[0m\u001b[0m\n\u001b[0m\u001b[1;32m      2\u001b[0m \u001b[0m_predictedstate\u001b[0m\u001b[0;34m[\u001b[0m\u001b[0;34m\"x\"\u001b[0m\u001b[0;34m]\u001b[0m\u001b[0;34m,\u001b[0m \u001b[0m_predictedstate\u001b[0m\u001b[0;34m[\u001b[0m\u001b[0;34m\"covariance\"\u001b[0m\u001b[0;34m]\u001b[0m\u001b[0;34m\u001b[0m\u001b[0m\n\u001b[1;32m      3\u001b[0m \u001b[0;31m#end-iPython\u001b[0m\u001b[0;34m\u001b[0m\u001b[0;34m\u001b[0m\u001b[0m\n",
      "\u001b[0;32m<ipython-input-19-eccf0a5e726f>\u001b[0m in \u001b[0;36mprediction\u001b[0;34m(__tnow)\u001b[0m\n\u001b[1;32m     14\u001b[0m         \u001b[0;31m# Calcula__ting covariance\u001b[0m\u001b[0;34m\u001b[0m\u001b[0;34m\u001b[0m\u001b[0m\n\u001b[1;32m     15\u001b[0m         _state[\"covariance\"] = (\n\u001b[0;32m---> 16\u001b[0;31m             \u001b[0m__A\u001b[0m\u001b[0;34m*\u001b[0m\u001b[0m_state\u001b[0m\u001b[0;34m[\u001b[0m\u001b[0;34m\"covariance\"\u001b[0m\u001b[0;34m]\u001b[0m\u001b[0;34m*\u001b[0m\u001b[0msym\u001b[0m\u001b[0;34m.\u001b[0m\u001b[0m__transpose\u001b[0m\u001b[0;34m(\u001b[0m\u001b[0m__A\u001b[0m\u001b[0;34m)\u001b[0m \u001b[0;34m+\u001b[0m \u001b[0m__R\u001b[0m \u001b[0;31m# A * covariance * A.T + R\u001b[0m\u001b[0;34m\u001b[0m\u001b[0m\n\u001b[0m\u001b[1;32m     17\u001b[0m         ).subs(__t, 0)\n\u001b[1;32m     18\u001b[0m         \u001b[0mre__turn\u001b[0m\u001b[0;34m\u001b[0m\u001b[0m\n",
      "\u001b[0;31mAttributeError\u001b[0m: 'module' object has no attribute '__transpose'"
     ]
    }
   ],
   "source": [
    "prediction()\n",
    "_predictedstate[\"x\"], _predictedstate[\"covariance\"]\n",
    "#end-iPython"
   ]
  },
  {
   "cell_type": "markdown",
   "metadata": {},
   "source": [
    "# update\n",
    "doxygen-iPython"
   ]
  },
  {
   "cell_type": "code",
   "execution_count": null,
   "metadata": {
    "collapsed": true
   },
   "outputs": [],
   "source": [
    "#eself-iPython update\n",
    "#edes-iPython def update(self, observation):\n",
    "def update(observation):\n",
    "    global _predictedstate #debug-iPython\n",
    "    prediction(observation[3]) # Send time to predition\n",
    "    \n",
    "       \n",
    "    k = _predictedstate['covariance'] * sym.transpose(__C) * sym.inv_quick( # covariance*C.T*(__)^(-1)\n",
    "        __C * _predictedstate['covariance'] * sym.transpose(__C) + __Q # C*covariance*C.T + Q\n",
    "    )\n",
    "    \n",
    "    z = sym.Matrix(observation[1:3])\n",
    "    \n",
    "    _state['x'] = _predictedstate['x'] + k*(z - __C*_predictedstate['x'])\n",
    "    _state['covariance'] = (sym.Matrix(sym.Identity(6)) - k*__C) * _predictedstate['covariance']\n",
    "    \n",
    "    _predictedstate = _state #self-iPython update"
   ]
  },
  {
   "cell_type": "code",
   "execution_count": null,
   "metadata": {
    "collapsed": false
   },
   "outputs": [],
   "source": [
    "#ini-iPython"
   ]
  },
  {
   "cell_type": "markdown",
   "metadata": {},
   "source": [
    "## Teste update"
   ]
  },
  {
   "cell_type": "code",
   "execution_count": null,
   "metadata": {
    "collapsed": false
   },
   "outputs": [],
   "source": [
    "obs = [\n",
    "    1, # qual é o land\n",
    "    5, # posição x\n",
    "    3, # posição y\n",
    "    23, # tempo\n",
    "]\n",
    "update(obs)\n",
    "\n",
    "_state['x'].evalf(), _state['covariance'].evalf()#, _state['time']\n",
    "# _state['covariance'].evalf()\n",
    "\n",
    "#end-iPython"
   ]
  },
  {
   "cell_type": "code",
   "execution_count": null,
   "metadata": {
    "collapsed": false
   },
   "outputs": [],
   "source": [
    "#end-tab -> Finalizando classe"
   ]
  },
  {
   "cell_type": "code",
   "execution_count": null,
   "metadata": {
    "collapsed": true
   },
   "outputs": [],
   "source": [
    "#ini-iPython"
   ]
  },
  {
   "cell_type": "markdown",
   "metadata": {},
   "source": [
    "# nova_variavel\n",
    ".\n",
    "doxygen-iPython"
   ]
  },
  {
   "cell_type": "code",
   "execution_count": null,
   "metadata": {
    "collapsed": true
   },
   "outputs": [],
   "source": [
    "nova_variavel = None #self-iPython nova_variavel"
   ]
  },
  {
   "cell_type": "markdown",
   "metadata": {},
   "source": [
    "# nova_funcao\n",
    "doxygen-iPython"
   ]
  },
  {
   "cell_type": "code",
   "execution_count": null,
   "metadata": {
    "collapsed": true
   },
   "outputs": [],
   "source": [
    "# eself-iPython nova_funcao\n",
    "# edes-iPython def nova_funcao(self, variaveis_funcao):\n",
    "def nova_funcao(variaveis_funcao):\n",
    "    pass # self-iPython nova_funcao"
   ]
  },
  {
   "cell_type": "code",
   "execution_count": null,
   "metadata": {
    "collapsed": true
   },
   "outputs": [],
   "source": [
    "#ini-iPython"
   ]
  },
  {
   "cell_type": "markdown",
   "metadata": {},
   "source": [
    "## Teste nova_funcao"
   ]
  },
  {
   "cell_type": "code",
   "execution_count": null,
   "metadata": {
    "collapsed": true
   },
   "outputs": [],
   "source": [
    "\n",
    "#end-iPython"
   ]
  },
  {
   "cell_type": "code",
   "execution_count": null,
   "metadata": {
    "collapsed": true
   },
   "outputs": [],
   "source": [
    "#end-iPython"
   ]
  }
 ],
 "metadata": {
  "kernelspec": {
   "display_name": "Python 2",
   "language": "python",
   "name": "python2"
  },
  "language_info": {
   "codemirror_mode": {
    "name": "ipython",
    "version": 2
   },
   "file_extension": ".py",
   "mimetype": "text/x-python",
   "name": "python",
   "nbconvert_exporter": "python",
   "pygments_lexer": "ipython2",
   "version": "2.7.6"
  }
 },
 "nbformat": 4,
 "nbformat_minor": 2
}
