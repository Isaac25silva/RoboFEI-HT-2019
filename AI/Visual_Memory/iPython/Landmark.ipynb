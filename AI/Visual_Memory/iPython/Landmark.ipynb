{
 "cells": [
  {
   "cell_type": "code",
   "execution_count": 1,
   "metadata": {
    "collapsed": true
   },
   "outputs": [],
   "source": [
    "#ini-iPython"
   ]
  },
  {
   "cell_type": "markdown",
   "metadata": {},
   "source": [
    "# Executando no diretório principal"
   ]
  },
  {
   "cell_type": "code",
   "execution_count": 2,
   "metadata": {
    "collapsed": true
   },
   "outputs": [],
   "source": [
    "import os\n",
    "os.chdir(\"/home/vinicius/Dropbox/Projeto Mestrado/Codigos/RoboFEI-HT_Debug/AI/Visual_Memory\") #Executando na pasta Visual_Memory\n",
    "import sys\n",
    "sys.path.append(\"./include\")\n",
    "sys.path.append(\"./src\")\n",
    "sys.path.append(\"./iPython\")\n",
    "#end-iPython"
   ]
  },
  {
   "cell_type": "markdown",
   "metadata": {
    "collapsed": true
   },
   "source": [
    "---- Imports ----"
   ]
  },
  {
   "cell_type": "code",
   "execution_count": 3,
   "metadata": {
    "collapsed": true
   },
   "outputs": [],
   "source": [
    "# Libraries to be used.\n",
    "import sys\n",
    "#des-iPython sys.path.append(\"../include\")\n",
    "#des-iPython sys.path.append(\"../src\")"
   ]
  },
  {
   "cell_type": "code",
   "execution_count": 4,
   "metadata": {
    "collapsed": true
   },
   "outputs": [],
   "source": [
    "# The standard libraries used in the visual memory system.\n"
   ]
  },
  {
   "cell_type": "code",
   "execution_count": 5,
   "metadata": {
    "collapsed": false
   },
   "outputs": [],
   "source": [
    "# Used class developed by RoboFEI-HT.\n",
    "#ini-iPython - Usando Classe KalmanFilter como instanciação \n",
    "os.system(\"sed -i 's/_//g' ./iPython/KalmanFilter.py\")\n",
    "os.system(\"sed -i 's/init/__init__/g' ./iPython/KalmanFilter.py\")\n",
    "os.system(\"sed -i 's/@abstractmethod//g' ./iPython/KalmanFilter.py\")\n",
    "os.system(\"sed -i 's/conf/_conf/g' ./iPython/KalmanFilter.py\")\n",
    "os.system(\"sed -i 's/invquick/inv_quick/g' ./iPython/KalmanFilter.py\")\n",
    "os.system(\"sed -i 's/linearacceleration/linear_acceleration/g' ./iPython/KalmanFilter.py\")\n",
    "os.system(\"sed -i 's/visionerror/vision_error/g' ./iPython/KalmanFilter.py\")\n",
    "os.system(\"sed -i 's/xspeed/x_speed/g' ./iPython/KalmanFilter.py\")\n",
    "\n",
    "#end-iPython\n",
    "from KalmanFilter import * # Class responsible for implementing kalman filter methods.\n",
    "sym.init_printing() #debug-iPython"
   ]
  },
  {
   "cell_type": "markdown",
   "metadata": {
    "collapsed": true
   },
   "source": [
    "# Class to Landmark\n",
    "Class responsible for performing landmarks tracking.\n",
    "doxygen-iPython"
   ]
  },
  {
   "cell_type": "code",
   "execution_count": 6,
   "metadata": {
    "collapsed": true
   },
   "outputs": [],
   "source": [
    "#des-iPython class Landmark(KalmanFilter):\n",
    "#ini-tab -> Iniciando código classe"
   ]
  },
  {
   "cell_type": "markdown",
   "metadata": {},
   "source": [
    "---- Variables ----"
   ]
  },
  {
   "cell_type": "code",
   "execution_count": 7,
   "metadata": {
    "collapsed": true
   },
   "outputs": [],
   "source": [
    "#ini-iPython\n",
    "\n",
    "# ------- Lista de funções herdadas -------\n",
    "\n",
    "#self-iPython _t\n",
    "\n",
    "#self-iPython _A\n",
    "#self-iPython _B\n",
    "#self-iPython _R\n",
    "\n",
    "#self-iPython _px\n",
    "#self-iPython _py\n",
    "#self-iPython _vx\n",
    "#self-iPython _vy\n",
    "#self-iPython _ax\n",
    "#self-iPython _ay\n",
    "\n",
    "# ------- Lista variaveis herdadas -------\n",
    "\n",
    "#self-iPython _parameters\n",
    "#self-iPython _conf\n",
    "#self-iPython _speeds\n",
    "\n",
    "# Estados\n",
    "#self-iPython _state\n",
    "#self-iPython _predictedstate\n",
    "\n",
    "\n",
    "# ------- Lista de funções -------\n",
    "\n",
    "#self-iPython update\n",
    "#self-iPython reset\n",
    "#self-iPython predict\n",
    "\n",
    "#end-iPython - Fim listas"
   ]
  },
  {
   "cell_type": "markdown",
   "metadata": {},
   "source": [
    "# reset\n",
    ".\n",
    "doxygen-iPython"
   ]
  },
  {
   "cell_type": "code",
   "execution_count": 8,
   "metadata": {
    "collapsed": true
   },
   "outputs": [],
   "source": [
    "#eself-iPython reset\n",
    "#edes-iPython def reset(self):\n",
    "def reset( ):\n",
    "    #edes-iPython super(Landmark, self)._reset( )\n",
    "    kalman.reset( )\n",
    "    \n",
    "    #edes-iPython _B = sym.Matrix([\n",
    "    kalman.B = sym.Matrix([\n",
    "        #edes-iPython [0, 0, 0, 0, _px],\n",
    "        [0, 0, 0, 0, kalman.px],\n",
    "        #edes-iPython [0, 0, 0, 0, _py],\n",
    "        [0, 0, 0, 0, kalman.py],\n",
    "        #edes-iPython [0, 0, 0, 0, _vx],\n",
    "        [0, 0, 0, 0, kalman.vx],\n",
    "        #edes-iPython [0, 0, 0, 0, _vy],\n",
    "        [0, 0, 0, 0, kalman.vy],\n",
    "        #edes-iPython [0, 0, 0, 0, _ax],\n",
    "        [0, 0, 0, 0, kalman.ax],\n",
    "        #edes-iPython [0, 0, 0, 0, _ay],\n",
    "        [0, 0, 0, 0, kalman.ay],\n",
    "    ])\n",
    "    \n",
    "    #edes-iPython _R = sym.zeros(6)  #self-iPython reset\n",
    "    kalman.R = sym.zeros(6)"
   ]
  },
  {
   "cell_type": "code",
   "execution_count": 9,
   "metadata": {
    "collapsed": true
   },
   "outputs": [],
   "source": [
    "#ini-iPython"
   ]
  },
  {
   "cell_type": "markdown",
   "metadata": {},
   "source": [
    "## Teste reset"
   ]
  },
  {
   "cell_type": "code",
   "execution_count": 10,
   "metadata": {
    "collapsed": false
   },
   "outputs": [
    {
     "data": {
      "image/png": "[encoded data removed]",
      "text/latex": [
       "$$\\left[\\begin{matrix}px\\\\py\\\\vx\\\\vy\\\\ax\\\\ay\\end{matrix}\\right]$$"
      ],
      "text/plain": [
       "⎡px⎤\n",
       "⎢  ⎥\n",
       "⎢py⎥\n",
       "⎢  ⎥\n",
       "⎢vx⎥\n",
       "⎢  ⎥\n",
       "⎢vy⎥\n",
       "⎢  ⎥\n",
       "⎢ax⎥\n",
       "⎢  ⎥\n",
       "⎣ay⎦"
      ]
     },
     "execution_count": 10,
     "metadata": {},
     "output_type": "execute_result"
    }
   ],
   "source": [
    "s = Speeds( ) #debug-iPython\n",
    "kalman = KalmanFilter(s, \"Landmarks\")\n",
    "reset( )\n",
    "kalman.B*sym.Matrix([\n",
    "    [2.3],\n",
    "    [1.9],\n",
    "    [7.8],\n",
    "    [1.5],\n",
    "    [1],\n",
    "])"
   ]
  },
  {
   "cell_type": "code",
   "execution_count": 11,
   "metadata": {
    "collapsed": false
   },
   "outputs": [],
   "source": [
    "del kalman\n",
    "del s\n",
    "#end-iPython"
   ]
  },
  {
   "cell_type": "markdown",
   "metadata": {},
   "source": [
    "# Constructor Class\n",
    "doxygen-iPython"
   ]
  },
  {
   "cell_type": "code",
   "execution_count": 12,
   "metadata": {
    "collapsed": false,
    "scrolled": true
   },
   "outputs": [],
   "source": [
    "s = Speeds( ) #debug-iPython\n",
    "#des-iPython def __init__(self, s):\n",
    "#ini-tab -> Criando construtor\n",
    "# Instantiating constructor for inherited class.\n",
    "#edes-iPython super(Landmark, self).__init__(s, \"Landmarks\")\n",
    "kalman = KalmanFilter(s, \"Landmarks\")\n",
    "\n",
    "# Creating characteristic variables for landmarks and reading.\n",
    "#eself-iPython update\n",
    "#des-iPython _parameters.update({\n",
    "#des-iPython     \"linear_acceleration\": True\n",
    "#des-iPython }) #self-iPython update\n",
    "#ini-iPython\n",
    "kalman.parameters.update({\n",
    "    \"linear_acceleration\": True\n",
    "})\n",
    "#end-iPython\n",
    "#edes-iPython _parameters = _conf.readVariables(_parameters)\n",
    "kalman.parameters = kalman._conf.readVariables(kalman.parameters)\n",
    "\n",
    "reset( )"
   ]
  },
  {
   "cell_type": "code",
   "execution_count": 13,
   "metadata": {
    "collapsed": true
   },
   "outputs": [],
   "source": [
    "#end-tab -> Finalizando construtor"
   ]
  },
  {
   "cell_type": "code",
   "execution_count": 14,
   "metadata": {
    "collapsed": false
   },
   "outputs": [],
   "source": [
    "#ini-iPython"
   ]
  },
  {
   "cell_type": "markdown",
   "metadata": {},
   "source": [
    "## Teste construtor"
   ]
  },
  {
   "cell_type": "code",
   "execution_count": 15,
   "metadata": {
    "collapsed": false
   },
   "outputs": [
    {
     "name": "stdout",
     "output_type": "stream",
     "text": [
      "{'linear_acceleration': True, 'vision_error': 0.1}\n"
     ]
    },
    {
     "data": {
      "text/plain": [
       "{'R': Matrix([\n",
       " [0, 0, 0, 0, 0, 0],\n",
       " [0, 0, 0, 0, 0, 0],\n",
       " [0, 0, 0, 0, 0, 0],\n",
       " [0, 0, 0, 0, 0, 0],\n",
       " [0, 0, 0, 0, 0, 0],\n",
       " [0, 0, 0, 0, 0, 0]]), 'x_speed': Matrix([\n",
       " [0],\n",
       " [0],\n",
       " [0],\n",
       " [0],\n",
       " [1]])}"
      ]
     },
     "execution_count": 15,
     "metadata": {},
     "output_type": "execute_result"
    }
   ],
   "source": [
    "kalman._end( )\n",
    "print kalman.parameters\n",
    "\n",
    "vrx, vry, arx, ary = sym.symbols(\"vr_x vr_y ar_x ar_y\")\n",
    "\n",
    "__u = sym.Matrix([\n",
    "    [vrx],\n",
    "    [vry],\n",
    "    [arx],\n",
    "    [ary],\n",
    "    [1],\n",
    "])\n",
    "\n",
    "kalman.B*__u\n",
    "\n",
    "s[1]\n",
    "#end-iPython"
   ]
  },
  {
   "cell_type": "markdown",
   "metadata": {},
   "source": [
    "# update\n",
    ".\n",
    "doxygen-iPython"
   ]
  },
  {
   "cell_type": "code",
   "execution_count": 46,
   "metadata": {
    "collapsed": true
   },
   "outputs": [],
   "source": [
    "#eself-iPython update\n",
    "#edes-iPython def update(self, data):\n",
    "def update(data):\n",
    "    #edes-iPython _predictedstate[\"x\"][2:, 0] = -_speeds[data[\"movement\"]][\"x_speed\"][:len(_speeds[data[\"movement\"]][\"x_speed\"])-1, 0]\n",
    "    kalman.predictedstate[\"x\"][2:, 0] = -kalman.speeds[data[\"movement\"]][\"x_speed\"][:len(kalman.speeds[data[\"movement\"]][\"x_speed\"])-1, 0]\n",
    "    #edes-iPython _predictedstate[\"covariance\"] = _speeds[data[\"movement\"]][\"R\"]\n",
    "    kalman.predictedstate[\"covariance\"] = kalman.speeds[data[\"movement\"]][\"R\"]\n",
    "    \n",
    "    #edes-iPython super(Landmark, self).update(data)\n",
    "    kalman.update(data)\n",
    "    \n",
    "    #edes-iPython return [data[\"movement\"], _predictedstate[\"x\"], _predictedstate[\"covariance\"]]\n",
    "    return [data[\"movement\"], kalman.predictedstate[\"x\"], kalman.predictedstate[\"covariance\"]] #self-iPython update"
   ]
  },
  {
   "cell_type": "code",
   "execution_count": 47,
   "metadata": {
    "collapsed": false
   },
   "outputs": [],
   "source": [
    "#ini-iPython"
   ]
  },
  {
   "cell_type": "markdown",
   "metadata": {},
   "source": [
    "## Teste update"
   ]
  },
  {
   "cell_type": "code",
   "execution_count": 48,
   "metadata": {
    "collapsed": false
   },
   "outputs": [
    {
     "name": "stdout",
     "output_type": "stream",
     "text": [
      "[1, Matrix([\n",
      "[0.0],\n",
      "[0.0],\n",
      "[0.0],\n",
      "[0.0],\n",
      "[0.0],\n",
      "[0.0]]), Matrix([\n",
      "[0, 0, 0, 0, 0, 0],\n",
      "[0, 0, 0, 0, 0, 0],\n",
      "[0, 0, 0, 0, 0, 0],\n",
      "[0, 0, 0, 0, 0, 0],\n",
      "[0, 0, 0, 0, 0, 0],\n",
      "[0, 0, 0, 0, 0, 0]])]\n"
     ]
    }
   ],
   "source": [
    "data = {\n",
    "    \"movement\": 1,\n",
    "    \"target\": 1,\n",
    "    \"pos\": [0, 0],\n",
    "    \"time\": 1.0,\n",
    "}\n",
    "\n",
    "print update(data)\n",
    "#end-iPython"
   ]
  },
  {
   "cell_type": "code",
   "execution_count": 19,
   "metadata": {
    "collapsed": false
   },
   "outputs": [],
   "source": [
    "#end-tab -> Finalizando classe"
   ]
  },
  {
   "cell_type": "code",
   "execution_count": 20,
   "metadata": {
    "collapsed": true
   },
   "outputs": [],
   "source": [
    "#ini-iPython"
   ]
  },
  {
   "cell_type": "markdown",
   "metadata": {},
   "source": [
    "# nova_variavel\n",
    ".\n",
    "doxygen-iPython"
   ]
  },
  {
   "cell_type": "code",
   "execution_count": 21,
   "metadata": {
    "collapsed": true
   },
   "outputs": [],
   "source": [
    "nova_variavel = None #self-iPython nova_variavel"
   ]
  },
  {
   "cell_type": "markdown",
   "metadata": {},
   "source": [
    "# nova_funcao\n",
    ".\n",
    "doxygen-iPython"
   ]
  },
  {
   "cell_type": "code",
   "execution_count": 22,
   "metadata": {
    "collapsed": true
   },
   "outputs": [],
   "source": [
    "# eself-iPython nova_funcao\n",
    "# edes-iPython def nova_funcao(self, variaveis_funcao):\n",
    "def nova_funcao(variaveis_funcao):\n",
    "    pass # self-iPython nova_funcao"
   ]
  },
  {
   "cell_type": "code",
   "execution_count": 23,
   "metadata": {
    "collapsed": true
   },
   "outputs": [],
   "source": [
    "#ini-iPython"
   ]
  },
  {
   "cell_type": "markdown",
   "metadata": {},
   "source": [
    "## Teste nova_funcao"
   ]
  },
  {
   "cell_type": "code",
   "execution_count": 24,
   "metadata": {
    "collapsed": true
   },
   "outputs": [],
   "source": [
    "\n",
    "#end-iPython"
   ]
  },
  {
   "cell_type": "code",
   "execution_count": 25,
   "metadata": {
    "collapsed": true
   },
   "outputs": [],
   "source": [
    "#end-iPython"
   ]
  }
 ],
 "metadata": {
  "kernelspec": {
   "display_name": "Python 2",
   "language": "python",
   "name": "python2"
  },
  "language_info": {
   "codemirror_mode": {
    "name": "ipython",
    "version": 2
   },
   "file_extension": ".py",
   "mimetype": "text/x-python",
   "name": "python",
   "nbconvert_exporter": "python",
   "pygments_lexer": "ipython2",
   "version": "2.7.6"
  }
 },
 "nbformat": 4,
 "nbformat_minor": 2
}
