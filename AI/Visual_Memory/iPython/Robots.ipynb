{
 "cells": [
  {
   "cell_type": "code",
   "execution_count": 28,
   "metadata": {
    "collapsed": true
   },
   "outputs": [],
   "source": [
    "#ini-iPython"
   ]
  },
  {
   "cell_type": "markdown",
   "metadata": {},
   "source": [
    "# Executando no diretório principal"
   ]
  },
  {
   "cell_type": "code",
   "execution_count": 29,
   "metadata": {
    "collapsed": true
   },
   "outputs": [],
   "source": [
    "import os\n",
    "os.chdir(\"/home/vinicius/Dropbox/Projeto Mestrado/Codigos/RoboFEI-HT_Debug/AI/Visual_Memory\") #Executando na pasta Visual_Memory\n",
    "import sys\n",
    "sys.path.append(\"./include\")\n",
    "sys.path.append(\"./src\")\n",
    "sys.path.append(\"./iPython\")\n",
    "#end-iPython"
   ]
  },
  {
   "cell_type": "markdown",
   "metadata": {
    "collapsed": true
   },
   "source": [
    "---- Imports ----"
   ]
  },
  {
   "cell_type": "code",
   "execution_count": 30,
   "metadata": {
    "collapsed": true
   },
   "outputs": [],
   "source": [
    "# Libraries to be used.\n",
    "import sys\n",
    "#des-iPython sys.path.append(\"../include\")\n",
    "#des-iPython sys.path.append(\"../src\")"
   ]
  },
  {
   "cell_type": "code",
   "execution_count": 31,
   "metadata": {
    "collapsed": true
   },
   "outputs": [],
   "source": [
    "# The standard libraries used in the visual memory system.\n"
   ]
  },
  {
   "cell_type": "code",
   "execution_count": 32,
   "metadata": {
    "collapsed": false
   },
   "outputs": [],
   "source": [
    "# Used class developed by RoboFEI-HT.\n",
    "#ini-iPython - Usando Classe KalmanFilter como instanciação \n",
    "os.system(\"sed -i 's/_//g' ./iPython/KalmanFilter.py\")\n",
    "os.system(\"sed -i 's/init/__init__/g' ./iPython/KalmanFilter.py\")\n",
    "os.system(\"sed -i 's/@abstractmethod//g' ./iPython/KalmanFilter.py\")\n",
    "os.system(\"sed -i 's/conf/_conf/g' ./iPython/KalmanFilter.py\")\n",
    "os.system(\"sed -i 's/invquick/inv_quick/g' ./iPython/KalmanFilter.py\")\n",
    "os.system(\"sed -i 's/linearacceleration/linear_acceleration/g' ./iPython/KalmanFilter.py\")\n",
    "os.system(\"sed -i 's/visionerror/vision_error/g' ./iPython/KalmanFilter.py\")\n",
    "os.system(\"sed -i 's/xspeed/x_speed/g' ./iPython/KalmanFilter.py\")\n",
    "\n",
    "#end-iPython\n",
    "from KalmanFilter import * # Class responsible for implementing kalman filter methods.\n",
    "sym.init_printing() #debug-iPython"
   ]
  },
  {
   "cell_type": "markdown",
   "metadata": {
    "collapsed": true
   },
   "source": [
    "# Class to Robots\n",
    "Class responsible for performing robots tracking.\n",
    "doxygen-iPython"
   ]
  },
  {
   "cell_type": "code",
   "execution_count": 33,
   "metadata": {
    "collapsed": true
   },
   "outputs": [],
   "source": [
    "#des-iPython class Robots(KalmanFilter):\n",
    "#ini-tab -> Iniciando código classe"
   ]
  },
  {
   "cell_type": "markdown",
   "metadata": {},
   "source": [
    "---- Variables ----"
   ]
  },
  {
   "cell_type": "code",
   "execution_count": 34,
   "metadata": {
    "collapsed": true
   },
   "outputs": [],
   "source": [
    "#ini-iPython\n",
    "\n",
    "# ------- Lista de funções herdadas -------\n",
    "\n",
    "#self-iPython _t\n",
    "\n",
    "#self-iPython _A\n",
    "#self-iPython _B\n",
    "#self-iPython _R\n",
    "#self-iPython _C\n",
    "\n",
    "#self-iPython _px\n",
    "#self-iPython _py\n",
    "#self-iPython _vx\n",
    "#self-iPython _vy\n",
    "#self-iPython _ax\n",
    "#self-iPython _ay\n",
    "\n",
    "# ------- Lista variaveis herdadas -------\n",
    "\n",
    "#self-iPython _parameters\n",
    "#self-iPython _conf\n",
    "#self-iPython _speeds\n",
    "\n",
    "# Estados\n",
    "#self-iPython _state\n",
    "#self-iPython _predictedstate\n",
    "\n",
    "\n",
    "# ------- Lista de funções -------\n",
    "\n",
    "#self-iPython update\n",
    "#self-iPython reset\n",
    "#self-iPython predict\n",
    "\n",
    "#end-iPython - Fim listas"
   ]
  },
  {
   "cell_type": "markdown",
   "metadata": {},
   "source": [
    "# reset\n",
    ".\n",
    "doxygen-iPython"
   ]
  },
  {
   "cell_type": "code",
   "execution_count": 35,
   "metadata": {
    "collapsed": false
   },
   "outputs": [],
   "source": [
    "#eself-iPython reset\n",
    "#edes-iPython def reset(self):\n",
    "def reset( ):\n",
    "    #edes-iPython super(Robots, self)._reset( )\n",
    "    kalman.reset( )\n",
    "    \n",
    "    #edes-iPython _A = _A[:-2,:-2]\n",
    "    kalman.A = kalman.A[:-2,:-2]\n",
    "    #edes-iPython _B = _B[:-2,:]\n",
    "    kalman.B = kalman.B[:-2,:]\n",
    "    #edes-iPython _R = _R[:-2,:-2]\n",
    "    kalman.R = kalman.R[:-2,:-2]\n",
    "    #edes-iPython _C = _C[:,:-2]\n",
    "    kalman.C = kalman.C[:,:-2]\n",
    "    \n",
    "    #edes-iPython _predictedstate[\"x\"] = _predictedstate[\"x\"][:-2,:]\n",
    "    kalman.predictedstate[\"x\"] = kalman.predictedstate[\"x\"][:-2,:]\n",
    "    #edes-iPython _predictedstate[\"covariance\"] = _predictedstate[\"covariance\"][:-2,:-2] #self-iPython reset\n",
    "    kalman.predictedstate[\"covariance\"] = kalman.predictedstate[\"covariance\"][:-2,:-2]"
   ]
  },
  {
   "cell_type": "code",
   "execution_count": 36,
   "metadata": {
    "collapsed": true
   },
   "outputs": [],
   "source": [
    "#ini-iPython"
   ]
  },
  {
   "cell_type": "markdown",
   "metadata": {},
   "source": [
    "## Teste reset"
   ]
  },
  {
   "cell_type": "code",
   "execution_count": 37,
   "metadata": {
    "collapsed": false
   },
   "outputs": [
    {
     "data": {
      "image/png": "[encoded data removed]",
      "text/latex": [
       "$$\\left ( \\left[\\begin{matrix}1 & 0 & t & 0\\\\0 & 1 & 0 & t\\\\0 & 0 & 1 & 0\\\\0 & 0 & 0 & 1\\end{matrix}\\right], \\quad \\left[\\begin{matrix}- t & 0 & - 0.5 t^{2} & 0 & px\\\\0 & - t & 0 & - 0.5 t^{2} & py\\\\0 & 0 & 0 & 0 & - S vy - vx \\left(- C + 1\\right) + vx\\\\0 & 0 & 0 & 0 & S vx - vy \\left(- C + 1\\right) + vy\\end{matrix}\\right], \\quad \\left[\\begin{matrix}1 & 0 & 0 & 0\\\\0 & 1 & 0 & 0\\\\0 & 0 & 1 & 0\\\\0 & 0 & 0 & 1\\end{matrix}\\right], \\quad \\left[\\begin{matrix}1 & 0 & 0 & 0\\\\0 & 1 & 0 & 0\\end{matrix}\\right], \\quad \\left[\\begin{matrix}0\\\\0\\\\0\\\\0\\end{matrix}\\right], \\quad \\left[\\begin{matrix}1000 & 0 & 0 & 0\\\\0 & 1000 & 0 & 0\\\\0 & 0 & 1000 & 0\\\\0 & 0 & 0 & 1000\\end{matrix}\\right]\\right )$$"
      ],
      "text/plain": [
       "⎛              ⎡              2                                   ⎤           \n",
       "⎜⎡1  0  t  0⎤, ⎢-t  0   -0.5⋅t      0                px           ⎥, ⎡1  0  0 \n",
       "⎜⎢          ⎥  ⎢                                                  ⎥  ⎢        \n",
       "⎜⎢0  1  0  t⎥  ⎢                       2                          ⎥  ⎢0  1  0 \n",
       "⎜⎢          ⎥  ⎢0   -t     0     -0.5⋅t              py           ⎥  ⎢        \n",
       "⎜⎢0  0  1  0⎥  ⎢                                                  ⎥  ⎢0  0  1 \n",
       "⎜⎢          ⎥  ⎢0   0      0        0     -S⋅vy - vx⋅(-C + 1) + vx⎥  ⎢        \n",
       "⎜⎣0  0  0  1⎦  ⎢                                                  ⎥  ⎣0  0  0 \n",
       "⎝              ⎣0   0      0        0     S⋅vx - vy⋅(-C + 1) + vy ⎦           \n",
       "\n",
       "                                                ⎞\n",
       " 0⎤, ⎡1  0  0  0⎤, ⎡0⎤, ⎡1000   0     0     0  ⎤⎟\n",
       "  ⎥  ⎢          ⎥  ⎢ ⎥  ⎢                      ⎥⎟\n",
       " 0⎥  ⎣0  1  0  0⎦  ⎢0⎥  ⎢ 0    1000   0     0  ⎥⎟\n",
       "  ⎥                ⎢ ⎥  ⎢                      ⎥⎟\n",
       " 0⎥                ⎢0⎥  ⎢ 0     0    1000   0  ⎥⎟\n",
       "  ⎥                ⎢ ⎥  ⎢                      ⎥⎟\n",
       " 1⎦                ⎣0⎦  ⎣ 0     0     0    1000⎦⎟\n",
       "                                                ⎠"
      ]
     },
     "execution_count": 37,
     "metadata": {},
     "output_type": "execute_result"
    }
   ],
   "source": [
    "vrx, vry, arx, ary = sym.symbols(\"vr_x vr_y ar_x ar_y\")\n",
    "s = Speeds( ) #debug-iPython\n",
    "kalman = KalmanFilter(s, \"Robots\")\n",
    "reset( )\n",
    "kalman.A, kalman.B, kalman.R, kalman.C, kalman.predictedstate[\"x\"], kalman.predictedstate[\"covariance\"]"
   ]
  },
  {
   "cell_type": "code",
   "execution_count": 11,
   "metadata": {
    "collapsed": false
   },
   "outputs": [],
   "source": [
    "del kalman\n",
    "del s\n",
    "#end-iPython"
   ]
  },
  {
   "cell_type": "markdown",
   "metadata": {},
   "source": [
    "# Constructor Class\n",
    "doxygen-iPython"
   ]
  },
  {
   "cell_type": "code",
   "execution_count": 12,
   "metadata": {
    "collapsed": false,
    "scrolled": true
   },
   "outputs": [],
   "source": [
    "s = Speeds( ) #debug-iPython\n",
    "#des-iPython def __init__(self, s):\n",
    "#ini-tab -> Criando construtor\n",
    "# Instantiating constructor for inherited class.\n",
    "#edes-iPython super(Robots, self).__init__(s, \"Robots\")\n",
    "kalman = KalmanFilter(s, \"Robots\")\n",
    "\n",
    "# Creating characteristic variables for Robots and reading.\n",
    "#eself-iPython update\n",
    "#des-iPython _parameters.update({ }) #self-iPython update\n",
    "#ini-iPython\n",
    "kalman.parameters.update({ })\n",
    "#end-iPython\n",
    "#edes-iPython _parameters = _conf.readVariables(_parameters)\n",
    "kalman.parameters = kalman._conf.readVariables(kalman.parameters)\n",
    "\n",
    "reset( )"
   ]
  },
  {
   "cell_type": "code",
   "execution_count": 13,
   "metadata": {
    "collapsed": true
   },
   "outputs": [],
   "source": [
    "#end-tab -> Finalizando construtor"
   ]
  },
  {
   "cell_type": "code",
   "execution_count": 14,
   "metadata": {
    "collapsed": false
   },
   "outputs": [],
   "source": [
    "#ini-iPython"
   ]
  },
  {
   "cell_type": "markdown",
   "metadata": {},
   "source": [
    "## Teste construtor"
   ]
  },
  {
   "cell_type": "code",
   "execution_count": 15,
   "metadata": {
    "collapsed": false
   },
   "outputs": [
    {
     "name": "stdout",
     "output_type": "stream",
     "text": [
      "{'linear_acceleration': False, 'vision_error': 0.1}\n"
     ]
    },
    {
     "data": {
      "image/png": "[encoded data removed]",
      "text/latex": [
       "$$\\left[\\begin{matrix}- 0.5 ar_{x} t^{2} + px - t vr_{x}\\\\- 0.5 ar_{y} t^{2} + py - t vr_{y}\\\\- S vy - vx \\left(- C + 1\\right) + vx\\\\S vx - vy \\left(- C + 1\\right) + vy\\end{matrix}\\right]$$"
      ],
      "text/plain": [
       "⎡            2              ⎤\n",
       "⎢ - 0.5⋅arₓ⋅t  + px - t⋅vrₓ ⎥\n",
       "⎢                           ⎥\n",
       "⎢            2              ⎥\n",
       "⎢- 0.5⋅ar_y⋅t  + py - t⋅vr_y⎥\n",
       "⎢                           ⎥\n",
       "⎢ -S⋅vy - vx⋅(-C + 1) + vx  ⎥\n",
       "⎢                           ⎥\n",
       "⎣  S⋅vx - vy⋅(-C + 1) + vy  ⎦"
      ]
     },
     "execution_count": 15,
     "metadata": {},
     "output_type": "execute_result"
    }
   ],
   "source": [
    "kalman._end( )\n",
    "print kalman.parameters\n",
    "\n",
    "vrx, vry, arx, ary = sym.symbols(\"vr_x vr_y ar_x ar_y\")\n",
    "\n",
    "__u = sym.Matrix([\n",
    "    [vrx],\n",
    "    [vry],\n",
    "    [arx],\n",
    "    [ary],\n",
    "    [1],\n",
    "])\n",
    "\n",
    "kalman.B*__u\n",
    "#end-iPython"
   ]
  },
  {
   "cell_type": "code",
   "execution_count": 16,
   "metadata": {
    "collapsed": false
   },
   "outputs": [],
   "source": [
    "#end-tab -> Finalizando classe"
   ]
  },
  {
   "cell_type": "code",
   "execution_count": 17,
   "metadata": {
    "collapsed": true
   },
   "outputs": [],
   "source": [
    "#ini-iPython"
   ]
  },
  {
   "cell_type": "markdown",
   "metadata": {},
   "source": [
    "# nova_variavel\n",
    ".\n",
    "doxygen-iPython"
   ]
  },
  {
   "cell_type": "code",
   "execution_count": 18,
   "metadata": {
    "collapsed": true
   },
   "outputs": [],
   "source": [
    "nova_variavel = None #self-iPython nova_variavel"
   ]
  },
  {
   "cell_type": "markdown",
   "metadata": {},
   "source": [
    "# nova_funcao\n",
    ".\n",
    "doxygen-iPython"
   ]
  },
  {
   "cell_type": "code",
   "execution_count": 19,
   "metadata": {
    "collapsed": true
   },
   "outputs": [],
   "source": [
    "# eself-iPython nova_funcao\n",
    "# edes-iPython def nova_funcao(self, variaveis_funcao):\n",
    "def nova_funcao(variaveis_funcao):\n",
    "    pass # self-iPython nova_funcao"
   ]
  },
  {
   "cell_type": "code",
   "execution_count": 20,
   "metadata": {
    "collapsed": true
   },
   "outputs": [],
   "source": [
    "#ini-iPython"
   ]
  },
  {
   "cell_type": "markdown",
   "metadata": {},
   "source": [
    "## Teste nova_funcao"
   ]
  },
  {
   "cell_type": "code",
   "execution_count": 21,
   "metadata": {
    "collapsed": true
   },
   "outputs": [],
   "source": [
    "\n",
    "#end-iPython"
   ]
  },
  {
   "cell_type": "code",
   "execution_count": 22,
   "metadata": {
    "collapsed": true
   },
   "outputs": [],
   "source": [
    "#end-iPython"
   ]
  }
 ],
 "metadata": {
  "kernelspec": {
   "display_name": "Python 2",
   "language": "python",
   "name": "python2"
  },
  "language_info": {
   "codemirror_mode": {
    "name": "ipython",
    "version": 2
   },
   "file_extension": ".py",
   "mimetype": "text/x-python",
   "name": "python",
   "nbconvert_exporter": "python",
   "pygments_lexer": "ipython2",
   "version": "2.7.6"
  }
 },
 "nbformat": 4,
 "nbformat_minor": 2
}
