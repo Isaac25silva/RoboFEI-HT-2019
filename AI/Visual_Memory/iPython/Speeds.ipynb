{
 "cells": [
  {
   "cell_type": "code",
   "execution_count": 1,
   "metadata": {
    "collapsed": true
   },
   "outputs": [],
   "source": [
    "#ini-iPython"
   ]
  },
  {
   "cell_type": "markdown",
   "metadata": {},
   "source": [
    "# Executando no diretório principal"
   ]
  },
  {
   "cell_type": "code",
   "execution_count": 2,
   "metadata": {
    "collapsed": true
   },
   "outputs": [],
   "source": [
    "import os\n",
    "os.chdir(\"/home/vinicius/Dropbox/Projeto Mestrado/Codigos/RoboFEI-HT_Debug/AI/Visual_Memory\") #Executando na pasta Vision\n",
    "import sys\n",
    "sys.path.append(\"./include\")\n",
    "sys.path.append(\"./src\")\n",
    "sys.path.append(\"./iPython\")\n",
    "#end-iPython"
   ]
  },
  {
   "cell_type": "markdown",
   "metadata": {
    "collapsed": true
   },
   "source": [
    "---- Imports ----"
   ]
  },
  {
   "cell_type": "code",
   "execution_count": 3,
   "metadata": {
    "collapsed": true
   },
   "outputs": [],
   "source": [
    "# Libraries to be used.\n",
    "import sys\n",
    "#des-iPython sys.path.append(\"../include\")\n",
    "#des-iPython sys.path.append(\"../src\")"
   ]
  },
  {
   "cell_type": "code",
   "execution_count": 4,
   "metadata": {
    "collapsed": true
   },
   "outputs": [],
   "source": [
    "# The standard libraries used in the visual memory system.\n"
   ]
  },
  {
   "cell_type": "code",
   "execution_count": 5,
   "metadata": {
    "collapsed": true
   },
   "outputs": [],
   "source": [
    "# Used class developed by RoboFEI-HT.\n",
    "from Basic import * # Class with implementations and basic variables\n",
    "sym.init_printing() #debug-iPython"
   ]
  },
  {
   "cell_type": "markdown",
   "metadata": {
    "collapsed": true
   },
   "source": [
    "# Class to Speeds\n",
    "Class responsible for managing the robot's possible speeds (me).\n",
    "doxygen-iPython"
   ]
  },
  {
   "cell_type": "code",
   "execution_count": 6,
   "metadata": {
    "collapsed": true
   },
   "outputs": [],
   "source": [
    "#des-iPython class Speeds( ):\n",
    "#ini-tab -> Iniciando código classe"
   ]
  },
  {
   "cell_type": "markdown",
   "metadata": {},
   "source": [
    "---- Variables ----"
   ]
  },
  {
   "cell_type": "markdown",
   "metadata": {},
   "source": [
    "# __movementslist\n",
    "Velocity list of robot movements.\n",
    "doxygen-iPython"
   ]
  },
  {
   "cell_type": "code",
   "execution_count": 7,
   "metadata": {
    "collapsed": true
   },
   "outputs": [],
   "source": [
    "__movementslist = [] #self-iPython __movementslist"
   ]
  },
  {
   "cell_type": "markdown",
   "metadata": {},
   "source": [
    "# __B\n",
    "Speed matrix $B_t$.\n",
    "doxygen-iPython"
   ]
  },
  {
   "cell_type": "code",
   "execution_count": 8,
   "metadata": {
    "collapsed": true
   },
   "outputs": [],
   "source": [
    "__B = None #self-iPython __B"
   ]
  },
  {
   "cell_type": "markdown",
   "metadata": {},
   "source": [
    "# __R\n",
    "Speed error matrix $R_t$.\n",
    "doxygen-iPython"
   ]
  },
  {
   "cell_type": "code",
   "execution_count": 9,
   "metadata": {
    "collapsed": true
   },
   "outputs": [],
   "source": [
    "__R = None #self-iPython __R"
   ]
  },
  {
   "cell_type": "code",
   "execution_count": 10,
   "metadata": {
    "collapsed": true
   },
   "outputs": [],
   "source": [
    "#ini-iPython\n",
    "\n",
    "# ------- Lista de funções herdadas -------\n",
    "\n",
    "\n",
    "\n",
    "# ------- Lista variaveis herdadas -------\n",
    "\n",
    "\n",
    "\n",
    "# ------- Lista de funções -------\n",
    "\n",
    "#self-iPython update\n",
    "#self-iPython __getitem__\n",
    "\n",
    "#end-iPython - Fim listas"
   ]
  },
  {
   "cell_type": "markdown",
   "metadata": {},
   "source": [
    "# Constructor Class\n",
    "Initializes basic network parameters and creates standard speeds.\n",
    "doxygen-iPython"
   ]
  },
  {
   "cell_type": "code",
   "execution_count": 659,
   "metadata": {
    "collapsed": false
   },
   "outputs": [
    {
     "data": {
      "image/png": "[encoded data removed]",
      "text/latex": [
       "$$\\left ( \\left[\\begin{matrix}- t & 0 & p_{x} & p_{y}\\\\0 & - t & p_{y} & - p_{x}\\\\0 & 0 & v_{x} & v_{y}\\\\0 & 0 & v_{y} & - v_{x}\\\\0 & 0 & a_{x} & a_{y}\\\\0 & 0 & a_{y} & - a_{x}\\end{matrix}\\right], \\quad \\left[\\begin{matrix}0 & 0 & 0 & \\frac{p_{y}}{p_{x}}\\\\0 & 0 & 0 & - p_{x} - \\frac{p_{y}^{2}}{p_{x}}\\\\0 & 0 & 0 & \\frac{v_{y}}{v_{x}}\\\\0 & 0 & 0 & - \\frac{v_{x}}{v_{y}}\\\\0 & 0 & 0 & \\frac{a_{y}}{a_{x}}\\\\0 & 0 & 0 & - \\frac{a_{x}}{a_{y}}\\end{matrix}\\right]\\right )$$"
      ],
      "text/plain": [
       "⎛                    ⎡            p_y    ⎤⎞\n",
       "⎜⎡-t  0   pₓ   p_y⎤, ⎢0  0  0     ───    ⎥⎟\n",
       "⎜⎢                ⎥  ⎢             pₓ    ⎥⎟\n",
       "⎜⎢0   -t  p_y  -pₓ⎥  ⎢                   ⎥⎟\n",
       "⎜⎢                ⎥  ⎢                  2⎥⎟\n",
       "⎜⎢0   0   vₓ   v_y⎥  ⎢               p_y ⎥⎟\n",
       "⎜⎢                ⎥  ⎢0  0  0  -pₓ - ────⎥⎟\n",
       "⎜⎢0   0   v_y  -vₓ⎥  ⎢                pₓ ⎥⎟\n",
       "⎜⎢                ⎥  ⎢                   ⎥⎟\n",
       "⎜⎢0   0   aₓ   a_y⎥  ⎢            v_y    ⎥⎟\n",
       "⎜⎢                ⎥  ⎢0  0  0     ───    ⎥⎟\n",
       "⎜⎣0   0   a_y  -aₓ⎦  ⎢             vₓ    ⎥⎟\n",
       "⎜                    ⎢                   ⎥⎟\n",
       "⎜                    ⎢            -vₓ    ⎥⎟\n",
       "⎜                    ⎢0  0  0     ────   ⎥⎟\n",
       "⎜                    ⎢            v_y    ⎥⎟\n",
       "⎜                    ⎢                   ⎥⎟\n",
       "⎜                    ⎢            a_y    ⎥⎟\n",
       "⎜                    ⎢0  0  0     ───    ⎥⎟\n",
       "⎜                    ⎢             aₓ    ⎥⎟\n",
       "⎜                    ⎢                   ⎥⎟\n",
       "⎜                    ⎢            -aₓ    ⎥⎟\n",
       "⎜                    ⎢0  0  0     ────   ⎥⎟\n",
       "⎝                    ⎣            a_y    ⎦⎠"
      ]
     },
     "execution_count": 659,
     "metadata": {},
     "output_type": "execute_result"
    }
   ],
   "source": [
    "#des-iPython def __init__(self):\n",
    "#ini-tab -> Criando construtor\n",
    "__movementslist.append({\n",
    "    \"U\": sym.Matrix([\n",
    "        [0, 0, 0,],\n",
    "        [0, 0, 0,],\n",
    "        [0, 0, 0,],\n",
    "        [0, 0, 0,],\n",
    "        [0, 0, 0,],\n",
    "        [0, 0, 0,],\n",
    "    ]),\n",
    "\n",
    "    \"R\": sym.Matrix(sym.Identity(6)*0)\n",
    "})\n",
    "\n",
    "\n",
    "\n",
    "__t = sym.symbols(\"t\") # Declaring variable time\n",
    "\n",
    "\n",
    "p_x, p_y = sym.symbols(\"p_x, p_y\")\n",
    "v_x, v_y = sym.symbols(\"v_x, v_y\")\n",
    "a_x, a_y = sym.symbols(\"a_x, a_y\")\n",
    "vr_x, vr_y, omegar = sym.symbols(\"vr_x, vr_y, \\\\omega\\ r\")\n",
    "R_p, R_v, R_a = sym.symbols(\"R_p R_v R_a\")\n",
    "\n",
    "__B = sym.Matrix([\n",
    "    [-__t*vr_x, 0, 0],\n",
    "    [0, -__t*vr_y, 0],\n",
    "    [0, 0, 0],\n",
    "    [0, 0, 0],\n",
    "    [0, 0, 0],\n",
    "    [0, 0, 0],\n",
    "])\n",
    "\n",
    "__R = sym.Matrix(sym.Identity(6)*1000)\n",
    "\n",
    "\n",
    "np_x = p_x -__t*vr_x*sym.sin(sym.pi/2 - __t*omegar) - __t*vr_y*sym.cos(sym.pi/2 + __t*omegar)\n",
    "np_y = p_y -__t*vr_x*sym.cos(sym.pi/2 - __t*omegar) - __t*vr_y*sym.sin(sym.pi/2 + __t*omegar)\n",
    "# np_x, np_y = sym.symbols(\"np_x np_y\")\n",
    "\n",
    "# Para movimentos\n",
    "Z = sym.Matrix([\n",
    "    [p_x*sym.cos(omegar*__t)+p_y*sym.sin(omegar*__t) - __t*vr_x],\n",
    "    [-p_x*sym.sin(omegar*__t)+p_y*sym.cos(omegar*__t) - __t*vr_y],\n",
    "    [v_x*sym.cos(__t*omegar)+v_y*sym.sin(__t*omegar)],\n",
    "    [-v_x*sym.sin(__t*omegar)+v_y*sym.cos(__t*omegar)],\n",
    "    [a_x*sym.cos(__t*omegar)+a_y*sym.sin(__t*omegar)],\n",
    "    [-a_x*sym.sin(__t*omegar)+a_y*sym.cos(__t*omegar)],\n",
    "])\n",
    "\n",
    "u = sym.Matrix([\n",
    "    [vr_x],\n",
    "    [vr_y],\n",
    "    [sym.cos(omegar*__t)],\n",
    "    [sym.sin(omegar*__t)],\n",
    "])\n",
    "\n",
    "B = sym.Matrix([\n",
    "    [-__t, 0, p_x, p_y],\n",
    "    [0, -__t, p_y, -p_x],\n",
    "    [0, 0, v_x, v_y],\n",
    "    [0, 0, v_y, -v_x],\n",
    "    [0, 0, a_x, a_y],\n",
    "    [0, 0, a_y, -a_x],\n",
    "])\n",
    "\n",
    "B, sym.Matrix([\n",
    "    [p_x, 0, 0, 0, 0, 0],\n",
    "    [p_y, 1, 0, 0, 0, 0],\n",
    "    [0, 0, v_x, 0, 0, 0],\n",
    "    [0, 0, 0, v_y, 0, 0],\n",
    "    [0, 0, 0, 0, a_x, 0],\n",
    "    [0, 0, 0, 0, 0, a_y],\n",
    "]).inv() * sym.Matrix([\n",
    "    [0, 0, 0, p_y],\n",
    "    [0, 0, 0, -p_x],\n",
    "    [0, 0, 0, v_y],\n",
    "    [0, 0, 0, -v_x],\n",
    "    [0, 0, 0, a_y],\n",
    "    [0, 0, 0, -a_x],\n",
    "])"
   ]
  },
  {
   "cell_type": "code",
   "execution_count": 643,
   "metadata": {
    "collapsed": false
   },
   "outputs": [
    {
     "ename": "SyntaxError",
     "evalue": "can't assign to operator (<ipython-input-643-3a0eaf7eab2a>, line 1)",
     "output_type": "error",
     "traceback": [
      "\u001b[0;36m  File \u001b[0;32m\"<ipython-input-643-3a0eaf7eab2a>\"\u001b[0;36m, line \u001b[0;32m1\u001b[0m\n\u001b[0;31m    a = -b = 2\u001b[0m\n\u001b[0;31mSyntaxError\u001b[0m\u001b[0;31m:\u001b[0m can't assign to operator\n"
     ]
    }
   ],
   "source": [
    "#end-tab -> Finalizando construtor\n",
    "#ini-iPython"
   ]
  },
  {
   "cell_type": "markdown",
   "metadata": {},
   "source": [
    "## Teste construtor"
   ]
  },
  {
   "cell_type": "code",
   "execution_count": 27,
   "metadata": {
    "collapsed": false,
    "scrolled": false
   },
   "outputs": [
    {
     "data": {
      "image/png": "[encoded data removed]",
      "text/latex": [
       "$$\\left ( \\left[\\begin{matrix}- t & 0 & R_{p} \\cos{\\left (\\omega r t + \\operatorname{atan_{2}}{\\left (p_{y},p_{x} \\right )} \\right )}\\\\0 & - t & R_{p} \\sin{\\left (\\omega r t + \\operatorname{atan_{2}}{\\left (p_{y},p_{x} \\right )} \\right )}\\\\0 & 0 & R_{v} \\cos{\\left (\\omega r t + \\operatorname{atan_{2}}{\\left (p_{y},p_{x} \\right )} \\right )}\\\\0 & 0 & - R_{v} \\sin{\\left (\\omega r t + \\operatorname{atan_{2}}{\\left (p_{y},p_{x} \\right )} \\right )}\\\\0 & 0 & R_{a} \\cos{\\left (\\omega r t + \\operatorname{atan_{2}}{\\left (p_{y},p_{x} \\right )} \\right )}\\\\0 & 0 & - R_{a} \\sin{\\left (\\omega r t + \\operatorname{atan_{2}}{\\left (p_{y},p_{x} \\right )} \\right )}\\end{matrix}\\right], \\quad \\left[\\begin{matrix}vr_{x} & 0 & 0\\\\0 & vr_{y} & 0\\\\0 & 0 & 1\\end{matrix}\\right], \\quad \\left[\\begin{matrix}- t vr_{x} & 0 & R_{p} \\cos{\\left (\\omega r t + \\operatorname{atan_{2}}{\\left (p_{y},p_{x} \\right )} \\right )}\\\\0 & - t vr_{y} & R_{p} \\sin{\\left (\\omega r t + \\operatorname{atan_{2}}{\\left (p_{y},p_{x} \\right )} \\right )}\\\\0 & 0 & R_{v} \\cos{\\left (\\omega r t + \\operatorname{atan_{2}}{\\left (p_{y},p_{x} \\right )} \\right )}\\\\0 & 0 & - R_{v} \\sin{\\left (\\omega r t + \\operatorname{atan_{2}}{\\left (p_{y},p_{x} \\right )} \\right )}\\\\0 & 0 & R_{a} \\cos{\\left (\\omega r t + \\operatorname{atan_{2}}{\\left (p_{y},p_{x} \\right )} \\right )}\\\\0 & 0 & - R_{a} \\sin{\\left (\\omega r t + \\operatorname{atan_{2}}{\\left (p_{y},p_{x} \\right )} \\right )}\\end{matrix}\\right]\\right )$$"
      ],
      "text/plain": [
       "⎛⎡-t  0   R_p⋅cos(\\omega r⋅t + atan2(p_y, pₓ))⎤, ⎡vrₓ   0    0⎤, ⎡-t⋅vrₓ     0\n",
       "⎜⎢                                            ⎥  ⎢            ⎥  ⎢            \n",
       "⎜⎢0   -t  R_p⋅sin(\\omega r⋅t + atan2(p_y, pₓ))⎥  ⎢ 0   vr_y  0⎥  ⎢  0     -t⋅v\n",
       "⎜⎢                                            ⎥  ⎢            ⎥  ⎢            \n",
       "⎜⎢0   0   Rᵥ⋅cos(\\omega r⋅t + atan2(p_y, pₓ)) ⎥  ⎣ 0    0    1⎦  ⎢  0        0\n",
       "⎜⎢                                            ⎥                  ⎢            \n",
       "⎜⎢0   0   -Rᵥ⋅sin(\\omega r⋅t + atan2(p_y, pₓ))⎥                  ⎢  0        0\n",
       "⎜⎢                                            ⎥                  ⎢            \n",
       "⎜⎢0   0   Rₐ⋅cos(\\omega r⋅t + atan2(p_y, pₓ)) ⎥                  ⎢  0        0\n",
       "⎜⎢                                            ⎥                  ⎢            \n",
       "⎝⎣0   0   -Rₐ⋅sin(\\omega r⋅t + atan2(p_y, pₓ))⎦                  ⎣  0        0\n",
       "\n",
       "     R_p⋅cos(\\omega r⋅t + atan2(p_y, pₓ))⎤⎞\n",
       "                                         ⎥⎟\n",
       "r_y  R_p⋅sin(\\omega r⋅t + atan2(p_y, pₓ))⎥⎟\n",
       "                                         ⎥⎟\n",
       "     Rᵥ⋅cos(\\omega r⋅t + atan2(p_y, pₓ)) ⎥⎟\n",
       "                                         ⎥⎟\n",
       "     -Rᵥ⋅sin(\\omega r⋅t + atan2(p_y, pₓ))⎥⎟\n",
       "                                         ⎥⎟\n",
       "     Rₐ⋅cos(\\omega r⋅t + atan2(p_y, pₓ)) ⎥⎟\n",
       "                                         ⎥⎟\n",
       "     -Rₐ⋅sin(\\omega r⋅t + atan2(p_y, pₓ))⎦⎠"
      ]
     },
     "execution_count": 27,
     "metadata": {},
     "output_type": "execute_result"
    }
   ],
   "source": [
    "f_vr_x, f_vr_y, f_omegar = sym.symbols(\"f_{vr_x}, f_{vr_y}, f_{\\\\omega\\ r}\")\n",
    "# u_t = sym.Matrix([\n",
    "#     [f_vr_x],\n",
    "#     [f_vr_y],\n",
    "#     [f_omegar]\n",
    "# ])\n",
    "# u_t = sym.Matrix([\n",
    "#     [1],\n",
    "#     [1],\n",
    "#     [1]\n",
    "# ])\n",
    "\n",
    "__B, __R\n",
    "# (__B*u_t).subs([\n",
    "#     [__t, 1],\n",
    "#     [omegar, sym.pi/2],\n",
    "#     [p_x, 3],\n",
    "#     [p_y, 0],\n",
    "    \n",
    "# ])\n",
    "\n",
    "U2 = sym.Matrix([\n",
    "    [vr_x , 0, 0],\n",
    "    [0, vr_y, 0],\n",
    "    [0, 0, 1],\n",
    "])\n",
    "\n",
    "U1 = sym.sympify(__B*sym.Inverse(U2))\n",
    "\n",
    "U1, U2, U1*U2\n",
    "#end-iPython"
   ]
  },
  {
   "cell_type": "markdown",
   "metadata": {},
   "source": [
    "# update\n",
    "Adds average robot speeds or upgrades to speeds.\n",
    "@param vector Observed speed.\n",
    "doxygen-iPython"
   ]
  },
  {
   "cell_type": "code",
   "execution_count": 14,
   "metadata": {
    "collapsed": false
   },
   "outputs": [],
   "source": [
    "#eself-iPython update\n",
    "#edes-iPython def update(self, vector):\n",
    "def update(vector):\n",
    "    if vector[0] + 1 > len(__movementslist):\n",
    "        while vector[0] + 1 > len(__movementslist):\n",
    "            __movementslist.append(\n",
    "                {\n",
    "                    \"U\": copy(__B),\n",
    "                    \"R\": copy(__R),\n",
    "                }\n",
    "            )\n",
    "    \n",
    "    \n",
    "    __movementslist[vector[0]][\"U\"] = vector[1]\n",
    "    __movementslist[vector[0]][\"R\"] = vector[2] #self-iPython update"
   ]
  },
  {
   "cell_type": "code",
   "execution_count": 15,
   "metadata": {
    "collapsed": true
   },
   "outputs": [],
   "source": [
    "#ini-iPython"
   ]
  },
  {
   "cell_type": "markdown",
   "metadata": {},
   "source": [
    "## Teste update"
   ]
  },
  {
   "cell_type": "code",
   "execution_count": 16,
   "metadata": {
    "collapsed": false
   },
   "outputs": [
    {
     "name": "stdout",
     "output_type": "stream",
     "text": [
      "3\n"
     ]
    },
    {
     "data": {
      "image/png": "[encoded data removed]",
      "text/latex": [
       "$$\\left ( \\left[\\begin{matrix}- t vr_{x} & 0 & R_{p} \\cos{\\left (\\omega r t + \\operatorname{atan_{2}}{\\left (p_{y},p_{x} \\right )} \\right )}\\\\0 & - t vr_{y} & R_{p} \\sin{\\left (\\omega r t + \\operatorname{atan_{2}}{\\left (p_{y},p_{x} \\right )} \\right )}\\\\0 & 0 & R_{v} \\cos{\\left (\\omega r t + \\operatorname{atan_{2}}{\\left (p_{y},p_{x} \\right )} \\right )}\\\\0 & 0 & - R_{v} \\sin{\\left (\\omega r t + \\operatorname{atan_{2}}{\\left (p_{y},p_{x} \\right )} \\right )}\\\\0 & 0 & R_{a} \\cos{\\left (\\omega r t + \\operatorname{atan_{2}}{\\left (p_{y},p_{x} \\right )} \\right )}\\\\0 & 0 & - R_{a} \\sin{\\left (\\omega r t + \\operatorname{atan_{2}}{\\left (p_{y},p_{x} \\right )} \\right )}\\end{matrix}\\right], \\quad \\left[\\begin{array}{cccccc}1000 & 0 & 0 & 0 & 0 & 0\\\\0 & 1000 & 0 & 0 & 0 & 0\\\\0 & 0 & 1000 & 0 & 0 & 0\\\\0 & 0 & 0 & 1000 & 0 & 0\\\\0 & 0 & 0 & 0 & 1000 & 0\\\\0 & 0 & 0 & 0 & 0 & 1000\\end{array}\\right], \\quad \\left[\\begin{matrix}0\\\\5\\\\0\\\\0\\end{matrix}\\right], \\quad \\left[\\begin{array}{cccc}2 & 0 & 0 & 0\\\\0 & 2 & 0 & 0\\\\0 & 0 & 2 & 0\\\\0 & 0 & 0 & 2\\end{array}\\right]\\right )$$"
      ],
      "text/plain": [
       "⎛⎡-t⋅vrₓ     0     R_p⋅cos(\\omega r⋅t + atan2(p_y, pₓ))⎤, ⎡1000   0     0     \n",
       "⎜⎢                                                     ⎥  ⎢                   \n",
       "⎜⎢  0     -t⋅vr_y  R_p⋅sin(\\omega r⋅t + atan2(p_y, pₓ))⎥  ⎢ 0    1000   0     \n",
       "⎜⎢                                                     ⎥  ⎢                   \n",
       "⎜⎢  0        0     Rᵥ⋅cos(\\omega r⋅t + atan2(p_y, pₓ)) ⎥  ⎢ 0     0    1000   \n",
       "⎜⎢                                                     ⎥  ⎢                   \n",
       "⎜⎢  0        0     -Rᵥ⋅sin(\\omega r⋅t + atan2(p_y, pₓ))⎥  ⎢ 0     0     0    1\n",
       "⎜⎢                                                     ⎥  ⎢                   \n",
       "⎜⎢  0        0     Rₐ⋅cos(\\omega r⋅t + atan2(p_y, pₓ)) ⎥  ⎢ 0     0     0     \n",
       "⎜⎢                                                     ⎥  ⎢                   \n",
       "⎝⎣  0        0     -Rₐ⋅sin(\\omega r⋅t + atan2(p_y, pₓ))⎦  ⎣ 0     0     0     \n",
       "\n",
       "0     0     0  ⎤, ⎡0⎤, ⎡2  0  0  0⎤⎞\n",
       "               ⎥  ⎢ ⎥  ⎢          ⎥⎟\n",
       "0     0     0  ⎥  ⎢5⎥  ⎢0  2  0  0⎥⎟\n",
       "               ⎥  ⎢ ⎥  ⎢          ⎥⎟\n",
       "0     0     0  ⎥  ⎢0⎥  ⎢0  0  2  0⎥⎟\n",
       "               ⎥  ⎢ ⎥  ⎢          ⎥⎟\n",
       "000   0     0  ⎥  ⎣0⎦  ⎣0  0  0  2⎦⎟\n",
       "               ⎥                   ⎟\n",
       "0    1000   0  ⎥                   ⎟\n",
       "               ⎥                   ⎟\n",
       "0     0    1000⎦                   ⎠"
      ]
     },
     "execution_count": 16,
     "metadata": {},
     "output_type": "execute_result"
    }
   ],
   "source": [
    "speed = sym.Matrix([0, 5, 0, 0])\n",
    "covariance = sym.Matrix(sym.Identity(4)*2)\n",
    "vector = [\n",
    "    2,\n",
    "    speed,\n",
    "    covariance,\n",
    "]\n",
    "\n",
    "__movementslist = []\n",
    "update(vector)\n",
    "\n",
    "print len(__movementslist)\n",
    "__movementslist[1][\"U\"], __movementslist[1][\"R\"], __movementslist[vector[0]][\"U\"], __movementslist[vector[0]][\"R\"]\n",
    "#end-iPython"
   ]
  },
  {
   "cell_type": "markdown",
   "metadata": {},
   "source": [
    "# __getitem__\n",
    "Returns the dictionary of motion vectors.\n",
    "@param x Vector position to be accessed.\n",
    "@return Returns the dictionary that will be used.\n",
    "doxygen-iPython"
   ]
  },
  {
   "cell_type": "code",
   "execution_count": 17,
   "metadata": {
    "collapsed": true
   },
   "outputs": [],
   "source": [
    "#eself-iPython __getitem__\n",
    "#edes-iPython def __getitem__(self, x):\n",
    "def __getitem__(x):\n",
    "    return __movementslist[x] #self-iPython __getitem__"
   ]
  },
  {
   "cell_type": "code",
   "execution_count": 18,
   "metadata": {
    "collapsed": true
   },
   "outputs": [],
   "source": [
    "#ini-iPython"
   ]
  },
  {
   "cell_type": "markdown",
   "metadata": {},
   "source": [
    "## Teste __getitem__"
   ]
  },
  {
   "cell_type": "code",
   "execution_count": 19,
   "metadata": {
    "collapsed": false
   },
   "outputs": [
    {
     "data": {
      "image/png": "[encoded data removed]",
      "text/latex": [
       "$$\\left ( \\left[\\begin{matrix}0\\\\5\\\\0\\\\0\\end{matrix}\\right], \\quad \\left[\\begin{array}{cccc}2 & 0 & 0 & 0\\\\0 & 2 & 0 & 0\\\\0 & 0 & 2 & 0\\\\0 & 0 & 0 & 2\\end{array}\\right]\\right )$$"
      ],
      "text/plain": [
       "⎛⎡0⎤, ⎡2  0  0  0⎤⎞\n",
       "⎜⎢ ⎥  ⎢          ⎥⎟\n",
       "⎜⎢5⎥  ⎢0  2  0  0⎥⎟\n",
       "⎜⎢ ⎥  ⎢          ⎥⎟\n",
       "⎜⎢0⎥  ⎢0  0  2  0⎥⎟\n",
       "⎜⎢ ⎥  ⎢          ⎥⎟\n",
       "⎝⎣0⎦  ⎣0  0  0  2⎦⎠"
      ]
     },
     "execution_count": 19,
     "metadata": {},
     "output_type": "execute_result"
    }
   ],
   "source": [
    "a = 2\n",
    "__getitem__(a)[\"U\"], __getitem__(a)[\"R\"]\n",
    "#end-iPython"
   ]
  },
  {
   "cell_type": "code",
   "execution_count": 20,
   "metadata": {
    "collapsed": false
   },
   "outputs": [],
   "source": [
    "#end-tab -> Finalizando classe"
   ]
  },
  {
   "cell_type": "code",
   "execution_count": 21,
   "metadata": {
    "collapsed": false
   },
   "outputs": [],
   "source": [
    "#ini-iPython"
   ]
  },
  {
   "cell_type": "markdown",
   "metadata": {},
   "source": [
    "# nova_variavel\n",
    ".\n",
    "doxygen-iPython"
   ]
  },
  {
   "cell_type": "code",
   "execution_count": 22,
   "metadata": {
    "collapsed": true
   },
   "outputs": [],
   "source": [
    "nova_variavel = None #self-iPython nova_variavel"
   ]
  },
  {
   "cell_type": "markdown",
   "metadata": {},
   "source": [
    "# nova_funcao\n",
    "doxygen-iPython"
   ]
  },
  {
   "cell_type": "code",
   "execution_count": 23,
   "metadata": {
    "collapsed": true
   },
   "outputs": [],
   "source": [
    "# eself-iPython nova_funcao\n",
    "# edes-iPython def nova_funcao(self, variaveis_funcao):\n",
    "def nova_funcao(variaveis_funcao):\n",
    "    pass # self-iPython nova_funcao"
   ]
  },
  {
   "cell_type": "code",
   "execution_count": 24,
   "metadata": {
    "collapsed": true
   },
   "outputs": [],
   "source": [
    "#ini-iPython"
   ]
  },
  {
   "cell_type": "markdown",
   "metadata": {},
   "source": [
    "## Teste nova_funcao"
   ]
  },
  {
   "cell_type": "code",
   "execution_count": 25,
   "metadata": {
    "collapsed": true
   },
   "outputs": [],
   "source": [
    "\n",
    "#end-iPython"
   ]
  },
  {
   "cell_type": "code",
   "execution_count": 26,
   "metadata": {
    "collapsed": true
   },
   "outputs": [],
   "source": [
    "#end-iPython"
   ]
  }
 ],
 "metadata": {
  "kernelspec": {
   "display_name": "Python 2",
   "language": "python",
   "name": "python2"
  },
  "language_info": {
   "codemirror_mode": {
    "name": "ipython",
    "version": 2
   },
   "file_extension": ".py",
   "mimetype": "text/x-python",
   "name": "python",
   "nbconvert_exporter": "python",
   "pygments_lexer": "ipython2",
   "version": "2.7.6"
  }
 },
 "nbformat": 4,
 "nbformat_minor": 2
}
