{
 "cells": [
  {
   "cell_type": "code",
   "execution_count": 1,
   "metadata": {
    "collapsed": true
   },
   "outputs": [],
   "source": [
    "#ini-iPython"
   ]
  },
  {
   "cell_type": "markdown",
   "metadata": {},
   "source": [
    "# Executando no diretório principal"
   ]
  },
  {
   "cell_type": "code",
   "execution_count": 2,
   "metadata": {
    "collapsed": true
   },
   "outputs": [],
   "source": [
    "import os\n",
    "os.chdir(\"/home/vinicius/Dropbox/Projeto Mestrado/Codigos/RoboFEI-HT_Debug/AI/Visual_Memory\") #Executando na pasta Vision\n",
    "import sys\n",
    "sys.path.append(\"./include\")\n",
    "sys.path.append(\"./src\")\n",
    "sys.path.append(\"./iPython\")\n",
    "#end-iPython"
   ]
  },
  {
   "cell_type": "markdown",
   "metadata": {
    "collapsed": true
   },
   "source": [
    "---- Imports ----"
   ]
  },
  {
   "cell_type": "code",
   "execution_count": 3,
   "metadata": {
    "collapsed": true
   },
   "outputs": [],
   "source": [
    "# Libraries to be used.\n",
    "import sys\n",
    "#des-iPython sys.path.append(\"../include\")\n",
    "#des-iPython sys.path.append(\"../src\")"
   ]
  },
  {
   "cell_type": "code",
   "execution_count": 4,
   "metadata": {
    "collapsed": true
   },
   "outputs": [],
   "source": [
    "# The standard libraries used in the visual memory system.\n"
   ]
  },
  {
   "cell_type": "code",
   "execution_count": 5,
   "metadata": {
    "collapsed": false
   },
   "outputs": [],
   "source": [
    "# Used class developed by RoboFEI-HT.\n",
    "from Basic import * # Class with implementations and basic variables\n",
    "sym.init_printing() #debug-iPython"
   ]
  },
  {
   "cell_type": "markdown",
   "metadata": {
    "collapsed": true
   },
   "source": [
    "# Class to Speeds\n",
    "Class responsible for managing the robot's possible speeds (me).\n",
    "doxygen-iPython"
   ]
  },
  {
   "cell_type": "code",
   "execution_count": 6,
   "metadata": {
    "collapsed": true
   },
   "outputs": [],
   "source": [
    "#des-iPython class Speeds( ):\n",
    "#ini-tab -> Iniciando código classe"
   ]
  },
  {
   "cell_type": "markdown",
   "metadata": {},
   "source": [
    "---- Variables ----"
   ]
  },
  {
   "cell_type": "markdown",
   "metadata": {},
   "source": [
    "# __movementslist\n",
    "Velocity list of robot movements.\n",
    "doxygen-iPython"
   ]
  },
  {
   "cell_type": "code",
   "execution_count": 7,
   "metadata": {
    "collapsed": true
   },
   "outputs": [],
   "source": [
    "__movementslist = [] #self-iPython __movementslist"
   ]
  },
  {
   "cell_type": "markdown",
   "metadata": {},
   "source": [
    "# __u\n",
    "Speed matrix $u_t$.\n",
    "doxygen-iPython"
   ]
  },
  {
   "cell_type": "code",
   "execution_count": 8,
   "metadata": {
    "collapsed": true
   },
   "outputs": [],
   "source": [
    "__u = None #self-iPython __u"
   ]
  },
  {
   "cell_type": "markdown",
   "metadata": {},
   "source": [
    "# __R\n",
    "Speed error matrix $R_t$.\n",
    "doxygen-iPython"
   ]
  },
  {
   "cell_type": "code",
   "execution_count": 9,
   "metadata": {
    "collapsed": true
   },
   "outputs": [],
   "source": [
    "__R = None #self-iPython __R"
   ]
  },
  {
   "cell_type": "code",
   "execution_count": 10,
   "metadata": {
    "collapsed": true
   },
   "outputs": [],
   "source": [
    "#ini-iPython\n",
    "\n",
    "# ------- Lista de funções herdadas -------\n",
    "\n",
    "\n",
    "\n",
    "# ------- Lista variaveis herdadas -------\n",
    "\n",
    "#self-iPython p_x\n",
    "#self-iPython p_y\n",
    "#self-iPython v_x\n",
    "#self-iPython v_y\n",
    "#self-iPython a_x\n",
    "#self-iPython a_y\n",
    "\n",
    "#self-iPython vr_x\n",
    "#self-iPython vr_y\n",
    "#self-iPython omegar\n",
    "\n",
    "# ------- Lista de funções -------\n",
    "\n",
    "#self-iPython update\n",
    "#self-iPython __getitem__\n",
    "\n",
    "#end-iPython - Fim listas"
   ]
  },
  {
   "cell_type": "markdown",
   "metadata": {},
   "source": [
    "# Constructor Class\n",
    "Initializes basic network parameters and creates standard speeds.\n",
    "doxygen-iPython"
   ]
  },
  {
   "cell_type": "code",
   "execution_count": 11,
   "metadata": {
    "collapsed": false
   },
   "outputs": [
    {
     "data": {
      "image/png": "[encoded data removed]",
      "text/latex": [
       "$$\\left ( \\left[\\begin{matrix}0\\\\0\\\\0\\\\0\\\\1\\end{matrix}\\right], \\quad \\left[\\begin{array}{cccccc}1000 & 0 & 0 & 0 & 0 & 0\\\\0 & 1000 & 0 & 0 & 0 & 0\\\\0 & 0 & 1000 & 0 & 0 & 0\\\\0 & 0 & 0 & 1000 & 0 & 0\\\\0 & 0 & 0 & 0 & 1000 & 0\\\\0 & 0 & 0 & 0 & 0 & 1000\\end{array}\\right]\\right )$$"
      ],
      "text/plain": [
       "⎛⎡0⎤, ⎡1000   0     0     0     0     0  ⎤⎞\n",
       "⎜⎢ ⎥  ⎢                                  ⎥⎟\n",
       "⎜⎢0⎥  ⎢ 0    1000   0     0     0     0  ⎥⎟\n",
       "⎜⎢ ⎥  ⎢                                  ⎥⎟\n",
       "⎜⎢0⎥  ⎢ 0     0    1000   0     0     0  ⎥⎟\n",
       "⎜⎢ ⎥  ⎢                                  ⎥⎟\n",
       "⎜⎢0⎥  ⎢ 0     0     0    1000   0     0  ⎥⎟\n",
       "⎜⎢ ⎥  ⎢                                  ⎥⎟\n",
       "⎜⎣1⎦  ⎢ 0     0     0     0    1000   0  ⎥⎟\n",
       "⎜     ⎢                                  ⎥⎟\n",
       "⎝     ⎣ 0     0     0     0     0    1000⎦⎠"
      ]
     },
     "execution_count": 11,
     "metadata": {},
     "output_type": "execute_result"
    }
   ],
   "source": [
    "#des-iPython def __init__(self):\n",
    "#ini-tab -> Criando construtor\n",
    "__movementslist.append({\n",
    "    \"x_speed\": sym.Matrix([\n",
    "        [0], # v_x\n",
    "        [0], # v_y\n",
    "        [0], # a_x\n",
    "        [0], # a_y\n",
    "        [1], # cosntant\n",
    "    ]),\n",
    "        \n",
    "    \"R\": sym.Matrix(sym.Identity(6)*0)\n",
    "})\n",
    "\n",
    "\n",
    "\n",
    "__t = sym.symbols(\"t\") # Declaring variable time\n",
    "\n",
    "p_x, p_y, v_x, v_y, a_x, a_y = sym.symbols(\"p_x, p_y, v_x, v_y, a_x, a_y\") # Object state variables\n",
    "\n",
    "\n",
    "# Robot speed and acceleration variables\n",
    "vr_x, vr_y = sym.symbols(\"vr_x vr_y\")\n",
    "ar_x, ar_y = sym.symbols(\"ar_x ar_y\")\n",
    "\n",
    "\n",
    "# Kalman filter matrices\n",
    "__u = sym.Matrix([\n",
    "    [0],\n",
    "    [0],\n",
    "    [0],\n",
    "    [0],\n",
    "    [1],\n",
    "])\n",
    "\n",
    "__R = sym.Matrix(sym.Identity(6)*1000)\n",
    "\n",
    "__u, __R #debug-iPython"
   ]
  },
  {
   "cell_type": "code",
   "execution_count": 12,
   "metadata": {
    "collapsed": false
   },
   "outputs": [],
   "source": [
    "#end-tab -> Finalizando construtor\n",
    "#ini-iPython"
   ]
  },
  {
   "cell_type": "markdown",
   "metadata": {},
   "source": [
    "## Teste construtor"
   ]
  },
  {
   "cell_type": "code",
   "execution_count": 235,
   "metadata": {
    "collapsed": false,
    "scrolled": false
   },
   "outputs": [
    {
     "data": {
      "image/png": "[encoded data removed]",
      "text/latex": [
       "$$\\left[\\begin{matrix}- 0.5 ar_{x} t^{2} + p_{x} - t vr_{x}\\\\- 0.5 ar_{y} t^{2} + p_{y} - t vr_{y}\\\\\\frac{ar_{x} v_{x}}{\\sqrt{ar_{x}^{2} + ar_{y}^{2}}} + v_{y} \\left(- \\frac{ar_{y}}{\\sqrt{ar_{x}^{2} + ar_{y}^{2}}} + 1\\right)\\\\\\frac{ar_{x} v_{y}}{\\sqrt{ar_{x}^{2} + ar_{y}^{2}}} + v_{x} \\left(- \\frac{ar_{y}}{\\sqrt{ar_{x}^{2} + ar_{y}^{2}}} + 1\\right)\\\\\\frac{a_{x} ar_{x}}{\\sqrt{ar_{x}^{2} + ar_{y}^{2}}} + a_{y} \\left(- \\frac{ar_{y}}{\\sqrt{ar_{x}^{2} + ar_{y}^{2}}} + 1\\right)\\\\a_{x} \\left(- \\frac{ar_{y}}{\\sqrt{ar_{x}^{2} + ar_{y}^{2}}} + 1\\right) + \\frac{a_{y} ar_{x}}{\\sqrt{ar_{x}^{2} + ar_{y}^{2}}}\\end{matrix}\\right]$$"
      ],
      "text/plain": [
       "⎡                       2                         ⎤\n",
       "⎢            - 0.5⋅arₓ⋅t  + pₓ - t⋅vrₓ            ⎥\n",
       "⎢                                                 ⎥\n",
       "⎢                      2                          ⎥\n",
       "⎢          - 0.5⋅ar_y⋅t  + p_y - t⋅vr_y           ⎥\n",
       "⎢                                                 ⎥\n",
       "⎢      arₓ⋅vₓ            ⎛         ar_y          ⎞⎥\n",
       "⎢───────────────── + v_y⋅⎜- ───────────────── + 1⎟⎥\n",
       "⎢   ______________       ⎜     ______________    ⎟⎥\n",
       "⎢  ╱    2       2        ⎜    ╱    2       2     ⎟⎥\n",
       "⎢╲╱  arₓ  + ar_y         ⎝  ╲╱  arₓ  + ar_y      ⎠⎥\n",
       "⎢                                                 ⎥\n",
       "⎢     arₓ⋅v_y           ⎛         ar_y          ⎞ ⎥\n",
       "⎢───────────────── + vₓ⋅⎜- ───────────────── + 1⎟ ⎥\n",
       "⎢   ______________      ⎜     ______________    ⎟ ⎥\n",
       "⎢  ╱    2       2       ⎜    ╱    2       2     ⎟ ⎥\n",
       "⎢╲╱  arₓ  + ar_y        ⎝  ╲╱  arₓ  + ar_y      ⎠ ⎥\n",
       "⎢                                                 ⎥\n",
       "⎢      aₓ⋅arₓ            ⎛         ar_y          ⎞⎥\n",
       "⎢───────────────── + a_y⋅⎜- ───────────────── + 1⎟⎥\n",
       "⎢   ______________       ⎜     ______________    ⎟⎥\n",
       "⎢  ╱    2       2        ⎜    ╱    2       2     ⎟⎥\n",
       "⎢╲╱  arₓ  + ar_y         ⎝  ╲╱  arₓ  + ar_y      ⎠⎥\n",
       "⎢                                                 ⎥\n",
       "⎢   ⎛         ar_y          ⎞        a_y⋅arₓ      ⎥\n",
       "⎢aₓ⋅⎜- ───────────────── + 1⎟ + ───────────────── ⎥\n",
       "⎢   ⎜     ______________    ⎟      ______________ ⎥\n",
       "⎢   ⎜    ╱    2       2     ⎟     ╱    2       2  ⎥\n",
       "⎣   ⎝  ╲╱  arₓ  + ar_y      ⎠   ╲╱  arₓ  + ar_y   ⎦"
      ]
     },
     "execution_count": 235,
     "metadata": {},
     "output_type": "execute_result"
    }
   ],
   "source": [
    "sym.Matrix([\n",
    "    [p_x],\n",
    "    [p_y],\n",
    "    [v_x],\n",
    "    [v_y],\n",
    "    [a_x],\n",
    "    [a_y],\n",
    "])\n",
    "\n",
    "px, py, p = sym.symbols(\"px py p\")\n",
    "px = ar_x\n",
    "py = ar_y\n",
    "p = sym.sqrt(px**2 + py**2)\n",
    "\n",
    "C, S = sym.symbols(\"C S\")\n",
    "C = px/p\n",
    "S = py/p\n",
    "\n",
    "\n",
    "theta = sym.symbols(\"theta\")\n",
    "\n",
    "sym.Matrix([\n",
    "    [-0.5*ar_x*__t**2 + p_x - __t*vr_x],\n",
    "    [-0.5*ar_y*__t**2 + p_y - __t*vr_y],\n",
    "    [v_y*(1-S) + v_x*C],\n",
    "    [v_x*(1-S) + v_y*C],\n",
    "    [a_y*(1-S) + a_x*C],\n",
    "    [a_x*(1-S) + a_y*C],\n",
    "]).subs([\n",
    "#     [vr_x, 0],\n",
    "#     [vr_y, 0],\n",
    "#     [ar_x, 0],\n",
    "#     [ar_y, 0],\n",
    "])\n"
   ]
  },
  {
   "cell_type": "markdown",
   "metadata": {},
   "source": [
    "# update\n",
    "Adds average robot speeds or upgrades to speeds.\n",
    "@param vector Observed speed.\n",
    "doxygen-iPython"
   ]
  },
  {
   "cell_type": "code",
   "execution_count": null,
   "metadata": {
    "collapsed": false
   },
   "outputs": [],
   "source": [
    "#eself-iPython update\n",
    "#edes-iPython def update(self, vector):\n",
    "def update(vector):\n",
    "    R_p = (p_x**2 + p_y**2)**0.5 # position vector module\n",
    "    \n",
    "#     print vector[0] + 1, \">\", len(__movementslist), vector[0] + 1 > len(__movementslist)\n",
    "#     print vector[0]\n",
    "    if vector[0] + 1 > len(__movementslist):\n",
    "        while vector[0] + 1 > len(__movementslist):\n",
    "            __movementslist.append({\n",
    "                \"speed\": sym.Matrix([\n",
    "                    [0], # speed in x (vr_x)\n",
    "                    [0], # speed in y (vr_y)\n",
    "                    [0], # angular velocity (ωr)\n",
    "                ]),\n",
    "\n",
    "                \"x_speed\": sym.Matrix([\n",
    "                    [0], # v_x\n",
    "                    [0], # v_y\n",
    "                    [0], # a_x\n",
    "                    [0], # a_y\n",
    "                ]),\n",
    "\n",
    "                \"U\": sym.Matrix([\n",
    "                    [0], # vr_x\n",
    "                    [0], # vr_y\n",
    "                    [1], # cos(ωr*t)\n",
    "                    [0], # sin(ωr*t)\n",
    "                    [1],\n",
    "                ]),\n",
    "\n",
    "                \"R\": copy(__R)\n",
    "            })\n",
    "\n",
    "    __movementslist[vector[0]][\"x_speed\"] = vector[1]\n",
    "    __movementslist[vector[0]][\"R\"] = vector[2]\n",
    "\n",
    "\n",
    "    # Calculating ωr of the robot\n",
    "    __movementslist[vector[0]][\"speed\"][2] = (-a_x/R_p).subs([\n",
    "        [p_x, __movementslist[vector[0]][\"x_speed\"][0]],\n",
    "        [p_y, __movementslist[vector[0]][\"x_speed\"][1]],\n",
    "        [a_x, __movementslist[vector[0]][\"x_speed\"][4]],\n",
    "    ])\n",
    "\n",
    "    # Calculating vr_x of the robot\n",
    "    __movementslist[vector[0]][\"speed\"][0] = (-omegar*p_x - v_y).subs([\n",
    "        [p_x, __movementslist[vector[0]][\"x_speed\"][0]],\n",
    "        [v_y, __movementslist[vector[0]][\"x_speed\"][3]],\n",
    "        [omegar, __movementslist[vector[0]][\"speed\"][2]]\n",
    "    ])\n",
    "\n",
    "    # Calculating vr_y of the robot\n",
    "    __movementslist[vector[0]][\"speed\"][1] = (-omegar*p_y-v_x).subs([\n",
    "        [p_y, __movementslist[vector[0]][\"x_speed\"][1]],\n",
    "        [v_x, __movementslist[vector[0]][\"x_speed\"][2]],\n",
    "        [omegar, __movementslist[vector[0]][\"speed\"][2]]\n",
    "    ])\n",
    "\n",
    "    # Calculating matrix U\n",
    "    __movementslist[vector[0]][\"U\"] = __u.subs([\n",
    "        [vr_x, __movementslist[vector[0]][\"speed\"][0]],\n",
    "        [vr_y, __movementslist[vector[0]][\"speed\"][1]],\n",
    "        [omegar, __movementslist[vector[0]][\"speed\"][2]],\n",
    "    ]) #self-iPython update"
   ]
  },
  {
   "cell_type": "code",
   "execution_count": null,
   "metadata": {
    "collapsed": true
   },
   "outputs": [],
   "source": [
    "#ini-iPython"
   ]
  },
  {
   "cell_type": "markdown",
   "metadata": {},
   "source": [
    "## Teste update"
   ]
  },
  {
   "cell_type": "code",
   "execution_count": null,
   "metadata": {
    "collapsed": false
   },
   "outputs": [],
   "source": [
    "vector = [\n",
    "    2, # Movimento \n",
    "    \n",
    "    sym.Matrix([ # Velocidades calculadas\n",
    "        [2**0.5],\n",
    "        [2**0.5],\n",
    "        [1-2**0.5],\n",
    "        [1-2**0.5],\n",
    "        [-2],\n",
    "        [-2],\n",
    "    ]),\n",
    "    \n",
    "    \n",
    "    copy(__R), # Erros calculados\n",
    "]\n",
    "\n",
    "\n",
    "update(vector)\n",
    "\n",
    "vector, __movementslist[2][\"speed\"]\n",
    "#end-iPython"
   ]
  },
  {
   "cell_type": "markdown",
   "metadata": {},
   "source": [
    "# __getitem__\n",
    "Returns the dictionary of motion vectors.\n",
    "@param x Vector position to be accessed.\n",
    "@return Returns the dictionary that will be used.\n",
    "doxygen-iPython"
   ]
  },
  {
   "cell_type": "code",
   "execution_count": null,
   "metadata": {
    "collapsed": true
   },
   "outputs": [],
   "source": [
    "#eself-iPython __getitem__\n",
    "#edes-iPython def __getitem__(self, x):\n",
    "def __getitem__(x):\n",
    "    if x + 1 > len(__movementslist):\n",
    "        while x + 1 > len(__movementslist):\n",
    "            __movementslist.append({\n",
    "                \"speed\": sym.Matrix([\n",
    "                    [0], # speed in x (vr_x)\n",
    "                    [0], # speed in y (vr_y)\n",
    "                    [0], # angular velocity (ωr)\n",
    "                ]),\n",
    "\n",
    "                \"x_speed\": sym.Matrix([\n",
    "                    [0], # v_x\n",
    "                    [0], # v_y\n",
    "                    [0], # a_x\n",
    "                    [0], # a_y\n",
    "                ]),\n",
    "\n",
    "                \"U\": sym.Matrix([\n",
    "                    [0], # vr_x\n",
    "                    [0], # vr_y\n",
    "                    [1], # cos(ωr*t)\n",
    "                    [0], # sin(ωr*t)\n",
    "                    [1],\n",
    "                ]),\n",
    "\n",
    "                \"R\": copy(__R)\n",
    "            })\n",
    "    return __movementslist[x] #self-iPython __getitem__"
   ]
  },
  {
   "cell_type": "code",
   "execution_count": null,
   "metadata": {
    "collapsed": true
   },
   "outputs": [],
   "source": [
    "#ini-iPython"
   ]
  },
  {
   "cell_type": "markdown",
   "metadata": {},
   "source": [
    "## Teste __getitem__"
   ]
  },
  {
   "cell_type": "code",
   "execution_count": null,
   "metadata": {
    "collapsed": false
   },
   "outputs": [],
   "source": [
    "a = 10\n",
    "__getitem__(a)[\"U\"], __getitem__(a)[\"R\"]\n",
    "#end-iPython"
   ]
  },
  {
   "cell_type": "code",
   "execution_count": null,
   "metadata": {
    "collapsed": false
   },
   "outputs": [],
   "source": [
    "#end-tab -> Finalizando classe"
   ]
  },
  {
   "cell_type": "code",
   "execution_count": null,
   "metadata": {
    "collapsed": false
   },
   "outputs": [],
   "source": [
    "#ini-iPython"
   ]
  },
  {
   "cell_type": "markdown",
   "metadata": {},
   "source": [
    "# nova_variavel\n",
    ".\n",
    "doxygen-iPython"
   ]
  },
  {
   "cell_type": "code",
   "execution_count": null,
   "metadata": {
    "collapsed": true
   },
   "outputs": [],
   "source": [
    "nova_variavel = None #self-iPython nova_variavel"
   ]
  },
  {
   "cell_type": "markdown",
   "metadata": {},
   "source": [
    "# nova_funcao\n",
    ".\n",
    "doxygen-iPython"
   ]
  },
  {
   "cell_type": "code",
   "execution_count": null,
   "metadata": {
    "collapsed": true
   },
   "outputs": [],
   "source": [
    "# eself-iPython nova_funcao\n",
    "# edes-iPython def nova_funcao(self, variaveis_funcao):\n",
    "def nova_funcao(variaveis_funcao):\n",
    "    pass # self-iPython nova_funcao"
   ]
  },
  {
   "cell_type": "code",
   "execution_count": null,
   "metadata": {
    "collapsed": true
   },
   "outputs": [],
   "source": [
    "#ini-iPython"
   ]
  },
  {
   "cell_type": "markdown",
   "metadata": {},
   "source": [
    "## Teste nova_funcao"
   ]
  },
  {
   "cell_type": "code",
   "execution_count": null,
   "metadata": {
    "collapsed": true
   },
   "outputs": [],
   "source": [
    "\n",
    "#end-iPython"
   ]
  },
  {
   "cell_type": "code",
   "execution_count": null,
   "metadata": {
    "collapsed": true
   },
   "outputs": [],
   "source": [
    "#end-iPython"
   ]
  }
 ],
 "metadata": {
  "kernelspec": {
   "display_name": "Python 2",
   "language": "python",
   "name": "python2"
  },
  "language_info": {
   "codemirror_mode": {
    "name": "ipython",
    "version": 2
   },
   "file_extension": ".py",
   "mimetype": "text/x-python",
   "name": "python",
   "nbconvert_exporter": "python",
   "pygments_lexer": "ipython2",
   "version": "2.7.6"
  }
 },
 "nbformat": 4,
 "nbformat_minor": 2
}
