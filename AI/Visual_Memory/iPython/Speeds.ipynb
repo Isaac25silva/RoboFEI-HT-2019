{
 "cells": [
  {
   "cell_type": "code",
   "execution_count": 1,
   "metadata": {
    "collapsed": true
   },
   "outputs": [],
   "source": [
    "#ini-iPython"
   ]
  },
  {
   "cell_type": "markdown",
   "metadata": {},
   "source": [
    "# Executando no diretório principal"
   ]
  },
  {
   "cell_type": "code",
   "execution_count": 2,
   "metadata": {
    "collapsed": true
   },
   "outputs": [],
   "source": [
    "import os\n",
    "os.chdir(\"/home/vinicius/Dropbox/Projeto Mestrado/Codigos/RoboFEI-HT_Debug/AI/Visual_Memory\") #Executando na pasta Vision\n",
    "import sys\n",
    "sys.path.append(\"./include\")\n",
    "sys.path.append(\"./src\")\n",
    "sys.path.append(\"./iPython\")\n",
    "#end-iPython"
   ]
  },
  {
   "cell_type": "markdown",
   "metadata": {
    "collapsed": true
   },
   "source": [
    "---- Imports ----"
   ]
  },
  {
   "cell_type": "code",
   "execution_count": 3,
   "metadata": {
    "collapsed": true
   },
   "outputs": [],
   "source": [
    "# Libraries to be used.\n",
    "import sys\n",
    "#des-iPython sys.path.append(\"../include\")\n",
    "#des-iPython sys.path.append(\"../src\")"
   ]
  },
  {
   "cell_type": "code",
   "execution_count": 4,
   "metadata": {
    "collapsed": true
   },
   "outputs": [],
   "source": [
    "# The standard libraries used in the visual memory system.\n"
   ]
  },
  {
   "cell_type": "code",
   "execution_count": 5,
   "metadata": {
    "collapsed": false
   },
   "outputs": [],
   "source": [
    "# Used class developed by RoboFEI-HT.\n",
    "from Basic import * # Class with implementations and basic variables\n",
    "sym.init_printing() #debug-iPython"
   ]
  },
  {
   "cell_type": "markdown",
   "metadata": {
    "collapsed": true
   },
   "source": [
    "# Class to Speeds\n",
    "Class responsible for managing the robot's possible speeds (me).\n",
    "doxygen-iPython"
   ]
  },
  {
   "cell_type": "code",
   "execution_count": 6,
   "metadata": {
    "collapsed": true
   },
   "outputs": [],
   "source": [
    "#des-iPython class Speeds( ):\n",
    "#ini-tab -> Iniciando código classe"
   ]
  },
  {
   "cell_type": "markdown",
   "metadata": {},
   "source": [
    "---- Variables ----"
   ]
  },
  {
   "cell_type": "markdown",
   "metadata": {},
   "source": [
    "# __movementslist\n",
    "Velocity list of robot movements.\n",
    "doxygen-iPython"
   ]
  },
  {
   "cell_type": "code",
   "execution_count": 7,
   "metadata": {
    "collapsed": true
   },
   "outputs": [],
   "source": [
    "__movementslist = [] #self-iPython __movementslist"
   ]
  },
  {
   "cell_type": "markdown",
   "metadata": {},
   "source": [
    "# __u\n",
    "Speed matrix $u_t$.\n",
    "doxygen-iPython"
   ]
  },
  {
   "cell_type": "code",
   "execution_count": 8,
   "metadata": {
    "collapsed": true
   },
   "outputs": [],
   "source": [
    "__u = None #self-iPython __u"
   ]
  },
  {
   "cell_type": "markdown",
   "metadata": {},
   "source": [
    "# __R\n",
    "Speed error matrix $R_t$.\n",
    "doxygen-iPython"
   ]
  },
  {
   "cell_type": "code",
   "execution_count": 9,
   "metadata": {
    "collapsed": true
   },
   "outputs": [],
   "source": [
    "__R = None #self-iPython __R"
   ]
  },
  {
   "cell_type": "code",
   "execution_count": 10,
   "metadata": {
    "collapsed": true
   },
   "outputs": [],
   "source": [
    "#ini-iPython\n",
    "\n",
    "# ------- Lista de funções herdadas -------\n",
    "\n",
    "\n",
    "\n",
    "# ------- Lista variaveis herdadas -------\n",
    "\n",
    "\n",
    "\n",
    "# ------- Lista de funções -------\n",
    "\n",
    "#self-iPython update\n",
    "#self-iPython __getitem__\n",
    "\n",
    "#end-iPython - Fim listas"
   ]
  },
  {
   "cell_type": "markdown",
   "metadata": {},
   "source": [
    "# Constructor Class\n",
    "Initializes basic network parameters and creates standard speeds.\n",
    "doxygen-iPython"
   ]
  },
  {
   "cell_type": "code",
   "execution_count": 11,
   "metadata": {
    "collapsed": false
   },
   "outputs": [
    {
     "data": {
      "image/png": "[encoded data removed]",
      "text/latex": [
       "$$\\left ( \\left[\\begin{matrix}vr_{x}\\\\vr_{y}\\\\\\cos{\\left (\\omega r t \\right )}\\\\\\sin{\\left (\\omega r t \\right )}\\\\1\\end{matrix}\\right], \\quad \\left[\\begin{array}{cccccc}1000 & 0 & 0 & 0 & 0 & 0\\\\0 & 1000 & 0 & 0 & 0 & 0\\\\0 & 0 & 1000 & 0 & 0 & 0\\\\0 & 0 & 0 & 1000 & 0 & 0\\\\0 & 0 & 0 & 0 & 1000 & 0\\\\0 & 0 & 0 & 0 & 0 & 1000\\end{array}\\right]\\right )$$"
      ],
      "text/plain": [
       "⎛⎡      vrₓ      ⎤, ⎡1000   0     0     0     0     0  ⎤⎞\n",
       "⎜⎢               ⎥  ⎢                                  ⎥⎟\n",
       "⎜⎢     vr_y      ⎥  ⎢ 0    1000   0     0     0     0  ⎥⎟\n",
       "⎜⎢               ⎥  ⎢                                  ⎥⎟\n",
       "⎜⎢cos(\\omega r⋅t)⎥  ⎢ 0     0    1000   0     0     0  ⎥⎟\n",
       "⎜⎢               ⎥  ⎢                                  ⎥⎟\n",
       "⎜⎢sin(\\omega r⋅t)⎥  ⎢ 0     0     0    1000   0     0  ⎥⎟\n",
       "⎜⎢               ⎥  ⎢                                  ⎥⎟\n",
       "⎜⎣       1       ⎦  ⎢ 0     0     0     0    1000   0  ⎥⎟\n",
       "⎜                   ⎢                                  ⎥⎟\n",
       "⎝                   ⎣ 0     0     0     0     0    1000⎦⎠"
      ]
     },
     "execution_count": 11,
     "metadata": {},
     "output_type": "execute_result"
    }
   ],
   "source": [
    "#des-iPython def __init__(self):\n",
    "#ini-tab -> Criando construtor\n",
    "__movementslist.append({\n",
    "    \"speed\": sym.Matrix([\n",
    "        [0], # speed in x (vr_x)\n",
    "        [0], # speed in y (vr_y)\n",
    "        [0], # angular velocity (ωr)\n",
    "    ]),\n",
    "        \n",
    "    \"x_speed\": sym.Matrix([\n",
    "        [0], # v_x\n",
    "        [0], # v_y\n",
    "        [0], # a_x\n",
    "        [0], # a_y\n",
    "    ]),\n",
    "        \n",
    "    \"U\": sym.Matrix([\n",
    "        [0], # vr_x\n",
    "        [0], # vr_y\n",
    "        [1], # cos(ωr*t)\n",
    "        [0], # sin(ωr*t)\n",
    "        [1], # constant\n",
    "    ]),\n",
    "\n",
    "    \"R\": sym.Matrix(sym.Identity(6)*0)\n",
    "})\n",
    "\n",
    "\n",
    "\n",
    "__t = sym.symbols(\"t\") # Declaring variable time\n",
    "\n",
    "p_x, p_y, v_x, v_y, a_x, a_y = sym.symbols(\"p_x, p_y, v_x, v_y, a_x, a_y\") # Object state variables\n",
    "\n",
    "\n",
    "# Robot Speed Variables\n",
    "vr_x, vr_y, omegar = sym.symbols(\"vr_x, vr_y, \\\\omega\\ r\")\n",
    "\n",
    "\n",
    "# Kalman filter matrices\n",
    "__u = sym.Matrix([\n",
    "    [vr_x],\n",
    "    [vr_y],\n",
    "    [sym.cos(omegar*__t)],\n",
    "    [sym.sin(omegar*__t)],\n",
    "    [1],\n",
    "])\n",
    "\n",
    "__R = sym.Matrix(sym.Identity(6)*1000)\n",
    "\n",
    "__u, __R #debug-iPython"
   ]
  },
  {
   "cell_type": "code",
   "execution_count": 12,
   "metadata": {
    "collapsed": false
   },
   "outputs": [],
   "source": [
    "#end-tab -> Finalizando construtor\n",
    "#ini-iPython"
   ]
  },
  {
   "cell_type": "markdown",
   "metadata": {},
   "source": [
    "## Teste construtor"
   ]
  },
  {
   "cell_type": "code",
   "execution_count": 13,
   "metadata": {
    "collapsed": false,
    "scrolled": false
   },
   "outputs": [
    {
     "data": {
      "image/png": "[encoded data removed]",
      "text/latex": [
       "$$\\left ( \\left[\\begin{matrix}p_{x} \\cos{\\left (\\omega r t \\right )} + p_{y} \\sin{\\left (\\omega r t \\right )} - t vr_{x}\\\\- p_{x} \\sin{\\left (\\omega r t \\right )} + p_{y} \\cos{\\left (\\omega r t \\right )} - t vr_{y}\\\\v_{x} \\cos{\\left (\\omega r t \\right )} + v_{y} \\sin{\\left (\\omega r t \\right )}\\\\- v_{x} \\sin{\\left (\\omega r t \\right )} + v_{y} \\cos{\\left (\\omega r t \\right )}\\\\a_{x} \\cos{\\left (\\omega r t \\right )} + a_{y} \\sin{\\left (\\omega r t \\right )}\\\\- a_{x} \\sin{\\left (\\omega r t \\right )} + a_{y} \\cos{\\left (\\omega r t \\right )}\\end{matrix}\\right], \\quad \\left[\\begin{matrix}- t & 0 & p_{x} & p_{y} & 0\\\\0 & - t & p_{y} & - p_{x} & 0\\\\0 & 0 & v_{x} & v_{y} & 0\\\\0 & 0 & v_{y} & - v_{x} & 0\\\\0 & 0 & a_{x} & a_{y} & 0\\\\0 & 0 & a_{y} & - a_{x} & 0\\end{matrix}\\right], \\quad \\left[\\begin{matrix}vr_{x}\\\\vr_{y}\\\\\\cos{\\left (\\omega r t \\right )}\\\\\\sin{\\left (\\omega r t \\right )}\\\\1\\end{matrix}\\right], \\quad \\left[\\begin{matrix}p_{x} \\cos{\\left (\\omega r t \\right )} + p_{y} \\sin{\\left (\\omega r t \\right )} - t vr_{x}\\\\- p_{x} \\sin{\\left (\\omega r t \\right )} + p_{y} \\cos{\\left (\\omega r t \\right )} - t vr_{y}\\\\v_{x} \\cos{\\left (\\omega r t \\right )} + v_{y} \\sin{\\left (\\omega r t \\right )}\\\\- v_{x} \\sin{\\left (\\omega r t \\right )} + v_{y} \\cos{\\left (\\omega r t \\right )}\\\\a_{x} \\cos{\\left (\\omega r t \\right )} + a_{y} \\sin{\\left (\\omega r t \\right )}\\\\- a_{x} \\sin{\\left (\\omega r t \\right )} + a_{y} \\cos{\\left (\\omega r t \\right )}\\end{matrix}\\right]\\right )$$"
      ],
      "text/plain": [
       "⎛⎡ pₓ⋅cos(\\omega r⋅t) + p_y⋅sin(\\omega r⋅t) - t⋅vrₓ ⎤, ⎡-t  0   pₓ   p_y  0⎤, \n",
       "⎜⎢                                                  ⎥  ⎢                   ⎥  \n",
       "⎜⎢-pₓ⋅sin(\\omega r⋅t) + p_y⋅cos(\\omega r⋅t) - t⋅vr_y⎥  ⎢0   -t  p_y  -pₓ  0⎥  \n",
       "⎜⎢                                                  ⎥  ⎢                   ⎥  \n",
       "⎜⎢     vₓ⋅cos(\\omega r⋅t) + v_y⋅sin(\\omega r⋅t)     ⎥  ⎢0   0   vₓ   v_y  0⎥  \n",
       "⎜⎢                                                  ⎥  ⎢                   ⎥  \n",
       "⎜⎢    -vₓ⋅sin(\\omega r⋅t) + v_y⋅cos(\\omega r⋅t)     ⎥  ⎢0   0   v_y  -vₓ  0⎥  \n",
       "⎜⎢                                                  ⎥  ⎢                   ⎥  \n",
       "⎜⎢     aₓ⋅cos(\\omega r⋅t) + a_y⋅sin(\\omega r⋅t)     ⎥  ⎢0   0   aₓ   a_y  0⎥  \n",
       "⎜⎢                                                  ⎥  ⎢                   ⎥  \n",
       "⎝⎣    -aₓ⋅sin(\\omega r⋅t) + a_y⋅cos(\\omega r⋅t)     ⎦  ⎣0   0   a_y  -aₓ  0⎦  \n",
       "\n",
       "⎡      vrₓ      ⎤, ⎡ pₓ⋅cos(\\omega r⋅t) + p_y⋅sin(\\omega r⋅t) - t⋅vrₓ ⎤⎞\n",
       "⎢               ⎥  ⎢                                                  ⎥⎟\n",
       "⎢     vr_y      ⎥  ⎢-pₓ⋅sin(\\omega r⋅t) + p_y⋅cos(\\omega r⋅t) - t⋅vr_y⎥⎟\n",
       "⎢               ⎥  ⎢                                                  ⎥⎟\n",
       "⎢cos(\\omega r⋅t)⎥  ⎢     vₓ⋅cos(\\omega r⋅t) + v_y⋅sin(\\omega r⋅t)     ⎥⎟\n",
       "⎢               ⎥  ⎢                                                  ⎥⎟\n",
       "⎢sin(\\omega r⋅t)⎥  ⎢    -vₓ⋅sin(\\omega r⋅t) + v_y⋅cos(\\omega r⋅t)     ⎥⎟\n",
       "⎢               ⎥  ⎢                                                  ⎥⎟\n",
       "⎣       1       ⎦  ⎢     aₓ⋅cos(\\omega r⋅t) + a_y⋅sin(\\omega r⋅t)     ⎥⎟\n",
       "                   ⎢                                                  ⎥⎟\n",
       "                   ⎣    -aₓ⋅sin(\\omega r⋅t) + a_y⋅cos(\\omega r⋅t)     ⎦⎠"
      ]
     },
     "execution_count": 13,
     "metadata": {},
     "output_type": "execute_result"
    }
   ],
   "source": [
    "# Para movimentos\n",
    "Z = sym.Matrix([\n",
    "    [p_x*sym.cos(omegar*__t)+p_y*sym.sin(omegar*__t) - __t*vr_x],\n",
    "    [-p_x*sym.sin(omegar*__t)+p_y*sym.cos(omegar*__t) - __t*vr_y],\n",
    "    [v_x*sym.cos(__t*omegar)+v_y*sym.sin(__t*omegar)],\n",
    "    [-v_x*sym.sin(__t*omegar)+v_y*sym.cos(__t*omegar)],\n",
    "    [a_x*sym.cos(__t*omegar)+a_y*sym.sin(__t*omegar)],\n",
    "    [-a_x*sym.sin(__t*omegar)+a_y*sym.cos(__t*omegar)],\n",
    "])\n",
    "\n",
    "B = sym.Matrix([\n",
    "    [-__t, 0, p_x, p_y, 0],\n",
    "    [0, -__t, p_y, -p_x, 0],\n",
    "    [0, 0, v_x, v_y, 0],\n",
    "    [0, 0, v_y, -v_x, 0],\n",
    "    [0, 0, a_x, a_y, 0],\n",
    "    [0, 0, a_y, -a_x, 0],\n",
    "])\n",
    "\n",
    "Z, B, __u, B*__u\n",
    "#end-iPython"
   ]
  },
  {
   "cell_type": "markdown",
   "metadata": {},
   "source": [
    "# update\n",
    "Adds average robot speeds or upgrades to speeds.\n",
    "@param vector Observed speed.\n",
    "doxygen-iPython"
   ]
  },
  {
   "cell_type": "code",
   "execution_count": 14,
   "metadata": {
    "collapsed": false
   },
   "outputs": [],
   "source": [
    "#eself-iPython update\n",
    "#edes-iPython def update(self, vector):\n",
    "def update(vector):\n",
    "    R_p = (p_x**2 + p_y**2)**0.5 # position vector module\n",
    "    \n",
    "    if vector[0] + 1 > len(__movementslist):\n",
    "        while vector[0] + 1 > len(__movementslist):\n",
    "            __movementslist.append({\n",
    "                \"speed\": sym.Matrix([\n",
    "                    [0], # speed in x (vr_x)\n",
    "                    [0], # speed in y (vr_y)\n",
    "                    [0], # angular velocity (ωr)\n",
    "                ]),\n",
    "\n",
    "                \"x_speed\": sym.Matrix([\n",
    "                    [0], # v_x\n",
    "                    [0], # v_y\n",
    "                    [0], # a_x\n",
    "                    [0], # a_y\n",
    "                ]),\n",
    "\n",
    "                \"U\": sym.Matrix([\n",
    "                    [0], # vr_x\n",
    "                    [0], # vr_y\n",
    "                    [1], # cos(ωr*t)\n",
    "                    [0], # sin(ωr*t)\n",
    "                    [1],\n",
    "                ]),\n",
    "\n",
    "                \"R\": copy(__R)\n",
    "            })\n",
    "\n",
    "    __movementslist[vector[0]][\"x_speed\"] = vector[1]\n",
    "    __movementslist[vector[0]][\"R\"] = vector[2]\n",
    "\n",
    "\n",
    "    # Calculating ωr of the robot\n",
    "    __movementslist[vector[0]][\"speed\"][2] = ((-a_x * abs(p_x))/(p_x * R_p)).subs([\n",
    "        [p_x, __movementslist[vector[0]][\"x_speed\"][0]],\n",
    "        [p_y, __movementslist[vector[0]][\"x_speed\"][1]],\n",
    "        [a_x, __movementslist[vector[0]][\"x_speed\"][4]],\n",
    "    ])\n",
    "\n",
    "    # Calculating vr_x of the robot\n",
    "    __movementslist[vector[0]][\"speed\"][0] = (-omegar*p_x - v_y).subs([\n",
    "        [p_x, __movementslist[vector[0]][\"x_speed\"][0]],\n",
    "        [v_y, __movementslist[vector[0]][\"x_speed\"][3]],\n",
    "        [omegar, __movementslist[vector[0]][\"speed\"][2]]\n",
    "    ])\n",
    "\n",
    "    # Calculating vr_y of the robot\n",
    "    __movementslist[vector[0]][\"speed\"][1] = (-omegar*p_y-v_x).subs([\n",
    "        [p_y, __movementslist[vector[0]][\"x_speed\"][1]],\n",
    "        [v_x, __movementslist[vector[0]][\"x_speed\"][2]],\n",
    "        [omegar, __movementslist[vector[0]][\"speed\"][2]]\n",
    "    ])\n",
    "\n",
    "    # Calculating matrix U\n",
    "    __movementslist[vector[0]][\"U\"] = __u.subs([\n",
    "        [vr_x, __movementslist[vector[0]][\"speed\"][0]],\n",
    "        [vr_y, __movementslist[vector[0]][\"speed\"][1]],\n",
    "        [omegar, __movementslist[vector[0]][\"speed\"][2]],\n",
    "    ]) #self-iPython update"
   ]
  },
  {
   "cell_type": "code",
   "execution_count": 15,
   "metadata": {
    "collapsed": true
   },
   "outputs": [],
   "source": [
    "#ini-iPython"
   ]
  },
  {
   "cell_type": "markdown",
   "metadata": {},
   "source": [
    "## Teste update"
   ]
  },
  {
   "cell_type": "code",
   "execution_count": 16,
   "metadata": {
    "collapsed": false
   },
   "outputs": [
    {
     "data": {
      "image/png": "[encoded data removed]",
      "text/latex": [
       "$$\\left ( \\left [ 2, \\quad \\left[\\begin{matrix}1.4142135623731\\\\1.4142135623731\\\\-0.414213562373095\\\\-0.414213562373095\\\\-2\\\\-2\\end{matrix}\\right], \\quad \\left[\\begin{array}{cccccc}1000 & 0 & 0 & 0 & 0 & 0\\\\0 & 1000 & 0 & 0 & 0 & 0\\\\0 & 0 & 1000 & 0 & 0 & 0\\\\0 & 0 & 0 & 1000 & 0 & 0\\\\0 & 0 & 0 & 0 & 1000 & 0\\\\0 & 0 & 0 & 0 & 0 & 1000\\end{array}\\right]\\right ], \\quad \\left[\\begin{matrix}-1.0\\\\-1.0\\\\1.0\\end{matrix}\\right]\\right )$$"
      ],
      "text/plain": [
       "⎛⎡2, ⎡ 1.4142135623731  ⎤, ⎡1000   0     0     0     0     0  ⎤⎤, ⎡-1.0⎤⎞\n",
       "⎜⎢   ⎢                  ⎥  ⎢                                  ⎥⎥  ⎢    ⎥⎟\n",
       "⎜⎢   ⎢ 1.4142135623731  ⎥  ⎢ 0    1000   0     0     0     0  ⎥⎥  ⎢-1.0⎥⎟\n",
       "⎜⎢   ⎢                  ⎥  ⎢                                  ⎥⎥  ⎢    ⎥⎟\n",
       "⎜⎢   ⎢-0.414213562373095⎥  ⎢ 0     0    1000   0     0     0  ⎥⎥  ⎣1.0 ⎦⎟\n",
       "⎜⎢   ⎢                  ⎥  ⎢                                  ⎥⎥        ⎟\n",
       "⎜⎢   ⎢-0.414213562373095⎥  ⎢ 0     0     0    1000   0     0  ⎥⎥        ⎟\n",
       "⎜⎢   ⎢                  ⎥  ⎢                                  ⎥⎥        ⎟\n",
       "⎜⎢   ⎢        -2        ⎥  ⎢ 0     0     0     0    1000   0  ⎥⎥        ⎟\n",
       "⎜⎢   ⎢                  ⎥  ⎢                                  ⎥⎥        ⎟\n",
       "⎝⎣   ⎣        -2        ⎦  ⎣ 0     0     0     0     0    1000⎦⎦        ⎠"
      ]
     },
     "execution_count": 16,
     "metadata": {},
     "output_type": "execute_result"
    }
   ],
   "source": [
    "vector = [\n",
    "    2, # Movimento \n",
    "    \n",
    "    sym.Matrix([ # Velocidades calculadas\n",
    "        [2**0.5],\n",
    "        [2**0.5],\n",
    "        [1-2**0.5],\n",
    "        [1-2**0.5],\n",
    "        [-2],\n",
    "        [-2],\n",
    "    ]),\n",
    "    \n",
    "    \n",
    "    copy(__R), # Erros calculados\n",
    "]\n",
    "\n",
    "\n",
    "update(vector)\n",
    "\n",
    "vector, __movementslist[2][\"speed\"]\n",
    "#end-iPython"
   ]
  },
  {
   "cell_type": "markdown",
   "metadata": {},
   "source": [
    "# __getitem__\n",
    "Returns the dictionary of motion vectors.\n",
    "@param x Vector position to be accessed.\n",
    "@return Returns the dictionary that will be used.\n",
    "doxygen-iPython"
   ]
  },
  {
   "cell_type": "code",
   "execution_count": 17,
   "metadata": {
    "collapsed": true
   },
   "outputs": [],
   "source": [
    "#eself-iPython __getitem__\n",
    "#edes-iPython def __getitem__(self, x):\n",
    "def __getitem__(x):\n",
    "    if x + 1 > len(__movementslist):\n",
    "        while x + 1 > len(__movementslist):\n",
    "            __movementslist.append({\n",
    "                \"speed\": sym.Matrix([\n",
    "                    [0], # speed in x (vr_x)\n",
    "                    [0], # speed in y (vr_y)\n",
    "                    [0], # angular velocity (ωr)\n",
    "                ]),\n",
    "\n",
    "                \"x_speed\": sym.Matrix([\n",
    "                    [0], # v_x\n",
    "                    [0], # v_y\n",
    "                    [0], # a_x\n",
    "                    [0], # a_y\n",
    "                ]),\n",
    "\n",
    "                \"U\": sym.Matrix([\n",
    "                    [0], # vr_x\n",
    "                    [0], # vr_y\n",
    "                    [1], # cos(ωr*t)\n",
    "                    [0], # sin(ωr*t)\n",
    "                    [1],\n",
    "                ]),\n",
    "\n",
    "                \"R\": copy(__R)\n",
    "            })\n",
    "    return __movementslist[x] #self-iPython __getitem__"
   ]
  },
  {
   "cell_type": "code",
   "execution_count": 18,
   "metadata": {
    "collapsed": true
   },
   "outputs": [],
   "source": [
    "#ini-iPython"
   ]
  },
  {
   "cell_type": "markdown",
   "metadata": {},
   "source": [
    "## Teste __getitem__"
   ]
  },
  {
   "cell_type": "code",
   "execution_count": 19,
   "metadata": {
    "collapsed": false
   },
   "outputs": [
    {
     "data": {
      "image/png": "[encoded data removed]",
      "text/latex": [
       "$$\\left ( \\left[\\begin{matrix}0\\\\0\\\\1\\\\0\\\\1\\end{matrix}\\right], \\quad \\left[\\begin{array}{cccccc}1000 & 0 & 0 & 0 & 0 & 0\\\\0 & 1000 & 0 & 0 & 0 & 0\\\\0 & 0 & 1000 & 0 & 0 & 0\\\\0 & 0 & 0 & 1000 & 0 & 0\\\\0 & 0 & 0 & 0 & 1000 & 0\\\\0 & 0 & 0 & 0 & 0 & 1000\\end{array}\\right]\\right )$$"
      ],
      "text/plain": [
       "⎛⎡0⎤, ⎡1000   0     0     0     0     0  ⎤⎞\n",
       "⎜⎢ ⎥  ⎢                                  ⎥⎟\n",
       "⎜⎢0⎥  ⎢ 0    1000   0     0     0     0  ⎥⎟\n",
       "⎜⎢ ⎥  ⎢                                  ⎥⎟\n",
       "⎜⎢1⎥  ⎢ 0     0    1000   0     0     0  ⎥⎟\n",
       "⎜⎢ ⎥  ⎢                                  ⎥⎟\n",
       "⎜⎢0⎥  ⎢ 0     0     0    1000   0     0  ⎥⎟\n",
       "⎜⎢ ⎥  ⎢                                  ⎥⎟\n",
       "⎜⎣1⎦  ⎢ 0     0     0     0    1000   0  ⎥⎟\n",
       "⎜     ⎢                                  ⎥⎟\n",
       "⎝     ⎣ 0     0     0     0     0    1000⎦⎠"
      ]
     },
     "execution_count": 19,
     "metadata": {},
     "output_type": "execute_result"
    }
   ],
   "source": [
    "a = 10\n",
    "__getitem__(a)[\"U\"], __getitem__(a)[\"R\"]\n",
    "#end-iPython"
   ]
  },
  {
   "cell_type": "code",
   "execution_count": 20,
   "metadata": {
    "collapsed": false
   },
   "outputs": [],
   "source": [
    "#end-tab -> Finalizando classe"
   ]
  },
  {
   "cell_type": "code",
   "execution_count": 21,
   "metadata": {
    "collapsed": false
   },
   "outputs": [],
   "source": [
    "#ini-iPython"
   ]
  },
  {
   "cell_type": "markdown",
   "metadata": {},
   "source": [
    "# nova_variavel\n",
    ".\n",
    "doxygen-iPython"
   ]
  },
  {
   "cell_type": "code",
   "execution_count": 22,
   "metadata": {
    "collapsed": true
   },
   "outputs": [],
   "source": [
    "nova_variavel = None #self-iPython nova_variavel"
   ]
  },
  {
   "cell_type": "markdown",
   "metadata": {},
   "source": [
    "# nova_funcao\n",
    ".\n",
    "doxygen-iPython"
   ]
  },
  {
   "cell_type": "code",
   "execution_count": 23,
   "metadata": {
    "collapsed": true
   },
   "outputs": [],
   "source": [
    "# eself-iPython nova_funcao\n",
    "# edes-iPython def nova_funcao(self, variaveis_funcao):\n",
    "def nova_funcao(variaveis_funcao):\n",
    "    pass # self-iPython nova_funcao"
   ]
  },
  {
   "cell_type": "code",
   "execution_count": 24,
   "metadata": {
    "collapsed": true
   },
   "outputs": [],
   "source": [
    "#ini-iPython"
   ]
  },
  {
   "cell_type": "markdown",
   "metadata": {},
   "source": [
    "## Teste nova_funcao"
   ]
  },
  {
   "cell_type": "code",
   "execution_count": 25,
   "metadata": {
    "collapsed": true
   },
   "outputs": [],
   "source": [
    "\n",
    "#end-iPython"
   ]
  },
  {
   "cell_type": "code",
   "execution_count": 26,
   "metadata": {
    "collapsed": true
   },
   "outputs": [],
   "source": [
    "#end-iPython"
   ]
  }
 ],
 "metadata": {
  "kernelspec": {
   "display_name": "Python 2",
   "language": "python",
   "name": "python2"
  },
  "language_info": {
   "codemirror_mode": {
    "name": "ipython",
    "version": 2
   },
   "file_extension": ".py",
   "mimetype": "text/x-python",
   "name": "python",
   "nbconvert_exporter": "python",
   "pygments_lexer": "ipython2",
   "version": "2.7.6"
  }
 },
 "nbformat": 4,
 "nbformat_minor": 2
}
