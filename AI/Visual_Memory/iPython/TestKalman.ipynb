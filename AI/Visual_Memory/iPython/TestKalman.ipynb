{
 "cells": [
  {
   "cell_type": "code",
   "execution_count": 1,
   "metadata": {
    "collapsed": true
   },
   "outputs": [],
   "source": [
    "from sympy import *\n",
    "init_printing()"
   ]
  },
  {
   "cell_type": "markdown",
   "metadata": {},
   "source": [
    "# Para landmark"
   ]
  },
  {
   "cell_type": "code",
   "execution_count": 2,
   "metadata": {
    "collapsed": false
   },
   "outputs": [
    {
     "data": {
      "image/png": "[encoded data removed]",
      "text/latex": [
       "$$\\left ( \\left[\\begin{matrix}1 & 0 & t & 0 & 0.5 t^{2} & 0\\\\0 & 1 & 0 & t & 0 & 0.5 t^{2}\\\\0 & 0 & 1 & 0 & t & 0\\\\0 & 0 & 0 & 1 & 0 & t\\\\0 & 0 & 0 & 0 & 1 & 0\\\\0 & 0 & 0 & 0 & -1 & 0\\end{matrix}\\right], \\quad \\left[\\begin{matrix}p_{x}\\\\p_{y}\\\\v_{x}\\\\v_{y}\\\\a_{x}\\\\a_{y}\\end{matrix}\\right], \\quad \\left[\\begin{matrix}0.5 a_{x} t^{2} + p_{x} + t v_{x}\\\\0.5 a_{y} t^{2} + p_{y} + t v_{y}\\\\a_{x} t + v_{x}\\\\a_{y} t + v_{y}\\\\a_{x}\\\\- a_{x}\\end{matrix}\\right]\\right )$$"
      ],
      "text/plain": [
       "⎛⎡                 2        ⎤         ⎡         2              ⎤⎞\n",
       "⎜⎢1  0  t  0  0.5⋅t     0   ⎥, ⎡pₓ ⎤, ⎢ 0.5⋅aₓ⋅t  + pₓ + t⋅vₓ  ⎥⎟\n",
       "⎜⎢                          ⎥  ⎢   ⎥  ⎢                        ⎥⎟\n",
       "⎜⎢                         2⎥  ⎢p_y⎥  ⎢         2              ⎥⎟\n",
       "⎜⎢0  1  0  t    0     0.5⋅t ⎥  ⎢   ⎥  ⎢0.5⋅a_y⋅t  + p_y + t⋅v_y⎥⎟\n",
       "⎜⎢                          ⎥  ⎢vₓ ⎥  ⎢                        ⎥⎟\n",
       "⎜⎢0  0  1  0    t       0   ⎥  ⎢   ⎥  ⎢       aₓ⋅t + vₓ        ⎥⎟\n",
       "⎜⎢                          ⎥  ⎢v_y⎥  ⎢                        ⎥⎟\n",
       "⎜⎢0  0  0  1    0       t   ⎥  ⎢   ⎥  ⎢      a_y⋅t + v_y       ⎥⎟\n",
       "⎜⎢                          ⎥  ⎢aₓ ⎥  ⎢                        ⎥⎟\n",
       "⎜⎢0  0  0  0    1       0   ⎥  ⎢   ⎥  ⎢           aₓ           ⎥⎟\n",
       "⎜⎢                          ⎥  ⎣a_y⎦  ⎢                        ⎥⎟\n",
       "⎝⎣0  0  0  0    -1      0   ⎦         ⎣          -aₓ           ⎦⎠"
      ]
     },
     "execution_count": 2,
     "metadata": {},
     "output_type": "execute_result"
    }
   ],
   "source": [
    "t = symbols('t')\n",
    "p_x, v_x, a_x = symbols('p_x v_x a_x')\n",
    "p_y, v_y, a_y = symbols('p_y v_y a_y')\n",
    "\n",
    "x = Matrix([\n",
    "        [p_x],\n",
    "        [p_y],\n",
    "        [v_x],\n",
    "        [v_y],\n",
    "        [a_x],\n",
    "        [a_y]\n",
    "           \n",
    "    ])\n",
    "\n",
    "x = Matrix([\n",
    "        [p_x],\n",
    "        [p_y],\n",
    "        [v_x],\n",
    "        [v_y],\n",
    "        [a_x],\n",
    "        [a_y]\n",
    "           \n",
    "    ])\n",
    "\n",
    "A = Matrix([\n",
    "        [1, 0, t, 0, 0.5*t**2, 0],\n",
    "        [0, 1, 0, t, 0, 0.5*t**2],\n",
    "        [0, 0, 1, 0, t, 0],\n",
    "        [0, 0, 0, 1, 0, t],\n",
    "        [0, 0, 0, 0, 1, 0],\n",
    "        [0, 0, 0, 0, -1, 0]\n",
    "    ])\n",
    "A, x, A*x"
   ]
  },
  {
   "cell_type": "code",
   "execution_count": 14,
   "metadata": {
    "collapsed": false
   },
   "outputs": [
    {
     "data": {
      "image/png": "[encoded data removed]",
      "text/latex": [
       "$$\\left ( \\left[\\begin{matrix}0.5 a_{x} t^{2} + p_{x} + t v_{x}\\\\0.5 a_{y} t^{2} + p_{y} + t v_{y}\\\\a_{x} t + v_{x}\\\\a_{y} t + v_{y}\\\\a_{x}\\\\- a_{x}\\end{matrix}\\right], \\quad \\left[\\begin{matrix}0.25 t^{4} + t^{2} + 1.1 & 0 & 0.5 t^{3} + t & 0 & 0.5 t^{2} & - 0.5 t^{2}\\\\0 & 0.25 t^{4} + t^{2} + 1.1 & 0 & 0.5 t^{3} + t & 0 & 0\\\\0.5 t^{3} + t & 0 & t^{2} + 1.1 & 0 & t & - t\\\\0 & 0.5 t^{3} + t & 0 & t^{2} + 1.1 & 0 & 0\\\\0.5 t^{2} & 0 & t & 0 & 1.1 & -1\\\\- 0.5 t^{2} & 0 & - t & 0 & -1 & 1.1\\end{matrix}\\right]\\right )$$"
      ],
      "text/plain": [
       "⎛⎡         2              ⎤  ⎡      4    2                                 3  \n",
       "⎜⎢ 0.5⋅aₓ⋅t  + pₓ + t⋅vₓ  ⎥, ⎢0.25⋅t  + t  + 1.1          0           0.5⋅t  +\n",
       "⎜⎢                        ⎥  ⎢                                                \n",
       "⎜⎢         2              ⎥  ⎢                          4    2                \n",
       "⎜⎢0.5⋅a_y⋅t  + p_y + t⋅v_y⎥  ⎢        0           0.25⋅t  + t  + 1.1      0   \n",
       "⎜⎢                        ⎥  ⎢                                                \n",
       "⎜⎢       aₓ⋅t + vₓ        ⎥  ⎢         3                                2     \n",
       "⎜⎢                        ⎥  ⎢    0.5⋅t  + t              0            t  + 1.\n",
       "⎜⎢      a_y⋅t + v_y       ⎥  ⎢                                                \n",
       "⎜⎢                        ⎥  ⎢                             3                  \n",
       "⎜⎢           aₓ           ⎥  ⎢        0               0.5⋅t  + t          0   \n",
       "⎜⎢                        ⎥  ⎢                                                \n",
       "⎜⎣          -aₓ           ⎦  ⎢           2                                    \n",
       "⎜                            ⎢      0.5⋅t                 0               t   \n",
       "⎜                            ⎢                                                \n",
       "⎜                            ⎢           2                                    \n",
       "⎝                            ⎣     -0.5⋅t                 0               -t  \n",
       "\n",
       "                     2        2⎤⎞\n",
       " t      0       0.5⋅t   -0.5⋅t ⎥⎟\n",
       "                               ⎥⎟\n",
       "         3                     ⎥⎟\n",
       "    0.5⋅t  + t    0        0   ⎥⎟\n",
       "                               ⎥⎟\n",
       "                               ⎥⎟\n",
       "1       0         t       -t   ⎥⎟\n",
       "                               ⎥⎟\n",
       "      2                        ⎥⎟\n",
       "     t  + 1.1     0        0   ⎥⎟\n",
       "                               ⎥⎟\n",
       "                               ⎥⎟\n",
       "        0        1.1      -1   ⎥⎟\n",
       "                               ⎥⎟\n",
       "                               ⎥⎟\n",
       "        0         -1      1.1  ⎦⎠"
      ]
     },
     "execution_count": 14,
     "metadata": {},
     "output_type": "execute_result"
    }
   ],
   "source": [
    "eq = A*x\n",
    "\n",
    "covariance = Identity(6)\n",
    "R = Matrix(Identity(6)*0.1)\n",
    "eq_cov = A*covariance*transpose(A) + R\n",
    "\n",
    "eq, covariance"
   ]
  },
  {
   "cell_type": "code",
   "execution_count": 32,
   "metadata": {
    "collapsed": false
   },
   "outputs": [
    {
     "data": {
      "text/plain": [
       "matrix([[0],\n",
       "        [0],\n",
       "        [0],\n",
       "        [0],\n",
       "        [0],\n",
       "        [0]])"
      ]
     },
     "execution_count": 32,
     "metadata": {},
     "output_type": "execute_result"
    }
   ],
   "source": [
    "x = np.matrix([0, 0, 0, 0, 0, 0]).T # Valores iniciais\n",
    "cov = Identity(6)*1e9 # Erros\n",
    "x"
   ]
  },
  {
   "cell_type": "markdown",
   "metadata": {},
   "source": [
    "## Para t = 0"
   ]
  },
  {
   "cell_type": "code",
   "execution_count": 39,
   "metadata": {
    "collapsed": false
   },
   "outputs": [
    {
     "data": {
      "text/plain": [
       "matrix([[ 0.],\n",
       "        [ 0.],\n",
       "        [ 0.],\n",
       "        [ 0.],\n",
       "        [ 0.],\n",
       "        [ 0.]])"
      ]
     },
     "execution_count": 39,
     "metadata": {},
     "output_type": "execute_result"
    }
   ],
   "source": [
    "x = np.matrix(\n",
    "eq.subs([ # Substituindo valores\n",
    "        [p_x, x[0]],\n",
    "        [p_y, x[1]],\n",
    "        [v_x, x[2]],\n",
    "        [v_y, x[3]],\n",
    "        [a_x, x[4]],\n",
    "        [a_y, x[5]],\n",
    "        \n",
    "        [t, 0],\n",
    "        \n",
    "    ])[:], dtype=float).T\n",
    "x"
   ]
  },
  {
   "cell_type": "code",
   "execution_count": 43,
   "metadata": {
    "collapsed": false
   },
   "outputs": [
    {
     "data": {
      "image/png": "[encoded data removed]",
      "text/latex": [
       "$$\\left ( V_{x}, \\quad \\mathrm{NaN}\\right )$$"
      ],
      "text/plain": [
       "(Vₓ, nan)"
      ]
     },
     "execution_count": 43,
     "metadata": {},
     "output_type": "execute_result"
    }
   ],
   "source": [
    "V_x = v_x + R_p*sin(theta)*omegar"
   ]
  },
  {
   "cell_type": "code",
   "execution_count": null,
   "metadata": {
    "collapsed": true
   },
   "outputs": [],
   "source": [
    "V_y = v_y + R_p*sym.cos(theta)*omegar"
   ]
  },
  {
   "cell_type": "code",
   "execution_count": null,
   "metadata": {
    "collapsed": true
   },
   "outputs": [],
   "source": [
    "\n",
    "A_x = R_p*omegar"
   ]
  },
  {
   "cell_type": "code",
   "execution_count": null,
   "metadata": {
    "collapsed": true
   },
   "outputs": [],
   "source": []
  },
  {
   "cell_type": "code",
   "execution_count": null,
   "metadata": {
    "collapsed": true
   },
   "outputs": [],
   "source": []
  },
  {
   "cell_type": "code",
   "execution_count": null,
   "metadata": {
    "collapsed": true
   },
   "outputs": [],
   "source": []
  },
  {
   "cell_type": "code",
   "execution_count": null,
   "metadata": {
    "collapsed": true
   },
   "outputs": [],
   "source": []
  },
  {
   "cell_type": "code",
   "execution_count": null,
   "metadata": {
    "collapsed": true
   },
   "outputs": [],
   "source": []
  },
  {
   "cell_type": "markdown",
   "metadata": {},
   "source": [
    "# Para objetos"
   ]
  },
  {
   "cell_type": "code",
   "execution_count": 4,
   "metadata": {
    "collapsed": false
   },
   "outputs": [
    {
     "data": {
      "image/png": "[encoded data removed]",
      "text/latex": [
       "$$\\left ( \\left[\\begin{matrix}1 & 0 & t & 0 & 0.5 t^{2} & 0\\\\0 & 1 & 0 & t & 0 & 0.5 t^{2}\\\\0 & 0 & 1 & 0 & t & 0\\\\0 & 0 & 0 & 1 & 0 & t\\\\0 & 0 & 0 & 0 & 1 & 0\\\\0 & 0 & 0 & 0 & 0 & 1\\end{matrix}\\right], \\quad \\left[\\begin{matrix}p_{x}\\\\p_{y}\\\\v_{x}\\\\v_{y}\\\\a_{x}\\\\a_{y}\\end{matrix}\\right], \\quad \\left[\\begin{matrix}0.5 a_{x} t^{2} + p_{x} + t v_{x}\\\\0.5 a_{y} t^{2} + p_{y} + t v_{y}\\\\a_{x} t + v_{x}\\\\a_{y} t + v_{y}\\\\a_{x}\\\\a_{y}\\end{matrix}\\right]\\right )$$"
      ],
      "text/plain": [
       "⎛⎡                 2        ⎤         ⎡         2              ⎤⎞\n",
       "⎜⎢1  0  t  0  0.5⋅t     0   ⎥, ⎡pₓ ⎤, ⎢ 0.5⋅aₓ⋅t  + pₓ + t⋅vₓ  ⎥⎟\n",
       "⎜⎢                          ⎥  ⎢   ⎥  ⎢                        ⎥⎟\n",
       "⎜⎢                         2⎥  ⎢p_y⎥  ⎢         2              ⎥⎟\n",
       "⎜⎢0  1  0  t    0     0.5⋅t ⎥  ⎢   ⎥  ⎢0.5⋅a_y⋅t  + p_y + t⋅v_y⎥⎟\n",
       "⎜⎢                          ⎥  ⎢vₓ ⎥  ⎢                        ⎥⎟\n",
       "⎜⎢0  0  1  0    t       0   ⎥  ⎢   ⎥  ⎢       aₓ⋅t + vₓ        ⎥⎟\n",
       "⎜⎢                          ⎥  ⎢v_y⎥  ⎢                        ⎥⎟\n",
       "⎜⎢0  0  0  1    0       t   ⎥  ⎢   ⎥  ⎢      a_y⋅t + v_y       ⎥⎟\n",
       "⎜⎢                          ⎥  ⎢aₓ ⎥  ⎢                        ⎥⎟\n",
       "⎜⎢0  0  0  0    1       0   ⎥  ⎢   ⎥  ⎢           aₓ           ⎥⎟\n",
       "⎜⎢                          ⎥  ⎣a_y⎦  ⎢                        ⎥⎟\n",
       "⎝⎣0  0  0  0    0       1   ⎦         ⎣          a_y           ⎦⎠"
      ]
     },
     "execution_count": 4,
     "metadata": {},
     "output_type": "execute_result"
    }
   ],
   "source": [
    "t = symbols('t')\n",
    "p_x, v_x, a_x = symbols('p_x v_x a_x')\n",
    "p_y, v_y, a_y = symbols('p_y v_y a_y')\n",
    "x = Matrix([\n",
    "        [p_x],\n",
    "        [p_y],\n",
    "        [v_x],\n",
    "        [v_y],\n",
    "        [a_x],\n",
    "        [a_y]\n",
    "           \n",
    "    ])\n",
    "A_t = Matrix([\n",
    "        [1, 0, t, 0, 0.5*t**2, 0],\n",
    "        [0, 1, 0, t, 0, 0.5*t**2],\n",
    "        [0, 0, 1, 0, t, 0],\n",
    "        [0, 0, 0, 1, 0, t],\n",
    "        [0, 0, 0, 0, 1, 0],\n",
    "        [0, 0, 0, 0, 0, 1]\n",
    "    ])\n",
    "A_t, x, A_t*x"
   ]
  },
  {
   "cell_type": "code",
   "execution_count": 5,
   "metadata": {
    "collapsed": false
   },
   "outputs": [
    {
     "data": {
      "image/png": "[encoded data removed]",
      "text/latex": [
       "$$\\left[\\begin{matrix}1\\\\1\\\\1\\end{matrix}\\right]$$"
      ],
      "text/plain": [
       "⎡1⎤\n",
       "⎢ ⎥\n",
       "⎢1⎥\n",
       "⎢ ⎥\n",
       "⎣1⎦"
      ]
     },
     "execution_count": 5,
     "metadata": {},
     "output_type": "execute_result"
    }
   ],
   "source": [
    "f_vr_x, f_vr_y, f_omegar = symbols(\"f_{vr_x}, f_{vr_y}, f_{\\\\omega\\ r}\")\n",
    "f_vr_x = 1\n",
    "f_vr_y = 1\n",
    "f_omegar = 1\n",
    "\n",
    "u_t = Matrix([\n",
    "    [f_vr_x],\n",
    "    [f_vr_y],\n",
    "    [f_omegar]\n",
    "])\n",
    "u_t"
   ]
  },
  {
   "cell_type": "code",
   "execution_count": 6,
   "metadata": {
    "collapsed": false
   },
   "outputs": [
    {
     "data": {
      "image/png": "[encoded data removed]",
      "text/latex": [
       "$$\\left ( \\left[\\begin{matrix}0 & 0 & 0\\\\0 & 0 & 0\\\\0 & 0 & 0\\\\0 & 0 & 0\\\\0 & 0 & 0\\\\0 & 0 & 0\\end{matrix}\\right], \\quad \\left[\\begin{matrix}1\\\\1\\\\1\\end{matrix}\\right], \\quad \\left[\\begin{matrix}0\\\\0\\\\0\\\\0\\\\0\\\\0\\end{matrix}\\right]\\right )$$"
      ],
      "text/plain": [
       "⎛⎡0  0  0⎤, ⎡1⎤, ⎡0⎤⎞\n",
       "⎜⎢       ⎥  ⎢ ⎥  ⎢ ⎥⎟\n",
       "⎜⎢0  0  0⎥  ⎢1⎥  ⎢0⎥⎟\n",
       "⎜⎢       ⎥  ⎢ ⎥  ⎢ ⎥⎟\n",
       "⎜⎢0  0  0⎥  ⎣1⎦  ⎢0⎥⎟\n",
       "⎜⎢       ⎥       ⎢ ⎥⎟\n",
       "⎜⎢0  0  0⎥       ⎢0⎥⎟\n",
       "⎜⎢       ⎥       ⎢ ⎥⎟\n",
       "⎜⎢0  0  0⎥       ⎢0⎥⎟\n",
       "⎜⎢       ⎥       ⎢ ⎥⎟\n",
       "⎝⎣0  0  0⎦       ⎣0⎦⎠"
      ]
     },
     "execution_count": 6,
     "metadata": {},
     "output_type": "execute_result"
    }
   ],
   "source": [
    "R_p, R_v, R_a = symbols(\"R_p R_v R_a\")\n",
    "vr_x, vr_y, omegar = symbols(\"vr_x, vr_y, \\\\omega\\ r\")\n",
    "# vr_x = 0\n",
    "# vr_y = 0\n",
    "# R_p = (x[0]**2 + x[1]**2)**0.5\n",
    "# R_v = (x[2]**2 + x[3]**2)**0.5\n",
    "# R_a = (x[4]**2 + x[5]**2)**0.5\n",
    "# omegar = rad(90)\n",
    "B_t = Matrix([\n",
    "    [0, 0, 0],\n",
    "    [0, 0, 0],\n",
    "    [0, 0, 0],    \n",
    "    [0, 0, 0],\n",
    "    [0, 0, 0],\n",
    "    [0, 0, 0],\n",
    "])\n",
    "# x, (x+B_t*u_t).subs([[p_x, sqrt(2)], [p_y, sqrt(2)], [v_x, 2], [v_y, 0], [a_x, 2], [a_y, 0], [t, 1]]) # sqrt(2)\n",
    "B_t, u_t, B_t*u_t"
   ]
  },
  {
   "cell_type": "code",
   "execution_count": 7,
   "metadata": {
    "collapsed": false
   },
   "outputs": [
    {
     "data": {
      "image/png": "[encoded data removed]",
      "text/latex": [
       "$$\\left[\\begin{matrix}0.5 a_{x} t^{2} + p_{x} + t v_{x}\\\\0.5 a_{y} t^{2} + p_{y} + t v_{y}\\\\a_{x} t + v_{x}\\\\a_{y} t + v_{y}\\\\a_{x}\\\\a_{y}\\end{matrix}\\right]$$"
      ],
      "text/plain": [
       "⎡         2              ⎤\n",
       "⎢ 0.5⋅aₓ⋅t  + pₓ + t⋅vₓ  ⎥\n",
       "⎢                        ⎥\n",
       "⎢         2              ⎥\n",
       "⎢0.5⋅a_y⋅t  + p_y + t⋅v_y⎥\n",
       "⎢                        ⎥\n",
       "⎢       aₓ⋅t + vₓ        ⎥\n",
       "⎢                        ⎥\n",
       "⎢      a_y⋅t + v_y       ⎥\n",
       "⎢                        ⎥\n",
       "⎢           aₓ           ⎥\n",
       "⎢                        ⎥\n",
       "⎣          a_y           ⎦"
      ]
     },
     "execution_count": 7,
     "metadata": {},
     "output_type": "execute_result"
    }
   ],
   "source": [
    "eq = A_t*x + B_t*u_t\n",
    "eq"
   ]
  },
  {
   "cell_type": "code",
   "execution_count": 8,
   "metadata": {
    "collapsed": false
   },
   "outputs": [
    {
     "data": {
      "image/png": "[encoded data removed]",
      "text/latex": [
       "$$\\left[\\begin{matrix}1.5\\\\0\\\\2\\\\0\\\\1\\\\0\\end{matrix}\\right]$$"
      ],
      "text/plain": [
       "⎡1.5⎤\n",
       "⎢   ⎥\n",
       "⎢ 0 ⎥\n",
       "⎢   ⎥\n",
       "⎢ 2 ⎥\n",
       "⎢   ⎥\n",
       "⎢ 0 ⎥\n",
       "⎢   ⎥\n",
       "⎢ 1 ⎥\n",
       "⎢   ⎥\n",
       "⎣ 0 ⎦"
      ]
     },
     "execution_count": 8,
     "metadata": {},
     "output_type": "execute_result"
    }
   ],
   "source": [
    "# eq = eq.subs([[f_vr_x, 0], [f_vr_y, 0], [f_omegar, 0]]) # Sem movimentos do robô\n",
    "eq = eq.subs(t, 1) # delta de tempo 1s\n",
    "eq = eq.subs([[omegar, pi/2]]) # Velocidade angular do robo\n",
    "eq = eq.subs([[vr_x, 0], [vr_y, 0]]) # Velocidade em x e y do robo\n",
    "\n",
    "eq = eq.subs([[p_x, 0], [p_y, 0]]) # Posição incial objeto 0, 0\n",
    "eq = eq.subs([[v_x, 1], [v_y, 0]]) # velocidade incial objeto 1, 1\n",
    "eq = eq.subs([[a_x, 1], [a_y, 0]]) # aceleração incial objeto 1, 1\n",
    "eq"
   ]
  },
  {
   "cell_type": "code",
   "execution_count": 9,
   "metadata": {
    "collapsed": false
   },
   "outputs": [
    {
     "data": {
      "image/png": "[encoded data removed]",
      "text/latex": [
       "$$\\left[\\begin{matrix}2\\\\0\\\\0\\\\0\\\\0\\\\0\\end{matrix}\\right]$$"
      ],
      "text/plain": [
       "⎡2⎤\n",
       "⎢ ⎥\n",
       "⎢0⎥\n",
       "⎢ ⎥\n",
       "⎢0⎥\n",
       "⎢ ⎥\n",
       "⎢0⎥\n",
       "⎢ ⎥\n",
       "⎢0⎥\n",
       "⎢ ⎥\n",
       "⎣0⎦"
      ]
     },
     "execution_count": 9,
     "metadata": {},
     "output_type": "execute_result"
    }
   ],
   "source": [
    "eq = A_t*x + B_t*u_t\n",
    "eq = eq.subs([[f_vr_x, 1], [f_vr_y, 1], [f_omegar, 1]]) # Com movimentos do robô\n",
    "eq = eq.subs([[vr_x, 0], [vr_y, 1], [omegar, rad(180)]]) # Velocidade robô\n",
    "eq = eq.subs(t, 1) # delta de tempo 1s\n",
    "eq = eq.subs(R_p, (p_x**2 + p_y**2)**0.5) # Calculando R\n",
    "eq = eq.subs([[p_x, 2], [p_y, 0]]) # Posição incial objeto 2, 0\n",
    "eq = eq.subs([[v_x, 0], [v_y, 0]]) # velocidade incial objeto 0, 0\n",
    "eq = eq.subs([[a_x, 0], [a_y, 0]]) # velocidade incial objeto 0, 0\n",
    "eq"
   ]
  },
  {
   "cell_type": "code",
   "execution_count": 10,
   "metadata": {
    "collapsed": false
   },
   "outputs": [
    {
     "data": {
      "image/png": "[encoded data removed]",
      "text/latex": [
       "$$\\left[\\begin{matrix}0.5 a_{x} t^{2} + p_{x} + t v_{x}\\\\0.5 a_{y} t^{2} + p_{y} + t v_{y}\\\\a_{x} t + v_{x}\\\\a_{y} t + v_{y}\\\\a_{x}\\\\a_{y}\\end{matrix}\\right]$$"
      ],
      "text/plain": [
       "⎡         2              ⎤\n",
       "⎢ 0.5⋅aₓ⋅t  + pₓ + t⋅vₓ  ⎥\n",
       "⎢                        ⎥\n",
       "⎢         2              ⎥\n",
       "⎢0.5⋅a_y⋅t  + p_y + t⋅v_y⎥\n",
       "⎢                        ⎥\n",
       "⎢       aₓ⋅t + vₓ        ⎥\n",
       "⎢                        ⎥\n",
       "⎢      a_y⋅t + v_y       ⎥\n",
       "⎢                        ⎥\n",
       "⎢           aₓ           ⎥\n",
       "⎢                        ⎥\n",
       "⎣          a_y           ⎦"
      ]
     },
     "execution_count": 10,
     "metadata": {},
     "output_type": "execute_result"
    }
   ],
   "source": [
    "eq = A_t*x + B_t*u_t\n",
    "eq"
   ]
  },
  {
   "cell_type": "markdown",
   "metadata": {
    "collapsed": false
   },
   "source": [
    "## Atualização"
   ]
  },
  {
   "cell_type": "code",
   "execution_count": 11,
   "metadata": {
    "collapsed": false
   },
   "outputs": [
    {
     "data": {
      "image/png": "[encoded data removed]",
      "text/latex": [
       "$$\\left[\\begin{matrix}z_{p_{x}}\\\\z_{p_{y}}\\end{matrix}\\right]$$"
      ],
      "text/plain": [
       "⎡z_{p_{x}}⎤\n",
       "⎢         ⎥\n",
       "⎣z_{p_{y}}⎦"
      ]
     },
     "execution_count": 11,
     "metadata": {},
     "output_type": "execute_result"
    }
   ],
   "source": [
    "z_p_x, z_p_y = symbols('z_{p_{x}} z_{p_{y}}')\n",
    "z = Matrix([\n",
    "        [z_p_x],\n",
    "        [z_p_y]\n",
    "    ])\n",
    "z"
   ]
  },
  {
   "cell_type": "code",
   "execution_count": 12,
   "metadata": {
    "collapsed": false
   },
   "outputs": [
    {
     "data": {
      "image/png": "[encoded data removed]",
      "text/latex": [
       "$$\\left[\\begin{matrix}1 & 0 & 0 & 0 & 0 & 0\\\\0 & 1 & 0 & 0 & 0 & 0\\end{matrix}\\right]$$"
      ],
      "text/plain": [
       "⎡1  0  0  0  0  0⎤\n",
       "⎢                ⎥\n",
       "⎣0  1  0  0  0  0⎦"
      ]
     },
     "execution_count": 12,
     "metadata": {},
     "output_type": "execute_result"
    }
   ],
   "source": [
    "C_t = Matrix([\n",
    "        [1, 0, 0, 0, 0, 0],\n",
    "        [0, 1, 0, 0, 0, 0]\n",
    "    ])\n",
    "C_t"
   ]
  },
  {
   "cell_type": "code",
   "execution_count": 13,
   "metadata": {
    "collapsed": false
   },
   "outputs": [
    {
     "data": {
      "image/png": "[encoded data removed]",
      "text/latex": [
       "$$\\left[\\begin{matrix}1.0 \\cdot 10^{99} & 0.0 & 0.0 & 0.0 & 0.0 & 0.0\\\\0.0 & 1.0 \\cdot 10^{99} & 0.0 & 0.0 & 0.0 & 0.0\\\\0.0 & 0.0 & 1.0 \\cdot 10^{99} & 0.0 & 0.0 & 0.0\\\\0.0 & 0.0 & 0.0 & 1.0 \\cdot 10^{99} & 0.0 & 0.0\\\\0.0 & 0.0 & 0.0 & 0.0 & 1.0 \\cdot 10^{99} & 0.0\\\\0.0 & 0.0 & 0.0 & 0.0 & 0.0 & 1.0 \\cdot 10^{99}\\end{matrix}\\right]$$"
      ],
      "text/plain": [
       "⎡1.0e+99    0.0      0.0      0.0      0.0      0.0  ⎤\n",
       "⎢                                                    ⎥\n",
       "⎢  0.0    1.0e+99    0.0      0.0      0.0      0.0  ⎥\n",
       "⎢                                                    ⎥\n",
       "⎢  0.0      0.0    1.0e+99    0.0      0.0      0.0  ⎥\n",
       "⎢                                                    ⎥\n",
       "⎢  0.0      0.0      0.0    1.0e+99    0.0      0.0  ⎥\n",
       "⎢                                                    ⎥\n",
       "⎢  0.0      0.0      0.0      0.0    1.0e+99    0.0  ⎥\n",
       "⎢                                                    ⎥\n",
       "⎣  0.0      0.0      0.0      0.0      0.0    1.0e+99⎦"
      ]
     },
     "execution_count": 13,
     "metadata": {},
     "output_type": "execute_result"
    }
   ],
   "source": [
    "import numpy as np\n",
    "Sigma = symbols('\\\\Sigma_t')\n",
    "Sigma = Matrix(np.identity(6) * 1.0/1e-99)\n",
    "Sigma"
   ]
  },
  {
   "cell_type": "code",
   "execution_count": null,
   "metadata": {
    "collapsed": false
   },
   "outputs": [],
   "source": []
  },
  {
   "cell_type": "code",
   "execution_count": null,
   "metadata": {
    "collapsed": true
   },
   "outputs": [],
   "source": []
  }
 ],
 "metadata": {
  "kernelspec": {
   "display_name": "Python 2",
   "language": "python",
   "name": "python2"
  },
  "language_info": {
   "codemirror_mode": {
    "name": "ipython",
    "version": 2
   },
   "file_extension": ".py",
   "mimetype": "text/x-python",
   "name": "python",
   "nbconvert_exporter": "python",
   "pygments_lexer": "ipython2",
   "version": "2.7.6"
  }
 },
 "nbformat": 4,
 "nbformat_minor": 1
}
