{
 "cells": [
  {
   "cell_type": "markdown",
   "metadata": {},
   "source": [
    "# Class to VisualMemoryException\n",
    "Class used to handle system errors\n",
    "doxygen-iPython"
   ]
  },
  {
   "cell_type": "code",
   "execution_count": 1,
   "metadata": {
    "collapsed": true
   },
   "outputs": [],
   "source": [
    "#des-iPython class VisualMemoryException(Exception):\n",
    "#ini-tab -> Iniciando código classe"
   ]
  },
  {
   "cell_type": "markdown",
   "metadata": {},
   "source": [
    "# Constructor Class\n",
    "doxygen-iPython"
   ]
  },
  {
   "cell_type": "code",
   "execution_count": 3,
   "metadata": {
    "collapsed": false
   },
   "outputs": [
    {
     "name": "stdout",
     "output_type": "stream",
     "text": [
      "Solicitação encerramento de processo pela thread Banana\n",
      "Vision System Error:\n"
     ]
    }
   ],
   "source": [
    "numbererror = 5 #debug-iPython\n",
    "message = 'Banana' #debug-iPython\n",
    "#des-iPython def __init__(self, numbererror, message):\n",
    "#ini-tab -> Criando construtor\n",
    "#des-iPython self.numbererror = numbererror\n",
    "if numbererror == 5:\n",
    "    print 'Solicitação encerramento de processo pela thread', message\n",
    "    #des-iPython return\n",
    "print 'Vision System Error:', \n",
    "if numbererror == 0:\n",
    "    print message\n",
    "elif numbererror == 1:\n",
    "    print 'No connected cameras found'\n",
    "elif numbererror == 2:\n",
    "    print 'Unable to connect to port'\n",
    "elif numbererror == 3:\n",
    "    print 'Process kill command detected'"
   ]
  },
  {
   "cell_type": "code",
   "execution_count": null,
   "metadata": {
    "collapsed": false
   },
   "outputs": [],
   "source": [
    "#end-tab -> Finalizando construtor"
   ]
  },
  {
   "cell_type": "code",
   "execution_count": null,
   "metadata": {
    "collapsed": true
   },
   "outputs": [],
   "source": [
    "#end-tab -> Finalizando classe"
   ]
  }
 ],
 "metadata": {
  "kernelspec": {
   "display_name": "Python 2",
   "language": "python",
   "name": "python2"
  },
  "language_info": {
   "codemirror_mode": {
    "name": "ipython",
    "version": 2
   },
   "file_extension": ".py",
   "mimetype": "text/x-python",
   "name": "python",
   "nbconvert_exporter": "python",
   "pygments_lexer": "ipython2",
   "version": "2.7.6"
  }
 },
 "nbformat": 4,
 "nbformat_minor": 1
}
