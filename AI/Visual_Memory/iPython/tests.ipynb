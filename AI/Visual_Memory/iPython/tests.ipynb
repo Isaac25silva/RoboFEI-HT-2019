{
 "cells": [
  {
   "cell_type": "code",
   "execution_count": 1,
   "metadata": {
    "collapsed": true
   },
   "outputs": [],
   "source": [
    "#ini-iPython"
   ]
  },
  {
   "cell_type": "markdown",
   "metadata": {},
   "source": [
    "# Executando no diretório principal"
   ]
  },
  {
   "cell_type": "code",
   "execution_count": 2,
   "metadata": {
    "collapsed": true
   },
   "outputs": [],
   "source": [
    "import os\n",
    "os.chdir('/home/vinicius/Dropbox/Projeto Mestrado/Codigos/RoboFEI-HT_Debug/AI/Visual_Memory') #Executando na pasta Visual_Memory\n",
    "import sys\n",
    "sys.path.append('./include')\n",
    "sys.path.append('./src')\n",
    "sys.path.append('./iPython')\n",
    "#end-iPython"
   ]
  },
  {
   "cell_type": "markdown",
   "metadata": {
    "collapsed": true
   },
   "source": [
    "---- Imports ----"
   ]
  },
  {
   "cell_type": "code",
   "execution_count": 3,
   "metadata": {
    "collapsed": true
   },
   "outputs": [],
   "source": [
    "# Libraries to be used.\n",
    "import sys\n",
    "#des-iPython sys.path.append('../include')\n",
    "#des-iPython sys.path.append('../src')"
   ]
  },
  {
   "cell_type": "code",
   "execution_count": 4,
   "metadata": {
    "collapsed": true
   },
   "outputs": [],
   "source": [
    "# The standard libraries used in the vision system.\n"
   ]
  },
  {
   "cell_type": "code",
   "execution_count": 5,
   "metadata": {
    "collapsed": false
   },
   "outputs": [],
   "source": [
    "# Used class developed by RoboFEI-HT.\n",
    "from Landmark import *\n",
    "sym.init_printing() #debug-iPython"
   ]
  },
  {
   "cell_type": "code",
   "execution_count": 6,
   "metadata": {
    "collapsed": false
   },
   "outputs": [
    {
     "name": "stdout",
     "output_type": "stream",
     "text": [
      "KALMAN FILTER - LANDMARKS section not found!\n"
     ]
    }
   ],
   "source": [
    "me = Speeds( )\n",
    "land = Landmark(me)"
   ]
  },
  {
   "cell_type": "code",
   "execution_count": 7,
   "metadata": {
    "collapsed": false
   },
   "outputs": [
    {
     "name": "stdout",
     "output_type": "stream",
     "text": [
      "{'time': 0.0, 'pos': [5.937566202431989, -0.9142391744904551], 'target': 1, 'movement': 1} \n",
      "\n",
      "Matrix([[5.94], [-0.914], [0], [0], [0], [0]]) Matrix([\n",
      "[0.1,   0,      0,      0,      0,      0],\n",
      "[  0, 0.1,      0,      0,      0,      0],\n",
      "[  0,   0, 1.0e+3,      0,      0,      0],\n",
      "[  0,   0,      0, 1.0e+3,      0,      0],\n",
      "[  0,   0,      0,      0, 1.0e+3,      0],\n",
      "[  0,   0,      0,      0,      0, 1.0e+3]]) \n",
      "\n",
      "{'time': 0.25, 'pos': [5.547312472685771, -1.0652010012752238], 'target': 1, 'movement': 1} \n",
      "\n",
      "Matrix([[5.55], [-1.06], [-1.58], [-0.612], [-0.191], [-0.0741]]) Matrix([\n",
      "[0.0998,      0, 0.405,     0, 0.0491,      0],\n",
      "[     0, 0.0998,     0, 0.405,      0, 0.0491],\n",
      "[ 0.405,      0,  18.7,     0,  123.0,      0],\n",
      "[     0,  0.405,     0,  18.7,      0,  123.0],\n",
      "[0.0491,      0, 123.0,     0,  985.0,      0],\n",
      "[     0, 0.0491,     0, 123.0,      0,  985.0]]) \n",
      "\n",
      "{'time': 0.5, 'pos': [5.281908169781025, -1.1837596902083567], 'target': 1, 'movement': 1} \n",
      "\n",
      "Matrix([[5.28], [-1.18], [-0.892], [-0.431], [1.67], [0.429]]) Matrix([\n",
      "[0.0978,      0, 0.546,     0,  1.38,     0],\n",
      "[     0, 0.0978,     0, 0.546,     0,  1.38],\n",
      "[ 0.546,      0,  9.07,     0,  33.0,     0],\n",
      "[     0,  0.546,     0,  9.07,     0,  33.0],\n",
      "[  1.38,      0,  33.0,     0, 132.0,     0],\n",
      "[     0,   1.38,     0,  33.0,     0, 132.0]]) \n",
      "\n",
      "{'time': 0.75, 'pos': [4.782495056616743, -1.393356984989815], 'target': 1, 'movement': 1} \n",
      "\n",
      "Matrix([[4.80], [-1.39], [-1.82], [-0.795], [-0.867], [-0.461]]) Matrix([\n",
      "[0.0943,      0, 0.412,     0, 0.778,     0],\n",
      "[     0, 0.0943,     0, 0.412,     0, 0.778],\n",
      "[ 0.412,      0,  3.82,     0,  9.33,     0],\n",
      "[     0,  0.412,     0,  3.82,     0,  9.33],\n",
      "[ 0.778,      0,  9.33,     0,  24.9,     0],\n",
      "[     0,  0.778,     0,  9.33,     0,  24.9]]) \n",
      "\n",
      "{'time': 1.0, 'pos': [4.481778804248519, -1.3339596969542842], 'target': 1, 'movement': 1} \n",
      "\n",
      "Matrix([[4.46], [-1.36], [-1.54], [-0.0943], [-0.132], [0.745]]) Matrix([\n",
      "[0.0883,      0, 0.307,     0, 0.453,     0],\n",
      "[     0, 0.0883,     0, 0.307,     0, 0.453],\n",
      "[ 0.307,      0,  1.97,     0,  3.62,     0],\n",
      "[     0,  0.307,     0,  1.97,     0,  3.62],\n",
      "[ 0.453,      0,  3.62,     0,  7.25,     0],\n",
      "[     0,  0.453,     0,  3.62,     0,  7.25]]) \n",
      "\n",
      "{'time': 1.25, 'pos': [4.1228236892225905, -1.5328945032401888], 'target': 1, 'movement': 1} \n",
      "\n",
      "Matrix([[4.11], [-1.50], [-1.46], [-0.381], [0], [-0.461]]) Matrix([\n",
      "[0.082,     0, 0.235,     0, 0.285,     0],\n",
      "[    0, 0.082,     0, 0.235,     0, 0.285],\n",
      "[0.235,     0,  1.16,     0,  1.71,     0],\n",
      "[    0, 0.235,     0,  1.16,     0,  1.71],\n",
      "[0.285,     0,  1.71,     0,  2.73,     0],\n",
      "[    0, 0.285,     0,  1.71,     0,  2.73]]) \n",
      "\n",
      "{'time': 1.5, 'pos': [3.742173339214736, -1.5648817836327202], 'target': 1, 'movement': 1} \n",
      "\n",
      "Matrix([[3.74], [-1.58], [-1.47], [-0.406], [0], [-0.369]]) Matrix([\n",
      "[0.0761,      0, 0.185,     0,  0.19,     0],\n",
      "[     0, 0.0761,     0, 0.185,     0,  0.19],\n",
      "[ 0.185,      0, 0.742,     0, 0.913,     0],\n",
      "[     0,  0.185,     0, 0.742,     0, 0.913],\n",
      "[  0.19,      0, 0.913,     0,  1.22,     0],\n",
      "[     0,   0.19,     0, 0.913,     0,  1.22]]) \n",
      "\n",
      "{'time': 1.75, 'pos': [3.289099684617114, -1.8095775313146145], 'target': 1, 'movement': 1} \n",
      "\n",
      "Matrix([[3.31], [-1.77], [-1.60], [-0.678], [-0.116], [-0.529]]) Matrix([\n",
      "[0.0708,      0,  0.15,     0, 0.133,     0],\n",
      "[     0, 0.0708,     0,  0.15,     0, 0.133],\n",
      "[  0.15,      0, 0.504,     0, 0.533,     0],\n",
      "[     0,   0.15,     0, 0.504,     0, 0.533],\n",
      "[ 0.133,      0, 0.533,     0, 0.609,     0],\n",
      "[     0,  0.133,     0, 0.533,     0, 0.609]]) \n",
      "\n",
      "{'time': 2.0, 'pos': [2.932135882984017, -1.9264890242926047], 'target': 1, 'movement': 1} \n",
      "\n",
      "Matrix([[2.92], [-1.94], [-1.60], [-0.768], [-0.0953], [-0.496]]) Matrix([\n",
      "[ 0.066,      0, 0.124,     0, 0.0969,      0],\n",
      "[     0,  0.066,     0, 0.124,      0, 0.0969],\n",
      "[ 0.124,      0, 0.359,     0,  0.332,      0],\n",
      "[     0,  0.124,     0, 0.359,      0,  0.332],\n",
      "[0.0969,      0, 0.332,     0,  0.332,      0],\n",
      "[     0, 0.0969,     0, 0.332,      0,  0.332]]) \n",
      "\n",
      "{'time': 2.25, 'pos': [2.464402175451017, -1.839503003473037], 'target': 1, 'movement': 1} \n",
      "\n",
      "Matrix([[2.49], [-1.96], [-1.69], [-0.575], [-0.136], [-0.273]]) Matrix([\n",
      "[0.0618,      0, 0.104,     0, 0.0727,      0],\n",
      "[     0, 0.0618,     0, 0.104,      0, 0.0727],\n",
      "[ 0.104,      0, 0.265,     0,  0.218,      0],\n",
      "[     0,  0.104,     0, 0.265,      0,  0.218],\n",
      "[0.0727,      0, 0.218,     0,  0.194,      0],\n",
      "[     0, 0.0727,     0, 0.218,      0,  0.194]]) \n",
      "\n",
      "{'time': 2.5, 'pos': [2.1073568335727813, -2.0429976349964267], 'target': 1, 'movement': 1} \n",
      "\n",
      "Matrix([[2.09], [-2.07], [-1.68], [-0.585], [-0.110], [-0.236]]) Matrix([\n",
      "[ 0.058,      0, 0.0881,      0, 0.0559,      0],\n",
      "[     0,  0.058,      0, 0.0881,      0, 0.0559],\n",
      "[0.0881,      0,  0.201,      0,  0.149,      0],\n",
      "[     0, 0.0881,      0,  0.201,      0,  0.149],\n",
      "[0.0559,      0,  0.149,      0,  0.119,      0],\n",
      "[     0, 0.0559,      0,  0.149,      0,  0.119]]) \n",
      "\n",
      "{'time': 2.75, 'pos': [1.671213619093547, -2.0472466095432855], 'target': 1, 'movement': 1} \n",
      "\n",
      "Matrix([[1.67], [-2.13], [-1.70], [-0.510], [-0.107], [-0.159]]) Matrix([\n",
      "[0.0547,      0, 0.0758,      0, 0.0439,      0],\n",
      "[     0, 0.0547,      0, 0.0758,      0, 0.0439],\n",
      "[0.0758,      0,  0.156,      0,  0.105,      0],\n",
      "[     0, 0.0758,      0,  0.156,      0,  0.105],\n",
      "[0.0439,      0,  0.105,      0, 0.0767,      0],\n",
      "[     0, 0.0439,      0,  0.105,      0, 0.0767]]) \n",
      "\n",
      "{'time': 3.0, 'pos': [1.2876429578821145, -2.2330244813777087], 'target': 1, 'movement': 1} \n",
      "\n",
      "Matrix([[1.26], [-2.25], [-1.70], [-0.532], [-0.0899], [-0.149]]) Matrix([\n",
      "[0.0516,      0, 0.0659,      0, 0.0352,      0],\n",
      "[     0, 0.0516,      0, 0.0659,      0, 0.0352],\n",
      "[0.0659,      0,  0.124,      0, 0.0767,      0],\n",
      "[     0, 0.0659,      0,  0.124,      0, 0.0767],\n",
      "[0.0352,      0, 0.0767,      0, 0.0511,      0],\n",
      "[     0, 0.0352,      0, 0.0767,      0, 0.0511]]) \n",
      "\n",
      "{'time': 3.5, 'pos': [0.47069370646728853, -2.412729775574628], 'target': 1, 'movement': 1} \n",
      "\n",
      "Matrix([[0.446], [-2.46], [-1.70], [-0.528], [-0.0704], [-0.114]]) Matrix([\n",
      "[0.0627,      0, 0.0663,      0, 0.0298,      0],\n",
      "[     0, 0.0627,      0, 0.0663,      0, 0.0298],\n",
      "[0.0663,      0, 0.0958,      0, 0.0493,      0],\n",
      "[     0, 0.0663,      0, 0.0958,      0, 0.0493],\n",
      "[0.0298,      0, 0.0493,      0, 0.0273,      0],\n",
      "[     0, 0.0298,      0, 0.0493,      0, 0.0273]]) \n",
      "\n"
     ]
    }
   ],
   "source": [
    "import random\n",
    "random.seed(time.time())\n",
    "\n",
    "# Vx = 1.4  Vy = -0.1  omega = 5\n",
    "lista = [\n",
    "    {\"movement\": 1, \"target\": 1, \"pos\": [+6.00, -1.00], \"time\": 0.0,},\n",
    "    {\"movement\": 1, \"target\": 1, \"pos\": [+5.63, -1.11], \"time\": 0.25,},\n",
    "    {\"movement\": 1, \"target\": 1, \"pos\": [+5.25, -1.21], \"time\": 0.5,},\n",
    "    {\"movement\": 1, \"target\": 1, \"pos\": [+4.87, -1.32], \"time\": 0.75,},\n",
    "    {\"movement\": 1, \"target\": 1, \"pos\": [+4.49, -1.42], \"time\": 1.0,},\n",
    "    {\"movement\": 1, \"target\": 1, \"pos\": [+4.11, -1.52], \"time\": 1.25,},\n",
    "    {\"movement\": 1, \"target\": 1, \"pos\": [+3.72, -1.62], \"time\": 1.5,},\n",
    "    {\"movement\": 1, \"target\": 1, \"pos\": [+3.33, -1.73], \"time\": 1.75,},\n",
    "    {\"movement\": 1, \"target\": 1, \"pos\": [+2.94, -1.83], \"time\": 2.0,},\n",
    "    {\"movement\": 1, \"target\": 1, \"pos\": [+2.54, -1.93], \"time\": 2.25,},\n",
    "    {\"movement\": 1, \"target\": 1, \"pos\": [+2.14, -2.02], \"time\": 2.5,},\n",
    "    {\"movement\": 1, \"target\": 1, \"pos\": [+1.74, -2.12], \"time\": 2.75,},\n",
    "    {\"movement\": 1, \"target\": 1, \"pos\": [+1.34, -2.22], \"time\": 3.0,},\n",
    "    {\"movement\": 1, \"target\": 1, \"pos\": [+0.52, -2.41], \"time\": 3.5,},\n",
    "]\n",
    "\n",
    "for x in xrange(len(lista)):\n",
    "    lista[x][\"pos\"][0] += -land._parameters[\"vision_error\"] + 2*land._parameters[\"vision_error\"]*random.random()\n",
    "    lista[x][\"pos\"][1] += -land._parameters[\"vision_error\"] + 2*land._parameters[\"vision_error\"]*random.random()\n",
    "\n",
    "vx = 1\n",
    "vy = 0\n",
    "\n",
    "for data in lista:\n",
    "    print data, \"\\n\"\n",
    "    me.update(land.update(data))\n",
    "    print land._predictedstate[\"x\"].evalf(3), land._predictedstate[\"covariance\"].evalf(3), \"\\n\"\n",
    "#     land.predict(tnow=data[\"time\"]+1, movements=data[\"movement\"])\n",
    "#     print land._predictedstate[\"x\"].evalf(3), land._predictedstate[\"covariance\"].evalf(3), \"\\n\""
   ]
  },
  {
   "cell_type": "code",
   "execution_count": 8,
   "metadata": {
    "collapsed": false
   },
   "outputs": [],
   "source": [
    "land._end( )"
   ]
  },
  {
   "cell_type": "code",
   "execution_count": 9,
   "metadata": {
    "collapsed": false
   },
   "outputs": [
    {
     "name": "stdout",
     "output_type": "stream",
     "text": [
      "Matrix([[-4.02], [-4.13], [-1.87], [-0.813], [-0.0704], [-0.114]]) Matrix([\n",
      "[ 2.22,     0,  1.06,     0,  0.238,      0],\n",
      "[    0,  2.22,     0,  1.06,      0,  0.238],\n",
      "[ 1.06,     0, 0.513,     0,  0.118,      0],\n",
      "[    0,  1.06,     0, 0.513,      0,  0.118],\n",
      "[0.238,     0, 0.118,     0, 0.0273,      0],\n",
      "[    0, 0.238,     0, 0.118,      0, 0.0273]]) \n",
      "\n"
     ]
    }
   ],
   "source": [
    "land.predict(tnow=lista[len(lista)-1][\"time\"]+2.5, movements=data[\"movement\"])\n",
    "print land._predictedstate[\"x\"].evalf(3), land._predictedstate[\"covariance\"].evalf(3), \"\\n\""
   ]
  },
  {
   "cell_type": "code",
   "execution_count": 10,
   "metadata": {
    "collapsed": false,
    "scrolled": true
   },
   "outputs": [
    {
     "data": {
      "image/png": "[encoded data removed]",
      "text/latex": [
       "$$\\left[\\begin{matrix}0\\\\0\\\\0\\\\0\\\\1\\end{matrix}\\right]$$"
      ],
      "text/plain": [
       "⎡0⎤\n",
       "⎢ ⎥\n",
       "⎢0⎥\n",
       "⎢ ⎥\n",
       "⎢0⎥\n",
       "⎢ ⎥\n",
       "⎢0⎥\n",
       "⎢ ⎥\n",
       "⎣1⎦"
      ]
     },
     "execution_count": 10,
     "metadata": {},
     "output_type": "execute_result"
    }
   ],
   "source": [
    "me[1]['x_speed']"
   ]
  }
 ],
 "metadata": {
  "kernelspec": {
   "display_name": "Python 2",
   "language": "python",
   "name": "python2"
  },
  "language_info": {
   "codemirror_mode": {
    "name": "ipython",
    "version": 2
   },
   "file_extension": ".py",
   "mimetype": "text/x-python",
   "name": "python",
   "nbconvert_exporter": "python",
   "pygments_lexer": "ipython2",
   "version": "2.7.6"
  }
 },
 "nbformat": 4,
 "nbformat_minor": 2
}
