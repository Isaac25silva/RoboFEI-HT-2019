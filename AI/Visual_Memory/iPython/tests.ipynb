{
 "cells": [
  {
   "cell_type": "code",
   "execution_count": 1,
   "metadata": {
    "collapsed": true
   },
   "outputs": [],
   "source": [
    "#ini-iPython"
   ]
  },
  {
   "cell_type": "markdown",
   "metadata": {},
   "source": [
    "# Executando no diretório principal"
   ]
  },
  {
   "cell_type": "code",
   "execution_count": 2,
   "metadata": {
    "collapsed": true
   },
   "outputs": [],
   "source": [
    "import os\n",
    "os.chdir('/home/vinicius/Dropbox/Projeto Mestrado/Codigos/RoboFEI-HT_Debug/AI/Visual_Memory') #Executando na pasta Visual_Memory\n",
    "import sys\n",
    "sys.path.append('./include')\n",
    "sys.path.append('./src')\n",
    "sys.path.append('./iPython')\n",
    "#end-iPython"
   ]
  },
  {
   "cell_type": "markdown",
   "metadata": {
    "collapsed": true
   },
   "source": [
    "---- Imports ----"
   ]
  },
  {
   "cell_type": "code",
   "execution_count": 3,
   "metadata": {
    "collapsed": true
   },
   "outputs": [],
   "source": [
    "# Libraries to be used.\n",
    "import sys\n",
    "#des-iPython sys.path.append('../include')\n",
    "#des-iPython sys.path.append('../src')"
   ]
  },
  {
   "cell_type": "code",
   "execution_count": 4,
   "metadata": {
    "collapsed": true
   },
   "outputs": [],
   "source": [
    "# The standard libraries used in the vision system.\n"
   ]
  },
  {
   "cell_type": "code",
   "execution_count": 5,
   "metadata": {
    "collapsed": false
   },
   "outputs": [],
   "source": [
    "# Used class developed by RoboFEI-HT.\n",
    "from Landmark import *\n",
    "sym.init_printing() #debug-iPython"
   ]
  },
  {
   "cell_type": "code",
   "execution_count": 6,
   "metadata": {
    "collapsed": false
   },
   "outputs": [],
   "source": [
    "me = Speeds( )\n",
    "land = Landmark(me)"
   ]
  },
  {
   "cell_type": "code",
   "execution_count": 7,
   "metadata": {
    "collapsed": false
   },
   "outputs": [
    {
     "name": "stdout",
     "output_type": "stream",
     "text": [
      "{'time': 0.5, 'pos': [5.50007911162138, 2.9499859119234153], 'target': 1, 'movement': 1} \n",
      "\n",
      "Matrix([[5.50], [2.95], [0], [0], [0], [0]]) Matrix([\n",
      "[0.0001,      0,      0,      0,      0,      0],\n",
      "[     0, 0.0001,      0,      0,      0,      0],\n",
      "[     0,      0, 1.0e+3,      0,      0,      0],\n",
      "[     0,      0,      0, 1.0e+3,      0,      0],\n",
      "[     0,      0,      0,      0, 1.0e+3,      0],\n",
      "[     0,      0,      0,      0,      0, 1.0e+3]]) \n",
      "\n",
      "{'time': 1.5, 'pos': [4.499933550171196, 2.8499968848201003], 'target': 1, 'movement': 1} \n",
      "\n",
      "Matrix([[4.50], [2.85], [-1.20], [-0.120], [-0.400], [-0.0400]]) Matrix([\n",
      "[ 0.0001,       0, 0.00012,       0, 4.0e-5,      0],\n",
      "[      0,  0.0001,       0, 0.00012,      0, 4.0e-5],\n",
      "[0.00012,       0,   200.0,       0,  400.0,      0],\n",
      "[      0, 0.00012,       0,   200.0,      0,  400.0],\n",
      "[ 4.0e-5,       0,   400.0,       0,  800.0,      0],\n",
      "[      0,  4.0e-5,       0,   400.0,      0,  800.0]]) \n",
      "\n",
      "{'time': 2.5, 'pos': [3.500084778960362, 2.749983363516764], 'target': 1, 'movement': 1} \n",
      "\n",
      "Matrix([[3.50], [2.75], [-1.00], [-0.100], [0.000296], [0]]) Matrix([\n",
      "[ 0.0001,       0, 0.00015,       0, 0.0001,      0],\n",
      "[      0,  0.0001,       0, 0.00015,      0, 0.0001],\n",
      "[0.00015,       0, 0.00065,       0, 0.0006,      0],\n",
      "[      0, 0.00015,       0, 0.00065,      0, 0.0006],\n",
      "[ 0.0001,       0,  0.0006,       0, 0.0006,      0],\n",
      "[      0,  0.0001,       0,  0.0006,      0, 0.0006]]) \n",
      "\n",
      "{'time': 3.0, 'pos': [3.0000766734171447, 2.7000983230928295], 'target': 1, 'movement': 1} \n",
      "\n",
      "Matrix([[3.00], [2.70], [-1.00], [-0.0999], [0.000147], [9.77e-5]]) Matrix([\n",
      "[ 8.39e-5,        0, 0.000127,        0,  7.64e-5,        0],\n",
      "[       0,  8.39e-5,        0, 0.000127,        0,  7.64e-5],\n",
      "[0.000127,        0, 0.000403,        0, 0.000299,        0],\n",
      "[       0, 0.000127,        0, 0.000403,        0, 0.000299],\n",
      "[ 7.64e-5,        0, 0.000299,        0, 0.000237,        0],\n",
      "[       0,  7.64e-5,        0, 0.000299,        0, 0.000237]]) \n",
      "\n",
      "{'time': 3.5, 'pos': [2.4999566784316065, 2.6500250774822374], 'target': 1, 'movement': 1} \n",
      "\n",
      "Matrix([[2.50], [2.65], [-1.00], [-0.100], [0], [0]]) Matrix([\n",
      "[ 7.88e-5,        0, 0.000105,        0, 5.42e-5,       0],\n",
      "[       0,  7.88e-5,        0, 0.000105,       0, 5.42e-5],\n",
      "[0.000105,        0, 0.000245,        0, 0.00015,       0],\n",
      "[       0, 0.000105,        0, 0.000245,       0, 0.00015],\n",
      "[ 5.42e-5,        0,  0.00015,        0, 9.89e-5,       0],\n",
      "[       0,  5.42e-5,        0,  0.00015,       0, 9.89e-5]]) \n",
      "\n",
      "{'time': 4.0, 'pos': [1.9999787935462612, 2.6000610582954216], 'target': 1, 'movement': 1} \n",
      "\n",
      "Matrix([[2.00], [2.60], [-1.00], [-0.100], [0], [0]]) Matrix([\n",
      "[7.36e-5,       0,  8.37e-5,        0, 3.74e-5,       0],\n",
      "[      0, 7.36e-5,        0,  8.37e-5,       0, 3.74e-5],\n",
      "[8.37e-5,       0, 0.000155,        0, 8.11e-5,       0],\n",
      "[      0, 8.37e-5,        0, 0.000155,       0, 8.11e-5],\n",
      "[3.74e-5,       0,  8.11e-5,        0,  4.6e-5,       0],\n",
      "[      0, 3.74e-5,        0,  8.11e-5,       0,  4.6e-5]]) \n",
      "\n",
      "{'time': 4.5, 'pos': [1.4999590585077878, 2.5499401610593964], 'target': 1, 'movement': 1} \n",
      "\n",
      "Matrix([[1.50], [2.55], [-1.00], [-0.100], [0], [0]]) Matrix([\n",
      "[6.84e-5,       0,  6.74e-5,        0, 2.65e-5,       0],\n",
      "[      0, 6.84e-5,        0,  6.74e-5,       0, 2.65e-5],\n",
      "[6.74e-5,       0, 0.000104,        0, 4.77e-5,       0],\n",
      "[      0, 6.74e-5,        0, 0.000104,       0, 4.77e-5],\n",
      "[2.65e-5,       0,  4.77e-5,        0, 2.38e-5,       0],\n",
      "[      0, 2.65e-5,        0,  4.77e-5,       0, 2.38e-5]]) \n",
      "\n",
      "{'time': 5.5, 'pos': [0.5000530039228819, 2.450066540780675], 'target': 1, 'movement': 1} \n",
      "\n",
      "Matrix([[0.500], [2.45], [-1.00], [-0.100], [0], [0]]) Matrix([\n",
      "[7.95e-5,       0, 5.77e-5,       0, 1.77e-5,       0],\n",
      "[      0, 7.95e-5,       0, 5.77e-5,       0, 1.77e-5],\n",
      "[5.77e-5,       0, 6.08e-5,       0, 2.18e-5,       0],\n",
      "[      0, 5.77e-5,       0, 6.08e-5,       0, 2.18e-5],\n",
      "[1.77e-5,       0, 2.18e-5,       0,  8.6e-6,       0],\n",
      "[      0, 1.77e-5,       0, 2.18e-5,       0,  8.6e-6]]) \n",
      "\n",
      "{'time': 6.0, 'pos': [8.772209645375797e-06, 2.4000066939283484], 'target': 1, 'movement': 1} \n",
      "\n",
      "Matrix([[0], [2.40], [-1.00], [-0.100], [0], [0]]) Matrix([\n",
      "[6.15e-5,       0, 4.07e-5,       0, 1.14e-5,       0],\n",
      "[      0, 6.15e-5,       0, 4.07e-5,       0, 1.14e-5],\n",
      "[4.07e-5,       0, 4.17e-5,       0, 1.41e-5,       0],\n",
      "[      0, 4.07e-5,       0, 4.17e-5,       0, 1.41e-5],\n",
      "[1.14e-5,       0, 1.41e-5,       0, 5.22e-6,       0],\n",
      "[      0, 1.14e-5,       0, 1.41e-5,       0, 5.22e-6]]) \n",
      "\n",
      "{'time': 7.0, 'pos': [-1.000087991457932, 2.2999195371372045], 'target': 1, 'movement': 1} \n",
      "\n",
      "Matrix([[-1.00], [2.30], [-1.00], [-0.100], [0], [0]]) Matrix([\n",
      "[6.79e-5,       0, 3.77e-5,       0, 9.02e-6,       0],\n",
      "[      0, 6.79e-5,       0, 3.77e-5,       0, 9.02e-6],\n",
      "[3.77e-5,       0, 3.07e-5,       0, 8.67e-6,       0],\n",
      "[      0, 3.77e-5,       0, 3.07e-5,       0, 8.67e-6],\n",
      "[9.02e-6,       0, 8.67e-6,       0, 2.69e-6,       0],\n",
      "[      0, 9.02e-6,       0, 8.67e-6,       0, 2.69e-6]]) \n",
      "\n"
     ]
    }
   ],
   "source": [
    "import random\n",
    "random.seed(time.time())\n",
    "\n",
    "# # Vx = 1  Vy = 0.1  omega = 2\n",
    "# lista = [\n",
    "#     {\"movement\": 1, \"target\": 1, \"pos\": [+6.00, +3.00], \"time\": 0.0,},\n",
    "# #     {\"movement\": 1, \"target\": 1, \"pos\": [+5.55, +2.84], \"time\": 0.5,},\n",
    "#     {\"movement\": 1, \"target\": 1, \"pos\": [+5.10, +2.69], \"time\": 1.0,},\n",
    "#     {\"movement\": 1, \"target\": 1, \"pos\": [+4.65, +2.53], \"time\": 1.5,},\n",
    "#     {\"movement\": 1, \"target\": 1, \"pos\": [+4.19, +2.37], \"time\": 2.0,},\n",
    "# #     {\"movement\": 1, \"target\": 1, \"pos\": [+3.74, +2.22], \"time\": 2.5,},\n",
    "#     {\"movement\": 1, \"target\": 1, \"pos\": [+3.28, +2.06], \"time\": 3.0,},\n",
    "#     {\"movement\": 1, \"target\": 1, \"pos\": [+2.82, +1.90], \"time\": 3.5,},\n",
    "# #     {\"movement\": 1, \"target\": 1, \"pos\": [+2.36, +1.74], \"time\": 4.0,},\n",
    "#     {\"movement\": 1, \"target\": 1, \"pos\": [+1.90, +1.57], \"time\": 4.5,},\n",
    "#     {\"movement\": 1, \"target\": 1, \"pos\": [+1.43, +1.41], \"time\": 5.0,},\n",
    "#     {\"movement\": 1, \"target\": 1, \"pos\": [+0.96, +1.25], \"time\": 5.5,},\n",
    "#     {\"movement\": 1, \"target\": 1, \"pos\": [+0.49, +1.09], \"time\": 6.0,},\n",
    "# #     {\"movement\": 1, \"target\": 1, \"pos\": [+0.02, +0.92], \"time\": 6.5,},\n",
    "#     {\"movement\": 1, \"target\": 1, \"pos\": [-0.45, +0.76], \"time\": 7.0,},\n",
    "# #     {\"movement\": 1, \"target\": 1, \"pos\": [-0.93, +0.59], \"time\": 7.5,},\n",
    "# ]\n",
    "\n",
    "# Vx = 1  Vy = 0.1  omega = 0\n",
    "lista = [\n",
    "#     {\"movement\": 1, \"target\": 1, \"pos\": [+6.00, +3.00], \"time\": 0.0,},\n",
    "    {\"movement\": 1, \"target\": 1, \"pos\": [+5.50, +2.95], \"time\": 0.5,},\n",
    "#     {\"movement\": 1, \"target\": 1, \"pos\": [+5.00, +2.90], \"time\": 1.0,},\n",
    "    {\"movement\": 1, \"target\": 1, \"pos\": [+4.50, +2.85], \"time\": 1.5,},\n",
    "#     {\"movement\": 1, \"target\": 1, \"pos\": [+4.00, +2.80], \"time\": 2.0,},\n",
    "    {\"movement\": 1, \"target\": 1, \"pos\": [+3.50, +2.75], \"time\": 2.5,},\n",
    "    {\"movement\": 1, \"target\": 1, \"pos\": [+3.00, +2.70], \"time\": 3.0,},\n",
    "    {\"movement\": 1, \"target\": 1, \"pos\": [+2.50, +2.65], \"time\": 3.5,},\n",
    "    {\"movement\": 1, \"target\": 1, \"pos\": [+2.00, +2.60], \"time\": 4.0,},\n",
    "    {\"movement\": 1, \"target\": 1, \"pos\": [+1.50, +2.55], \"time\": 4.5,},\n",
    "#     {\"movement\": 1, \"target\": 1, \"pos\": [+1.00, +2.50], \"time\": 5.0,},\n",
    "    {\"movement\": 1, \"target\": 1, \"pos\": [+0.50, +2.45], \"time\": 5.5,},\n",
    "    {\"movement\": 1, \"target\": 1, \"pos\": [+0.00, +2.40], \"time\": 6.0,},\n",
    "#     {\"movement\": 1, \"target\": 1, \"pos\": [-0.50, +2.35], \"time\": 6.5,},\n",
    "    {\"movement\": 1, \"target\": 1, \"pos\": [-1.00, +2.30], \"time\": 7.0,},\n",
    "#     {\"movement\": 1, \"target\": 1, \"pos\": [-1.50, +2.25], \"time\": 7.5,},\n",
    "]\n",
    "\n",
    "for x in xrange(len(lista)):\n",
    "    lista[x][\"pos\"][0] += -land._parameters[\"vision_error\"] + 2*land._parameters[\"vision_error\"]*random.random()\n",
    "    lista[x][\"pos\"][1] += -land._parameters[\"vision_error\"] + 2*land._parameters[\"vision_error\"]*random.random()\n",
    "\n",
    "vx = 1\n",
    "vy = 0\n",
    "\n",
    "for data in lista:\n",
    "    print data, \"\\n\"\n",
    "#     land.update(data)\n",
    "    me.update(land.update(data))\n",
    "    print land._predictedstate[\"x\"].evalf(3), land._predictedstate[\"covariance\"].evalf(3), \"\\n\"\n",
    "#     land.predict(tnow=data[\"time\"]+1, movements=data[\"movement\"])\n",
    "#     print land._predictedstate[\"x\"].evalf(3), land._predictedstate[\"covariance\"].evalf(3), \"\\n\""
   ]
  },
  {
   "cell_type": "code",
   "execution_count": 8,
   "metadata": {
    "collapsed": false
   },
   "outputs": [],
   "source": [
    "land._end( )"
   ]
  },
  {
   "cell_type": "code",
   "execution_count": 9,
   "metadata": {
    "collapsed": false
   },
   "outputs": [
    {
     "name": "stdout",
     "output_type": "stream",
     "text": [
      "time 7.5\n",
      "Matrix([[-1.50], [2.25], [-1.00], [-0.100], [0], [0]]) Matrix([\n",
      "[0.000117,        0, 6.1e-5,      0, 1.37e-5,       0],\n",
      "[       0, 0.000117,      0, 6.1e-5,       0, 1.37e-5],\n",
      "[  6.1e-5,        0, 4.0e-5,      0,  1.0e-5,       0],\n",
      "[       0,   6.1e-5,      0, 4.0e-5,       0,  1.0e-5],\n",
      "[ 1.37e-5,        0, 1.0e-5,      0, 2.69e-6,       0],\n",
      "[       0,  1.37e-5,      0, 1.0e-5,       0, 2.69e-6]]) \n",
      "\n"
     ]
    }
   ],
   "source": [
    "print \"time\", lista[len(lista)-1][\"time\"]+0.5\n",
    "land.predict(tnow=lista[len(lista)-1][\"time\"]+0.5, movements=data[\"movement\"])\n",
    "print land._predictedstate[\"x\"].evalf(3), land._predictedstate[\"covariance\"].evalf(3), \"\\n\""
   ]
  },
  {
   "cell_type": "code",
   "execution_count": 10,
   "metadata": {
    "collapsed": false,
    "scrolled": true
   },
   "outputs": [
    {
     "data": {
      "image/png": "[encoded data removed]",
      "text/latex": [
       "$$\\left[\\begin{matrix}1.00000938533183\\\\0.100036174882328\\\\0\\\\0\\\\1\\end{matrix}\\right]$$"
      ],
      "text/plain": [
       "⎡1.00000938533183 ⎤\n",
       "⎢                 ⎥\n",
       "⎢0.100036174882328⎥\n",
       "⎢                 ⎥\n",
       "⎢        0        ⎥\n",
       "⎢                 ⎥\n",
       "⎢        0        ⎥\n",
       "⎢                 ⎥\n",
       "⎣        1        ⎦"
      ]
     },
     "execution_count": 10,
     "metadata": {},
     "output_type": "execute_result"
    }
   ],
   "source": [
    "me[1]['x_speed']"
   ]
  }
 ],
 "metadata": {
  "kernelspec": {
   "display_name": "Python 2",
   "language": "python",
   "name": "python2"
  },
  "language_info": {
   "codemirror_mode": {
    "name": "ipython",
    "version": 2
   },
   "file_extension": ".py",
   "mimetype": "text/x-python",
   "name": "python",
   "nbconvert_exporter": "python",
   "pygments_lexer": "ipython2",
   "version": "2.7.6"
  }
 },
 "nbformat": 4,
 "nbformat_minor": 2
}
