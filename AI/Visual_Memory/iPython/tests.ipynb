{
 "cells": [
  {
   "cell_type": "code",
   "execution_count": 1,
   "metadata": {
    "collapsed": true
   },
   "outputs": [],
   "source": [
    "#ini-iPython"
   ]
  },
  {
   "cell_type": "markdown",
   "metadata": {},
   "source": [
    "# Executando no diretório principal"
   ]
  },
  {
   "cell_type": "code",
   "execution_count": 2,
   "metadata": {
    "collapsed": true
   },
   "outputs": [],
   "source": [
    "import os\n",
    "os.chdir('/home/vinicius/Dropbox/Projeto Mestrado/Codigos/RoboFEI-HT_Debug/AI/Visual_Memory') #Executando na pasta Visual_Memory\n",
    "import sys\n",
    "sys.path.append('./include')\n",
    "sys.path.append('./src')\n",
    "sys.path.append('./iPython')\n",
    "#end-iPython"
   ]
  },
  {
   "cell_type": "markdown",
   "metadata": {
    "collapsed": true
   },
   "source": [
    "---- Imports ----"
   ]
  },
  {
   "cell_type": "code",
   "execution_count": 3,
   "metadata": {
    "collapsed": true
   },
   "outputs": [],
   "source": [
    "# Libraries to be used.\n",
    "import sys\n",
    "#des-iPython sys.path.append('../include')\n",
    "#des-iPython sys.path.append('../src')"
   ]
  },
  {
   "cell_type": "code",
   "execution_count": 4,
   "metadata": {
    "collapsed": true
   },
   "outputs": [],
   "source": [
    "# The standard libraries used in the vision system.\n"
   ]
  },
  {
   "cell_type": "code",
   "execution_count": 5,
   "metadata": {
    "collapsed": false
   },
   "outputs": [],
   "source": [
    "# Used class developed by RoboFEI-HT.\n",
    "from Landmark import *\n",
    "sym.init_printing() #debug-iPython"
   ]
  },
  {
   "cell_type": "code",
   "execution_count": 6,
   "metadata": {
    "collapsed": false
   },
   "outputs": [],
   "source": [
    "me = Speeds( )\n",
    "land = Landmark(me)"
   ]
  },
  {
   "cell_type": "code",
   "execution_count": 7,
   "metadata": {
    "collapsed": false
   },
   "outputs": [
    {
     "name": "stdout",
     "output_type": "stream",
     "text": [
      "{'time': 0.0, 'pos': [6.000267635959205, -0.999587616843064], 'target': 1, 'movement': 1} \n",
      "\n",
      "Matrix([[6.00], [-1.00], [0], [0], [0], [0]]) Matrix([\n",
      "[0.001,     0,      0,      0,      0,      0],\n",
      "[    0, 0.001,      0,      0,      0,      0],\n",
      "[    0,     0, 1.0e+3,      0,      0,      0],\n",
      "[    0,     0,      0, 1.0e+3,      0,      0],\n",
      "[    0,     0,      0,      0, 1.0e+3,      0],\n",
      "[    0,     0,      0,      0,      0, 1.0e+3]]) \n",
      "\n",
      "w_x nan w_y nan\n",
      "{'time': 0.25, 'pos': [5.630044857368078, -1.1101470174193864], 'target': 1, 'movement': 1} \n",
      "\n",
      "Matrix([[5.63], [-1.11], [-1.50], [-0.449], [-0.182], [-0.0544]]) Matrix([\n",
      "[   0.001,        0, 0.00406,       0, 0.000492,        0],\n",
      "[       0,    0.001,       0, 0.00406,        0, 0.000492],\n",
      "[ 0.00406,        0,    15.4,       0,    123.0,        0],\n",
      "[       0,  0.00406,       0,    15.4,        0,    123.0],\n",
      "[0.000492,        0,   123.0,       0,    985.0,        0],\n",
      "[       0, 0.000492,       0,   123.0,        0,    985.0]]) \n",
      "\n",
      "w_x 0.0361984151185168 w_y 0.405884574798035\n",
      "{'time': 0.5, 'pos': [5.249289767263282, -1.2098941304725648], 'target': 1, 'movement': 1} \n",
      "\n",
      "Matrix([[5.25], [-1.21], [-1.54], [-0.377], [-0.169], [0.173]]) Matrix([\n",
      "[  0.001,       0, 0.00599,       0, 0.016,     0],\n",
      "[      0,   0.001,       0, 0.00599,     0, 0.016],\n",
      "[0.00599,       0,   0.104,       0, 0.383,     0],\n",
      "[      0, 0.00599,       0,   0.104,     0, 0.383],\n",
      "[  0.016,       0,   0.383,       0,  1.53,     0],\n",
      "[      0,   0.016,       0,   0.383,     0,  1.53]]) \n",
      "\n",
      "w_x -0.111756153195705 w_y 0.447491271118960\n",
      "{'time': 0.75, 'pos': [4.869140828413448, -1.3195708541977178], 'target': 1, 'movement': 1} \n",
      "\n",
      "Matrix([[4.87], [-1.32], [-1.54], [-0.421], [-0.0796], [0.00703]]) Matrix([\n",
      "[0.00095,       0, 0.0042,      0, 0.008,     0],\n",
      "[      0, 0.00095,      0, 0.0042,     0, 0.008],\n",
      "[ 0.0042,       0, 0.0392,      0, 0.096,     0],\n",
      "[      0,  0.0042,      0, 0.0392,     0, 0.096],\n",
      "[  0.008,       0,  0.096,      0, 0.256,     0],\n",
      "[      0,   0.008,      0,  0.096,     0, 0.256]]) \n",
      "\n",
      "w_x -0.00456430461381468 w_y 0.188914405447677\n",
      "{'time': 1.0, 'pos': [4.489863400441105, -1.4205318664939615], 'target': 1, 'movement': 1} \n",
      "\n",
      "Matrix([[4.49], [-1.42], [-1.53], [-0.410], [-0.0401], [0.0212]]) Matrix([\n",
      "[0.000886,        0, 0.00309,       0, 0.00457,       0],\n",
      "[       0, 0.000886,       0, 0.00309,       0, 0.00457],\n",
      "[ 0.00309,        0,  0.0199,       0,  0.0366,       0],\n",
      "[       0,  0.00309,       0,  0.0199,       0,  0.0366],\n",
      "[ 0.00457,        0,  0.0366,       0,  0.0731,       0],\n",
      "[       0,  0.00457,       0,  0.0366,       0,  0.0731]]) \n",
      "\n",
      "w_x -0.0138116150906903 w_y 0.0977856507001309\n",
      "{'time': 1.25, 'pos': [4.110764973254722, -1.5207721800808898], 'target': 1, 'movement': 1} \n",
      "\n",
      "Matrix([[4.11], [-1.52], [-1.53], [-0.400], [-0.0220], [0.0267]]) Matrix([\n",
      "[0.000821,        0, 0.00236,       0, 0.00286,       0],\n",
      "[       0, 0.000821,       0, 0.00236,       0, 0.00286],\n",
      "[ 0.00236,        0,  0.0116,       0,  0.0171,       0],\n",
      "[       0,  0.00236,       0,  0.0116,       0,  0.0171],\n",
      "[ 0.00286,        0,  0.0171,       0,  0.0274,       0],\n",
      "[       0,  0.00286,       0,  0.0171,       0,  0.0274]]) \n",
      "\n",
      "w_x -0.0174777197126259 w_y 0.0550480025690151\n",
      "{'time': 1.5, 'pos': [3.7191764407064403, -1.6207308797820819], 'target': 1, 'movement': 1} \n",
      "\n",
      "Matrix([[3.72], [-1.62], [-1.55], [-0.394], [-0.0369], [0.0259]]) Matrix([\n",
      "[0.000762,        0, 0.00186,       0,  0.0019,       0],\n",
      "[       0, 0.000762,       0, 0.00186,       0,  0.0019],\n",
      "[ 0.00186,        0, 0.00743,       0, 0.00914,       0],\n",
      "[       0,  0.00186,       0, 0.00743,       0, 0.00914],\n",
      "[  0.0019,        0, 0.00914,       0,  0.0122,       0],\n",
      "[       0,   0.0019,       0, 0.00914,       0,  0.0122]]) \n",
      "\n",
      "w_x -0.0167267541654978 w_y 0.0936119445249528\n",
      "{'time': 1.75, 'pos': [3.329047247317534, -1.7304325327314949], 'target': 1, 'movement': 1} \n",
      "\n",
      "Matrix([[3.33], [-1.73], [-1.56], [-0.406], [-0.0421], [0.00981]]) Matrix([\n",
      "[0.000708,        0,  0.0015,       0, 0.00133,       0],\n",
      "[       0, 0.000708,       0,  0.0015,       0, 0.00133],\n",
      "[  0.0015,        0, 0.00505,       0, 0.00533,       0],\n",
      "[       0,   0.0015,       0, 0.00505,       0, 0.00533],\n",
      "[ 0.00133,        0, 0.00533,       0, 0.00609,       0],\n",
      "[       0,  0.00133,       0, 0.00533,       0, 0.00609]]) \n",
      "\n",
      "w_x -0.00627513178856766 w_y 0.103654760178638\n",
      "{'time': 2.0, 'pos': [2.9399046435398053, -1.8309621681868158], 'target': 1, 'movement': 1} \n",
      "\n",
      "Matrix([[2.94], [-1.83], [-1.57], [-0.407], [-0.0404], [0.00700]]) Matrix([\n",
      "[0.000661,        0, 0.00124,       0, 0.00097,       0],\n",
      "[       0, 0.000661,       0, 0.00124,       0, 0.00097],\n",
      "[ 0.00124,        0, 0.00359,       0, 0.00332,       0],\n",
      "[       0,  0.00124,       0, 0.00359,       0, 0.00332],\n",
      "[ 0.00097,        0, 0.00332,       0, 0.00332,       0],\n",
      "[       0,  0.00097,       0, 0.00332,       0, 0.00332]]) \n",
      "\n",
      "w_x -0.00445248838682938 w_y 0.0991624682053779\n",
      "{'time': 2.25, 'pos': [2.539159536223394, -1.9308820769671433], 'target': 1, 'movement': 1} \n",
      "\n",
      "Matrix([[2.54], [-1.93], [-1.59], [-0.405], [-0.0448], [0.00744]]) Matrix([\n",
      "[0.000618,        0, 0.00104,       0, 0.000727,        0],\n",
      "[       0, 0.000618,       0, 0.00104,        0, 0.000727],\n",
      "[ 0.00104,        0, 0.00265,       0,  0.00218,        0],\n",
      "[       0,  0.00104,       0, 0.00265,        0,  0.00218],\n",
      "[0.000727,        0, 0.00218,       0,  0.00194,        0],\n",
      "[       0, 0.000727,       0, 0.00218,        0,  0.00194]]) \n",
      "\n",
      "w_x -0.00468856179192239 w_y 0.110676748761977\n",
      "{'time': 2.5, 'pos': [2.1409933168502673, -2.0207340610705575], 'target': 1, 'movement': 1} \n",
      "\n",
      "Matrix([[2.14], [-2.03], [-1.60], [-0.393], [-0.0460], [0.0138]]) Matrix([\n",
      "[ 0.00058,        0, 0.000881,        0, 0.000559,        0],\n",
      "[       0,  0.00058,        0, 0.000881,        0, 0.000559],\n",
      "[0.000881,        0,  0.00201,        0,  0.00149,        0],\n",
      "[       0, 0.000881,        0,  0.00201,        0,  0.00149],\n",
      "[0.000559,        0,  0.00149,        0,  0.00119,        0],\n",
      "[       0, 0.000559,        0,  0.00149,        0,  0.00119]]) \n",
      "\n",
      "w_x -0.00859655788053924 w_y 0.117117751361516\n",
      "{'time': 2.75, 'pos': [1.7394558815389518, -2.1196882835757913], 'target': 1, 'movement': 1} \n",
      "\n",
      "Matrix([[1.74], [-2.12], [-1.61], [-0.387], [-0.0464], [0.0153]]) Matrix([\n",
      "[0.000547,        0, 0.000758,        0,  0.00044,        0],\n",
      "[       0, 0.000547,        0, 0.000758,        0,  0.00044],\n",
      "[0.000758,        0,  0.00156,        0,  0.00106,        0],\n",
      "[       0, 0.000758,        0,  0.00156,        0,  0.00106],\n",
      "[ 0.00044,        0,  0.00106,        0, 0.000767,        0],\n",
      "[       0,  0.00044,        0,  0.00106,        0, 0.000767]]) \n",
      "\n",
      "w_x -0.00949734782682357 w_y 0.119921829765718\n",
      "{'time': 3.0, 'pos': [1.3392681506595103, -2.2203010536331536], 'target': 1, 'movement': 1} \n",
      "\n",
      "Matrix([[1.34], [-2.22], [-1.62], [-0.385], [-0.0449], [0.0143]]) Matrix([\n",
      "[0.000517,        0, 0.000659,        0, 0.000352,        0],\n",
      "[       0, 0.000517,        0, 0.000659,        0, 0.000352],\n",
      "[0.000659,        0,  0.00124,        0, 0.000767,        0],\n",
      "[       0, 0.000659,        0,  0.00124,        0, 0.000767],\n",
      "[0.000352,        0, 0.000767,        0, 0.000512,        0],\n",
      "[       0, 0.000352,        0, 0.000767,        0, 0.000512]]) \n",
      "\n",
      "w_x -0.00883201768636895 w_y 0.116787214798712\n",
      "{'time': 3.5, 'pos': [0.5205403024535213, -2.40931110257322], 'target': 1, 'movement': 1} \n",
      "\n",
      "Matrix([[0.521], [-2.41], [-1.64], [-0.377], [-0.0450], [0.0144]]) Matrix([\n",
      "[0.000626,        0, 0.000663,        0, 0.000299,        0],\n",
      "[       0, 0.000626,        0, 0.000663,        0, 0.000299],\n",
      "[0.000663,        0, 0.000958,        0, 0.000493,        0],\n",
      "[       0, 0.000663,        0, 0.000958,        0, 0.000493],\n",
      "[0.000299,        0, 0.000493,        0, 0.000273,        0],\n",
      "[       0, 0.000299,        0, 0.000493,        0, 0.000273]]) \n",
      "\n",
      "w_x -0.00874028694332293 w_y 0.119238355678309\n"
     ]
    }
   ],
   "source": [
    "import random\n",
    "random.seed(time.time())\n",
    "\n",
    "# # Vx = 1.4  Vy = -0.1  omega = 5\n",
    "# lista = [\n",
    "#     {\"movement\": 1, \"target\": 1, \"pos\": [+6.00, +1.00], \"time\": 0.0,},\n",
    "#     {\"movement\": 1, \"target\": 1, \"pos\": [+5.34, +0.79], \"time\": 0.5,},\n",
    "#     {\"movement\": 1, \"target\": 1, \"pos\": [+4.66, +0.57], \"time\": 1.0,},\n",
    "#     {\"movement\": 1, \"target\": 1, \"pos\": [+3.98, +0.36], \"time\": 1.5,},\n",
    "#     {\"movement\": 1, \"target\": 1, \"pos\": [+3.28, +0.14], \"time\": 2.0,},\n",
    "#     {\"movement\": 1, \"target\": 1, \"pos\": [+2.57, +0.07], \"time\": 2.5,},\n",
    "#     {\"movement\": 1, \"target\": 1, \"pos\": [+1.85, -0.29], \"time\": 3.0,},\n",
    "#     {\"movement\": 1, \"target\": 1, \"pos\": [+1.12, -0.50], \"time\": 3.5,},\n",
    "#     {\"movement\": 1, \"target\": 1, \"pos\": [+0.38, -0.71], \"time\": 4.0,},\n",
    "#     {\"movement\": 1, \"target\": 1, \"pos\": [-0.37, -0.91], \"time\": 4.5,},\n",
    "#     {\"movement\": 1, \"target\": 1, \"pos\": [-1.14, -1.13], \"time\": 5.0,},\n",
    "# ]\n",
    "\n",
    "# Vx = 1.4  Vy = -0.1  omega = 5\n",
    "lista = [\n",
    "    {\"movement\": 1, \"target\": 1, \"pos\": [+6.00, -1.00], \"time\": 0.0,},\n",
    "    {\"movement\": 1, \"target\": 1, \"pos\": [+5.63, -1.11], \"time\": 0.25,},\n",
    "    {\"movement\": 1, \"target\": 1, \"pos\": [+5.25, -1.21], \"time\": 0.5,},\n",
    "    {\"movement\": 1, \"target\": 1, \"pos\": [+4.87, -1.32], \"time\": 0.75,},\n",
    "    {\"movement\": 1, \"target\": 1, \"pos\": [+4.49, -1.42], \"time\": 1.0,},\n",
    "    {\"movement\": 1, \"target\": 1, \"pos\": [+4.11, -1.52], \"time\": 1.25,},\n",
    "    {\"movement\": 1, \"target\": 1, \"pos\": [+3.72, -1.62], \"time\": 1.5,},\n",
    "    {\"movement\": 1, \"target\": 1, \"pos\": [+3.33, -1.73], \"time\": 1.75,},\n",
    "    {\"movement\": 1, \"target\": 1, \"pos\": [+2.94, -1.83], \"time\": 2.0,},\n",
    "    {\"movement\": 1, \"target\": 1, \"pos\": [+2.54, -1.93], \"time\": 2.25,},\n",
    "    {\"movement\": 1, \"target\": 1, \"pos\": [+2.14, -2.02], \"time\": 2.5,},\n",
    "    {\"movement\": 1, \"target\": 1, \"pos\": [+1.74, -2.12], \"time\": 2.75,},\n",
    "    {\"movement\": 1, \"target\": 1, \"pos\": [+1.34, -2.22], \"time\": 3.0,},\n",
    "    {\"movement\": 1, \"target\": 1, \"pos\": [+0.52, -2.41], \"time\": 3.5,},\n",
    "]\n",
    "\n",
    "for x in xrange(len(lista)):\n",
    "    lista[x][\"pos\"][0] += -land._parameters[\"vision_error\"] + 2*land._parameters[\"vision_error\"]*random.random()\n",
    "    lista[x][\"pos\"][1] += -land._parameters[\"vision_error\"] + 2*land._parameters[\"vision_error\"]*random.random()\n",
    "#     lista[x][\"pos\"][0] *= 10\n",
    "#     lista[x][\"pos\"][1] *= 10\n",
    "\n",
    "vx = 1\n",
    "vy = 0\n",
    "\n",
    "for data in lista:\n",
    "    print data, \"\\n\"\n",
    "    me.update(land.update(data))\n",
    "    print land._predictedstate[\"x\"].evalf(3), land._predictedstate[\"covariance\"].evalf(3), \"\\n\"\n",
    "    print \"w_x\", land._predictedstate[\"x\"][5]/land._predictedstate[\"x\"][2], \"w_y\", land._predictedstate[\"x\"][4]/land._predictedstate[\"x\"][3]\n",
    "#     land.predict(tnow=data[\"time\"]+1, movements=data[\"movement\"])\n",
    "#     print land._predictedstate[\"x\"].evalf(3), land._predictedstate[\"covariance\"].evalf(3), \"\\n\""
   ]
  },
  {
   "cell_type": "code",
   "execution_count": 8,
   "metadata": {
    "collapsed": false
   },
   "outputs": [],
   "source": [
    "land._end( )"
   ]
  },
  {
   "cell_type": "code",
   "execution_count": 9,
   "metadata": {
    "collapsed": false
   },
   "outputs": [
    {
     "name": "stdout",
     "output_type": "stream",
     "text": [
      "Matrix([[-3.73], [-3.31], [-1.76], [-0.341], [-0.0450], [0.0144]]) Matrix([\n",
      "[ 0.0222,       0,  0.0106,       0,  0.00238,        0],\n",
      "[      0,  0.0222,       0,  0.0106,        0,  0.00238],\n",
      "[ 0.0106,       0, 0.00513,       0,  0.00118,        0],\n",
      "[      0,  0.0106,       0, 0.00513,        0,  0.00118],\n",
      "[0.00238,       0, 0.00118,       0, 0.000273,        0],\n",
      "[      0, 0.00238,       0, 0.00118,        0, 0.000273]]) \n",
      "\n"
     ]
    }
   ],
   "source": [
    "land.predict(tnow=lista[len(lista)-1][\"time\"]+2.5, movements=data[\"movement\"])\n",
    "print land._predictedstate[\"x\"].evalf(3), land._predictedstate[\"covariance\"].evalf(3), \"\\n\""
   ]
  },
  {
   "cell_type": "code",
   "execution_count": 10,
   "metadata": {
    "collapsed": false
   },
   "outputs": [
    {
     "data": {
      "image/png": "[encoded data removed]",
      "text/latex": [
       "$$\\left[\\begin{matrix}0.367889498793227\\\\1.6883673075604\\\\0.0182556473584817\\end{matrix}\\right]$$"
      ],
      "text/plain": [
       "⎡0.367889498793227 ⎤\n",
       "⎢                  ⎥\n",
       "⎢ 1.6883673075604  ⎥\n",
       "⎢                  ⎥\n",
       "⎣0.0182556473584817⎦"
      ]
     },
     "execution_count": 10,
     "metadata": {},
     "output_type": "execute_result"
    }
   ],
   "source": [
    "me[1][\"speed\"]"
   ]
  },
  {
   "cell_type": "code",
   "execution_count": 11,
   "metadata": {
    "collapsed": false
   },
   "outputs": [
    {
     "ename": "NameError",
     "evalue": "name 'i' is not defined",
     "output_type": "error",
     "traceback": [
      "\u001b[0;31m---------------------------------------------------------------------------\u001b[0m",
      "\u001b[0;31mNameError\u001b[0m                                 Traceback (most recent call last)",
      "\u001b[0;32m<ipython-input-11-372e25f23b5a>\u001b[0m in \u001b[0;36m<module>\u001b[0;34m()\u001b[0m\n\u001b[0;32m----> 1\u001b[0;31m \u001b[0mi\u001b[0m\u001b[0;34m\u001b[0m\u001b[0m\n\u001b[0m",
      "\u001b[0;31mNameError\u001b[0m: name 'i' is not defined"
     ]
    }
   ],
   "source": [
    "i"
   ]
  },
  {
   "cell_type": "code",
   "execution_count": null,
   "metadata": {
    "collapsed": true
   },
   "outputs": [],
   "source": []
  }
 ],
 "metadata": {
  "kernelspec": {
   "display_name": "Python 2",
   "language": "python",
   "name": "python2"
  },
  "language_info": {
   "codemirror_mode": {
    "name": "ipython",
    "version": 2
   },
   "file_extension": ".py",
   "mimetype": "text/x-python",
   "name": "python",
   "nbconvert_exporter": "python",
   "pygments_lexer": "ipython2",
   "version": "2.7.6"
  }
 },
 "nbformat": 4,
 "nbformat_minor": 2
}
