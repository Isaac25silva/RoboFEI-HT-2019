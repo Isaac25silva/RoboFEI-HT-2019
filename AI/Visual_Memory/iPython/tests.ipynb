{
 "cells": [
  {
   "cell_type": "code",
   "execution_count": 1,
   "metadata": {
    "collapsed": true
   },
   "outputs": [],
   "source": [
    "#ini-iPython"
   ]
  },
  {
   "cell_type": "markdown",
   "metadata": {},
   "source": [
    "# Executando no diretório principal"
   ]
  },
  {
   "cell_type": "code",
   "execution_count": 2,
   "metadata": {
    "collapsed": true
   },
   "outputs": [],
   "source": [
    "import os\n",
    "os.chdir('/home/vinicius/Dropbox/Projeto Mestrado/Codigos/RoboFEI-HT_Debug/AI/Visual_Memory') #Executando na pasta Visual_Memory\n",
    "import sys\n",
    "sys.path.append('./include')\n",
    "sys.path.append('./src')\n",
    "sys.path.append('./iPython')\n",
    "#end-iPython"
   ]
  },
  {
   "cell_type": "markdown",
   "metadata": {
    "collapsed": true
   },
   "source": [
    "---- Imports ----"
   ]
  },
  {
   "cell_type": "code",
   "execution_count": 3,
   "metadata": {
    "collapsed": true
   },
   "outputs": [],
   "source": [
    "# Libraries to be used.\n",
    "import sys\n",
    "#des-iPython sys.path.append('../include')\n",
    "#des-iPython sys.path.append('../src')"
   ]
  },
  {
   "cell_type": "code",
   "execution_count": 4,
   "metadata": {
    "collapsed": true
   },
   "outputs": [],
   "source": [
    "# The standard libraries used in the vision system.\n"
   ]
  },
  {
   "cell_type": "code",
   "execution_count": 5,
   "metadata": {
    "collapsed": false
   },
   "outputs": [],
   "source": [
    "# Used class developed by RoboFEI-HT.\n",
    "from Landmark import *\n",
    "sym.init_printing() #debug-iPython"
   ]
  },
  {
   "cell_type": "code",
   "execution_count": 6,
   "metadata": {
    "collapsed": false
   },
   "outputs": [],
   "source": [
    "me = Speeds( )\n",
    "land = Landmark(me)"
   ]
  },
  {
   "cell_type": "code",
   "execution_count": 7,
   "metadata": {
    "collapsed": false
   },
   "outputs": [
    {
     "name": "stdout",
     "output_type": "stream",
     "text": [
      "{'time': 1.0, 'pos': [13.943607619590193, 0], 'target': 1, 'movement': 1} \n",
      "\n",
      "Matrix([[13.9], [0], [0], [0], [0], [0]]) Matrix([\n",
      "[0.1,   0,      0,      0,      0,      0],\n",
      "[  0, 0.1,      0,      0,      0,      0],\n",
      "[  0,   0, 1.0e+3,      0,      0,      0],\n",
      "[  0,   0,      0, 1.0e+3,      0,      0],\n",
      "[  0,   0,      0,      0, 1.0e+3,      0],\n",
      "[  0,   0,      0,      0,      0, 1.0e+3]]) \n",
      "\n",
      "Matrix([[13.9], [0], [0], [0], [0], [0]]) Matrix([\n",
      "[1.25e+3,       0, 1.5e+3,      0,  500.0,      0],\n",
      "[      0, 1.25e+3,      0, 1.5e+3,      0,  500.0],\n",
      "[ 1.5e+3,       0, 2.0e+3,      0, 1.0e+3,      0],\n",
      "[      0,  1.5e+3,      0, 2.0e+3,      0, 1.0e+3],\n",
      "[  500.0,       0, 1.0e+3,      0, 1.0e+3,      0],\n",
      "[      0,   500.0,      0, 1.0e+3,      0, 1.0e+3]]) \n",
      "\n",
      "{'time': 2.0, 'pos': [9.456899359839413, 0], 'target': 1, 'movement': 1} \n",
      "\n",
      "Matrix([[9.46], [0], [-5.38], [0], [-1.79], [0]]) Matrix([\n",
      "[ 0.1,    0,  0.12,     0,  0.04,     0],\n",
      "[   0,  0.1,     0,  0.12,     0,  0.04],\n",
      "[0.12,    0, 200.0,     0, 400.0,     0],\n",
      "[   0, 0.12,     0, 200.0,     0, 400.0],\n",
      "[0.04,    0, 400.0,     0, 800.0,     0],\n",
      "[   0, 0.04,     0, 400.0,     0, 800.0]]) \n",
      "\n",
      "Matrix([[3.18], [0], [-7.18], [0], [-1.79], [0]]) Matrix([\n",
      "[ 801.0,      0, 1.2e+3,      0,  800.0,      0],\n",
      "[     0,  801.0,      0, 1.2e+3,      0,  800.0],\n",
      "[1.2e+3,      0, 1.8e+3,      0, 1.2e+3,      0],\n",
      "[     0, 1.2e+3,      0, 1.8e+3,      0, 1.2e+3],\n",
      "[ 800.0,      0, 1.2e+3,      0,  800.0,      0],\n",
      "[     0,  800.0,      0, 1.2e+3,      0,  800.0]]) \n",
      "\n",
      "{'time': 3.0, 'pos': [5.93558435121283, 0], 'target': 1, 'movement': 1} \n",
      "\n",
      "Matrix([[5.94], [0], [-3.04], [0], [0.960], [0]]) Matrix([\n",
      "[   0.1,      0,  0.15,     0, 0.0999,      0],\n",
      "[     0,    0.1,     0,  0.15,      0, 0.0999],\n",
      "[  0.15,      0, 0.649,     0,  0.599,      0],\n",
      "[     0,   0.15,     0, 0.649,      0,  0.599],\n",
      "[0.0999,      0, 0.599,     0,  0.599,      0],\n",
      "[     0, 0.0999,     0, 0.599,      0,  0.599]]) \n",
      "\n",
      "Matrix([[3.37], [0], [-2.08], [0], [0.960], [0]]) Matrix([\n",
      "[  1.9,     0,  2.1,    0, 0.999,     0],\n",
      "[    0,   1.9,    0,  2.1,     0, 0.999],\n",
      "[  2.1,     0, 2.45,    0,   1.2,     0],\n",
      "[    0,   2.1,    0, 2.45,     0,   1.2],\n",
      "[0.999,     0,  1.2,    0, 0.599,     0],\n",
      "[    0, 0.999,    0,  1.2,     0, 0.599]]) \n",
      "\n",
      "{'time': 4.0, 'pos': [3.4271624667476246, 0], 'target': 1, 'movement': 1} \n",
      "\n",
      "Matrix([[3.42], [0], [-2.03], [0], [0.988], [0]]) Matrix([\n",
      "[0.095,     0, 0.105,     0, 0.05,    0],\n",
      "[    0, 0.095,     0, 0.105,    0, 0.05],\n",
      "[0.105,     0, 0.245,     0, 0.15,    0],\n",
      "[    0, 0.105,     0, 0.245,    0, 0.15],\n",
      "[ 0.05,     0,  0.15,     0,  0.1,    0],\n",
      "[    0,  0.05,     0,  0.15,    0,  0.1]]) \n",
      "\n",
      "Matrix([[1.89], [0], [-1.04], [0], [0.988], [0]]) Matrix([\n",
      "[0.775,     0, 0.675,     0, 0.25,    0],\n",
      "[    0, 0.775,     0, 0.675,    0, 0.25],\n",
      "[0.675,     0, 0.645,     0, 0.25,    0],\n",
      "[    0, 0.675,     0, 0.645,    0, 0.25],\n",
      "[ 0.25,     0,  0.25,     0,  0.1,    0],\n",
      "[    0,  0.25,     0,  0.25,    0,  0.1]]) \n",
      "\n",
      "{'time': 5.0, 'pos': [1.9599050744667033, 0], 'target': 1, 'movement': 1} \n",
      "\n",
      "Matrix([[1.95], [0], [-0.986], [0], [1.01], [0]]) Matrix([\n",
      "[0.0886,      0, 0.0771,      0, 0.0286,      0],\n",
      "[     0, 0.0886,      0, 0.0771,      0, 0.0286],\n",
      "[0.0771,      0,  0.124,      0, 0.0571,      0],\n",
      "[     0, 0.0771,      0,  0.124,      0, 0.0571],\n",
      "[0.0286,      0, 0.0571,      0, 0.0286,      0],\n",
      "[     0, 0.0286,      0, 0.0571,      0, 0.0286]]) \n",
      "\n",
      "Matrix([[1.47], [0], [0], [0], [0], [0]]) Matrix([\n",
      "[0.46,    0,   0.33,      0,    0.1,      0],\n",
      "[   0, 0.46,      0,   0.33,      0,    0.1],\n",
      "[0.33,    0,  0.267,      0, 0.0857,      0],\n",
      "[   0, 0.33,      0,  0.267,      0, 0.0857],\n",
      "[ 0.1,    0, 0.0857,      0, 0.0286,      0],\n",
      "[   0,  0.1,      0, 0.0857,      0, 0.0286]]) \n",
      "\n",
      "{'time': 6.0, 'pos': [1.5658608947588712, 0], 'target': 1, 'movement': 1} \n",
      "\n",
      "Matrix([[1.55], [0], [0.0567], [0], [0], [0]]) Matrix([\n",
      "[0.0821,      0, 0.0589,      0, 0.0179,      0],\n",
      "[     0, 0.0821,      0, 0.0589,      0, 0.0179],\n",
      "[0.0589,      0, 0.0727,      0, 0.0268,      0],\n",
      "[     0, 0.0589,      0, 0.0727,      0, 0.0268],\n",
      "[0.0179,      0, 0.0268,      0, 0.0107,      0],\n",
      "[     0, 0.0179,      0, 0.0268,      0, 0.0107]]) \n",
      "\n",
      "Matrix([[1.61], [0], [0.0567], [0], [0], [0]]) Matrix([\n",
      "[ 0.32,     0,  0.195,      0,   0.05,      0],\n",
      "[    0,  0.32,      0,  0.195,      0,   0.05],\n",
      "[0.195,     0,  0.137,      0, 0.0375,      0],\n",
      "[    0, 0.195,      0,  0.137,      0, 0.0375],\n",
      "[ 0.05,     0, 0.0375,      0, 0.0107,      0],\n",
      "[    0,  0.05,      0, 0.0375,      0, 0.0107]]) \n",
      "\n",
      "{'time': 7.0, 'pos': [1.427240644596078, 0], 'target': 1, 'movement': 1} \n",
      "\n",
      "Matrix([[1.47], [0], [0], [0], [0], [0]]) Matrix([\n",
      "[0.0762,      0, 0.0464,      0,  0.0119,       0],\n",
      "[     0, 0.0762,      0, 0.0464,       0,  0.0119],\n",
      "[0.0464,      0, 0.0464,      0,  0.0143,       0],\n",
      "[     0, 0.0464,      0, 0.0464,       0,  0.0143],\n",
      "[0.0119,      0, 0.0143,      0, 0.00476,       0],\n",
      "[     0, 0.0119,      0, 0.0143,       0, 0.00476]]) \n",
      "\n",
      "Matrix([[1.47], [0], [0], [0], [0], [0]]) Matrix([\n",
      "[ 0.243,      0,  0.129,      0,  0.0286,       0],\n",
      "[     0,  0.243,      0,  0.129,       0,  0.0286],\n",
      "[ 0.129,      0, 0.0798,      0,   0.019,       0],\n",
      "[     0,  0.129,      0, 0.0798,       0,   0.019],\n",
      "[0.0286,      0,  0.019,      0, 0.00476,       0],\n",
      "[     0, 0.0286,      0,  0.019,       0, 0.00476]]) \n",
      "\n",
      "{'time': 8.0, 'pos': [1.4212391358890475, 0], 'target': 1, 'movement': 1} \n",
      "\n",
      "Matrix([[1.44], [0], [0], [0], [0], [0]]) Matrix([\n",
      "[ 0.0708,       0,  0.0375,       0, 0.00833,       0],\n",
      "[      0,  0.0708,       0,  0.0375,       0, 0.00833],\n",
      "[ 0.0375,       0,  0.0315,       0, 0.00833,       0],\n",
      "[      0,  0.0375,       0,  0.0315,       0, 0.00833],\n",
      "[0.00833,       0, 0.00833,       0, 0.00238,       0],\n",
      "[      0, 0.00833,       0, 0.00833,       0, 0.00238]]) \n",
      "\n",
      "Matrix([[1.44], [0], [0], [0], [0], [0]]) Matrix([\n",
      "[ 0.195,      0, 0.0911,      0,  0.0179,       0],\n",
      "[     0,  0.195,      0, 0.0911,       0,  0.0179],\n",
      "[0.0911,      0, 0.0506,      0,  0.0107,       0],\n",
      "[     0, 0.0911,      0, 0.0506,       0,  0.0107],\n",
      "[0.0179,      0, 0.0107,      0, 0.00238,       0],\n",
      "[     0, 0.0179,      0, 0.0107,       0, 0.00238]]) \n",
      "\n",
      "{'time': 9.0, 'pos': [1.524310283864072, 0], 'target': 1, 'movement': 1} \n",
      "\n",
      "Matrix([[1.49], [0], [0], [0], [0], [0]]) Matrix([\n",
      "[ 0.0661,       0,  0.0309,       0, 0.00606,       0],\n",
      "[      0,  0.0661,       0,  0.0309,       0, 0.00606],\n",
      "[ 0.0309,       0,  0.0224,       0, 0.00519,       0],\n",
      "[      0,  0.0309,       0,  0.0224,       0, 0.00519],\n",
      "[0.00606,       0, 0.00519,       0,  0.0013,       0],\n",
      "[      0, 0.00606,       0, 0.00519,       0,  0.0013]]) \n",
      "\n",
      "Matrix([[1.49], [0], [0], [0], [0], [0]]) Matrix([\n",
      "[ 0.162,      0,  0.0679,       0,  0.0119,       0],\n",
      "[     0,  0.162,       0,  0.0679,       0,  0.0119],\n",
      "[0.0679,      0,  0.0341,       0, 0.00649,       0],\n",
      "[     0, 0.0679,       0,  0.0341,       0, 0.00649],\n",
      "[0.0119,      0, 0.00649,       0,  0.0013,       0],\n",
      "[     0, 0.0119,       0, 0.00649,       0,  0.0013]]) \n",
      "\n",
      "{'time': 10.0, 'pos': [1.5780906071931153, 0], 'target': 1, 'movement': 1} \n",
      "\n",
      "Matrix([[1.55], [0], [0], [0], [0], [0]]) Matrix([\n",
      "[ 0.0618,       0,  0.0259,       0,  0.00455,        0],\n",
      "[      0,  0.0618,       0,  0.0259,        0,  0.00455],\n",
      "[ 0.0259,       0,  0.0166,       0,  0.00341,        0],\n",
      "[      0,  0.0259,       0,  0.0166,        0,  0.00341],\n",
      "[0.00455,       0, 0.00341,       0, 0.000758,        0],\n",
      "[      0, 0.00455,       0, 0.00341,        0, 0.000758]]) \n",
      "\n",
      "Matrix([[1.55], [0], [0], [0], [0], [0]]) Matrix([\n",
      "[  0.138,       0,  0.0525,       0,  0.00833,        0],\n",
      "[      0,   0.138,       0,  0.0525,        0,  0.00833],\n",
      "[ 0.0525,       0,  0.0241,       0,  0.00417,        0],\n",
      "[      0,  0.0525,       0,  0.0241,        0,  0.00417],\n",
      "[0.00833,       0, 0.00417,       0, 0.000758,        0],\n",
      "[      0, 0.00833,       0, 0.00417,        0, 0.000758]]) \n",
      "\n"
     ]
    }
   ],
   "source": [
    "import random\n",
    "random.seed(time.time())\n",
    "\n",
    "lista = [\n",
    "    {\"movement\": 1, \"target\": 1, \"pos\": [14, 0], \"time\": 1.0,},\n",
    "    {\"movement\": 1, \"target\": 1, \"pos\": [9.5, 0], \"time\": 2.0,},\n",
    "    {\"movement\": 1, \"target\": 1, \"pos\": [6.0, 0], \"time\": 3.0,},\n",
    "    {\"movement\": 1, \"target\": 1, \"pos\": [3.5, 0], \"time\": 4.0,},\n",
    "    {\"movement\": 1, \"target\": 1, \"pos\": [2.0, 0], \"time\": 5.0,},\n",
    "    {\"movement\": 1, \"target\": 1, \"pos\": [1.5, 0], \"time\": 6.0,},\n",
    "    {\"movement\": 1, \"target\": 1, \"pos\": [1.5, 0], \"time\": 7.0,},\n",
    "    {\"movement\": 1, \"target\": 1, \"pos\": [1.5, 0], \"time\": 8.0,},\n",
    "    {\"movement\": 1, \"target\": 1, \"pos\": [1.5, 0], \"time\": 9.0,},\n",
    "    {\"movement\": 1, \"target\": 1, \"pos\": [1.5, 0], \"time\": 10.0,},\n",
    "]\n",
    "\n",
    "for x in xrange(len(lista)):\n",
    "    lista[x][\"pos\"][0] += -land._parameters[\"vision_error\"] + 2*land._parameters[\"vision_error\"]*random.random()\n",
    "\n",
    "vx = 1\n",
    "vy = 0\n",
    "\n",
    "for data in lista:\n",
    "    print data, \"\\n\"\n",
    "    land.update(data)\n",
    "    print land._predictedstate[\"x\"].evalf(3), land._predictedstate[\"covariance\"].evalf(3), \"\\n\"\n",
    "    land.predict(tnow=data[\"time\"]+1, movements=data[\"movement\"])\n",
    "    print land._predictedstate[\"x\"].evalf(3), land._predictedstate[\"covariance\"].evalf(3), \"\\n\""
   ]
  },
  {
   "cell_type": "code",
   "execution_count": 8,
   "metadata": {
    "collapsed": false
   },
   "outputs": [],
   "source": [
    "land._end( )"
   ]
  },
  {
   "cell_type": "code",
   "execution_count": 9,
   "metadata": {
    "collapsed": false
   },
   "outputs": [
    {
     "name": "stdout",
     "output_type": "stream",
     "text": [
      "Matrix([[1.5], [0], [0], [0], [0], [0]]) Matrix([\n",
      "[  8.0,     0,   1.1,     0,   0.077,       0],\n",
      "[    0,   8.0,     0,   1.1,       0,   0.077],\n",
      "[  1.1,     0,  0.16,     0,   0.011,       0],\n",
      "[    0,   1.1,     0,  0.16,       0,   0.011],\n",
      "[0.077,     0, 0.011,     0, 0.00076,       0],\n",
      "[    0, 0.077,     0, 0.011,       0, 0.00076]]) \n",
      "\n"
     ]
    }
   ],
   "source": [
    "land.predict(tnow=20.0, movements=data[\"movement\"])\n",
    "print land._predictedstate[\"x\"].evalf(2), land._predictedstate[\"covariance\"].evalf(2), \"\\n\""
   ]
  },
  {
   "cell_type": "code",
   "execution_count": null,
   "metadata": {
    "collapsed": false
   },
   "outputs": [],
   "source": []
  },
  {
   "cell_type": "code",
   "execution_count": null,
   "metadata": {
    "collapsed": false
   },
   "outputs": [],
   "source": []
  },
  {
   "cell_type": "code",
   "execution_count": null,
   "metadata": {
    "collapsed": true
   },
   "outputs": [],
   "source": []
  }
 ],
 "metadata": {
  "kernelspec": {
   "display_name": "Python 2",
   "language": "python",
   "name": "python2"
  },
  "language_info": {
   "codemirror_mode": {
    "name": "ipython",
    "version": 2
   },
   "file_extension": ".py",
   "mimetype": "text/x-python",
   "name": "python",
   "nbconvert_exporter": "python",
   "pygments_lexer": "ipython2",
   "version": "2.7.6"
  }
 },
 "nbformat": 4,
 "nbformat_minor": 2
}
