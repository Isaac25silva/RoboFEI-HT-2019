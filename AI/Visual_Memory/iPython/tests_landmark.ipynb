{
 "cells": [
  {
   "cell_type": "code",
   "execution_count": 1,
   "metadata": {
    "collapsed": true
   },
   "outputs": [],
   "source": [
    "#ini-iPython"
   ]
  },
  {
   "cell_type": "markdown",
   "metadata": {},
   "source": [
    "# Executando no diretório principal"
   ]
  },
  {
   "cell_type": "code",
   "execution_count": 2,
   "metadata": {
    "collapsed": true
   },
   "outputs": [],
   "source": [
    "import os\n",
    "os.chdir('/home/vinicius/Dropbox/Projeto Mestrado/Codigos/RoboFEI-HT_Debug/AI/Visual_Memory') #Executando na pasta Visual_Memory\n",
    "import sys\n",
    "sys.path.append('./include')\n",
    "sys.path.append('./src')\n",
    "sys.path.append('./iPython')\n",
    "#end-iPython"
   ]
  },
  {
   "cell_type": "markdown",
   "metadata": {
    "collapsed": true
   },
   "source": [
    "---- Imports ----"
   ]
  },
  {
   "cell_type": "code",
   "execution_count": 3,
   "metadata": {
    "collapsed": true
   },
   "outputs": [],
   "source": [
    "# Libraries to be used.\n",
    "import sys\n",
    "#des-iPython sys.path.append('../include')\n",
    "#des-iPython sys.path.append('../src')"
   ]
  },
  {
   "cell_type": "code",
   "execution_count": 4,
   "metadata": {
    "collapsed": true
   },
   "outputs": [],
   "source": [
    "# The standard libraries used in the vision system.\n"
   ]
  },
  {
   "cell_type": "code",
   "execution_count": 5,
   "metadata": {
    "collapsed": false
   },
   "outputs": [],
   "source": [
    "# Used class developed by RoboFEI-HT.\n",
    "from Landmark import *\n",
    "sym.init_printing() #debug-iPython"
   ]
  },
  {
   "cell_type": "code",
   "execution_count": 6,
   "metadata": {
    "collapsed": false
   },
   "outputs": [],
   "source": [
    "me = Speeds( )\n",
    "land = Landmark(me)"
   ]
  },
  {
   "cell_type": "code",
   "execution_count": 7,
   "metadata": {
    "collapsed": false
   },
   "outputs": [
    {
     "name": "stdout",
     "output_type": "stream",
     "text": [
      "{'time': 0.0, 'pos': [6.001609127002276, 3.0057683676526072], 'target': 1, 'movement': 1} \n",
      "\n",
      "Matrix([[6.00], [3.01], [0], [0], [0], [0]]) Matrix([\n",
      "[0.01,    0,      0,      0,      0,      0],\n",
      "[   0, 0.01,      0,      0,      0,      0],\n",
      "[   0,    0, 1.0e+3,      0,      0,      0],\n",
      "[   0,    0,      0, 1.0e+3,      0,      0],\n",
      "[   0,    0,      0,      0, 1.0e+3,      0],\n",
      "[   0,    0,      0,      0,      0, 1.0e+3]]) \n",
      "\n",
      "{'time': 0.5, 'pos': [5.4955177000434166, 2.9561800534289957], 'target': 1, 'movement': 1} \n",
      "\n",
      "Matrix([[5.50], [2.96], [-1.07], [-0.105], [-0.238], [-0.0233]]) Matrix([\n",
      "[   0.01,       0, 0.0212,      0, 0.00471,       0],\n",
      "[      0,    0.01,      0, 0.0212,       0, 0.00471],\n",
      "[ 0.0212,       0,   58.9,      0,   235.0,       0],\n",
      "[      0,  0.0212,      0,   58.9,       0,   235.0],\n",
      "[0.00471,       0,  235.0,      0,   941.0,       0],\n",
      "[      0, 0.00471,      0,  235.0,       0,   941.0]]) \n",
      "\n",
      "{'time': 1.0, 'pos': [4.99699587997178, 2.9099725055812504], 'target': 1, 'movement': 1} \n",
      "\n",
      "Matrix([[5.00], [2.91], [-0.990], [-0.0891], [0.0295], [0.0133]]) Matrix([\n",
      "[0.01,    0,  0.03,     0,  0.04,     0],\n",
      "[   0, 0.01,     0,  0.03,     0,  0.04],\n",
      "[0.03,    0,  0.26,     0, 0.479,     0],\n",
      "[   0, 0.03,     0,  0.26,     0, 0.479],\n",
      "[0.04,    0, 0.479,     0, 0.959,     0],\n",
      "[   0, 0.04,     0, 0.479,     0, 0.959]]) \n",
      "\n",
      "{'time': 1.5, 'pos': [4.490206393936726, 2.8445624538699215], 'target': 1, 'movement': 1} \n",
      "\n",
      "Matrix([[4.49], [2.85], [-1.01], [-0.130], [0], [-0.0317]]) Matrix([\n",
      "[0.0095,      0, 0.021,     0, 0.02,    0],\n",
      "[     0, 0.0095,     0, 0.021,    0, 0.02],\n",
      "[ 0.021,      0, 0.098,     0, 0.12,    0],\n",
      "[     0,  0.021,     0, 0.098,    0, 0.12],\n",
      "[  0.02,      0,  0.12,     0, 0.16,    0],\n",
      "[     0,   0.02,     0,  0.12,    0, 0.16]]) \n",
      "\n",
      "{'time': 2.0, 'pos': [4.006661428184367, 2.793325714088894], 'target': 1, 'movement': 1} \n",
      "\n",
      "Matrix([[4.00], [2.79], [-0.978], [-0.120], [0.0223], [-0.0129]]) Matrix([\n",
      "[0.00886,       0, 0.0154,      0, 0.0114,      0],\n",
      "[      0, 0.00886,      0, 0.0154,      0, 0.0114],\n",
      "[ 0.0154,       0, 0.0497,      0, 0.0457,      0],\n",
      "[      0,  0.0154,      0, 0.0497,      0, 0.0457],\n",
      "[ 0.0114,       0, 0.0457,      0, 0.0457,      0],\n",
      "[      0,  0.0114,      0, 0.0457,      0, 0.0457]]) \n",
      "\n",
      "{'time': 2.5, 'pos': [3.5020067864481663, 2.7464197853439516], 'target': 1, 'movement': 1} \n",
      "\n",
      "Matrix([[3.50], [2.74], [-0.986], [-0.107], [0.0106], [0]]) Matrix([\n",
      "[0.00821,       0, 0.0118,      0, 0.00714,       0],\n",
      "[      0, 0.00821,      0, 0.0118,       0, 0.00714],\n",
      "[ 0.0118,       0, 0.0291,      0,  0.0214,       0],\n",
      "[      0,  0.0118,      0, 0.0291,       0,  0.0214],\n",
      "[0.00714,       0, 0.0214,      0,  0.0171,       0],\n",
      "[      0, 0.00714,      0, 0.0214,       0,  0.0171]]) \n",
      "\n",
      "{'time': 3.0, 'pos': [2.999193230113095, 2.7013074684744676], 'target': 1, 'movement': 1} \n",
      "\n",
      "Matrix([[3.00], [2.70], [-0.994], [-0.0964], [0], [0.00541]]) Matrix([\n",
      "[0.00762,       0, 0.00928,       0, 0.00476,       0],\n",
      "[      0, 0.00762,       0, 0.00928,       0, 0.00476],\n",
      "[0.00928,       0,  0.0186,       0,  0.0114,       0],\n",
      "[      0, 0.00928,       0,  0.0186,       0,  0.0114],\n",
      "[0.00476,       0,  0.0114,       0, 0.00762,       0],\n",
      "[      0, 0.00476,       0,  0.0114,       0, 0.00762]]) \n",
      "\n",
      "{'time': 3.5, 'pos': [2.4916157079183634, 2.651559132414258], 'target': 1, 'movement': 1} \n",
      "\n",
      "Matrix([[2.50], [2.65], [-1.00], [-0.0934], [0], [0.00557]]) Matrix([\n",
      "[0.00708,       0,  0.0075,       0, 0.00333,       0],\n",
      "[      0, 0.00708,       0,  0.0075,       0, 0.00333],\n",
      "[ 0.0075,       0,  0.0126,       0, 0.00667,       0],\n",
      "[      0,  0.0075,       0,  0.0126,       0, 0.00667],\n",
      "[0.00333,       0, 0.00667,       0, 0.00381,       0],\n",
      "[      0, 0.00333,       0, 0.00667,       0, 0.00381]]) \n",
      "\n",
      "{'time': 4.0, 'pos': [2.0058113148203427, 2.59639732101483], 'target': 1, 'movement': 1} \n",
      "\n",
      "Matrix([[2.00], [2.60], [-0.997], [-0.0962], [0], [0]]) Matrix([\n",
      "[0.00661,       0, 0.00618,       0, 0.00242,       0],\n",
      "[      0, 0.00661,       0, 0.00618,       0, 0.00242],\n",
      "[0.00618,       0, 0.00898,       0, 0.00416,       0],\n",
      "[      0, 0.00618,       0, 0.00898,       0, 0.00416],\n",
      "[0.00242,       0, 0.00416,       0, 0.00208,       0],\n",
      "[      0, 0.00242,       0, 0.00416,       0, 0.00208]]) \n",
      "\n",
      "{'time': 4.5, 'pos': [1.5007534580873905, 2.5509043582468416], 'target': 1, 'movement': 1} \n",
      "\n",
      "Matrix([[1.50], [2.55], [-0.998], [-0.0964], [0], [0]]) Matrix([\n",
      "[0.00618,       0, 0.00518,       0, 0.00182,       0],\n",
      "[      0, 0.00618,       0, 0.00518,       0, 0.00182],\n",
      "[0.00518,       0, 0.00662,       0, 0.00273,       0],\n",
      "[      0, 0.00518,       0, 0.00662,       0, 0.00273],\n",
      "[0.00182,       0, 0.00273,       0, 0.00121,       0],\n",
      "[      0, 0.00182,       0, 0.00273,       0, 0.00121]]) \n",
      "\n",
      "{'time': 5.0, 'pos': [1.00835024402164, 2.505809495335304], 'target': 1, 'movement': 1} \n",
      "\n",
      "Matrix([[1.01], [2.50], [-0.996], [-0.0951], [0], [0]]) Matrix([\n",
      "[ 0.0058,       0, 0.00441,       0,   0.0014,        0],\n",
      "[      0,  0.0058,       0, 0.00441,        0,   0.0014],\n",
      "[0.00441,       0, 0.00503,       0,  0.00186,        0],\n",
      "[      0, 0.00441,       0, 0.00503,        0,  0.00186],\n",
      "[ 0.0014,       0, 0.00186,       0, 0.000746,        0],\n",
      "[      0,  0.0014,       0, 0.00186,        0, 0.000746]]) \n",
      "\n",
      "{'time': 5.5, 'pos': [0.49206298504124574, 2.4484304457894575], 'target': 1, 'movement': 1} \n",
      "\n",
      "Matrix([[0.499], [2.45], [-1.00], [-0.0984], [0], [0]]) Matrix([\n",
      "[0.00547,       0, 0.00379,       0,  0.0011,       0],\n",
      "[      0, 0.00547,       0, 0.00379,       0,  0.0011],\n",
      "[0.00379,       0, 0.00391,       0, 0.00132,       0],\n",
      "[      0, 0.00379,       0, 0.00391,       0, 0.00132],\n",
      "[ 0.0011,       0, 0.00132,       0, 0.00048,       0],\n",
      "[      0,  0.0011,       0, 0.00132,       0, 0.00048]]) \n",
      "\n",
      "{'time': 6.0, 'pos': [0.003942690515133216, 2.402686565192013], 'target': 1, 'movement': 1} \n",
      "\n",
      "Matrix([[0], [2.40], [-1.00], [-0.0985], [0], [0]]) Matrix([\n",
      "[ 0.00517,        0,   0.0033,        0, 0.000879,        0],\n",
      "[       0,  0.00517,        0,   0.0033,        0, 0.000879],\n",
      "[  0.0033,        0,   0.0031,        0, 0.000959,        0],\n",
      "[       0,   0.0033,        0,   0.0031,        0, 0.000959],\n",
      "[0.000879,        0, 0.000959,        0,  0.00032,        0],\n",
      "[       0, 0.000879,        0, 0.000959,        0,  0.00032]]) \n",
      "\n",
      "{'time': 6.5, 'pos': [-0.49153650220575795, 2.352519514036185], 'target': 1, 'movement': 1} \n",
      "\n",
      "Matrix([[-0.496], [2.35], [-0.998], [-0.0988], [0], [0]]) Matrix([\n",
      "[ 0.00489,        0,  0.00289,        0, 0.000714,        0],\n",
      "[       0,  0.00489,        0,  0.00289,        0, 0.000714],\n",
      "[ 0.00289,        0,   0.0025,        0, 0.000714,        0],\n",
      "[       0,  0.00289,        0,   0.0025,        0, 0.000714],\n",
      "[0.000714,        0, 0.000714,        0,  0.00022,        0],\n",
      "[       0, 0.000714,        0, 0.000714,        0,  0.00022]]) \n",
      "\n",
      "{'time': 7.0, 'pos': [-0.9943031695399894, 2.2952421752163237], 'target': 1, 'movement': 1} \n",
      "\n",
      "Matrix([[-0.995], [2.30], [-0.998], [-0.101], [0], [0]]) Matrix([\n",
      "[ 0.00465,        0,  0.00256,        0, 0.000588,        0],\n",
      "[       0,  0.00465,        0,  0.00256,        0, 0.000588],\n",
      "[ 0.00256,        0,  0.00204,        0, 0.000543,        0],\n",
      "[       0,  0.00256,        0,  0.00204,        0, 0.000543],\n",
      "[0.000588,        0, 0.000543,        0, 0.000155,        0],\n",
      "[       0, 0.000588,        0, 0.000543,        0, 0.000155]]) \n",
      "\n"
     ]
    }
   ],
   "source": [
    "import random\n",
    "random.seed(time.time())\n",
    "\n",
    "# # Vx = 1.7 Vy = 0.3  omega = -5\n",
    "# lista = [\n",
    "#     {\"movement\": 1, \"target\": 1, \"pos\": [+6.00, +3.00], \"time\": 0.0,},\n",
    "# #     {\"movement\": 1, \"target\": 1, \"pos\": [+5.55, +2.84], \"time\": 0.5,},\n",
    "#     {\"movement\": 1, \"target\": 1, \"pos\": [+4.02, +3.21], \"time\": 1.0,},\n",
    "# #     {\"movement\": 1, \"target\": 1, \"pos\": [+3.01, +3.31], \"time\": 1.5,},\n",
    "#     {\"movement\": 1, \"target\": 1, \"pos\": [+1.99, +3.40], \"time\": 2.0,},\n",
    "#     {\"movement\": 1, \"target\": 1, \"pos\": [+0.96, +3.48], \"time\": 2.5,},\n",
    "#     {\"movement\": 1, \"target\": 1, \"pos\": [-0.08, +3.55], \"time\": 3.0,},\n",
    "# #     {\"movement\": 1, \"target\": 1, \"pos\": [-1.13, +3.62], \"time\": 3.5,},\n",
    "#     {\"movement\": 1, \"target\": 1, \"pos\": [-2.19, +3.67], \"time\": 4.0,},\n",
    "#     {\"movement\": 1, \"target\": 1, \"pos\": [-3.25, +3.72], \"time\": 4.5,},\n",
    "# #     {\"movement\": 1, \"target\": 1, \"pos\": [-4.33, +3.75], \"time\": 5.0,},\n",
    "#     {\"movement\": 1, \"target\": 1, \"pos\": [-5.41, +3.78], \"time\": 5.5,},\n",
    "#     {\"movement\": 1, \"target\": 1, \"pos\": [-6.50, +3.80], \"time\": 6.0,},\n",
    "#     {\"movement\": 1, \"target\": 1, \"pos\": [-7.60, +3.80], \"time\": 6.5,},\n",
    "# #     {\"movement\": 1, \"target\": 1, \"pos\": [-8.71, +3.80], \"time\": 7.0,},\n",
    "#     {\"movement\": 1, \"target\": 1, \"pos\": [-9.82, +3.78], \"time\": 7.5,},\n",
    "# ]\n",
    "\n",
    "# # Vx = 1  Vy = 0.1  omega = 2\n",
    "# lista = [\n",
    "#     {\"movement\": 1, \"target\": 1, \"pos\": [+6.00, +3.00], \"time\": 0.0,},\n",
    "# #     {\"movement\": 1, \"target\": 1, \"pos\": [+5.55, +2.84], \"time\": 0.5,},\n",
    "#     {\"movement\": 1, \"target\": 1, \"pos\": [+5.10, +2.69], \"time\": 1.0,},\n",
    "#     {\"movement\": 1, \"target\": 1, \"pos\": [+4.65, +2.53], \"time\": 1.5,},\n",
    "#     {\"movement\": 1, \"target\": 1, \"pos\": [+4.19, +2.37], \"time\": 2.0,},\n",
    "# #     {\"movement\": 1, \"target\": 1, \"pos\": [+3.74, +2.22], \"time\": 2.5,},\n",
    "#     {\"movement\": 1, \"target\": 1, \"pos\": [+3.28, +2.06], \"time\": 3.0,},\n",
    "#     {\"movement\": 1, \"target\": 1, \"pos\": [+2.82, +1.90], \"time\": 3.5,},\n",
    "# #     {\"movement\": 1, \"target\": 1, \"pos\": [+2.36, +1.74], \"time\": 4.0,},\n",
    "#     {\"movement\": 1, \"target\": 1, \"pos\": [+1.90, +1.57], \"time\": 4.5,},\n",
    "#     {\"movement\": 1, \"target\": 1, \"pos\": [+1.43, +1.41], \"time\": 5.0,},\n",
    "#     {\"movement\": 1, \"target\": 1, \"pos\": [+0.96, +1.25], \"time\": 5.5,},\n",
    "#     {\"movement\": 1, \"target\": 1, \"pos\": [+0.49, +1.09], \"time\": 6.0,},\n",
    "# #     {\"movement\": 1, \"target\": 1, \"pos\": [+0.02, +0.92], \"time\": 6.5,},\n",
    "#     {\"movement\": 1, \"target\": 1, \"pos\": [-0.45, +0.76], \"time\": 7.0,},\n",
    "#     {\"movement\": 1, \"target\": 1, \"pos\": [-0.93, +0.59], \"time\": 7.5,},\n",
    "# ]\n",
    "\n",
    "# Vx = 1  Vy = 0.1  omega = 0\n",
    "lista = [\n",
    "    {\"movement\": 1, \"target\": 1, \"pos\": [+6.00, +3.00], \"time\": 0.0,},\n",
    "    {\"movement\": 1, \"target\": 1, \"pos\": [+5.50, +2.95], \"time\": 0.5,},\n",
    "    {\"movement\": 1, \"target\": 1, \"pos\": [+5.00, +2.90], \"time\": 1.0,},\n",
    "    {\"movement\": 1, \"target\": 1, \"pos\": [+4.50, +2.85], \"time\": 1.5,},\n",
    "    {\"movement\": 1, \"target\": 1, \"pos\": [+4.00, +2.80], \"time\": 2.0,},\n",
    "    {\"movement\": 1, \"target\": 1, \"pos\": [+3.50, +2.75], \"time\": 2.5,},\n",
    "    {\"movement\": 1, \"target\": 1, \"pos\": [+3.00, +2.70], \"time\": 3.0,},\n",
    "    {\"movement\": 1, \"target\": 1, \"pos\": [+2.50, +2.65], \"time\": 3.5,},\n",
    "    {\"movement\": 1, \"target\": 1, \"pos\": [+2.00, +2.60], \"time\": 4.0,},\n",
    "    {\"movement\": 1, \"target\": 1, \"pos\": [+1.50, +2.55], \"time\": 4.5,},\n",
    "    {\"movement\": 1, \"target\": 1, \"pos\": [+1.00, +2.50], \"time\": 5.0,},\n",
    "    {\"movement\": 1, \"target\": 1, \"pos\": [+0.50, +2.45], \"time\": 5.5,},\n",
    "    {\"movement\": 1, \"target\": 1, \"pos\": [+0.00, +2.40], \"time\": 6.0,},\n",
    "    {\"movement\": 1, \"target\": 1, \"pos\": [-0.50, +2.35], \"time\": 6.5,},\n",
    "    {\"movement\": 1, \"target\": 1, \"pos\": [-1.00, +2.30], \"time\": 7.0,},\n",
    "    {\"movement\": 1, \"target\": 1, \"pos\": [-1.50, +2.25], \"time\": 7.5,},\n",
    "]\n",
    "\n",
    "for x in xrange(len(lista)-1):\n",
    "    lista[x][\"pos\"][0] += -land._parameters[\"vision_error\"] + 2*land._parameters[\"vision_error\"]*random.random()\n",
    "    lista[x][\"pos\"][1] += -land._parameters[\"vision_error\"] + 2*land._parameters[\"vision_error\"]*random.random()\n",
    "\n",
    "vx = 1\n",
    "vy = 0\n",
    "\n",
    "for data in lista[:-1]:\n",
    "    print data, \"\\n\"\n",
    "#     land.predict(tnow=data[\"time\"], movements=data[\"movement\"])\n",
    "#     print land._predictedstate[\"x\"].evalf(3), land._predictedstate[\"covariance\"].evalf(3), \"\\n\"\n",
    "    me.update(land.update(data))\n",
    "    print land._predictedstate[\"x\"].evalf(3), land._predictedstate[\"covariance\"].evalf(3), \"\\n\"\n",
    "#     land.predict(tnow=data[\"time\"]+1, movements=data[\"movement\"])\n",
    "#     print land._predictedstate[\"x\"].evalf(3), land._predictedstate[\"covariance\"].evalf(3), \"\\n\""
   ]
  },
  {
   "cell_type": "code",
   "execution_count": 8,
   "metadata": {
    "collapsed": false
   },
   "outputs": [],
   "source": [
    "land._end( )"
   ]
  },
  {
   "cell_type": "code",
   "execution_count": 9,
   "metadata": {
    "collapsed": false
   },
   "outputs": [
    {
     "name": "stdout",
     "output_type": "stream",
     "text": [
      "[-1.5, 2.25]\n",
      "time 7.5\n",
      "Matrix([[-1.49], [2.25], [-0.998], [-0.101], [0], [0]]) Matrix([\n",
      "[ 0.00793,        0,  0.00409,        0, 0.000879,        0],\n",
      "[       0,  0.00793,        0,  0.00409,        0, 0.000879],\n",
      "[ 0.00409,        0,  0.00262,        0, 0.000621,        0],\n",
      "[       0,  0.00409,        0,  0.00262,        0, 0.000621],\n",
      "[0.000879,        0, 0.000621,        0, 0.000155,        0],\n",
      "[       0, 0.000879,        0, 0.000621,        0, 0.000155]]) \n",
      "\n"
     ]
    }
   ],
   "source": [
    "print lista[len(lista)-1][\"pos\"]\n",
    "print \"time\", lista[len(lista)-1][\"time\"]\n",
    "land.predict(tnow=lista[len(lista)-1][\"time\"], movements=data[\"movement\"])\n",
    "print land._predictedstate[\"x\"].evalf(3), land._predictedstate[\"covariance\"].evalf(3), \"\\n\""
   ]
  },
  {
   "cell_type": "code",
   "execution_count": 10,
   "metadata": {
    "collapsed": false,
    "scrolled": true
   },
   "outputs": [
    {
     "data": {
      "image/png": "[encoded data removed]",
      "text/latex": [
       "$$\\left[\\begin{matrix}0.997721546921028\\\\0.101005392345691\\\\0\\\\0\\\\1\\end{matrix}\\right]$$"
      ],
      "text/plain": [
       "⎡0.997721546921028⎤\n",
       "⎢                 ⎥\n",
       "⎢0.101005392345691⎥\n",
       "⎢                 ⎥\n",
       "⎢        0        ⎥\n",
       "⎢                 ⎥\n",
       "⎢        0        ⎥\n",
       "⎢                 ⎥\n",
       "⎣        1        ⎦"
      ]
     },
     "execution_count": 10,
     "metadata": {},
     "output_type": "execute_result"
    }
   ],
   "source": [
    "me[1]['x_speed']"
   ]
  }
 ],
 "metadata": {
  "kernelspec": {
   "display_name": "Python 2",
   "language": "python",
   "name": "python2"
  },
  "language_info": {
   "codemirror_mode": {
    "name": "ipython",
    "version": 2
   },
   "file_extension": ".py",
   "mimetype": "text/x-python",
   "name": "python",
   "nbconvert_exporter": "python",
   "pygments_lexer": "ipython2",
   "version": "2.7.6"
  }
 },
 "nbformat": 4,
 "nbformat_minor": 2
}
