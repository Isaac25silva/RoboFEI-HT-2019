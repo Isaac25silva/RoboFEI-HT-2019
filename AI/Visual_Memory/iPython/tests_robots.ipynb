{
 "cells": [
  {
   "cell_type": "code",
   "execution_count": 1,
   "metadata": {
    "collapsed": true
   },
   "outputs": [],
   "source": [
    "# ini-iPython"
   ]
  },
  {
   "cell_type": "markdown",
   "metadata": {},
   "source": [
    "# Executando no diretório principal"
   ]
  },
  {
   "cell_type": "code",
   "execution_count": 2,
   "metadata": {
    "collapsed": true
   },
   "outputs": [],
   "source": [
    "import os\n",
    "os.chdir('/home/vinicius/Dropbox/Projeto Mestrado/Codigos/RoboFEI-HT_Debug/AI/Visual_Memory') #Executando na pasta Visual_Memory\n",
    "import sys\n",
    "sys.path.append('./include')\n",
    "sys.path.append('./src')\n",
    "sys.path.append('./iPython')\n",
    "# end-iPython"
   ]
  },
  {
   "cell_type": "markdown",
   "metadata": {
    "collapsed": true
   },
   "source": [
    "---- Imports ----"
   ]
  },
  {
   "cell_type": "code",
   "execution_count": 3,
   "metadata": {
    "collapsed": true
   },
   "outputs": [],
   "source": [
    "# Libraries to be used.\n",
    "import sys\n",
    "#des-iPython sys.path.append('../include')\n",
    "#des-iPython sys.path.append('../src')"
   ]
  },
  {
   "cell_type": "code",
   "execution_count": 4,
   "metadata": {
    "collapsed": true
   },
   "outputs": [],
   "source": [
    "# The standard libraries used in the vision system.\n"
   ]
  },
  {
   "cell_type": "code",
   "execution_count": 5,
   "metadata": {
    "collapsed": false
   },
   "outputs": [],
   "source": [
    "# Used class developed by RoboFEI-HT.\n",
    "from Landmark import *\n",
    "from Robots import *\n",
    "sym.init_printing() #debug-iPython"
   ]
  },
  {
   "cell_type": "code",
   "execution_count": 6,
   "metadata": {
    "collapsed": false
   },
   "outputs": [],
   "source": [
    "me = Speeds( )\n",
    "land = Landmark(me)\n",
    "rob = Robots(me)"
   ]
  },
  {
   "cell_type": "code",
   "execution_count": 7,
   "metadata": {
    "collapsed": false
   },
   "outputs": [
    {
     "name": "stdout",
     "output_type": "stream",
     "text": [
      "{'time': 0.0, 'pos': [7.005212252919511, -0.004014081751348913], 'movement': 1} \n",
      "\n",
      "Matrix([[7.00], [0], [0], [0]]) Matrix([\n",
      "[0.01,    0,      0,      0],\n",
      "[   0, 0.01,      0,      0],\n",
      "[   0,    0, 2.0e+3,      0],\n",
      "[   0,    0,      0, 2.0e+3]]) \n",
      "\n",
      "{'time': 0.5, 'pos': [6.497113997721876, -0.04573916628069831], 'movement': 1} \n",
      "\n",
      "Matrix([[6.50], [-0.0457], [0.109], [0.0172]]) Matrix([\n",
      "[0.01,    0, 0.02,    0],\n",
      "[   0, 0.01,    0, 0.02],\n",
      "[0.02,    0, 58.9,    0],\n",
      "[   0, 0.02,    0, 58.9]]) \n",
      "\n",
      "{'time': 1.0, 'pos': [6.001813832164576, -0.10692927165070991], 'movement': 1} \n",
      "\n",
      "Matrix([[6.00], [-0.107], [-0.108], [0.0759]]) Matrix([\n",
      "[0.00999,       0, 0.02,    0],\n",
      "[      0, 0.00999,    0, 0.02],\n",
      "[   0.02,       0, 0.26,    0],\n",
      "[      0,    0.02,    0, 0.26]]) \n",
      "\n",
      "{'time': 1.5, 'pos': [5.4927175870390235, -0.14073181791124734], 'movement': 1} \n",
      "\n",
      "Matrix([[5.49], [-0.138], [0.181], [0]]) Matrix([\n",
      "[0.00912,       0, 0.0149,      0],\n",
      "[      0, 0.00912,      0, 0.0149],\n",
      "[ 0.0149,       0,  0.103,      0],\n",
      "[      0,  0.0149,      0,  0.103]]) \n",
      "\n",
      "{'time': 2.0, 'pos': [4.991164455782025, -0.204392842746794], 'movement': 1} \n",
      "\n",
      "Matrix([[5.00], [-0.201], [-0.106], [-0.210]]) Matrix([\n",
      "[0.00854,       0, 0.0119,      0],\n",
      "[      0, 0.00854,      0, 0.0119],\n",
      "[ 0.0119,       0, 0.0551,      0],\n",
      "[      0,  0.0119,      0, 0.0551]]) \n",
      "\n",
      "{'time': 2.5, 'pos': [4.499182159223232, -0.259523442348046], 'movement': 1} \n",
      "\n",
      "Matrix([[4.49], [-0.278], [0.259], [0.183]]) Matrix([\n",
      "[0.00809,       0, 0.00977,       0],\n",
      "[      0, 0.00809,       0, 0.00977],\n",
      "[0.00977,       0,  0.0341,       0],\n",
      "[      0, 0.00977,       0,  0.0341]]) \n",
      "\n",
      "{'time': 3.0, 'pos': [3.9970786531018403, -0.30274076866087046], 'movement': 1} \n",
      "\n",
      "Matrix([[4.03], [-0.289], [-0.408], [0.0532]]) Matrix([\n",
      "[0.00773,       0, 0.0082,      0],\n",
      "[      0, 0.00773,      0, 0.0082],\n",
      "[ 0.0082,       0,  0.023,      0],\n",
      "[      0,  0.0082,      0,  0.023]]) \n",
      "\n",
      "{'time': 3.5, 'pos': [3.4940382706094604, -0.3583345041621399], 'movement': 1} \n",
      "\n",
      "Matrix([[3.45], [-0.347], [-0.291], [0.0235]]) Matrix([\n",
      "[0.00742,       0, 0.00702,       0],\n",
      "[      0, 0.00742,       0, 0.00702],\n",
      "[0.00702,       0,  0.0165,       0],\n",
      "[      0, 0.00702,       0,  0.0165]]) \n",
      "\n",
      "{'time': 4.0, 'pos': [3.003417188584081, -0.39478328742203944], 'movement': 1} \n",
      "\n",
      "Matrix([[2.95], [-0.394], [-0.170], [0.0210]]) Matrix([\n",
      "[0.00716,       0, 0.0061,      0],\n",
      "[      0, 0.00716,      0, 0.0061],\n",
      "[ 0.0061,       0, 0.0124,      0],\n",
      "[      0,  0.0061,      0, 0.0124]]) \n",
      "\n",
      "{'time': 4.5, 'pos': [2.4919171904051574, -0.45258319262061514], 'movement': 1} \n",
      "\n",
      "Matrix([[2.45], [-0.448], [-0.0996], [0.0128]]) Matrix([\n",
      "[0.00693,       0, 0.00537,       0],\n",
      "[      0, 0.00693,       0, 0.00537],\n",
      "[0.00537,       0, 0.00963,       0],\n",
      "[      0, 0.00537,       0, 0.00963]]) \n",
      "\n",
      "{'time': 5.0, 'pos': [1.9978618513273223, -0.5067177652536875], 'movement': 1} \n",
      "\n",
      "Matrix([[1.97], [-0.502], [-0.0537], [0.00556]]) Matrix([\n",
      "[0.00672,       0, 0.00478,       0],\n",
      "[      0, 0.00672,       0, 0.00478],\n",
      "[0.00478,       0, 0.00768,       0],\n",
      "[      0, 0.00478,       0, 0.00768]]) \n",
      "\n",
      "{'time': 5.5, 'pos': [1.5019901930860562, -0.5536612883159389], 'movement': 1} \n",
      "\n",
      "Matrix([[1.48], [-0.552], [-0.0269], [0]]) Matrix([\n",
      "[0.00654,       0,  0.0043,       0],\n",
      "[      0, 0.00654,       0,  0.0043],\n",
      "[ 0.0043,       0, 0.00625,       0],\n",
      "[      0,  0.0043,       0, 0.00625]]) \n",
      "\n",
      "{'time': 6.0, 'pos': [0.9993726817222698, -0.6010762125468904], 'movement': 1} \n",
      "\n",
      "Matrix([[0.988], [-0.602], [-0.0148], [0]]) Matrix([\n",
      "[0.00637,       0, 0.00389,       0],\n",
      "[      0, 0.00637,       0, 0.00389],\n",
      "[0.00389,       0, 0.00518,       0],\n",
      "[      0, 0.00389,       0, 0.00518]]) \n",
      "\n",
      "{'time': 6.5, 'pos': [0.49931000884302884, -0.6422571747803049], 'movement': 1} \n",
      "\n",
      "Matrix([[0.493], [-0.646], [-0.00869], [0]]) Matrix([\n",
      "[0.00622,       0, 0.00354,       0],\n",
      "[      0, 0.00622,       0, 0.00354],\n",
      "[0.00354,       0, 0.00436,       0],\n",
      "[      0, 0.00354,       0, 0.00436]]) \n",
      "\n",
      "{'time': 7.0, 'pos': [0.00793557521017805, -0.7039953662886927], 'movement': 1} \n",
      "\n",
      "Matrix([[0], [-0.700], [0], [0]]) Matrix([\n",
      "[0.00608,       0, 0.00325,       0],\n",
      "[      0, 0.00608,       0, 0.00325],\n",
      "[0.00325,       0, 0.00371,       0],\n",
      "[      0, 0.00325,       0, 0.00371]]) \n",
      "\n",
      "{'time': 7.5, 'pos': [-0.5, -0.75], 'movement': 1} \n",
      "\n",
      "Matrix([[-0.500], [-0.750], [0], [0]]) Matrix([\n",
      "[0.00595,       0, 0.00299,       0],\n",
      "[      0, 0.00595,       0, 0.00299],\n",
      "[0.00299,       0,  0.0032,       0],\n",
      "[      0, 0.00299,       0,  0.0032]]) \n",
      "\n"
     ]
    }
   ],
   "source": [
    "import random\n",
    "random.seed(time.time())\n",
    "\n",
    "# Vx = 1  Vy = 0.1  omega = 0\n",
    "lista = [\n",
    "    [{\"movement\": 1, \"pos\": [+6.00, +3.00], \"time\": 0.0,}, {\"movement\": 1, \"pos\": [+7.00, +0.00], \"time\": 0.0,}],\n",
    "    [{\"movement\": 1, \"pos\": [+5.50, +2.95], \"time\": 0.5,}, {\"movement\": 1, \"pos\": [+6.50, -0.05], \"time\": 0.5,}],\n",
    "    [{\"movement\": 1, \"pos\": [+5.00, +2.90], \"time\": 1.0,}, {\"movement\": 1, \"pos\": [+6.00, -0.10], \"time\": 1.0,}],\n",
    "    [{\"movement\": 1, \"pos\": [+4.50, +2.85], \"time\": 1.5,}, {\"movement\": 1, \"pos\": [+5.50, -0.15], \"time\": 1.5,}],\n",
    "    [{\"movement\": 1, \"pos\": [+4.00, +2.80], \"time\": 2.0,}, {\"movement\": 1, \"pos\": [+5.00, -0.20], \"time\": 2.0,}],\n",
    "    [{\"movement\": 1, \"pos\": [+3.50, +2.75], \"time\": 2.5,}, {\"movement\": 1, \"pos\": [+4.50, -0.25], \"time\": 2.5,}],\n",
    "    [{\"movement\": 1, \"pos\": [+3.00, +2.70], \"time\": 3.0,}, {\"movement\": 1, \"pos\": [+4.00, -0.30], \"time\": 3.0,}],\n",
    "    [{\"movement\": 1, \"pos\": [+2.50, +2.65], \"time\": 3.5,}, {\"movement\": 1, \"pos\": [+3.50, -0.35], \"time\": 3.5,}],\n",
    "    [{\"movement\": 1, \"pos\": [+2.00, +2.60], \"time\": 4.0,}, {\"movement\": 1, \"pos\": [+3.00, -0.40], \"time\": 4.0,}],\n",
    "    [{\"movement\": 1, \"pos\": [+1.50, +2.55], \"time\": 4.5,}, {\"movement\": 1, \"pos\": [+2.50, -0.45], \"time\": 4.5,}],\n",
    "    [{\"movement\": 1, \"pos\": [+1.00, +2.50], \"time\": 5.0,}, {\"movement\": 1, \"pos\": [+2.00, -0.50], \"time\": 5.0,}],\n",
    "    [{\"movement\": 1, \"pos\": [+0.50, +2.45], \"time\": 5.5,}, {\"movement\": 1, \"pos\": [+1.50, -0.55], \"time\": 5.5,}],\n",
    "    [{\"movement\": 1, \"pos\": [+0.00, +2.40], \"time\": 6.0,}, {\"movement\": 1, \"pos\": [+1.00, -0.60], \"time\": 6.0,}],\n",
    "    [{\"movement\": 1, \"pos\": [-0.50, +2.35], \"time\": 6.5,}, {\"movement\": 1, \"pos\": [+0.50, -0.65], \"time\": 6.5,}],\n",
    "    [{\"movement\": 1, \"pos\": [-1.00, +2.30], \"time\": 7.0,}, {\"movement\": 1, \"pos\": [+0.00, -0.70], \"time\": 7.0,}],\n",
    "    [{\"movement\": 1, \"pos\": [-1.50, +2.25], \"time\": 7.5,}, {\"movement\": 1, \"pos\": [-0.50, -0.75], \"time\": 7.5,}],\n",
    "]\n",
    "\n",
    "for x in xrange(len(lista)-1):\n",
    "    lista[x][0][\"pos\"][0] += -land._parameters[\"vision_error\"] + 2*land._parameters[\"vision_error\"]*random.random()\n",
    "    lista[x][0][\"pos\"][1] += -land._parameters[\"vision_error\"] + 2*land._parameters[\"vision_error\"]*random.random()\n",
    "    \n",
    "    lista[x][1][\"pos\"][0] += -land._parameters[\"vision_error\"] + 2*land._parameters[\"vision_error\"]*random.random()\n",
    "    lista[x][1][\"pos\"][1] += -land._parameters[\"vision_error\"] + 2*land._parameters[\"vision_error\"]*random.random()\n",
    "\n",
    "for dataland, datarob in lista:\n",
    "#     print dataland, \"\\n\"\n",
    "    me.update(land.update(dataland))\n",
    "#     print me[1][\"x_speed\"], me[1][\"R\"], \"\\n\"\n",
    "    \n",
    "    print datarob, \"\\n\"\n",
    "    rob.update(datarob)\n",
    "    print rob._predictedstate[\"x\"].evalf(3), rob._predictedstate[\"covariance\"].evalf(3), \"\\n\""
   ]
  },
  {
   "cell_type": "code",
   "execution_count": 8,
   "metadata": {
    "collapsed": false
   },
   "outputs": [],
   "source": [
    "land._end( )\n",
    "rob._end( )"
   ]
  },
  {
   "cell_type": "code",
   "execution_count": null,
   "metadata": {
    "collapsed": false
   },
   "outputs": [],
   "source": []
  },
  {
   "cell_type": "code",
   "execution_count": 9,
   "metadata": {
    "collapsed": false,
    "scrolled": true
   },
   "outputs": [
    {
     "data": {
      "image/png": "[encoded data removed]",
      "text/latex": [
       "$$\\left ( \\left[\\begin{matrix}0.998304099863956\\\\0.0971856208545582\\\\0\\\\0\\\\1\\end{matrix}\\right], \\quad \\left[\\begin{matrix}0.00442401617213176 & 0 & 0.00227940796387722 & 0 & 0.000490194889849299 & 0\\\\0 & 0.00442401617213176 & 0 & 0.00227940796387722 & 0 & 0.000490194889849299\\\\0.00227940796387726 & 0 & 0.00169327305691652 & 0 & 0.000420166722725524 & 0\\\\0 & 0.00227940796387726 & 0 & 0.00169327305691652 & 0 & 0.000420166722725524\\\\0.000490194889849326 & 0 & 0.000420166722725542 & 0 & 0.00011204438854201 & 0\\\\0 & 0.000490194889849326 & 0 & 0.000420166722725542 & 0 & 0.00011204438854201\\end{matrix}\\right]\\right )$$"
      ],
      "text/plain": [
       "⎛⎡0.998304099863956 ⎤, ⎡0.00442401617213176            0            0.00227940\n",
       "⎜⎢                  ⎥  ⎢                                                      \n",
       "⎜⎢0.0971856208545582⎥  ⎢         0            0.00442401617213176            0\n",
       "⎜⎢                  ⎥  ⎢                                                      \n",
       "⎜⎢        0         ⎥  ⎢0.00227940796387726            0            0.00169327\n",
       "⎜⎢                  ⎥  ⎢                                                      \n",
       "⎜⎢        0         ⎥  ⎢         0            0.00227940796387726            0\n",
       "⎜⎢                  ⎥  ⎢                                                      \n",
       "⎜⎣        1         ⎦  ⎢0.000490194889849326           0            0.00042016\n",
       "⎜                      ⎢                                                      \n",
       "⎝                      ⎣         0            0.000490194889849326           0\n",
       "\n",
       "796387722            0            0.000490194889849299           0          ⎤⎞\n",
       "                                                                            ⎥⎟\n",
       "            0.00227940796387722            0            0.000490194889849299⎥⎟\n",
       "                                                                            ⎥⎟\n",
       "305691652            0            0.000420166722725524           0          ⎥⎟\n",
       "                                                                            ⎥⎟\n",
       "            0.00169327305691652            0            0.000420166722725524⎥⎟\n",
       "                                                                            ⎥⎟\n",
       "6722725542           0            0.00011204438854201            0          ⎥⎟\n",
       "                                                                            ⎥⎟\n",
       "            0.000420166722725542           0            0.00011204438854201 ⎦⎠"
      ]
     },
     "execution_count": 9,
     "metadata": {},
     "output_type": "execute_result"
    }
   ],
   "source": [
    "me[1]['x_speed'], me[1]['R']"
   ]
  },
  {
   "cell_type": "code",
   "execution_count": null,
   "metadata": {
    "collapsed": true
   },
   "outputs": [],
   "source": []
  }
 ],
 "metadata": {
  "kernelspec": {
   "display_name": "Python 2",
   "language": "python",
   "name": "python2"
  },
  "language_info": {
   "codemirror_mode": {
    "name": "ipython",
    "version": 2
   },
   "file_extension": ".py",
   "mimetype": "text/x-python",
   "name": "python",
   "nbconvert_exporter": "python",
   "pygments_lexer": "ipython2",
   "version": "2.7.6"
  }
 },
 "nbformat": 4,
 "nbformat_minor": 2
}
