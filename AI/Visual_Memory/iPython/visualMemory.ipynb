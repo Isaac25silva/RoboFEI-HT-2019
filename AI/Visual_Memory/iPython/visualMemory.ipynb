{
 "cells": [
  {
   "cell_type": "code",
   "execution_count": 1,
   "metadata": {
    "collapsed": true
   },
   "outputs": [],
   "source": [
    "#ini-iPython\n",
    "import os\n",
    "os.chdir('/home/vinicius/Dropbox/Projeto Mestrado/Codigos/RoboFEI-HT_Debug/AI/Visual_Memory') #Executando na pasta Vision\n",
    "import sys\n",
    "sys.path.append('./iPython')\n",
    "#end-iPython"
   ]
  },
  {
   "cell_type": "markdown",
   "metadata": {},
   "source": [
    "---- List of execution parameters ----"
   ]
  },
  {
   "cell_type": "code",
   "execution_count": 2,
   "metadata": {
    "collapsed": true
   },
   "outputs": [],
   "source": [
    "#des-iPython import argparse"
   ]
  },
  {
   "cell_type": "code",
   "execution_count": 3,
   "metadata": {
    "collapsed": false
   },
   "outputs": [],
   "source": [
    "#des-iPython parser = argparse.ArgumentParser(\n",
    "#des-iPython     description='Visual Memory',\n",
    "#des-iPython     epilog= 'Responsável por rastrear todos os objetos detectáveis pela visão.\\\\' \\\n",
    "#des-iPython             'Responsible for tracking all objects detectable by vision.'\n",
    "#des-iPython )\n",
    "\n",
    "#des-iPython parser.add_argument(\n",
    "#des-iPython     '--robot_numbers', # Full name\n",
    "#des-iPython     '--rn', # Abbreviation for the name\n",
    "#des-iPython     type = int, # Type variable\n",
    "#des-iPython     help = 'Número de robôs que serão rastreados.\\\\' \\\n",
    "#des-iPython            'Number of robots to be tracked.' # Description of the variable\n",
    "#des-iPython )\n",
    "\n",
    "#des-iPython args = parser.parse_args()\n",
    "\n",
    "#ini-iPython\n",
    "class test():\n",
    "    robot_numbers = None\n",
    "args = test()\n",
    "#end-iPython"
   ]
  },
  {
   "cell_type": "markdown",
   "metadata": {},
   "source": [
    "---- Imports ----"
   ]
  },
  {
   "cell_type": "code",
   "execution_count": 4,
   "metadata": {
    "collapsed": true
   },
   "outputs": [],
   "source": [
    "# Libraries to be used.\n",
    "import sys\n",
    "sys.path.append('./include')\n",
    "sys.path.append('./src')"
   ]
  },
  {
   "cell_type": "code",
   "execution_count": 5,
   "metadata": {
    "collapsed": true
   },
   "outputs": [],
   "source": [
    "# The standard libraries used in the Visual Memory System.\n",
    "import numpy as np\n",
    "import os"
   ]
  },
  {
   "cell_type": "code",
   "execution_count": 6,
   "metadata": {
    "collapsed": false
   },
   "outputs": [],
   "source": [
    "# Used class developed by RoboFEI-HT\n",
    "from MainFunctions import * # Declaration the main functions.\n",
    "from Blackboard import * # Class used to access shared memory.\n",
    "from Robots import * # Class used to track robot.\n",
    "from Landmark import * # Class used to track landmark.\n",
    "from Ball import * # Class used to track ball.\n",
    "from Speeds import * # Classes used to manage robot speed values.\n",
    "from ConfigIni import * # Used to read file 'config.ini'."
   ]
  },
  {
   "cell_type": "markdown",
   "metadata": {},
   "source": [
    "---- Main Code ----"
   ]
  },
  {
   "cell_type": "markdown",
   "metadata": {},
   "source": [
    "Starting processes"
   ]
  },
  {
   "cell_type": "code",
   "execution_count": 7,
   "metadata": {
    "collapsed": false
   },
   "outputs": [],
   "source": [
    "killedProcess() # Recognize external kill"
   ]
  },
  {
   "cell_type": "code",
   "execution_count": 8,
   "metadata": {
    "collapsed": false
   },
   "outputs": [
    {
     "name": "stdout",
     "output_type": "stream",
     "text": [
      "Parâmetros: {'robot_numbers': 8} \n",
      "\n",
      "Qnt. robôs: 8\n"
     ]
    }
   ],
   "source": [
    "# Default values\n",
    "parameters = {\n",
    "    \"robot_numbers\": 8\n",
    "}\n",
    "\n",
    "# Reading 'config.ini' values\n",
    "conf = ConfigIni(\"Basic\", \"Settings\")\n",
    "parameters = conf.read(parameters)\n",
    "if args.robot_numbers != None:\n",
    "    parameters['robot_numbers'] = args.robot_numbers\n",
    "print 'Parâmetros:', parameters, '\\n' #debug-iPython\n",
    "\n",
    "mem = Blackboard( ) # Creating shared memory\n",
    "\n",
    "land = Landmark( ) # Creating landmark object\n",
    "\n",
    "ball = Ball( ) # Creating landmark object\n",
    "\n",
    "# Creating robot objects\n",
    "robots = []\n",
    "newrobots = []\n",
    "for __ in xrange(parameters['robot_numbers']):\n",
    "    newrobots.append(Robots( ))\n",
    "print 'Qnt. robôs:', len(newrobots) #debug-iPython\n",
    "\n",
    "# List with velocities for each movement of the robot.\n",
    "speeds = Speeds( )"
   ]
  },
  {
   "cell_type": "markdown",
   "metadata": {},
   "source": [
    "Main loop"
   ]
  },
  {
   "cell_type": "code",
   "execution_count": 13,
   "metadata": {
    "collapsed": false
   },
   "outputs": [
    {
     "name": "stdout",
     "output_type": "stream",
     "text": [
      "taglandmark: 10.0\n"
     ]
    }
   ],
   "source": [
    "#des-iPython while True:\n",
    "#ini-tab\n",
    "try:\n",
    "    # Reading data about the landmark.\n",
    "    mem.write_float('VISION_LAND_TAG', 10) #debug-iPython\n",
    "    taglandmark = mem.read_float('VISION_LAND_TAG')\n",
    "    print 'taglandmark:', taglandmark #debug-iPython\n",
    "    \n",
    "    if taglandmark != 0:\n",
    "        # Read the values sent\n",
    "        datalandmarks = readDataLandmarks( )        \n",
    "        speeds.update(land.update(datalandmarks))\n",
    "        \n",
    "    else:\n",
    "        land.prediction( )\n",
    "    \n",
    "    \n",
    "    \n",
    "    \n",
    "except KeyboardInterrupt:\n",
    "    os.system('clear') # Cleaning terminal\n",
    "    print \"Keyboard interrupt detected\"\n",
    "    #des-iPython break\n",
    "except VisualMemoryException as e:\n",
    "    #edes-iPython break\n",
    "    pass\n",
    "#end-tab -- Fim do loop"
   ]
  },
  {
   "cell_type": "markdown",
   "metadata": {},
   "source": [
    "##### Finishing processes"
   ]
  },
  {
   "cell_type": "code",
   "execution_count": null,
   "metadata": {
    "collapsed": false
   },
   "outputs": [],
   "source": [
    "# Saving config values\n",
    "conf.finalize(parameters)"
   ]
  }
 ],
 "metadata": {
  "kernelspec": {
   "display_name": "Python 2",
   "language": "python",
   "name": "python2"
  },
  "language_info": {
   "codemirror_mode": {
    "name": "ipython",
    "version": 2
   },
   "file_extension": ".py",
   "mimetype": "text/x-python",
   "name": "python",
   "nbconvert_exporter": "python",
   "pygments_lexer": "ipython2",
   "version": "2.7.6"
  }
 },
 "nbformat": 4,
 "nbformat_minor": 1
}
