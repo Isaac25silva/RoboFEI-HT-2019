{
 "cells": [
  {
   "cell_type": "code",
   "execution_count": 1,
   "metadata": {
    "collapsed": true
   },
   "outputs": [],
   "source": [
    "#ini-iPython\n",
    "import os\n",
    "os.chdir(\"/home/vinicius/Dropbox/Projeto Mestrado/Codigos/RoboFEI-HT_Debug/AI/Visual_Memory\") #Executando na pasta Vision\n",
    "import sys\n",
    "sys.path.append(\"./iPython\")\n",
    "#end-iPython"
   ]
  },
  {
   "cell_type": "markdown",
   "metadata": {},
   "source": [
    "---- List of execution parameters ----"
   ]
  },
  {
   "cell_type": "code",
   "execution_count": 2,
   "metadata": {
    "collapsed": true
   },
   "outputs": [],
   "source": [
    "#des-iPython import argparse"
   ]
  },
  {
   "cell_type": "code",
   "execution_count": 3,
   "metadata": {
    "collapsed": false
   },
   "outputs": [],
   "source": [
    "#des-iPython parser = argparse.ArgumentParser(\n",
    "#des-iPython     description=\"Visual Memory\",\n",
    "#des-iPython     epilog= \"Responsável por rastrear todos os objetos detectáveis pela visão.\\\\\" \\\n",
    "#des-iPython             \"Responsible for tracking all objects detectable by vision.\"\n",
    "#des-iPython )\n",
    "\n",
    "#des-iPython parser.add_argument(\n",
    "#des-iPython     \"--robot_numbers\", # Full name\n",
    "#des-iPython     \"--rn\", # Abbreviation for the name\n",
    "#des-iPython     type = int, # Type variable\n",
    "#des-iPython     help = \"Número de robôs que serão rastreados.\\\\\" \\\n",
    "#des-iPython            \"Number of robots to be tracked.\" # Description of the variable\n",
    "#des-iPython )\n",
    "\n",
    "#des-iPython parser.add_argument(\n",
    "#des-iPython     \"--frequency_of_execution\", # Full name\n",
    "#des-iPython     \"--f\", # Abbreviation for the name\n",
    "#des-iPython     type = float, # Type variable\n",
    "#des-iPython     help = \"Frequência de execução do programa, caso seja zero ira rodar sem interrupções.\\\\\" \\\n",
    "#des-iPython            \"Frequency of program execution, if zero will run without interruptions.\" # Description of the variable\n",
    "#des-iPython )\n",
    "\n",
    "#des-iPython args = parser.parse_args()\n",
    "\n",
    "#ini-iPython\n",
    "class test():\n",
    "    robot_numbers = None\n",
    "args = test()\n",
    "#end-iPython"
   ]
  },
  {
   "cell_type": "markdown",
   "metadata": {},
   "source": [
    "---- Imports ----"
   ]
  },
  {
   "cell_type": "code",
   "execution_count": 4,
   "metadata": {
    "collapsed": true
   },
   "outputs": [],
   "source": [
    "# Libraries to be used.\n",
    "import sys\n",
    "sys.path.append(\"./include\")\n",
    "sys.path.append(\"./src\")"
   ]
  },
  {
   "cell_type": "code",
   "execution_count": 5,
   "metadata": {
    "collapsed": true
   },
   "outputs": [],
   "source": [
    "# The standard libraries used in the Visual Memory System.\n",
    "import numpy as np\n",
    "import os\n",
    "import time"
   ]
  },
  {
   "cell_type": "code",
   "execution_count": 6,
   "metadata": {
    "collapsed": false
   },
   "outputs": [],
   "source": [
    "# Used class developed by RoboFEI-HT\n",
    "from MainFunctions import * # Declaration the main functions.\n",
    "from Blackboard import * # Class used to access shared memory.\n",
    "from Robots import * # Class used to track robot.\n",
    "from Landmark import * # Class used to track landmark.\n",
    "from Ball import * # Class used to track ball.\n",
    "from Speeds import * # Classes used to manage robot speed values.\n",
    "from ConfigIni import * # Used to read file \"config.ini\"."
   ]
  },
  {
   "cell_type": "markdown",
   "metadata": {},
   "source": [
    "---- Main Code ----"
   ]
  },
  {
   "cell_type": "markdown",
   "metadata": {},
   "source": [
    "Starting processes"
   ]
  },
  {
   "cell_type": "code",
   "execution_count": 7,
   "metadata": {
    "collapsed": false
   },
   "outputs": [],
   "source": [
    "killedProcess() # Recognize external kill"
   ]
  },
  {
   "cell_type": "code",
   "execution_count": 8,
   "metadata": {
    "collapsed": false
   },
   "outputs": [
    {
     "name": "stdout",
     "output_type": "stream",
     "text": [
      "Parâmetros: {'robot_numbers': 8, 'frequency_of_execution': 0} \n",
      "\n",
      "Qnt. robôs: 8\n"
     ]
    }
   ],
   "source": [
    "# Default values\n",
    "os.system('rm ./Data/config.ini') #debug-iPython\n",
    "parameters = {\n",
    "    \"robot_numbers\": 8,\n",
    "    \"frequency_of_execution\": 0,\n",
    "}\n",
    "\n",
    "# Reading \"config.ini\" values\n",
    "conf = ConfigIni(\"Basic\", \"Settings\")\n",
    "parameters = conf.read(parameters)\n",
    "if args.robot_numbers != None:\n",
    "    parameters[\"robot_numbers\"] = args.robot_numbers\n",
    "\n",
    "if args.frequency_of_execution != None:\n",
    "    parameters[\"frequency_of_execution\"] = args.frequency_of_execution\n",
    "\n",
    "if parameters['frequency_of_execution'] != 0:\n",
    "    parameters['frequency_of_execution'] = 1.0/parameters['frequency_of_execution']\n",
    "\n",
    "print \"Parâmetros:\", parameters, \"\\n\" #debug-iPython\n",
    "\n",
    "# List with velocities for each movement of the robot.\n",
    "speeds = Speeds( )\n",
    "\n",
    "mem = Blackboard( ) # Creating shared memory\n",
    "\n",
    "land = Landmark(speeds) # Creating landmark object\n",
    "\n",
    "ball = Ball(speeds) # Creating landmark object\n",
    "\n",
    "# Creating robot objects\n",
    "robots = []\n",
    "newrobots = []\n",
    "for __ in xrange(parameters[\"robot_numbers\"]):\n",
    "    newrobots.append(Robots(speeds))\n",
    "print \"Qnt. robôs:\", len(newrobots) #debug-iPython"
   ]
  },
  {
   "cell_type": "markdown",
   "metadata": {},
   "source": [
    "Main loop"
   ]
  },
  {
   "cell_type": "code",
   "execution_count": 9,
   "metadata": {
    "collapsed": false
   },
   "outputs": [
    {
     "name": "stdout",
     "output_type": "stream",
     "text": [
      "taglandmark: 2.0\n",
      "Lendo valores de Landmarks\n",
      "Dados landmarks: [2.0, 1.0, 5.0, 0.20000000298023224]\n",
      "Tempo desejado para espera: 0 s\n",
      "Tempo de execução: 4.11987304688 ms\n"
     ]
    }
   ],
   "source": [
    "#des-iPython while True:\n",
    "#ini-tab\n",
    "try:\n",
    "    # start timestamp\n",
    "    start = time.time()\n",
    "    \n",
    "    # Reading data about the landmark.\n",
    "    mem.write_float(\"VISION_LAND_TAG\", 2) #debug-iPython\n",
    "    taglandmark = mem.read_float(\"VISION_LAND_TAG\")\n",
    "    print \"taglandmark:\", taglandmark #debug-iPython\n",
    "    \n",
    "    if taglandmark != 0:\n",
    "        print \"Lendo valores de Landmarks\" #debug-iPython\n",
    "        # Read the values sent\n",
    "        datalandmarks = readDataLandmarks(taglandmark, mem)\n",
    "        print \"Dados landmarks:\", datalandmarks #debug-iPython\n",
    "        speeds.update(land.update(datalandmarks))\n",
    "        \n",
    "    else:\n",
    "        print \"Sem valores de Landmarks\" #debug-iPython\n",
    "        land.prediction( )\n",
    "    \n",
    "    datarobots = readDataRobots(mem, parameters[\"robot_numbers\"])\n",
    "    \n",
    "#     if datarobots == []:\n",
    "        \n",
    "    # stop timestamp\n",
    "    diff = time.time() - start\n",
    "    print 'Tempo desejado para espera:', parameters[\"frequency_of_execution\"], 's' #debug-iPython\n",
    "    print 'Tempo de execução:', diff*1000, 'ms' #debug-iPython\n",
    "    \n",
    "    if parameters[\"frequency_of_execution\"] - diff > 0:\n",
    "        print 'Esperando:', (parameters[\"frequency_of_execution\"] - diff)*1000, 'ms' #debug-iPython\n",
    "        time.sleep(parameters[\"frequency_of_execution\"] - diff)\n",
    "        print 'Tempo esgotado' #debug-iPython\n",
    "    \n",
    "except KeyboardInterrupt:\n",
    "    os.system(\"clear\") # Cleaning terminal\n",
    "    print \"Keyboard interrupt detected\"\n",
    "    #des-iPython break\n",
    "except VisualMemoryException as e:\n",
    "    #edes-iPython break\n",
    "    pass\n",
    "#end-tab -- Fim do loop"
   ]
  },
  {
   "cell_type": "markdown",
   "metadata": {},
   "source": [
    "Finishing processes"
   ]
  },
  {
   "cell_type": "code",
   "execution_count": 10,
   "metadata": {
    "collapsed": false
   },
   "outputs": [],
   "source": [
    "# Saving config values\n",
    "if parameters['frequency_of_execution'] != 0:\n",
    "    parameters['frequency_of_execution'] = 1.0/parameters['frequency_of_execution']\n",
    "conf.finalize(parameters)"
   ]
  },
  {
   "cell_type": "code",
   "execution_count": 11,
   "metadata": {
    "collapsed": true
   },
   "outputs": [],
   "source": [
    "#ini-iPython"
   ]
  },
  {
   "cell_type": "markdown",
   "metadata": {},
   "source": [
    "# Testes"
   ]
  },
  {
   "cell_type": "code",
   "execution_count": 12,
   "metadata": {
    "collapsed": true
   },
   "outputs": [],
   "source": [
    "import time"
   ]
  },
  {
   "cell_type": "code",
   "execution_count": 13,
   "metadata": {
    "collapsed": false
   },
   "outputs": [],
   "source": [
    "start = time.time()"
   ]
  },
  {
   "cell_type": "code",
   "execution_count": 14,
   "metadata": {
    "collapsed": false
   },
   "outputs": [
    {
     "data": {
      "text/plain": [
       "0.02954697608947754"
      ]
     },
     "execution_count": 14,
     "metadata": {},
     "output_type": "execute_result"
    }
   ],
   "source": [
    "stop = time.time()\n",
    "stop - start"
   ]
  },
  {
   "cell_type": "code",
   "execution_count": 15,
   "metadata": {
    "collapsed": false
   },
   "outputs": [
    {
     "data": {
      "text/plain": [
       "'Mon Aug 21 14:45:01 2017'"
      ]
     },
     "execution_count": 15,
     "metadata": {},
     "output_type": "execute_result"
    }
   ],
   "source": [
    "time.ctime(start)"
   ]
  },
  {
   "cell_type": "code",
   "execution_count": null,
   "metadata": {
    "collapsed": true
   },
   "outputs": [],
   "source": []
  },
  {
   "cell_type": "code",
   "execution_count": null,
   "metadata": {
    "collapsed": true
   },
   "outputs": [],
   "source": []
  },
  {
   "cell_type": "code",
   "execution_count": null,
   "metadata": {
    "collapsed": true
   },
   "outputs": [],
   "source": []
  },
  {
   "cell_type": "code",
   "execution_count": null,
   "metadata": {
    "collapsed": true
   },
   "outputs": [],
   "source": []
  },
  {
   "cell_type": "code",
   "execution_count": null,
   "metadata": {
    "collapsed": true
   },
   "outputs": [],
   "source": []
  },
  {
   "cell_type": "code",
   "execution_count": null,
   "metadata": {
    "collapsed": true
   },
   "outputs": [],
   "source": []
  },
  {
   "cell_type": "code",
   "execution_count": 16,
   "metadata": {
    "collapsed": true
   },
   "outputs": [],
   "source": [
    "#end-iPython"
   ]
  }
 ],
 "metadata": {
  "kernelspec": {
   "display_name": "Python 2",
   "language": "python",
   "name": "python2"
  },
  "language_info": {
   "codemirror_mode": {
    "name": "ipython",
    "version": 2
   },
   "file_extension": ".py",
   "mimetype": "text/x-python",
   "name": "python",
   "nbconvert_exporter": "python",
   "pygments_lexer": "ipython2",
   "version": "2.7.6"
  }
 },
 "nbformat": 4,
 "nbformat_minor": 1
}
